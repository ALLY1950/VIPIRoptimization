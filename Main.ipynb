{
 "cells": [
  {
   "cell_type": "code",
   "execution_count": 6,
   "metadata": {},
   "outputs": [
    {
     "name": "stdout",
     "output_type": "stream",
     "text": [
      "Populating the interactive namespace from numpy and matplotlib\n"
     ]
    },
    {
     "name": "stderr",
     "output_type": "stream",
     "text": [
      "/home/bye3/.local/lib/python2.7/site-packages/IPython/core/magics/pylab.py:161: UserWarning: pylab import has clobbered these variables: ['power']\n",
      "`%matplotlib` prevents importing * from pylab and numpy\n",
      "  \"\\n`%matplotlib` prevents importing * from pylab and numpy\"\n"
     ]
    }
   ],
   "source": [
    "%pylab inline\n",
    "import scipy.signal\n",
    "import time\n",
    "\n",
    "\n",
    "from sklearn.cluster import AgglomerativeClustering\n",
    "from sklearn.neighbors import kneighbors_graph\n",
    "from sklearn.cluster import DBSCAN\n",
    "import scipy.interpolate as inter\n",
    "import matplotlib.pyplot as plt\n",
    "import glob\n",
    "import bz2\n"
   ]
  },
  {
   "cell_type": "markdown",
   "metadata": {},
   "source": [
    " # All the Definitions Goes Here"
   ]
  },
  {
   "cell_type": "code",
   "execution_count": 14,
   "metadata": {
    "code_folding": [
     2,
     8,
     18,
     39,
     46,
     58,
     69,
     80,
     85,
     99,
     109,
     120,
     129,
     141,
     169,
     177
    ]
   },
   "outputs": [],
   "source": [
    "# ALL DEFINITIONS\n",
    "\n",
    "def vertical_len(single_freq_iono, y):\n",
    "    inc = 0;\n",
    "    while single_freq_iono[y + inc] > 1 and (y + inc) < len(single_freq_iono):\n",
    "        inc += 1;\n",
    "    return inc\n",
    "\n",
    "def neighbor_len(single_freq_iono, y):\n",
    "    inc = 0;\n",
    "    while single_freq_iono[y - inc] > 1 and (y - inc) > 0:\n",
    "        inc += 1;\n",
    "    total = inc + vertical_len(single_freq_iono, y)\n",
    "    if (total > 1):\n",
    "        total -=1\n",
    "    return total\n",
    "\n",
    "\n",
    "def shrink(data_array_1):\n",
    "    y_dim, x_dim = data_array_1.shape\n",
    "    data_array = data_array_1.copy()\n",
    "    for i in range(0, x_dim):\n",
    "        single_freq_iono = data_array[:, i]\n",
    "        for j in range(0, y_dim - 2):\n",
    "            if (single_freq_iono[j] > 1 and single_freq_iono[j + 1] > 1):\n",
    "                if i != x_dim - 1:\n",
    "                    neighbor_len_right = neighbor_len(data_array[:, i + 1], j)\n",
    "                    print(neighbor_len_right)\n",
    "                    if (neighbor_len_right >= 2):\n",
    "                        inc = vertical_len(single_freq_iono, j)\n",
    "                        print(inc)\n",
    "                        for k in range(j, j + inc):\n",
    "                            if k != (np.floor((j + j + inc)/2)):\n",
    "                                print(k)\n",
    "                                single_freq_iono[k] = 0\n",
    "                                print(single_freq_iono)\n",
    "        data_array[:, i] = single_freq_iono\n",
    "    return data_array\n",
    "\n",
    "def neighbor_exist(single_freq_iono, y):\n",
    "    if ((y - 1) > 0 and (single_freq_iono[y] and single_freq_iono[y - 1])) or ((y + 1) < len(single_freq_iono) and (single_freq_iono[y] and single_freq_iono[y + 1])):\n",
    "        return 1\n",
    "    return 0\n",
    "\n",
    "\n",
    "\n",
    "def neighbor_check(data_array_1):\n",
    "    y_dim, x_dim = data_array_1.shape\n",
    "    data_array = data_array_1.copy()\n",
    "    for i in range(1, y_dim - 1):\n",
    "        for j in range(1, x_dim - 1):\n",
    "            if not (data_array[i - 1, j - 1] or data_array[i - 1, j] or data_array[i - 1, j + 1] \n",
    "                    or data_array[i, j - 1] or data_array[i, j + 1]\n",
    "                    or data_array[i + 1, j - 1] or data_array[i + 1, j] or data_array[i + 1, j + 1]):\n",
    "                    data_array[i, j] = 0\n",
    "    return data_array\n",
    "\n",
    "\n",
    "def find_min_xy(arr2d):\n",
    "    # This function finds the minimun x and y coordinates of a cluster\n",
    "    min_x = np.inf\n",
    "    min_y = np.inf\n",
    "    for i in range(0, len(arr2d)):\n",
    "        if arr2d[i, 0] < min_x:\n",
    "            min_x = arr2d[i, 0]\n",
    "        if arr2d[i, 1] < min_y:\n",
    "            min_y = arr2d[i, 1]\n",
    "    return min_x, min_y\n",
    "\n",
    "def find_max_xy(arr2d):\n",
    "    # This function finds the maximun x and y coordinates of a cluster\n",
    "    max_x = 0\n",
    "    max_y = 0\n",
    "    for i in range(0, len(arr2d)):\n",
    "        if arr2d[i, 0] > max_x:\n",
    "            max_x = arr2d[i, 0]\n",
    "        if arr2d[i, 1] > max_y:\n",
    "            max_y = arr2d[i, 1]\n",
    "    return max_x, max_y\n",
    "\n",
    "def find_max_area(arr2d):\n",
    "    # This function finds the maximun area using min and max coords.\n",
    "    return (find_max_xy(arr2d)[0] - find_min_xy(arr2d)[0])*(find_max_xy(arr2d)[1] - find_min_xy(arr2d)[1])\n",
    "\n",
    "\n",
    "def group_labels(X_image, labels, n_clusters):\n",
    "    # This function groups every cluster together.\n",
    "    # Input X_image is a 2d array that are coordinate pairs;\n",
    "    # Input labels are a 1d array specify the cluster label for each coordinate pairs.\n",
    "    # Output group is a dictionary that has the format: {label: list of pairs}\n",
    "    current_label = 0;\n",
    "    group = {};\n",
    "    for i in range(0, n_clusters ):\n",
    "        group[i] = []\n",
    "\n",
    "    for j in range(0, len(labels)):\n",
    "        group[labels[j]].append(X_image[j])\n",
    "    return group\n",
    "\n",
    "def find_cluster(X_image, labels, n_clusters):\n",
    "    group = group_labels(X_image, labels, n_clusters)\n",
    "    group_want = 0\n",
    "    max_area = 0\n",
    "    for i in range(0, n_clusters):\n",
    "        if find_max_area(array(group[i])) > max_area:\n",
    "            max_area = find_max_area(array(group[i]))\n",
    "            group_want = i\n",
    "    return group_want\n",
    "\n",
    "def coor_pair_to_mesh_array(arr2d):\n",
    "    max_x, max_y = find_max_xy(arr2d)\n",
    "    mesh_array = np.zeros(np.array([max_y + 1, max_x + 1]).astype(int))\n",
    "    for i in range(0, len(arr2d)):\n",
    "        coord = arr2d[i].astype(int)\n",
    "        mesh_array[coord[1], coord[0]] = 10\n",
    "    return mesh_array\n",
    "\n",
    "def avg_y(arr2d):\n",
    "    return np.mean(arr2d[:, 1])\n",
    "\n",
    "def max_num_group_and_len(sub_cluster):\n",
    "    current_len = 0\n",
    "    current_group = 0\n",
    "    for i in range(0, len(sub_cluster)):\n",
    "        if len(sub_cluster[i]) > current_len:\n",
    "            current_len = len(sub_cluster[i])\n",
    "            current_group = i\n",
    "    return current_group, current_len\n",
    "\n",
    "def find_nearst_cluster(predicted, sub_cluster_avg):\n",
    "    modified = abs(np.array(sub_cluster_avg) - predicted)\n",
    "    compare = np.inf\n",
    "    ind = -1\n",
    "    for i in range(0, len(modified)):\n",
    "        if modified[i] < 40 and modified[i] < compare:\n",
    "            compare = modified[i]\n",
    "            ind = i\n",
    "    if ind == -1:\n",
    "        return ind\n",
    "    return ind, sub_cluster_avg[ind]\n",
    "\n",
    "def vertical_noise_substraction(data):\n",
    "    #data_new = np.log10(data)\n",
    "    data_new = data.copy()\n",
    "    data_new[0:7, :] = 0\n",
    "    data_new[:, 0:150] = 0\n",
    "    data_new[:, -10:-1] = 0\n",
    "    for trial in range(0, 3):\n",
    "        for j in range(0, len(freqs)):\n",
    "            single_freq_iono = array(data_new[:,j])\n",
    "            avg_power = single_freq_iono.sum()*1.0/(len(single_freq_iono))\n",
    "            noise_sum = 0\n",
    "            max_power = np.max(single_freq_iono)\n",
    "            median_power = np.median(single_freq_iono)\n",
    "            #'''\n",
    "            for i in range(0, len(single_freq_iono)):\n",
    "                if (single_freq_iono[i] < 0.5*max_power):\n",
    "                    noise_sum += single_freq_iono[i]\n",
    "            noise = noise_sum/len(single_freq_iono)\n",
    "            for i in range(0, len(single_freq_iono)):\n",
    "                if (single_freq_iono[i] - noise < 1):\n",
    "                    single_freq_iono[i] = 1\n",
    "                else:\n",
    "                    single_freq_iono[i] = single_freq_iono[i] - noise\n",
    "\n",
    "            data_new[:,j] = single_freq_iono*1\n",
    "    return data_new\n",
    "\n",
    "# find nnz in an array\n",
    "def find_nnz(data):\n",
    "    nnz = 0\n",
    "    for i in range(data.shape[0]):\n",
    "        for j in range(data.shape[1]):\n",
    "            if data[i, j] != 0:\n",
    "                nnz += 1\n",
    "    return nnz\n",
    "\n",
    "def mean_clear(data_after_substraction):\n",
    "    data_processed = data_after_substraction.copy()\n",
    "    nnz = find_nnz(data_processed)\n",
    "    array_mean = np.sum(data_processed)/nnz\n",
    "    for i in range(data_processed.shape[0]):\n",
    "        for j in range(data_processed.shape[1]):\n",
    "            if data_processed[i, j] > array_mean*0.85:\n",
    "                data_processed[i, j] = 10\n",
    "            else:\n",
    "                data_processed[i, j] = 0\n",
    "    return data_processed\n",
    "\n",
    "def whole_clean_procedure():\n",
    "    # whole procedure, below this cell is individual step\n",
    "    iono_num = 0\n",
    "\n",
    "    data_processed = mean_clear(vertical_noise_substraction(ionograms[iono_num,:,:]))\n",
    "    nnz = find_nnz(data_processed)\n",
    "    x_image = np.zeros(nnz)\n",
    "    y_image = np.zeros(nnz)\n",
    "    ind = 0\n",
    "    for i in range(data_processed.shape[0]):\n",
    "        for j in range(data_processed.shape[1]):\n",
    "            if data_processed[i, j] > 1:\n",
    "                x_image[ind] = i;\n",
    "                y_image[ind] = j;\n",
    "                ind += 1\n",
    "\n",
    "    X_image = np.concatenate((array([y_image]), array([x_image])))\n",
    "    X_image = X_image.T\n",
    "\n",
    "    n_clusters = 75\n",
    "    plt.figure(figsize=(20, 10))\n",
    "    model = AgglomerativeClustering(linkage=\"single\",\n",
    "                                    connectivity=None,\n",
    "                                    n_clusters=n_clusters)\n",
    "    model.fit(X_image)\n",
    "\n",
    "    group_want = find_cluster(X_image, model.labels_, n_clusters)\n",
    "    X_image_want = array(group_labels(X_image, model.labels_, n_clusters)[group_want])\n",
    "\n",
    "    x_group = X_image_want[:, 0]\n",
    "    y_group = X_image_want[:, 1]\n",
    "\n",
    "    data_final = np.zeros(data_processed.shape)\n",
    "    for i in range(0, len(X_image_want)):\n",
    "        row = int(X_image_want[i, 0]);\n",
    "        col = int(X_image_want[i, 1]);\n",
    "        data_final[col, row] = 10\n",
    "\n",
    "    fig = figure(figsize=(14, 7))\n",
    "    im = pcolormesh(freqs,hts,data_final)\n",
    "    im.set_clim(0.2,9.8)\n",
    "    im.axes.set_xlim(2,12); im.axes.set_ylim(50,750); \n",
    "    plt.xticks(np.linspace(freqs.min(), freqs.max(), 20))\n",
    "    im.axes.set_title(filename + \"_cleaned\")\n",
    "    \n",
    "    # show and save\n",
    "    #show(im)\n",
    "    fig.savefig(folderout+'/'+filename[6:6+13]+'_OXgrams.png')   # png format\n",
    "    fig.clf()\n",
    "    "
   ]
  },
  {
   "cell_type": "code",
   "execution_count": 15,
   "metadata": {
    "code_folding": [],
    "scrolled": true
   },
   "outputs": [
    {
     "name": "stdout",
     "output_type": "stream",
     "text": [
      "/raid/VIPIR/vipir2015/014/raw/JM91J_2015014125004.RIQ\n",
      "<open file '/raid/VIPIR/vipir2015/014/raw/JM91J_2015014125004.RIQ', mode 'rb' at 0x7f5836940780>\n",
      "/raid/VIPIR/vipir2015/014/raw/JM91J_2015014125104.RIQ\n",
      "<open file '/raid/VIPIR/vipir2015/014/raw/JM91J_2015014125104.RIQ', mode 'rb' at 0x7f58374e4f60>\n",
      "/raid/VIPIR/vipir2015/014/raw/JM91J_2015014125204.RIQ\n",
      "<open file '/raid/VIPIR/vipir2015/014/raw/JM91J_2015014125204.RIQ', mode 'rb' at 0x7f58368f6db0>\n",
      "/raid/VIPIR/vipir2015/014/raw/JM91J_2015014125304.RIQ\n",
      "<open file '/raid/VIPIR/vipir2015/014/raw/JM91J_2015014125304.RIQ', mode 'rb' at 0x7f5836940780>\n",
      "/raid/VIPIR/vipir2015/014/raw/JM91J_2015014125404.RIQ\n",
      "<open file '/raid/VIPIR/vipir2015/014/raw/JM91J_2015014125404.RIQ', mode 'rb' at 0x7f58374e48a0>\n",
      "/raid/VIPIR/vipir2015/014/raw/JM91J_2015014125504.RIQ\n",
      "<open file '/raid/VIPIR/vipir2015/014/raw/JM91J_2015014125504.RIQ', mode 'rb' at 0x7f58374e4f60>\n",
      "/raid/VIPIR/vipir2015/014/raw/JM91J_2015014125604.RIQ\n",
      "<open file '/raid/VIPIR/vipir2015/014/raw/JM91J_2015014125604.RIQ', mode 'rb' at 0x7f58368f6db0>\n",
      "/raid/VIPIR/vipir2015/014/raw/JM91J_2015014125704.RIQ\n",
      "<open file '/raid/VIPIR/vipir2015/014/raw/JM91J_2015014125704.RIQ', mode 'rb' at 0x7f58374e4f60>\n"
     ]
    },
    {
     "name": "stderr",
     "output_type": "stream",
     "text": [
      "/home/bye3/.local/lib/python2.7/site-packages/ipykernel_launcher.py:166: RuntimeWarning: divide by zero encountered in log10\n"
     ]
    },
    {
     "name": "stdout",
     "output_type": "stream",
     "text": [
      "/raid/VIPIR/vipir2015/014/raw/JM91J_2015014125804.RIQ\n",
      "<open file '/raid/VIPIR/vipir2015/014/raw/JM91J_2015014125804.RIQ', mode 'rb' at 0x7f5836940780>\n",
      "/raid/VIPIR/vipir2015/014/raw/JM91J_2015014125904.RIQ\n",
      "<open file '/raid/VIPIR/vipir2015/014/raw/JM91J_2015014125904.RIQ', mode 'rb' at 0x7f58374e4f60>\n",
      "/raid/VIPIR/vipir2015/014/raw/JM91J_2015014130004.RIQ\n",
      "<open file '/raid/VIPIR/vipir2015/014/raw/JM91J_2015014130004.RIQ', mode 'rb' at 0x7f58374e48a0>\n",
      "/raid/VIPIR/vipir2015/014/raw/JM91J_2015014130104.RIQ\n",
      "<open file '/raid/VIPIR/vipir2015/014/raw/JM91J_2015014130104.RIQ', mode 'rb' at 0x7f58368f6db0>\n",
      "/raid/VIPIR/vipir2015/014/raw/JM91J_2015014130204.RIQ\n",
      "<open file '/raid/VIPIR/vipir2015/014/raw/JM91J_2015014130204.RIQ', mode 'rb' at 0x7f58374e48a0>\n",
      "/raid/VIPIR/vipir2015/014/raw/JM91J_2015014130304.RIQ\n",
      "<open file '/raid/VIPIR/vipir2015/014/raw/JM91J_2015014130304.RIQ', mode 'rb' at 0x7f58374e4f60>\n",
      "/raid/VIPIR/vipir2015/014/raw/JM91J_2015014130404.RIQ\n",
      "<open file '/raid/VIPIR/vipir2015/014/raw/JM91J_2015014130404.RIQ', mode 'rb' at 0x7f5836940780>\n",
      "/raid/VIPIR/vipir2015/014/raw/JM91J_2015014130504.RIQ\n",
      "<open file '/raid/VIPIR/vipir2015/014/raw/JM91J_2015014130504.RIQ', mode 'rb' at 0x7f58374e4f60>\n",
      "/raid/VIPIR/vipir2015/014/raw/JM91J_2015014130604.RIQ\n",
      "<open file '/raid/VIPIR/vipir2015/014/raw/JM91J_2015014130604.RIQ', mode 'rb' at 0x7f58374e48a0>\n",
      "/raid/VIPIR/vipir2015/014/raw/JM91J_2015014130704.RIQ\n",
      "<open file '/raid/VIPIR/vipir2015/014/raw/JM91J_2015014130704.RIQ', mode 'rb' at 0x7f58368f6db0>\n",
      "/raid/VIPIR/vipir2015/014/raw/JM91J_2015014130804.RIQ\n",
      "<open file '/raid/VIPIR/vipir2015/014/raw/JM91J_2015014130804.RIQ', mode 'rb' at 0x7f58374e48a0>\n",
      "/raid/VIPIR/vipir2015/014/raw/JM91J_2015014130904.RIQ\n",
      "<open file '/raid/VIPIR/vipir2015/014/raw/JM91J_2015014130904.RIQ', mode 'rb' at 0x7f58374e4f60>\n",
      "/raid/VIPIR/vipir2015/014/raw/JM91J_2015014131004.RIQ\n",
      "<open file '/raid/VIPIR/vipir2015/014/raw/JM91J_2015014131004.RIQ', mode 'rb' at 0x7f5836940780>\n",
      "/raid/VIPIR/vipir2015/014/raw/JM91J_2015014131104.RIQ\n",
      "<open file '/raid/VIPIR/vipir2015/014/raw/JM91J_2015014131104.RIQ', mode 'rb' at 0x7f58374e4f60>\n",
      "/raid/VIPIR/vipir2015/014/raw/JM91J_2015014131204.RIQ\n",
      "<open file '/raid/VIPIR/vipir2015/014/raw/JM91J_2015014131204.RIQ', mode 'rb' at 0x7f58374e48a0>\n",
      "/raid/VIPIR/vipir2015/014/raw/JM91J_2015014131304.RIQ\n",
      "<open file '/raid/VIPIR/vipir2015/014/raw/JM91J_2015014131304.RIQ', mode 'rb' at 0x7f58368f6db0>\n",
      "/raid/VIPIR/vipir2015/014/raw/JM91J_2015014131404.RIQ\n",
      "<open file '/raid/VIPIR/vipir2015/014/raw/JM91J_2015014131404.RIQ', mode 'rb' at 0x7f58374e48a0>\n"
     ]
    },
    {
     "name": "stderr",
     "output_type": "stream",
     "text": [
      "/home/bye3/.local/lib/python2.7/site-packages/ipykernel_launcher.py:159: RuntimeWarning: divide by zero encountered in log10\n",
      "/home/bye3/.local/lib/python2.7/site-packages/ipykernel_launcher.py:180: RuntimeWarning: divide by zero encountered in log10\n"
     ]
    },
    {
     "name": "stdout",
     "output_type": "stream",
     "text": [
      "/raid/VIPIR/vipir2015/014/raw/JM91J_2015014131504.RIQ\n",
      "<open file '/raid/VIPIR/vipir2015/014/raw/JM91J_2015014131504.RIQ', mode 'rb' at 0x7f5836940780>\n",
      "/raid/VIPIR/vipir2015/014/raw/JM91J_2015014131604.RIQ\n",
      "<open file '/raid/VIPIR/vipir2015/014/raw/JM91J_2015014131604.RIQ', mode 'rb' at 0x7f58374e48a0>\n",
      "/raid/VIPIR/vipir2015/014/raw/JM91J_2015014131704.RIQ\n",
      "<open file '/raid/VIPIR/vipir2015/014/raw/JM91J_2015014131704.RIQ', mode 'rb' at 0x7f58374e4f60>\n",
      "/raid/VIPIR/vipir2015/014/raw/JM91J_2015014131804.RIQ\n",
      "<open file '/raid/VIPIR/vipir2015/014/raw/JM91J_2015014131804.RIQ', mode 'rb' at 0x7f58368f6db0>\n",
      "/raid/VIPIR/vipir2015/014/raw/JM91J_2015014131904.RIQ\n",
      "<open file '/raid/VIPIR/vipir2015/014/raw/JM91J_2015014131904.RIQ', mode 'rb' at 0x7f58374e4f60>\n",
      "/raid/VIPIR/vipir2015/014/raw/JM91J_2015014132004.RIQ\n",
      "<open file '/raid/VIPIR/vipir2015/014/raw/JM91J_2015014132004.RIQ', mode 'rb' at 0x7f58374e48a0>\n",
      "/raid/VIPIR/vipir2015/014/raw/JM91J_2015014132104.RIQ\n",
      "<open file '/raid/VIPIR/vipir2015/014/raw/JM91J_2015014132104.RIQ', mode 'rb' at 0x7f5836940780>\n",
      "/raid/VIPIR/vipir2015/014/raw/JM91J_2015014132204.RIQ\n",
      "<open file '/raid/VIPIR/vipir2015/014/raw/JM91J_2015014132204.RIQ', mode 'rb' at 0x7f58374e48a0>\n",
      "/raid/VIPIR/vipir2015/014/raw/JM91J_2015014132304.RIQ\n",
      "<open file '/raid/VIPIR/vipir2015/014/raw/JM91J_2015014132304.RIQ', mode 'rb' at 0x7f58374e4f60>\n",
      "/raid/VIPIR/vipir2015/014/raw/JM91J_2015014132404.RIQ\n",
      "<open file '/raid/VIPIR/vipir2015/014/raw/JM91J_2015014132404.RIQ', mode 'rb' at 0x7f58368f6db0>\n",
      "/raid/VIPIR/vipir2015/014/raw/JM91J_2015014132504.RIQ\n",
      "<open file '/raid/VIPIR/vipir2015/014/raw/JM91J_2015014132504.RIQ', mode 'rb' at 0x7f58374e4f60>\n",
      "/raid/VIPIR/vipir2015/014/raw/JM91J_2015014132604.RIQ\n",
      "<open file '/raid/VIPIR/vipir2015/014/raw/JM91J_2015014132604.RIQ', mode 'rb' at 0x7f58374e48a0>\n",
      "/raid/VIPIR/vipir2015/014/raw/JM91J_2015014132704.RIQ\n",
      "<open file '/raid/VIPIR/vipir2015/014/raw/JM91J_2015014132704.RIQ', mode 'rb' at 0x7f5836940780>\n",
      "/raid/VIPIR/vipir2015/014/raw/JM91J_2015014132804.RIQ\n",
      "<open file '/raid/VIPIR/vipir2015/014/raw/JM91J_2015014132804.RIQ', mode 'rb' at 0x7f58374e48a0>\n",
      "/raid/VIPIR/vipir2015/014/raw/JM91J_2015014132904.RIQ\n",
      "<open file '/raid/VIPIR/vipir2015/014/raw/JM91J_2015014132904.RIQ', mode 'rb' at 0x7f58374e4f60>\n",
      "/raid/VIPIR/vipir2015/014/raw/JM91J_2015014133004.RIQ\n",
      "<open file '/raid/VIPIR/vipir2015/014/raw/JM91J_2015014133004.RIQ', mode 'rb' at 0x7f58368f6db0>\n",
      "/raid/VIPIR/vipir2015/014/raw/JM91J_2015014133104.RIQ\n",
      "<open file '/raid/VIPIR/vipir2015/014/raw/JM91J_2015014133104.RIQ', mode 'rb' at 0x7f58374e4f60>\n",
      "/raid/VIPIR/vipir2015/014/raw/JM91J_2015014133204.RIQ\n",
      "<open file '/raid/VIPIR/vipir2015/014/raw/JM91J_2015014133204.RIQ', mode 'rb' at 0x7f58374e48a0>\n",
      "/raid/VIPIR/vipir2015/014/raw/JM91J_2015014133304.RIQ\n",
      "<open file '/raid/VIPIR/vipir2015/014/raw/JM91J_2015014133304.RIQ', mode 'rb' at 0x7f5836940780>\n",
      "/raid/VIPIR/vipir2015/014/raw/JM91J_2015014133404.RIQ\n",
      "<open file '/raid/VIPIR/vipir2015/014/raw/JM91J_2015014133404.RIQ', mode 'rb' at 0x7f58374e48a0>\n",
      "/raid/VIPIR/vipir2015/014/raw/JM91J_2015014133504.RIQ\n",
      "<open file '/raid/VIPIR/vipir2015/014/raw/JM91J_2015014133504.RIQ', mode 'rb' at 0x7f58374e4f60>\n",
      "/raid/VIPIR/vipir2015/014/raw/JM91J_2015014133604.RIQ\n",
      "<open file '/raid/VIPIR/vipir2015/014/raw/JM91J_2015014133604.RIQ', mode 'rb' at 0x7f58368f6db0>\n",
      "/raid/VIPIR/vipir2015/014/raw/JM91J_2015014133704.RIQ\n",
      "<open file '/raid/VIPIR/vipir2015/014/raw/JM91J_2015014133704.RIQ', mode 'rb' at 0x7f58374e4f60>\n"
     ]
    },
    {
     "name": "stderr",
     "output_type": "stream",
     "text": [
      "/home/bye3/.local/lib/python2.7/site-packages/ipykernel_launcher.py:173: RuntimeWarning: divide by zero encountered in log10\n"
     ]
    },
    {
     "name": "stdout",
     "output_type": "stream",
     "text": [
      "/raid/VIPIR/vipir2015/014/raw/JM91J_2015014133804.RIQ\n",
      "<open file '/raid/VIPIR/vipir2015/014/raw/JM91J_2015014133804.RIQ', mode 'rb' at 0x7f5836940780>\n",
      "/raid/VIPIR/vipir2015/014/raw/JM91J_2015014133904.RIQ\n",
      "<open file '/raid/VIPIR/vipir2015/014/raw/JM91J_2015014133904.RIQ', mode 'rb' at 0x7f58374e4f60>\n",
      "/raid/VIPIR/vipir2015/014/raw/JM91J_2015014134004.RIQ\n",
      "<open file '/raid/VIPIR/vipir2015/014/raw/JM91J_2015014134004.RIQ', mode 'rb' at 0x7f58374e48a0>\n",
      "/raid/VIPIR/vipir2015/014/raw/JM91J_2015014134104.RIQ\n",
      "<open file '/raid/VIPIR/vipir2015/014/raw/JM91J_2015014134104.RIQ', mode 'rb' at 0x7f58368f6db0>\n",
      "/raid/VIPIR/vipir2015/014/raw/JM91J_2015014134204.RIQ\n",
      "<open file '/raid/VIPIR/vipir2015/014/raw/JM91J_2015014134204.RIQ', mode 'rb' at 0x7f58374e48a0>\n",
      "/raid/VIPIR/vipir2015/014/raw/JM91J_2015014134304.RIQ\n",
      "<open file '/raid/VIPIR/vipir2015/014/raw/JM91J_2015014134304.RIQ', mode 'rb' at 0x7f58374e4f60>\n",
      "/raid/VIPIR/vipir2015/014/raw/JM91J_2015014134404.RIQ\n",
      "<open file '/raid/VIPIR/vipir2015/014/raw/JM91J_2015014134404.RIQ', mode 'rb' at 0x7f5836940780>\n",
      "/raid/VIPIR/vipir2015/014/raw/JM91J_2015014134504.RIQ\n",
      "<open file '/raid/VIPIR/vipir2015/014/raw/JM91J_2015014134504.RIQ', mode 'rb' at 0x7f58374e4f60>\n",
      "/raid/VIPIR/vipir2015/014/raw/JM91J_2015014134604.RIQ\n",
      "<open file '/raid/VIPIR/vipir2015/014/raw/JM91J_2015014134604.RIQ', mode 'rb' at 0x7f58374e48a0>\n",
      "/raid/VIPIR/vipir2015/014/raw/JM91J_2015014134704.RIQ\n",
      "<open file '/raid/VIPIR/vipir2015/014/raw/JM91J_2015014134704.RIQ', mode 'rb' at 0x7f58368f6db0>\n",
      "/raid/VIPIR/vipir2015/014/raw/JM91J_2015014134804.RIQ\n",
      "<open file '/raid/VIPIR/vipir2015/014/raw/JM91J_2015014134804.RIQ', mode 'rb' at 0x7f58374e48a0>\n",
      "/raid/VIPIR/vipir2015/014/raw/JM91J_2015014134904.RIQ\n",
      "<open file '/raid/VIPIR/vipir2015/014/raw/JM91J_2015014134904.RIQ', mode 'rb' at 0x7f58374e4f60>\n",
      "/raid/VIPIR/vipir2015/014/raw/JM91J_2015014135004.RIQ\n",
      "<open file '/raid/VIPIR/vipir2015/014/raw/JM91J_2015014135004.RIQ', mode 'rb' at 0x7f5836940780>\n",
      "/raid/VIPIR/vipir2015/014/raw/JM91J_2015014135104.RIQ\n",
      "<open file '/raid/VIPIR/vipir2015/014/raw/JM91J_2015014135104.RIQ', mode 'rb' at 0x7f58374e4f60>\n",
      "/raid/VIPIR/vipir2015/014/raw/JM91J_2015014135204.RIQ\n",
      "<open file '/raid/VIPIR/vipir2015/014/raw/JM91J_2015014135204.RIQ', mode 'rb' at 0x7f58374e48a0>\n",
      "/raid/VIPIR/vipir2015/014/raw/JM91J_2015014135304.RIQ\n",
      "<open file '/raid/VIPIR/vipir2015/014/raw/JM91J_2015014135304.RIQ', mode 'rb' at 0x7f58368f6db0>\n",
      "/raid/VIPIR/vipir2015/014/raw/JM91J_2015014135404.RIQ\n",
      "<open file '/raid/VIPIR/vipir2015/014/raw/JM91J_2015014135404.RIQ', mode 'rb' at 0x7f58374e48a0>\n",
      "/raid/VIPIR/vipir2015/014/raw/JM91J_2015014135504.RIQ\n",
      "<open file '/raid/VIPIR/vipir2015/014/raw/JM91J_2015014135504.RIQ', mode 'rb' at 0x7f58374e4f60>\n",
      "/raid/VIPIR/vipir2015/014/raw/JM91J_2015014135604.RIQ\n",
      "<open file '/raid/VIPIR/vipir2015/014/raw/JM91J_2015014135604.RIQ', mode 'rb' at 0x7f5836940780>\n",
      "/raid/VIPIR/vipir2015/014/raw/JM91J_2015014135704.RIQ\n",
      "<open file '/raid/VIPIR/vipir2015/014/raw/JM91J_2015014135704.RIQ', mode 'rb' at 0x7f58374e4f60>\n",
      "/raid/VIPIR/vipir2015/014/raw/JM91J_2015014135804.RIQ\n",
      "<open file '/raid/VIPIR/vipir2015/014/raw/JM91J_2015014135804.RIQ', mode 'rb' at 0x7f58374e48a0>\n",
      "/raid/VIPIR/vipir2015/014/raw/JM91J_2015014135904.RIQ\n",
      "<open file '/raid/VIPIR/vipir2015/014/raw/JM91J_2015014135904.RIQ', mode 'rb' at 0x7f58368f6db0>\n",
      "/raid/VIPIR/vipir2015/014/raw/JM91J_2015014140004.RIQ\n",
      "<open file '/raid/VIPIR/vipir2015/014/raw/JM91J_2015014140004.RIQ', mode 'rb' at 0x7f58374e48a0>\n",
      "/raid/VIPIR/vipir2015/014/raw/JM91J_2015014140104.RIQ\n",
      "<open file '/raid/VIPIR/vipir2015/014/raw/JM91J_2015014140104.RIQ', mode 'rb' at 0x7f58374e4f60>\n",
      "/raid/VIPIR/vipir2015/014/raw/JM91J_2015014140204.RIQ\n",
      "<open file '/raid/VIPIR/vipir2015/014/raw/JM91J_2015014140204.RIQ', mode 'rb' at 0x7f5836940780>\n",
      "/raid/VIPIR/vipir2015/014/raw/JM91J_2015014140304.RIQ\n",
      "<open file '/raid/VIPIR/vipir2015/014/raw/JM91J_2015014140304.RIQ', mode 'rb' at 0x7f58374e4f60>\n",
      "/raid/VIPIR/vipir2015/014/raw/JM91J_2015014140404.RIQ\n",
      "<open file '/raid/VIPIR/vipir2015/014/raw/JM91J_2015014140404.RIQ', mode 'rb' at 0x7f58374e48a0>\n",
      "/raid/VIPIR/vipir2015/014/raw/JM91J_2015014140504.RIQ\n",
      "<open file '/raid/VIPIR/vipir2015/014/raw/JM91J_2015014140504.RIQ', mode 'rb' at 0x7f58368f6db0>\n",
      "/raid/VIPIR/vipir2015/014/raw/JM91J_2015014140604.RIQ\n",
      "<open file '/raid/VIPIR/vipir2015/014/raw/JM91J_2015014140604.RIQ', mode 'rb' at 0x7f58374e48a0>\n",
      "/raid/VIPIR/vipir2015/014/raw/JM91J_2015014140704.RIQ\n",
      "<open file '/raid/VIPIR/vipir2015/014/raw/JM91J_2015014140704.RIQ', mode 'rb' at 0x7f58374e4f60>\n",
      "/raid/VIPIR/vipir2015/014/raw/JM91J_2015014140804.RIQ\n",
      "<open file '/raid/VIPIR/vipir2015/014/raw/JM91J_2015014140804.RIQ', mode 'rb' at 0x7f5836940780>\n",
      "/raid/VIPIR/vipir2015/014/raw/JM91J_2015014140904.RIQ\n",
      "<open file '/raid/VIPIR/vipir2015/014/raw/JM91J_2015014140904.RIQ', mode 'rb' at 0x7f58374e4f60>\n",
      "/raid/VIPIR/vipir2015/014/raw/JM91J_2015014141004.RIQ\n",
      "<open file '/raid/VIPIR/vipir2015/014/raw/JM91J_2015014141004.RIQ', mode 'rb' at 0x7f58374e48a0>\n",
      "/raid/VIPIR/vipir2015/014/raw/JM91J_2015014141104.RIQ\n",
      "<open file '/raid/VIPIR/vipir2015/014/raw/JM91J_2015014141104.RIQ', mode 'rb' at 0x7f58368f6db0>\n",
      "/raid/VIPIR/vipir2015/014/raw/JM91J_2015014141204.RIQ\n",
      "<open file '/raid/VIPIR/vipir2015/014/raw/JM91J_2015014141204.RIQ', mode 'rb' at 0x7f58374e48a0>\n",
      "/raid/VIPIR/vipir2015/014/raw/JM91J_2015014141304.RIQ\n",
      "<open file '/raid/VIPIR/vipir2015/014/raw/JM91J_2015014141304.RIQ', mode 'rb' at 0x7f58374e4f60>\n",
      "/raid/VIPIR/vipir2015/014/raw/JM91J_2015014141404.RIQ\n",
      "<open file '/raid/VIPIR/vipir2015/014/raw/JM91J_2015014141404.RIQ', mode 'rb' at 0x7f5836940780>\n",
      "/raid/VIPIR/vipir2015/014/raw/JM91J_2015014141504.RIQ\n",
      "<open file '/raid/VIPIR/vipir2015/014/raw/JM91J_2015014141504.RIQ', mode 'rb' at 0x7f58374e4f60>\n",
      "/raid/VIPIR/vipir2015/014/raw/JM91J_2015014141604.RIQ\n",
      "<open file '/raid/VIPIR/vipir2015/014/raw/JM91J_2015014141604.RIQ', mode 'rb' at 0x7f58374e48a0>\n",
      "/raid/VIPIR/vipir2015/014/raw/JM91J_2015014141704.RIQ\n",
      "<open file '/raid/VIPIR/vipir2015/014/raw/JM91J_2015014141704.RIQ', mode 'rb' at 0x7f58368f6db0>\n",
      "/raid/VIPIR/vipir2015/014/raw/JM91J_2015014141804.RIQ\n",
      "<open file '/raid/VIPIR/vipir2015/014/raw/JM91J_2015014141804.RIQ', mode 'rb' at 0x7f58374e48a0>\n",
      "/raid/VIPIR/vipir2015/014/raw/JM91J_2015014141904.RIQ\n",
      "<open file '/raid/VIPIR/vipir2015/014/raw/JM91J_2015014141904.RIQ', mode 'rb' at 0x7f58374e4f60>\n",
      "/raid/VIPIR/vipir2015/014/raw/JM91J_2015014142004.RIQ\n",
      "<open file '/raid/VIPIR/vipir2015/014/raw/JM91J_2015014142004.RIQ', mode 'rb' at 0x7f5836940780>\n",
      "/raid/VIPIR/vipir2015/014/raw/JM91J_2015014142104.RIQ\n",
      "<open file '/raid/VIPIR/vipir2015/014/raw/JM91J_2015014142104.RIQ', mode 'rb' at 0x7f58374e4f60>\n",
      "/raid/VIPIR/vipir2015/014/raw/JM91J_2015014142204.RIQ\n",
      "<open file '/raid/VIPIR/vipir2015/014/raw/JM91J_2015014142204.RIQ', mode 'rb' at 0x7f58374e48a0>\n",
      "/raid/VIPIR/vipir2015/014/raw/JM91J_2015014142304.RIQ\n",
      "<open file '/raid/VIPIR/vipir2015/014/raw/JM91J_2015014142304.RIQ', mode 'rb' at 0x7f58368f6db0>\n",
      "/raid/VIPIR/vipir2015/014/raw/JM91J_2015014142404.RIQ\n",
      "<open file '/raid/VIPIR/vipir2015/014/raw/JM91J_2015014142404.RIQ', mode 'rb' at 0x7f58374e48a0>\n",
      "/raid/VIPIR/vipir2015/014/raw/JM91J_2015014142504.RIQ\n",
      "<open file '/raid/VIPIR/vipir2015/014/raw/JM91J_2015014142504.RIQ', mode 'rb' at 0x7f58374e4f60>\n",
      "/raid/VIPIR/vipir2015/014/raw/JM91J_2015014142604.RIQ\n",
      "<open file '/raid/VIPIR/vipir2015/014/raw/JM91J_2015014142604.RIQ', mode 'rb' at 0x7f5836940780>\n",
      "/raid/VIPIR/vipir2015/014/raw/JM91J_2015014142704.RIQ\n",
      "<open file '/raid/VIPIR/vipir2015/014/raw/JM91J_2015014142704.RIQ', mode 'rb' at 0x7f58374e4f60>\n",
      "/raid/VIPIR/vipir2015/014/raw/JM91J_2015014142804.RIQ\n",
      "<open file '/raid/VIPIR/vipir2015/014/raw/JM91J_2015014142804.RIQ', mode 'rb' at 0x7f58374e48a0>\n",
      "/raid/VIPIR/vipir2015/014/raw/JM91J_2015014142904.RIQ\n",
      "<open file '/raid/VIPIR/vipir2015/014/raw/JM91J_2015014142904.RIQ', mode 'rb' at 0x7f58368f6db0>\n",
      "/raid/VIPIR/vipir2015/014/raw/JM91J_2015014143004.RIQ\n",
      "<open file '/raid/VIPIR/vipir2015/014/raw/JM91J_2015014143004.RIQ', mode 'rb' at 0x7f58374e48a0>\n",
      "/raid/VIPIR/vipir2015/014/raw/JM91J_2015014143104.RIQ\n",
      "<open file '/raid/VIPIR/vipir2015/014/raw/JM91J_2015014143104.RIQ', mode 'rb' at 0x7f58374e4f60>\n",
      "/raid/VIPIR/vipir2015/014/raw/JM91J_2015014143204.RIQ\n",
      "<open file '/raid/VIPIR/vipir2015/014/raw/JM91J_2015014143204.RIQ', mode 'rb' at 0x7f5836940780>\n"
     ]
    },
    {
     "name": "stdout",
     "output_type": "stream",
     "text": [
      "/raid/VIPIR/vipir2015/014/raw/JM91J_2015014143304.RIQ\n",
      "<open file '/raid/VIPIR/vipir2015/014/raw/JM91J_2015014143304.RIQ', mode 'rb' at 0x7f58374e4f60>\n",
      "/raid/VIPIR/vipir2015/014/raw/JM91J_2015014143404.RIQ\n",
      "<open file '/raid/VIPIR/vipir2015/014/raw/JM91J_2015014143404.RIQ', mode 'rb' at 0x7f58374e48a0>\n",
      "/raid/VIPIR/vipir2015/014/raw/JM91J_2015014143504.RIQ\n",
      "<open file '/raid/VIPIR/vipir2015/014/raw/JM91J_2015014143504.RIQ', mode 'rb' at 0x7f58368f6db0>\n",
      "/raid/VIPIR/vipir2015/014/raw/JM91J_2015014143604.RIQ\n",
      "<open file '/raid/VIPIR/vipir2015/014/raw/JM91J_2015014143604.RIQ', mode 'rb' at 0x7f58374e48a0>\n",
      "/raid/VIPIR/vipir2015/014/raw/JM91J_2015014143704.RIQ\n",
      "<open file '/raid/VIPIR/vipir2015/014/raw/JM91J_2015014143704.RIQ', mode 'rb' at 0x7f58374e4f60>\n",
      "/raid/VIPIR/vipir2015/014/raw/JM91J_2015014143804.RIQ\n",
      "<open file '/raid/VIPIR/vipir2015/014/raw/JM91J_2015014143804.RIQ', mode 'rb' at 0x7f5836940780>\n",
      "/raid/VIPIR/vipir2015/014/raw/JM91J_2015014143904.RIQ\n",
      "<open file '/raid/VIPIR/vipir2015/014/raw/JM91J_2015014143904.RIQ', mode 'rb' at 0x7f58374e4f60>\n",
      "/raid/VIPIR/vipir2015/014/raw/JM91J_2015014144004.RIQ\n",
      "<open file '/raid/VIPIR/vipir2015/014/raw/JM91J_2015014144004.RIQ', mode 'rb' at 0x7f58374e48a0>\n",
      "/raid/VIPIR/vipir2015/014/raw/JM91J_2015014144104.RIQ\n",
      "<open file '/raid/VIPIR/vipir2015/014/raw/JM91J_2015014144104.RIQ', mode 'rb' at 0x7f58368f6db0>\n",
      "/raid/VIPIR/vipir2015/014/raw/JM91J_2015014144204.RIQ\n",
      "<open file '/raid/VIPIR/vipir2015/014/raw/JM91J_2015014144204.RIQ', mode 'rb' at 0x7f58374e48a0>\n",
      "/raid/VIPIR/vipir2015/014/raw/JM91J_2015014144304.RIQ\n",
      "<open file '/raid/VIPIR/vipir2015/014/raw/JM91J_2015014144304.RIQ', mode 'rb' at 0x7f58374e4f60>\n",
      "/raid/VIPIR/vipir2015/014/raw/JM91J_2015014144404.RIQ\n",
      "<open file '/raid/VIPIR/vipir2015/014/raw/JM91J_2015014144404.RIQ', mode 'rb' at 0x7f5836940780>\n",
      "/raid/VIPIR/vipir2015/014/raw/JM91J_2015014144504.RIQ\n",
      "<open file '/raid/VIPIR/vipir2015/014/raw/JM91J_2015014144504.RIQ', mode 'rb' at 0x7f58374e4f60>\n",
      "/raid/VIPIR/vipir2015/014/raw/JM91J_2015014144604.RIQ\n",
      "<open file '/raid/VIPIR/vipir2015/014/raw/JM91J_2015014144604.RIQ', mode 'rb' at 0x7f58374e48a0>\n",
      "/raid/VIPIR/vipir2015/014/raw/JM91J_2015014144704.RIQ\n",
      "<open file '/raid/VIPIR/vipir2015/014/raw/JM91J_2015014144704.RIQ', mode 'rb' at 0x7f58368f6db0>\n",
      "/raid/VIPIR/vipir2015/014/raw/JM91J_2015014144804.RIQ\n",
      "<open file '/raid/VIPIR/vipir2015/014/raw/JM91J_2015014144804.RIQ', mode 'rb' at 0x7f58374e48a0>\n",
      "/raid/VIPIR/vipir2015/014/raw/JM91J_2015014144904.RIQ\n",
      "<open file '/raid/VIPIR/vipir2015/014/raw/JM91J_2015014144904.RIQ', mode 'rb' at 0x7f58374e4f60>\n",
      "/raid/VIPIR/vipir2015/014/raw/JM91J_2015014145004.RIQ\n",
      "<open file '/raid/VIPIR/vipir2015/014/raw/JM91J_2015014145004.RIQ', mode 'rb' at 0x7f5836940780>\n",
      "/raid/VIPIR/vipir2015/014/raw/JM91J_2015014145104.RIQ\n",
      "<open file '/raid/VIPIR/vipir2015/014/raw/JM91J_2015014145104.RIQ', mode 'rb' at 0x7f58374e4f60>\n",
      "/raid/VIPIR/vipir2015/014/raw/JM91J_2015014145204.RIQ\n",
      "<open file '/raid/VIPIR/vipir2015/014/raw/JM91J_2015014145204.RIQ', mode 'rb' at 0x7f58374e48a0>\n",
      "/raid/VIPIR/vipir2015/014/raw/JM91J_2015014145304.RIQ\n",
      "<open file '/raid/VIPIR/vipir2015/014/raw/JM91J_2015014145304.RIQ', mode 'rb' at 0x7f58368f6db0>\n",
      "/raid/VIPIR/vipir2015/014/raw/JM91J_2015014145404.RIQ\n",
      "<open file '/raid/VIPIR/vipir2015/014/raw/JM91J_2015014145404.RIQ', mode 'rb' at 0x7f58374e48a0>\n",
      "/raid/VIPIR/vipir2015/014/raw/JM91J_2015014145504.RIQ\n",
      "<open file '/raid/VIPIR/vipir2015/014/raw/JM91J_2015014145504.RIQ', mode 'rb' at 0x7f58374e4f60>\n",
      "/raid/VIPIR/vipir2015/014/raw/JM91J_2015014145604.RIQ\n",
      "<open file '/raid/VIPIR/vipir2015/014/raw/JM91J_2015014145604.RIQ', mode 'rb' at 0x7f5836940780>\n",
      "/raid/VIPIR/vipir2015/014/raw/JM91J_2015014145704.RIQ\n",
      "<open file '/raid/VIPIR/vipir2015/014/raw/JM91J_2015014145704.RIQ', mode 'rb' at 0x7f58374e4f60>\n",
      "/raid/VIPIR/vipir2015/014/raw/JM91J_2015014145804.RIQ\n",
      "<open file '/raid/VIPIR/vipir2015/014/raw/JM91J_2015014145804.RIQ', mode 'rb' at 0x7f58374e48a0>\n",
      "/raid/VIPIR/vipir2015/014/raw/JM91J_2015014145904.RIQ\n",
      "<open file '/raid/VIPIR/vipir2015/014/raw/JM91J_2015014145904.RIQ', mode 'rb' at 0x7f58368f6db0>\n",
      "/raid/VIPIR/vipir2015/014/raw/JM91J_2015014150004.RIQ\n",
      "<open file '/raid/VIPIR/vipir2015/014/raw/JM91J_2015014150004.RIQ', mode 'rb' at 0x7f58374e48a0>\n",
      "/raid/VIPIR/vipir2015/014/raw/JM91J_2015014150104.RIQ\n",
      "<open file '/raid/VIPIR/vipir2015/014/raw/JM91J_2015014150104.RIQ', mode 'rb' at 0x7f58374e4f60>\n",
      "/raid/VIPIR/vipir2015/014/raw/JM91J_2015014150204.RIQ\n",
      "<open file '/raid/VIPIR/vipir2015/014/raw/JM91J_2015014150204.RIQ', mode 'rb' at 0x7f5836940780>\n",
      "/raid/VIPIR/vipir2015/014/raw/JM91J_2015014150304.RIQ\n",
      "<open file '/raid/VIPIR/vipir2015/014/raw/JM91J_2015014150304.RIQ', mode 'rb' at 0x7f58374e4f60>\n",
      "/raid/VIPIR/vipir2015/014/raw/JM91J_2015014150404.RIQ\n",
      "<open file '/raid/VIPIR/vipir2015/014/raw/JM91J_2015014150404.RIQ', mode 'rb' at 0x7f58374e48a0>\n",
      "/raid/VIPIR/vipir2015/014/raw/JM91J_2015014150504.RIQ\n",
      "<open file '/raid/VIPIR/vipir2015/014/raw/JM91J_2015014150504.RIQ', mode 'rb' at 0x7f58368f6db0>\n",
      "/raid/VIPIR/vipir2015/014/raw/JM91J_2015014150604.RIQ\n",
      "<open file '/raid/VIPIR/vipir2015/014/raw/JM91J_2015014150604.RIQ', mode 'rb' at 0x7f58374e48a0>\n",
      "/raid/VIPIR/vipir2015/014/raw/JM91J_2015014150704.RIQ\n",
      "<open file '/raid/VIPIR/vipir2015/014/raw/JM91J_2015014150704.RIQ', mode 'rb' at 0x7f58374e4f60>\n",
      "/raid/VIPIR/vipir2015/014/raw/JM91J_2015014150804.RIQ\n",
      "<open file '/raid/VIPIR/vipir2015/014/raw/JM91J_2015014150804.RIQ', mode 'rb' at 0x7f5836940780>\n",
      "/raid/VIPIR/vipir2015/014/raw/JM91J_2015014150904.RIQ\n",
      "<open file '/raid/VIPIR/vipir2015/014/raw/JM91J_2015014150904.RIQ', mode 'rb' at 0x7f58374e4f60>\n",
      "/raid/VIPIR/vipir2015/014/raw/JM91J_2015014151004.RIQ\n",
      "<open file '/raid/VIPIR/vipir2015/014/raw/JM91J_2015014151004.RIQ', mode 'rb' at 0x7f58374e48a0>\n",
      "/raid/VIPIR/vipir2015/014/raw/JM91J_2015014151104.RIQ\n",
      "<open file '/raid/VIPIR/vipir2015/014/raw/JM91J_2015014151104.RIQ', mode 'rb' at 0x7f58368f6db0>\n",
      "/raid/VIPIR/vipir2015/014/raw/JM91J_2015014151204.RIQ\n",
      "<open file '/raid/VIPIR/vipir2015/014/raw/JM91J_2015014151204.RIQ', mode 'rb' at 0x7f58374e48a0>\n",
      "/raid/VIPIR/vipir2015/014/raw/JM91J_2015014151304.RIQ\n",
      "<open file '/raid/VIPIR/vipir2015/014/raw/JM91J_2015014151304.RIQ', mode 'rb' at 0x7f58374e4f60>\n",
      "/raid/VIPIR/vipir2015/014/raw/JM91J_2015014151404.RIQ\n",
      "<open file '/raid/VIPIR/vipir2015/014/raw/JM91J_2015014151404.RIQ', mode 'rb' at 0x7f5836940780>\n",
      "/raid/VIPIR/vipir2015/014/raw/JM91J_2015014151504.RIQ\n",
      "<open file '/raid/VIPIR/vipir2015/014/raw/JM91J_2015014151504.RIQ', mode 'rb' at 0x7f58374e4f60>\n",
      "/raid/VIPIR/vipir2015/014/raw/JM91J_2015014151604.RIQ\n",
      "<open file '/raid/VIPIR/vipir2015/014/raw/JM91J_2015014151604.RIQ', mode 'rb' at 0x7f58374e48a0>\n",
      "/raid/VIPIR/vipir2015/014/raw/JM91J_2015014151704.RIQ\n",
      "<open file '/raid/VIPIR/vipir2015/014/raw/JM91J_2015014151704.RIQ', mode 'rb' at 0x7f58368f6db0>\n",
      "/raid/VIPIR/vipir2015/014/raw/JM91J_2015014151804.RIQ\n",
      "<open file '/raid/VIPIR/vipir2015/014/raw/JM91J_2015014151804.RIQ', mode 'rb' at 0x7f58374e48a0>\n",
      "/raid/VIPIR/vipir2015/014/raw/JM91J_2015014151904.RIQ\n",
      "<open file '/raid/VIPIR/vipir2015/014/raw/JM91J_2015014151904.RIQ', mode 'rb' at 0x7f58374e4f60>\n",
      "/raid/VIPIR/vipir2015/014/raw/JM91J_2015014152004.RIQ\n",
      "<open file '/raid/VIPIR/vipir2015/014/raw/JM91J_2015014152004.RIQ', mode 'rb' at 0x7f5836940780>\n",
      "/raid/VIPIR/vipir2015/014/raw/JM91J_2015014152104.RIQ\n",
      "<open file '/raid/VIPIR/vipir2015/014/raw/JM91J_2015014152104.RIQ', mode 'rb' at 0x7f58374e4f60>\n",
      "/raid/VIPIR/vipir2015/014/raw/JM91J_2015014152204.RIQ\n",
      "<open file '/raid/VIPIR/vipir2015/014/raw/JM91J_2015014152204.RIQ', mode 'rb' at 0x7f58374e48a0>\n",
      "/raid/VIPIR/vipir2015/014/raw/JM91J_2015014152304.RIQ\n",
      "<open file '/raid/VIPIR/vipir2015/014/raw/JM91J_2015014152304.RIQ', mode 'rb' at 0x7f58368f6db0>\n",
      "/raid/VIPIR/vipir2015/014/raw/JM91J_2015014152404.RIQ\n",
      "<open file '/raid/VIPIR/vipir2015/014/raw/JM91J_2015014152404.RIQ', mode 'rb' at 0x7f58374e48a0>\n",
      "/raid/VIPIR/vipir2015/014/raw/JM91J_2015014152504.RIQ\n",
      "<open file '/raid/VIPIR/vipir2015/014/raw/JM91J_2015014152504.RIQ', mode 'rb' at 0x7f58374e4f60>\n",
      "/raid/VIPIR/vipir2015/014/raw/JM91J_2015014152604.RIQ\n",
      "<open file '/raid/VIPIR/vipir2015/014/raw/JM91J_2015014152604.RIQ', mode 'rb' at 0x7f5836940780>\n",
      "/raid/VIPIR/vipir2015/014/raw/JM91J_2015014152704.RIQ\n",
      "<open file '/raid/VIPIR/vipir2015/014/raw/JM91J_2015014152704.RIQ', mode 'rb' at 0x7f58374e4f60>\n"
     ]
    },
    {
     "name": "stdout",
     "output_type": "stream",
     "text": [
      "/raid/VIPIR/vipir2015/014/raw/JM91J_2015014152804.RIQ\n",
      "<open file '/raid/VIPIR/vipir2015/014/raw/JM91J_2015014152804.RIQ', mode 'rb' at 0x7f58374e48a0>\n",
      "/raid/VIPIR/vipir2015/014/raw/JM91J_2015014152904.RIQ\n",
      "<open file '/raid/VIPIR/vipir2015/014/raw/JM91J_2015014152904.RIQ', mode 'rb' at 0x7f58368f6db0>\n",
      "/raid/VIPIR/vipir2015/014/raw/JM91J_2015014153004.RIQ\n",
      "<open file '/raid/VIPIR/vipir2015/014/raw/JM91J_2015014153004.RIQ', mode 'rb' at 0x7f58374e48a0>\n",
      "/raid/VIPIR/vipir2015/014/raw/JM91J_2015014153104.RIQ\n",
      "<open file '/raid/VIPIR/vipir2015/014/raw/JM91J_2015014153104.RIQ', mode 'rb' at 0x7f58374e4f60>\n",
      "/raid/VIPIR/vipir2015/014/raw/JM91J_2015014153204.RIQ\n",
      "<open file '/raid/VIPIR/vipir2015/014/raw/JM91J_2015014153204.RIQ', mode 'rb' at 0x7f5836940780>\n",
      "/raid/VIPIR/vipir2015/014/raw/JM91J_2015014153304.RIQ\n",
      "<open file '/raid/VIPIR/vipir2015/014/raw/JM91J_2015014153304.RIQ', mode 'rb' at 0x7f58374e4f60>\n",
      "/raid/VIPIR/vipir2015/014/raw/JM91J_2015014153404.RIQ\n",
      "<open file '/raid/VIPIR/vipir2015/014/raw/JM91J_2015014153404.RIQ', mode 'rb' at 0x7f58374e48a0>\n",
      "/raid/VIPIR/vipir2015/014/raw/JM91J_2015014153504.RIQ\n",
      "<open file '/raid/VIPIR/vipir2015/014/raw/JM91J_2015014153504.RIQ', mode 'rb' at 0x7f58368f6db0>\n",
      "/raid/VIPIR/vipir2015/014/raw/JM91J_2015014153604.RIQ\n",
      "<open file '/raid/VIPIR/vipir2015/014/raw/JM91J_2015014153604.RIQ', mode 'rb' at 0x7f58374e48a0>\n",
      "/raid/VIPIR/vipir2015/014/raw/JM91J_2015014153704.RIQ\n",
      "<open file '/raid/VIPIR/vipir2015/014/raw/JM91J_2015014153704.RIQ', mode 'rb' at 0x7f58374e4f60>\n",
      "/raid/VIPIR/vipir2015/014/raw/JM91J_2015014153804.RIQ\n",
      "<open file '/raid/VIPIR/vipir2015/014/raw/JM91J_2015014153804.RIQ', mode 'rb' at 0x7f5836940780>\n",
      "/raid/VIPIR/vipir2015/014/raw/JM91J_2015014153904.RIQ\n",
      "<open file '/raid/VIPIR/vipir2015/014/raw/JM91J_2015014153904.RIQ', mode 'rb' at 0x7f58374e4f60>\n",
      "/raid/VIPIR/vipir2015/014/raw/JM91J_2015014154004.RIQ\n",
      "<open file '/raid/VIPIR/vipir2015/014/raw/JM91J_2015014154004.RIQ', mode 'rb' at 0x7f58374e48a0>\n",
      "/raid/VIPIR/vipir2015/014/raw/JM91J_2015014154104.RIQ\n",
      "<open file '/raid/VIPIR/vipir2015/014/raw/JM91J_2015014154104.RIQ', mode 'rb' at 0x7f58368f6db0>\n",
      "/raid/VIPIR/vipir2015/014/raw/JM91J_2015014154204.RIQ\n",
      "<open file '/raid/VIPIR/vipir2015/014/raw/JM91J_2015014154204.RIQ', mode 'rb' at 0x7f58374e48a0>\n",
      "/raid/VIPIR/vipir2015/014/raw/JM91J_2015014154304.RIQ\n",
      "<open file '/raid/VIPIR/vipir2015/014/raw/JM91J_2015014154304.RIQ', mode 'rb' at 0x7f58374e4f60>\n",
      "/raid/VIPIR/vipir2015/014/raw/JM91J_2015014154404.RIQ\n",
      "<open file '/raid/VIPIR/vipir2015/014/raw/JM91J_2015014154404.RIQ', mode 'rb' at 0x7f5836940780>\n",
      "/raid/VIPIR/vipir2015/014/raw/JM91J_2015014154504.RIQ\n",
      "<open file '/raid/VIPIR/vipir2015/014/raw/JM91J_2015014154504.RIQ', mode 'rb' at 0x7f58374e4f60>\n",
      "/raid/VIPIR/vipir2015/014/raw/JM91J_2015014154604.RIQ\n",
      "<open file '/raid/VIPIR/vipir2015/014/raw/JM91J_2015014154604.RIQ', mode 'rb' at 0x7f58374e48a0>\n",
      "/raid/VIPIR/vipir2015/014/raw/JM91J_2015014154704.RIQ\n",
      "<open file '/raid/VIPIR/vipir2015/014/raw/JM91J_2015014154704.RIQ', mode 'rb' at 0x7f58368f6db0>\n",
      "/raid/VIPIR/vipir2015/014/raw/JM91J_2015014154804.RIQ\n",
      "<open file '/raid/VIPIR/vipir2015/014/raw/JM91J_2015014154804.RIQ', mode 'rb' at 0x7f58374e48a0>\n",
      "/raid/VIPIR/vipir2015/014/raw/JM91J_2015014154904.RIQ\n",
      "<open file '/raid/VIPIR/vipir2015/014/raw/JM91J_2015014154904.RIQ', mode 'rb' at 0x7f58374e4f60>\n",
      "/raid/VIPIR/vipir2015/014/raw/JM91J_2015014155004.RIQ\n",
      "<open file '/raid/VIPIR/vipir2015/014/raw/JM91J_2015014155004.RIQ', mode 'rb' at 0x7f5836940780>\n",
      "/raid/VIPIR/vipir2015/014/raw/JM91J_2015014155104.RIQ\n",
      "<open file '/raid/VIPIR/vipir2015/014/raw/JM91J_2015014155104.RIQ', mode 'rb' at 0x7f58374e4f60>\n",
      "/raid/VIPIR/vipir2015/014/raw/JM91J_2015014155204.RIQ\n",
      "<open file '/raid/VIPIR/vipir2015/014/raw/JM91J_2015014155204.RIQ', mode 'rb' at 0x7f58374e48a0>\n",
      "/raid/VIPIR/vipir2015/014/raw/JM91J_2015014155304.RIQ\n",
      "<open file '/raid/VIPIR/vipir2015/014/raw/JM91J_2015014155304.RIQ', mode 'rb' at 0x7f58368f6db0>\n",
      "/raid/VIPIR/vipir2015/014/raw/JM91J_2015014155404.RIQ\n",
      "<open file '/raid/VIPIR/vipir2015/014/raw/JM91J_2015014155404.RIQ', mode 'rb' at 0x7f58374e48a0>\n",
      "/raid/VIPIR/vipir2015/014/raw/JM91J_2015014155504.RIQ\n",
      "<open file '/raid/VIPIR/vipir2015/014/raw/JM91J_2015014155504.RIQ', mode 'rb' at 0x7f58374e4f60>\n",
      "/raid/VIPIR/vipir2015/014/raw/JM91J_2015014155604.RIQ\n",
      "<open file '/raid/VIPIR/vipir2015/014/raw/JM91J_2015014155604.RIQ', mode 'rb' at 0x7f5836940780>\n",
      "/raid/VIPIR/vipir2015/014/raw/JM91J_2015014155704.RIQ\n",
      "<open file '/raid/VIPIR/vipir2015/014/raw/JM91J_2015014155704.RIQ', mode 'rb' at 0x7f58374e4f60>\n",
      "/raid/VIPIR/vipir2015/014/raw/JM91J_2015014155804.RIQ\n",
      "<open file '/raid/VIPIR/vipir2015/014/raw/JM91J_2015014155804.RIQ', mode 'rb' at 0x7f58374e48a0>\n",
      "/raid/VIPIR/vipir2015/014/raw/JM91J_2015014155904.RIQ\n",
      "<open file '/raid/VIPIR/vipir2015/014/raw/JM91J_2015014155904.RIQ', mode 'rb' at 0x7f58368f6db0>\n",
      "/raid/VIPIR/vipir2015/014/raw/JM91J_2015014160004.RIQ\n",
      "<open file '/raid/VIPIR/vipir2015/014/raw/JM91J_2015014160004.RIQ', mode 'rb' at 0x7f58374e48a0>\n",
      "/raid/VIPIR/vipir2015/014/raw/JM91J_2015014160104.RIQ\n",
      "<open file '/raid/VIPIR/vipir2015/014/raw/JM91J_2015014160104.RIQ', mode 'rb' at 0x7f58374e4f60>\n",
      "/raid/VIPIR/vipir2015/014/raw/JM91J_2015014160204.RIQ\n",
      "<open file '/raid/VIPIR/vipir2015/014/raw/JM91J_2015014160204.RIQ', mode 'rb' at 0x7f5836940780>\n",
      "/raid/VIPIR/vipir2015/014/raw/JM91J_2015014160304.RIQ\n",
      "<open file '/raid/VIPIR/vipir2015/014/raw/JM91J_2015014160304.RIQ', mode 'rb' at 0x7f58374e4f60>\n",
      "/raid/VIPIR/vipir2015/014/raw/JM91J_2015014160404.RIQ\n",
      "<open file '/raid/VIPIR/vipir2015/014/raw/JM91J_2015014160404.RIQ', mode 'rb' at 0x7f58374e48a0>\n",
      "/raid/VIPIR/vipir2015/014/raw/JM91J_2015014160504.RIQ\n",
      "<open file '/raid/VIPIR/vipir2015/014/raw/JM91J_2015014160504.RIQ', mode 'rb' at 0x7f58368f6db0>\n",
      "/raid/VIPIR/vipir2015/014/raw/JM91J_2015014160604.RIQ\n",
      "<open file '/raid/VIPIR/vipir2015/014/raw/JM91J_2015014160604.RIQ', mode 'rb' at 0x7f58374e48a0>\n",
      "/raid/VIPIR/vipir2015/014/raw/JM91J_2015014160704.RIQ\n",
      "<open file '/raid/VIPIR/vipir2015/014/raw/JM91J_2015014160704.RIQ', mode 'rb' at 0x7f58374e4f60>\n",
      "/raid/VIPIR/vipir2015/014/raw/JM91J_2015014160804.RIQ\n",
      "<open file '/raid/VIPIR/vipir2015/014/raw/JM91J_2015014160804.RIQ', mode 'rb' at 0x7f5836940780>\n",
      "/raid/VIPIR/vipir2015/014/raw/JM91J_2015014160904.RIQ\n",
      "<open file '/raid/VIPIR/vipir2015/014/raw/JM91J_2015014160904.RIQ', mode 'rb' at 0x7f58374e4f60>\n",
      "/raid/VIPIR/vipir2015/014/raw/JM91J_2015014161004.RIQ\n",
      "<open file '/raid/VIPIR/vipir2015/014/raw/JM91J_2015014161004.RIQ', mode 'rb' at 0x7f58374e48a0>\n",
      "/raid/VIPIR/vipir2015/014/raw/JM91J_2015014161104.RIQ\n",
      "<open file '/raid/VIPIR/vipir2015/014/raw/JM91J_2015014161104.RIQ', mode 'rb' at 0x7f58368f6db0>\n",
      "/raid/VIPIR/vipir2015/014/raw/JM91J_2015014161204.RIQ\n",
      "<open file '/raid/VIPIR/vipir2015/014/raw/JM91J_2015014161204.RIQ', mode 'rb' at 0x7f58374e48a0>\n",
      "/raid/VIPIR/vipir2015/014/raw/JM91J_2015014161304.RIQ\n",
      "<open file '/raid/VIPIR/vipir2015/014/raw/JM91J_2015014161304.RIQ', mode 'rb' at 0x7f58374e4f60>\n",
      "/raid/VIPIR/vipir2015/014/raw/JM91J_2015014161404.RIQ\n",
      "<open file '/raid/VIPIR/vipir2015/014/raw/JM91J_2015014161404.RIQ', mode 'rb' at 0x7f5836940780>\n",
      "/raid/VIPIR/vipir2015/014/raw/JM91J_2015014161504.RIQ\n",
      "<open file '/raid/VIPIR/vipir2015/014/raw/JM91J_2015014161504.RIQ', mode 'rb' at 0x7f58374e4f60>\n",
      "/raid/VIPIR/vipir2015/014/raw/JM91J_2015014161604.RIQ\n",
      "<open file '/raid/VIPIR/vipir2015/014/raw/JM91J_2015014161604.RIQ', mode 'rb' at 0x7f58374e48a0>\n",
      "/raid/VIPIR/vipir2015/014/raw/JM91J_2015014161704.RIQ\n",
      "<open file '/raid/VIPIR/vipir2015/014/raw/JM91J_2015014161704.RIQ', mode 'rb' at 0x7f58368f6db0>\n",
      "/raid/VIPIR/vipir2015/014/raw/JM91J_2015014161804.RIQ\n",
      "<open file '/raid/VIPIR/vipir2015/014/raw/JM91J_2015014161804.RIQ', mode 'rb' at 0x7f58374e48a0>\n",
      "/raid/VIPIR/vipir2015/014/raw/JM91J_2015014161904.RIQ\n",
      "<open file '/raid/VIPIR/vipir2015/014/raw/JM91J_2015014161904.RIQ', mode 'rb' at 0x7f58374e4f60>\n",
      "/raid/VIPIR/vipir2015/014/raw/JM91J_2015014162004.RIQ\n",
      "<open file '/raid/VIPIR/vipir2015/014/raw/JM91J_2015014162004.RIQ', mode 'rb' at 0x7f5836940780>\n",
      "/raid/VIPIR/vipir2015/014/raw/JM91J_2015014162104.RIQ\n",
      "<open file '/raid/VIPIR/vipir2015/014/raw/JM91J_2015014162104.RIQ', mode 'rb' at 0x7f58374e4f60>\n",
      "/raid/VIPIR/vipir2015/014/raw/JM91J_2015014162204.RIQ\n",
      "<open file '/raid/VIPIR/vipir2015/014/raw/JM91J_2015014162204.RIQ', mode 'rb' at 0x7f58374e48a0>\n"
     ]
    },
    {
     "name": "stdout",
     "output_type": "stream",
     "text": [
      "/raid/VIPIR/vipir2015/014/raw/JM91J_2015014162304.RIQ\n",
      "<open file '/raid/VIPIR/vipir2015/014/raw/JM91J_2015014162304.RIQ', mode 'rb' at 0x7f58368f6db0>\n",
      "/raid/VIPIR/vipir2015/014/raw/JM91J_2015014162404.RIQ\n",
      "<open file '/raid/VIPIR/vipir2015/014/raw/JM91J_2015014162404.RIQ', mode 'rb' at 0x7f58374e48a0>\n",
      "/raid/VIPIR/vipir2015/014/raw/JM91J_2015014162504.RIQ\n",
      "<open file '/raid/VIPIR/vipir2015/014/raw/JM91J_2015014162504.RIQ', mode 'rb' at 0x7f58374e4f60>\n",
      "/raid/VIPIR/vipir2015/014/raw/JM91J_2015014162604.RIQ\n",
      "<open file '/raid/VIPIR/vipir2015/014/raw/JM91J_2015014162604.RIQ', mode 'rb' at 0x7f5836940780>\n",
      "/raid/VIPIR/vipir2015/014/raw/JM91J_2015014162704.RIQ\n",
      "<open file '/raid/VIPIR/vipir2015/014/raw/JM91J_2015014162704.RIQ', mode 'rb' at 0x7f58374e4f60>\n",
      "/raid/VIPIR/vipir2015/014/raw/JM91J_2015014162804.RIQ\n",
      "<open file '/raid/VIPIR/vipir2015/014/raw/JM91J_2015014162804.RIQ', mode 'rb' at 0x7f58374e48a0>\n",
      "/raid/VIPIR/vipir2015/014/raw/JM91J_2015014162904.RIQ\n",
      "<open file '/raid/VIPIR/vipir2015/014/raw/JM91J_2015014162904.RIQ', mode 'rb' at 0x7f58368f6db0>\n",
      "/raid/VIPIR/vipir2015/014/raw/JM91J_2015014163004.RIQ\n",
      "<open file '/raid/VIPIR/vipir2015/014/raw/JM91J_2015014163004.RIQ', mode 'rb' at 0x7f58374e48a0>\n",
      "/raid/VIPIR/vipir2015/014/raw/JM91J_2015014163104.RIQ\n",
      "<open file '/raid/VIPIR/vipir2015/014/raw/JM91J_2015014163104.RIQ', mode 'rb' at 0x7f58374e4f60>\n",
      "/raid/VIPIR/vipir2015/014/raw/JM91J_2015014163204.RIQ\n",
      "<open file '/raid/VIPIR/vipir2015/014/raw/JM91J_2015014163204.RIQ', mode 'rb' at 0x7f5836940780>\n",
      "/raid/VIPIR/vipir2015/014/raw/JM91J_2015014163304.RIQ\n",
      "<open file '/raid/VIPIR/vipir2015/014/raw/JM91J_2015014163304.RIQ', mode 'rb' at 0x7f58374e4f60>\n",
      "/raid/VIPIR/vipir2015/014/raw/JM91J_2015014163404.RIQ\n",
      "<open file '/raid/VIPIR/vipir2015/014/raw/JM91J_2015014163404.RIQ', mode 'rb' at 0x7f58374e48a0>\n",
      "/raid/VIPIR/vipir2015/014/raw/JM91J_2015014163504.RIQ\n",
      "<open file '/raid/VIPIR/vipir2015/014/raw/JM91J_2015014163504.RIQ', mode 'rb' at 0x7f58368f6db0>\n",
      "/raid/VIPIR/vipir2015/014/raw/JM91J_2015014163604.RIQ\n",
      "<open file '/raid/VIPIR/vipir2015/014/raw/JM91J_2015014163604.RIQ', mode 'rb' at 0x7f58374e48a0>\n",
      "/raid/VIPIR/vipir2015/014/raw/JM91J_2015014163704.RIQ\n",
      "<open file '/raid/VIPIR/vipir2015/014/raw/JM91J_2015014163704.RIQ', mode 'rb' at 0x7f58374e4f60>\n",
      "/raid/VIPIR/vipir2015/014/raw/JM91J_2015014163804.RIQ\n",
      "<open file '/raid/VIPIR/vipir2015/014/raw/JM91J_2015014163804.RIQ', mode 'rb' at 0x7f5836940780>\n",
      "/raid/VIPIR/vipir2015/014/raw/JM91J_2015014163904.RIQ\n",
      "<open file '/raid/VIPIR/vipir2015/014/raw/JM91J_2015014163904.RIQ', mode 'rb' at 0x7f58374e4f60>\n",
      "/raid/VIPIR/vipir2015/014/raw/JM91J_2015014164004.RIQ\n",
      "<open file '/raid/VIPIR/vipir2015/014/raw/JM91J_2015014164004.RIQ', mode 'rb' at 0x7f58374e48a0>\n",
      "/raid/VIPIR/vipir2015/014/raw/JM91J_2015014164104.RIQ\n",
      "<open file '/raid/VIPIR/vipir2015/014/raw/JM91J_2015014164104.RIQ', mode 'rb' at 0x7f58368f6db0>\n",
      "/raid/VIPIR/vipir2015/014/raw/JM91J_2015014164204.RIQ\n",
      "<open file '/raid/VIPIR/vipir2015/014/raw/JM91J_2015014164204.RIQ', mode 'rb' at 0x7f58374e48a0>\n",
      "/raid/VIPIR/vipir2015/014/raw/JM91J_2015014164304.RIQ\n",
      "<open file '/raid/VIPIR/vipir2015/014/raw/JM91J_2015014164304.RIQ', mode 'rb' at 0x7f58374e4f60>\n",
      "/raid/VIPIR/vipir2015/014/raw/JM91J_2015014164404.RIQ\n",
      "<open file '/raid/VIPIR/vipir2015/014/raw/JM91J_2015014164404.RIQ', mode 'rb' at 0x7f5836940780>\n",
      "/raid/VIPIR/vipir2015/014/raw/JM91J_2015014164504.RIQ\n",
      "<open file '/raid/VIPIR/vipir2015/014/raw/JM91J_2015014164504.RIQ', mode 'rb' at 0x7f58374e4f60>\n",
      "/raid/VIPIR/vipir2015/014/raw/JM91J_2015014164604.RIQ\n",
      "<open file '/raid/VIPIR/vipir2015/014/raw/JM91J_2015014164604.RIQ', mode 'rb' at 0x7f58374e48a0>\n",
      "/raid/VIPIR/vipir2015/014/raw/JM91J_2015014164704.RIQ\n",
      "<open file '/raid/VIPIR/vipir2015/014/raw/JM91J_2015014164704.RIQ', mode 'rb' at 0x7f58368f6db0>\n",
      "/raid/VIPIR/vipir2015/014/raw/JM91J_2015014164804.RIQ\n",
      "<open file '/raid/VIPIR/vipir2015/014/raw/JM91J_2015014164804.RIQ', mode 'rb' at 0x7f58374e48a0>\n",
      "/raid/VIPIR/vipir2015/014/raw/JM91J_2015014164904.RIQ\n",
      "<open file '/raid/VIPIR/vipir2015/014/raw/JM91J_2015014164904.RIQ', mode 'rb' at 0x7f58374e4f60>\n",
      "/raid/VIPIR/vipir2015/014/raw/JM91J_2015014165004.RIQ\n",
      "<open file '/raid/VIPIR/vipir2015/014/raw/JM91J_2015014165004.RIQ', mode 'rb' at 0x7f5836940780>\n",
      "/raid/VIPIR/vipir2015/014/raw/JM91J_2015014165104.RIQ\n",
      "<open file '/raid/VIPIR/vipir2015/014/raw/JM91J_2015014165104.RIQ', mode 'rb' at 0x7f58374e4f60>\n",
      "/raid/VIPIR/vipir2015/014/raw/JM91J_2015014165204.RIQ\n",
      "<open file '/raid/VIPIR/vipir2015/014/raw/JM91J_2015014165204.RIQ', mode 'rb' at 0x7f58374e48a0>\n",
      "/raid/VIPIR/vipir2015/014/raw/JM91J_2015014165304.RIQ\n",
      "<open file '/raid/VIPIR/vipir2015/014/raw/JM91J_2015014165304.RIQ', mode 'rb' at 0x7f58368f6db0>\n",
      "/raid/VIPIR/vipir2015/014/raw/JM91J_2015014165404.RIQ\n",
      "<open file '/raid/VIPIR/vipir2015/014/raw/JM91J_2015014165404.RIQ', mode 'rb' at 0x7f58374e48a0>\n",
      "/raid/VIPIR/vipir2015/014/raw/JM91J_2015014165504.RIQ\n",
      "<open file '/raid/VIPIR/vipir2015/014/raw/JM91J_2015014165504.RIQ', mode 'rb' at 0x7f58374e4f60>\n",
      "/raid/VIPIR/vipir2015/014/raw/JM91J_2015014165604.RIQ\n",
      "<open file '/raid/VIPIR/vipir2015/014/raw/JM91J_2015014165604.RIQ', mode 'rb' at 0x7f5836940780>\n",
      "/raid/VIPIR/vipir2015/014/raw/JM91J_2015014165704.RIQ\n",
      "<open file '/raid/VIPIR/vipir2015/014/raw/JM91J_2015014165704.RIQ', mode 'rb' at 0x7f58374e4f60>\n",
      "/raid/VIPIR/vipir2015/014/raw/JM91J_2015014165804.RIQ\n",
      "<open file '/raid/VIPIR/vipir2015/014/raw/JM91J_2015014165804.RIQ', mode 'rb' at 0x7f58374e48a0>\n",
      "/raid/VIPIR/vipir2015/014/raw/JM91J_2015014165904.RIQ\n",
      "<open file '/raid/VIPIR/vipir2015/014/raw/JM91J_2015014165904.RIQ', mode 'rb' at 0x7f58368f6db0>\n",
      "/raid/VIPIR/vipir2015/014/raw/JM91J_2015014170004.RIQ\n",
      "<open file '/raid/VIPIR/vipir2015/014/raw/JM91J_2015014170004.RIQ', mode 'rb' at 0x7f58374e48a0>\n",
      "/raid/VIPIR/vipir2015/014/raw/JM91J_2015014170104.RIQ\n",
      "<open file '/raid/VIPIR/vipir2015/014/raw/JM91J_2015014170104.RIQ', mode 'rb' at 0x7f58374e4f60>\n",
      "/raid/VIPIR/vipir2015/014/raw/JM91J_2015014170204.RIQ\n",
      "<open file '/raid/VIPIR/vipir2015/014/raw/JM91J_2015014170204.RIQ', mode 'rb' at 0x7f5836940780>\n",
      "/raid/VIPIR/vipir2015/014/raw/JM91J_2015014170304.RIQ\n",
      "<open file '/raid/VIPIR/vipir2015/014/raw/JM91J_2015014170304.RIQ', mode 'rb' at 0x7f58374e4f60>\n",
      "/raid/VIPIR/vipir2015/014/raw/JM91J_2015014170404.RIQ\n",
      "<open file '/raid/VIPIR/vipir2015/014/raw/JM91J_2015014170404.RIQ', mode 'rb' at 0x7f58374e48a0>\n",
      "/raid/VIPIR/vipir2015/014/raw/JM91J_2015014170504.RIQ\n",
      "<open file '/raid/VIPIR/vipir2015/014/raw/JM91J_2015014170504.RIQ', mode 'rb' at 0x7f58368f6db0>\n",
      "/raid/VIPIR/vipir2015/014/raw/JM91J_2015014170604.RIQ\n",
      "<open file '/raid/VIPIR/vipir2015/014/raw/JM91J_2015014170604.RIQ', mode 'rb' at 0x7f58374e48a0>\n",
      "/raid/VIPIR/vipir2015/014/raw/JM91J_2015014170704.RIQ\n",
      "<open file '/raid/VIPIR/vipir2015/014/raw/JM91J_2015014170704.RIQ', mode 'rb' at 0x7f58374e4f60>\n",
      "/raid/VIPIR/vipir2015/014/raw/JM91J_2015014170804.RIQ\n",
      "<open file '/raid/VIPIR/vipir2015/014/raw/JM91J_2015014170804.RIQ', mode 'rb' at 0x7f5836940780>\n",
      "/raid/VIPIR/vipir2015/014/raw/JM91J_2015014170904.RIQ\n",
      "<open file '/raid/VIPIR/vipir2015/014/raw/JM91J_2015014170904.RIQ', mode 'rb' at 0x7f58374e4f60>\n",
      "/raid/VIPIR/vipir2015/014/raw/JM91J_2015014171004.RIQ\n",
      "<open file '/raid/VIPIR/vipir2015/014/raw/JM91J_2015014171004.RIQ', mode 'rb' at 0x7f58374e48a0>\n",
      "/raid/VIPIR/vipir2015/014/raw/JM91J_2015014171104.RIQ\n",
      "<open file '/raid/VIPIR/vipir2015/014/raw/JM91J_2015014171104.RIQ', mode 'rb' at 0x7f58368f6db0>\n",
      "/raid/VIPIR/vipir2015/014/raw/JM91J_2015014171204.RIQ\n",
      "<open file '/raid/VIPIR/vipir2015/014/raw/JM91J_2015014171204.RIQ', mode 'rb' at 0x7f58374e48a0>\n",
      "/raid/VIPIR/vipir2015/014/raw/JM91J_2015014171304.RIQ\n",
      "<open file '/raid/VIPIR/vipir2015/014/raw/JM91J_2015014171304.RIQ', mode 'rb' at 0x7f58374e4f60>\n",
      "/raid/VIPIR/vipir2015/014/raw/JM91J_2015014171404.RIQ\n",
      "<open file '/raid/VIPIR/vipir2015/014/raw/JM91J_2015014171404.RIQ', mode 'rb' at 0x7f5836940780>\n",
      "/raid/VIPIR/vipir2015/014/raw/JM91J_2015014171504.RIQ\n",
      "<open file '/raid/VIPIR/vipir2015/014/raw/JM91J_2015014171504.RIQ', mode 'rb' at 0x7f58374e4f60>\n",
      "/raid/VIPIR/vipir2015/014/raw/JM91J_2015014171604.RIQ\n",
      "<open file '/raid/VIPIR/vipir2015/014/raw/JM91J_2015014171604.RIQ', mode 'rb' at 0x7f58374e48a0>\n",
      "/raid/VIPIR/vipir2015/014/raw/JM91J_2015014171704.RIQ\n",
      "<open file '/raid/VIPIR/vipir2015/014/raw/JM91J_2015014171704.RIQ', mode 'rb' at 0x7f58368f6db0>\n"
     ]
    },
    {
     "name": "stdout",
     "output_type": "stream",
     "text": [
      "/raid/VIPIR/vipir2015/014/raw/JM91J_2015014171804.RIQ\n",
      "<open file '/raid/VIPIR/vipir2015/014/raw/JM91J_2015014171804.RIQ', mode 'rb' at 0x7f58374e48a0>\n",
      "/raid/VIPIR/vipir2015/014/raw/JM91J_2015014171904.RIQ\n",
      "<open file '/raid/VIPIR/vipir2015/014/raw/JM91J_2015014171904.RIQ', mode 'rb' at 0x7f58374e4f60>\n",
      "/raid/VIPIR/vipir2015/014/raw/JM91J_2015014172004.RIQ\n",
      "<open file '/raid/VIPIR/vipir2015/014/raw/JM91J_2015014172004.RIQ', mode 'rb' at 0x7f5836940780>\n",
      "/raid/VIPIR/vipir2015/014/raw/JM91J_2015014172104.RIQ\n",
      "<open file '/raid/VIPIR/vipir2015/014/raw/JM91J_2015014172104.RIQ', mode 'rb' at 0x7f58374e4f60>\n",
      "/raid/VIPIR/vipir2015/014/raw/JM91J_2015014172204.RIQ\n",
      "<open file '/raid/VIPIR/vipir2015/014/raw/JM91J_2015014172204.RIQ', mode 'rb' at 0x7f58374e48a0>\n",
      "/raid/VIPIR/vipir2015/014/raw/JM91J_2015014172304.RIQ\n",
      "<open file '/raid/VIPIR/vipir2015/014/raw/JM91J_2015014172304.RIQ', mode 'rb' at 0x7f58368f6db0>\n",
      "/raid/VIPIR/vipir2015/014/raw/JM91J_2015014172404.RIQ\n",
      "<open file '/raid/VIPIR/vipir2015/014/raw/JM91J_2015014172404.RIQ', mode 'rb' at 0x7f58374e48a0>\n",
      "/raid/VIPIR/vipir2015/014/raw/JM91J_2015014172504.RIQ\n",
      "<open file '/raid/VIPIR/vipir2015/014/raw/JM91J_2015014172504.RIQ', mode 'rb' at 0x7f58374e4f60>\n",
      "/raid/VIPIR/vipir2015/014/raw/JM91J_2015014172604.RIQ\n",
      "<open file '/raid/VIPIR/vipir2015/014/raw/JM91J_2015014172604.RIQ', mode 'rb' at 0x7f5836940780>\n",
      "/raid/VIPIR/vipir2015/014/raw/JM91J_2015014172704.RIQ\n",
      "<open file '/raid/VIPIR/vipir2015/014/raw/JM91J_2015014172704.RIQ', mode 'rb' at 0x7f58374e4f60>\n",
      "/raid/VIPIR/vipir2015/014/raw/JM91J_2015014172804.RIQ\n",
      "<open file '/raid/VIPIR/vipir2015/014/raw/JM91J_2015014172804.RIQ', mode 'rb' at 0x7f58374e48a0>\n",
      "/raid/VIPIR/vipir2015/014/raw/JM91J_2015014172904.RIQ\n",
      "<open file '/raid/VIPIR/vipir2015/014/raw/JM91J_2015014172904.RIQ', mode 'rb' at 0x7f58368f6db0>\n",
      "/raid/VIPIR/vipir2015/014/raw/JM91J_2015014173004.RIQ\n",
      "<open file '/raid/VIPIR/vipir2015/014/raw/JM91J_2015014173004.RIQ', mode 'rb' at 0x7f58374e48a0>\n",
      "/raid/VIPIR/vipir2015/014/raw/JM91J_2015014173104.RIQ\n",
      "<open file '/raid/VIPIR/vipir2015/014/raw/JM91J_2015014173104.RIQ', mode 'rb' at 0x7f58374e4f60>\n",
      "/raid/VIPIR/vipir2015/014/raw/JM91J_2015014173204.RIQ\n",
      "<open file '/raid/VIPIR/vipir2015/014/raw/JM91J_2015014173204.RIQ', mode 'rb' at 0x7f5836940780>\n",
      "/raid/VIPIR/vipir2015/014/raw/JM91J_2015014173304.RIQ\n",
      "<open file '/raid/VIPIR/vipir2015/014/raw/JM91J_2015014173304.RIQ', mode 'rb' at 0x7f58374e4f60>\n",
      "/raid/VIPIR/vipir2015/014/raw/JM91J_2015014173404.RIQ\n",
      "<open file '/raid/VIPIR/vipir2015/014/raw/JM91J_2015014173404.RIQ', mode 'rb' at 0x7f58374e48a0>\n",
      "/raid/VIPIR/vipir2015/014/raw/JM91J_2015014173504.RIQ\n",
      "<open file '/raid/VIPIR/vipir2015/014/raw/JM91J_2015014173504.RIQ', mode 'rb' at 0x7f58368f6db0>\n",
      "/raid/VIPIR/vipir2015/014/raw/JM91J_2015014173604.RIQ\n",
      "<open file '/raid/VIPIR/vipir2015/014/raw/JM91J_2015014173604.RIQ', mode 'rb' at 0x7f58374e48a0>\n",
      "/raid/VIPIR/vipir2015/014/raw/JM91J_2015014173704.RIQ\n",
      "<open file '/raid/VIPIR/vipir2015/014/raw/JM91J_2015014173704.RIQ', mode 'rb' at 0x7f58374e4f60>\n",
      "/raid/VIPIR/vipir2015/014/raw/JM91J_2015014173804.RIQ\n",
      "<open file '/raid/VIPIR/vipir2015/014/raw/JM91J_2015014173804.RIQ', mode 'rb' at 0x7f5836940780>\n",
      "/raid/VIPIR/vipir2015/014/raw/JM91J_2015014173904.RIQ\n",
      "<open file '/raid/VIPIR/vipir2015/014/raw/JM91J_2015014173904.RIQ', mode 'rb' at 0x7f58374e4f60>\n",
      "/raid/VIPIR/vipir2015/014/raw/JM91J_2015014174004.RIQ\n",
      "<open file '/raid/VIPIR/vipir2015/014/raw/JM91J_2015014174004.RIQ', mode 'rb' at 0x7f58374e48a0>\n",
      "/raid/VIPIR/vipir2015/014/raw/JM91J_2015014174104.RIQ\n",
      "<open file '/raid/VIPIR/vipir2015/014/raw/JM91J_2015014174104.RIQ', mode 'rb' at 0x7f58368f6db0>\n",
      "/raid/VIPIR/vipir2015/014/raw/JM91J_2015014174204.RIQ\n",
      "<open file '/raid/VIPIR/vipir2015/014/raw/JM91J_2015014174204.RIQ', mode 'rb' at 0x7f58374e48a0>\n",
      "/raid/VIPIR/vipir2015/014/raw/JM91J_2015014174304.RIQ\n",
      "<open file '/raid/VIPIR/vipir2015/014/raw/JM91J_2015014174304.RIQ', mode 'rb' at 0x7f58374e4f60>\n",
      "/raid/VIPIR/vipir2015/014/raw/JM91J_2015014174404.RIQ\n",
      "<open file '/raid/VIPIR/vipir2015/014/raw/JM91J_2015014174404.RIQ', mode 'rb' at 0x7f5836940780>\n",
      "/raid/VIPIR/vipir2015/014/raw/JM91J_2015014174504.RIQ\n",
      "<open file '/raid/VIPIR/vipir2015/014/raw/JM91J_2015014174504.RIQ', mode 'rb' at 0x7f58374e4f60>\n",
      "/raid/VIPIR/vipir2015/014/raw/JM91J_2015014174604.RIQ\n",
      "<open file '/raid/VIPIR/vipir2015/014/raw/JM91J_2015014174604.RIQ', mode 'rb' at 0x7f58374e48a0>\n",
      "/raid/VIPIR/vipir2015/014/raw/JM91J_2015014174704.RIQ\n",
      "<open file '/raid/VIPIR/vipir2015/014/raw/JM91J_2015014174704.RIQ', mode 'rb' at 0x7f58368f6db0>\n",
      "/raid/VIPIR/vipir2015/014/raw/JM91J_2015014174804.RIQ\n",
      "<open file '/raid/VIPIR/vipir2015/014/raw/JM91J_2015014174804.RIQ', mode 'rb' at 0x7f58374e48a0>\n",
      "/raid/VIPIR/vipir2015/014/raw/JM91J_2015014174904.RIQ\n",
      "<open file '/raid/VIPIR/vipir2015/014/raw/JM91J_2015014174904.RIQ', mode 'rb' at 0x7f58374e4f60>\n",
      "/raid/VIPIR/vipir2015/014/raw/JM91J_2015014175004.RIQ\n",
      "<open file '/raid/VIPIR/vipir2015/014/raw/JM91J_2015014175004.RIQ', mode 'rb' at 0x7f5836940780>\n",
      "/raid/VIPIR/vipir2015/014/raw/JM91J_2015014175104.RIQ\n",
      "<open file '/raid/VIPIR/vipir2015/014/raw/JM91J_2015014175104.RIQ', mode 'rb' at 0x7f58374e4f60>\n",
      "/raid/VIPIR/vipir2015/014/raw/JM91J_2015014175204.RIQ\n",
      "<open file '/raid/VIPIR/vipir2015/014/raw/JM91J_2015014175204.RIQ', mode 'rb' at 0x7f58374e48a0>\n",
      "/raid/VIPIR/vipir2015/014/raw/JM91J_2015014175304.RIQ\n",
      "<open file '/raid/VIPIR/vipir2015/014/raw/JM91J_2015014175304.RIQ', mode 'rb' at 0x7f58368f6db0>\n",
      "/raid/VIPIR/vipir2015/014/raw/JM91J_2015014175404.RIQ\n",
      "<open file '/raid/VIPIR/vipir2015/014/raw/JM91J_2015014175404.RIQ', mode 'rb' at 0x7f58374e48a0>\n",
      "/raid/VIPIR/vipir2015/014/raw/JM91J_2015014175504.RIQ\n",
      "<open file '/raid/VIPIR/vipir2015/014/raw/JM91J_2015014175504.RIQ', mode 'rb' at 0x7f58374e4f60>\n",
      "/raid/VIPIR/vipir2015/014/raw/JM91J_2015014175604.RIQ\n",
      "<open file '/raid/VIPIR/vipir2015/014/raw/JM91J_2015014175604.RIQ', mode 'rb' at 0x7f5836940780>\n",
      "/raid/VIPIR/vipir2015/014/raw/JM91J_2015014175704.RIQ\n",
      "<open file '/raid/VIPIR/vipir2015/014/raw/JM91J_2015014175704.RIQ', mode 'rb' at 0x7f58374e4f60>\n",
      "/raid/VIPIR/vipir2015/014/raw/JM91J_2015014175804.RIQ\n",
      "<open file '/raid/VIPIR/vipir2015/014/raw/JM91J_2015014175804.RIQ', mode 'rb' at 0x7f58374e48a0>\n",
      "/raid/VIPIR/vipir2015/014/raw/JM91J_2015014175904.RIQ\n",
      "<open file '/raid/VIPIR/vipir2015/014/raw/JM91J_2015014175904.RIQ', mode 'rb' at 0x7f58368f6db0>\n",
      "/raid/VIPIR/vipir2015/014/raw/JM91J_2015014180004.RIQ\n",
      "<open file '/raid/VIPIR/vipir2015/014/raw/JM91J_2015014180004.RIQ', mode 'rb' at 0x7f58374e48a0>\n",
      "/raid/VIPIR/vipir2015/014/raw/JM91J_2015014180104.RIQ\n",
      "<open file '/raid/VIPIR/vipir2015/014/raw/JM91J_2015014180104.RIQ', mode 'rb' at 0x7f58374e4f60>\n",
      "/raid/VIPIR/vipir2015/014/raw/JM91J_2015014180204.RIQ\n",
      "<open file '/raid/VIPIR/vipir2015/014/raw/JM91J_2015014180204.RIQ', mode 'rb' at 0x7f5836940780>\n",
      "/raid/VIPIR/vipir2015/014/raw/JM91J_2015014180304.RIQ\n",
      "<open file '/raid/VIPIR/vipir2015/014/raw/JM91J_2015014180304.RIQ', mode 'rb' at 0x7f58374e4f60>\n",
      "/raid/VIPIR/vipir2015/014/raw/JM91J_2015014180404.RIQ\n",
      "<open file '/raid/VIPIR/vipir2015/014/raw/JM91J_2015014180404.RIQ', mode 'rb' at 0x7f58374e48a0>\n",
      "/raid/VIPIR/vipir2015/014/raw/JM91J_2015014180504.RIQ\n",
      "<open file '/raid/VIPIR/vipir2015/014/raw/JM91J_2015014180504.RIQ', mode 'rb' at 0x7f58368f6db0>\n",
      "/raid/VIPIR/vipir2015/014/raw/JM91J_2015014180604.RIQ\n",
      "<open file '/raid/VIPIR/vipir2015/014/raw/JM91J_2015014180604.RIQ', mode 'rb' at 0x7f58374e48a0>\n",
      "/raid/VIPIR/vipir2015/014/raw/JM91J_2015014180704.RIQ\n",
      "<open file '/raid/VIPIR/vipir2015/014/raw/JM91J_2015014180704.RIQ', mode 'rb' at 0x7f58374e4f60>\n",
      "/raid/VIPIR/vipir2015/014/raw/JM91J_2015014180804.RIQ\n",
      "<open file '/raid/VIPIR/vipir2015/014/raw/JM91J_2015014180804.RIQ', mode 'rb' at 0x7f5836940780>\n",
      "/raid/VIPIR/vipir2015/014/raw/JM91J_2015014180904.RIQ\n",
      "<open file '/raid/VIPIR/vipir2015/014/raw/JM91J_2015014180904.RIQ', mode 'rb' at 0x7f58374e4f60>\n",
      "/raid/VIPIR/vipir2015/014/raw/JM91J_2015014181004.RIQ\n",
      "<open file '/raid/VIPIR/vipir2015/014/raw/JM91J_2015014181004.RIQ', mode 'rb' at 0x7f58374e48a0>\n",
      "/raid/VIPIR/vipir2015/014/raw/JM91J_2015014181104.RIQ\n",
      "<open file '/raid/VIPIR/vipir2015/014/raw/JM91J_2015014181104.RIQ', mode 'rb' at 0x7f58368f6db0>\n",
      "/raid/VIPIR/vipir2015/014/raw/JM91J_2015014181204.RIQ\n",
      "<open file '/raid/VIPIR/vipir2015/014/raw/JM91J_2015014181204.RIQ', mode 'rb' at 0x7f58374e48a0>\n"
     ]
    },
    {
     "name": "stdout",
     "output_type": "stream",
     "text": [
      "/raid/VIPIR/vipir2015/014/raw/JM91J_2015014181304.RIQ\n",
      "<open file '/raid/VIPIR/vipir2015/014/raw/JM91J_2015014181304.RIQ', mode 'rb' at 0x7f58374e4f60>\n",
      "/raid/VIPIR/vipir2015/014/raw/JM91J_2015014181404.RIQ\n",
      "<open file '/raid/VIPIR/vipir2015/014/raw/JM91J_2015014181404.RIQ', mode 'rb' at 0x7f5836940780>\n",
      "/raid/VIPIR/vipir2015/014/raw/JM91J_2015014181504.RIQ\n",
      "<open file '/raid/VIPIR/vipir2015/014/raw/JM91J_2015014181504.RIQ', mode 'rb' at 0x7f58374e4f60>\n",
      "/raid/VIPIR/vipir2015/014/raw/JM91J_2015014181604.RIQ\n",
      "<open file '/raid/VIPIR/vipir2015/014/raw/JM91J_2015014181604.RIQ', mode 'rb' at 0x7f58374e48a0>\n",
      "/raid/VIPIR/vipir2015/014/raw/JM91J_2015014181704.RIQ\n",
      "<open file '/raid/VIPIR/vipir2015/014/raw/JM91J_2015014181704.RIQ', mode 'rb' at 0x7f58368f6db0>\n",
      "/raid/VIPIR/vipir2015/014/raw/JM91J_2015014181804.RIQ\n",
      "<open file '/raid/VIPIR/vipir2015/014/raw/JM91J_2015014181804.RIQ', mode 'rb' at 0x7f58374e48a0>\n",
      "/raid/VIPIR/vipir2015/014/raw/JM91J_2015014181904.RIQ\n",
      "<open file '/raid/VIPIR/vipir2015/014/raw/JM91J_2015014181904.RIQ', mode 'rb' at 0x7f58374e4f60>\n",
      "/raid/VIPIR/vipir2015/014/raw/JM91J_2015014182004.RIQ\n",
      "<open file '/raid/VIPIR/vipir2015/014/raw/JM91J_2015014182004.RIQ', mode 'rb' at 0x7f5836940780>\n",
      "/raid/VIPIR/vipir2015/014/raw/JM91J_2015014182104.RIQ\n",
      "<open file '/raid/VIPIR/vipir2015/014/raw/JM91J_2015014182104.RIQ', mode 'rb' at 0x7f58374e4f60>\n",
      "/raid/VIPIR/vipir2015/014/raw/JM91J_2015014182204.RIQ\n",
      "<open file '/raid/VIPIR/vipir2015/014/raw/JM91J_2015014182204.RIQ', mode 'rb' at 0x7f58374e48a0>\n",
      "/raid/VIPIR/vipir2015/014/raw/JM91J_2015014182304.RIQ\n",
      "<open file '/raid/VIPIR/vipir2015/014/raw/JM91J_2015014182304.RIQ', mode 'rb' at 0x7f58368f6db0>\n",
      "/raid/VIPIR/vipir2015/014/raw/JM91J_2015014182404.RIQ\n",
      "<open file '/raid/VIPIR/vipir2015/014/raw/JM91J_2015014182404.RIQ', mode 'rb' at 0x7f58374e48a0>\n",
      "/raid/VIPIR/vipir2015/014/raw/JM91J_2015014182504.RIQ\n",
      "<open file '/raid/VIPIR/vipir2015/014/raw/JM91J_2015014182504.RIQ', mode 'rb' at 0x7f58374e4f60>\n",
      "/raid/VIPIR/vipir2015/014/raw/JM91J_2015014182604.RIQ\n",
      "<open file '/raid/VIPIR/vipir2015/014/raw/JM91J_2015014182604.RIQ', mode 'rb' at 0x7f5836940780>\n",
      "/raid/VIPIR/vipir2015/014/raw/JM91J_2015014182704.RIQ\n",
      "<open file '/raid/VIPIR/vipir2015/014/raw/JM91J_2015014182704.RIQ', mode 'rb' at 0x7f58374e4f60>\n",
      "/raid/VIPIR/vipir2015/014/raw/JM91J_2015014182804.RIQ\n",
      "<open file '/raid/VIPIR/vipir2015/014/raw/JM91J_2015014182804.RIQ', mode 'rb' at 0x7f58374e48a0>\n",
      "/raid/VIPIR/vipir2015/014/raw/JM91J_2015014182904.RIQ\n",
      "<open file '/raid/VIPIR/vipir2015/014/raw/JM91J_2015014182904.RIQ', mode 'rb' at 0x7f58368f6db0>\n",
      "/raid/VIPIR/vipir2015/014/raw/JM91J_2015014183004.RIQ\n",
      "<open file '/raid/VIPIR/vipir2015/014/raw/JM91J_2015014183004.RIQ', mode 'rb' at 0x7f58374e48a0>\n",
      "/raid/VIPIR/vipir2015/014/raw/JM91J_2015014183104.RIQ\n",
      "<open file '/raid/VIPIR/vipir2015/014/raw/JM91J_2015014183104.RIQ', mode 'rb' at 0x7f58374e4f60>\n",
      "/raid/VIPIR/vipir2015/014/raw/JM91J_2015014183204.RIQ\n",
      "<open file '/raid/VIPIR/vipir2015/014/raw/JM91J_2015014183204.RIQ', mode 'rb' at 0x7f5836940780>\n",
      "/raid/VIPIR/vipir2015/014/raw/JM91J_2015014183304.RIQ\n",
      "<open file '/raid/VIPIR/vipir2015/014/raw/JM91J_2015014183304.RIQ', mode 'rb' at 0x7f58374e4f60>\n",
      "/raid/VIPIR/vipir2015/014/raw/JM91J_2015014183404.RIQ\n",
      "<open file '/raid/VIPIR/vipir2015/014/raw/JM91J_2015014183404.RIQ', mode 'rb' at 0x7f58374e48a0>\n",
      "/raid/VIPIR/vipir2015/014/raw/JM91J_2015014183504.RIQ\n",
      "<open file '/raid/VIPIR/vipir2015/014/raw/JM91J_2015014183504.RIQ', mode 'rb' at 0x7f58368f6db0>\n",
      "/raid/VIPIR/vipir2015/014/raw/JM91J_2015014183604.RIQ\n",
      "<open file '/raid/VIPIR/vipir2015/014/raw/JM91J_2015014183604.RIQ', mode 'rb' at 0x7f58374e48a0>\n",
      "/raid/VIPIR/vipir2015/014/raw/JM91J_2015014183704.RIQ\n",
      "<open file '/raid/VIPIR/vipir2015/014/raw/JM91J_2015014183704.RIQ', mode 'rb' at 0x7f58374e4f60>\n",
      "/raid/VIPIR/vipir2015/014/raw/JM91J_2015014183804.RIQ\n",
      "<open file '/raid/VIPIR/vipir2015/014/raw/JM91J_2015014183804.RIQ', mode 'rb' at 0x7f5836940780>\n",
      "/raid/VIPIR/vipir2015/014/raw/JM91J_2015014183904.RIQ\n",
      "<open file '/raid/VIPIR/vipir2015/014/raw/JM91J_2015014183904.RIQ', mode 'rb' at 0x7f58374e4f60>\n",
      "/raid/VIPIR/vipir2015/014/raw/JM91J_2015014184004.RIQ\n",
      "<open file '/raid/VIPIR/vipir2015/014/raw/JM91J_2015014184004.RIQ', mode 'rb' at 0x7f58374e48a0>\n",
      "/raid/VIPIR/vipir2015/014/raw/JM91J_2015014184104.RIQ\n",
      "<open file '/raid/VIPIR/vipir2015/014/raw/JM91J_2015014184104.RIQ', mode 'rb' at 0x7f58368f6db0>\n",
      "/raid/VIPIR/vipir2015/014/raw/JM91J_2015014184204.RIQ\n",
      "<open file '/raid/VIPIR/vipir2015/014/raw/JM91J_2015014184204.RIQ', mode 'rb' at 0x7f58374e48a0>\n",
      "/raid/VIPIR/vipir2015/014/raw/JM91J_2015014184304.RIQ\n",
      "<open file '/raid/VIPIR/vipir2015/014/raw/JM91J_2015014184304.RIQ', mode 'rb' at 0x7f58374e4f60>\n",
      "/raid/VIPIR/vipir2015/014/raw/JM91J_2015014184404.RIQ\n",
      "<open file '/raid/VIPIR/vipir2015/014/raw/JM91J_2015014184404.RIQ', mode 'rb' at 0x7f5836940780>\n",
      "/raid/VIPIR/vipir2015/014/raw/JM91J_2015014184504.RIQ\n",
      "<open file '/raid/VIPIR/vipir2015/014/raw/JM91J_2015014184504.RIQ', mode 'rb' at 0x7f58374e4f60>\n",
      "/raid/VIPIR/vipir2015/014/raw/JM91J_2015014184604.RIQ\n",
      "<open file '/raid/VIPIR/vipir2015/014/raw/JM91J_2015014184604.RIQ', mode 'rb' at 0x7f58374e48a0>\n",
      "/raid/VIPIR/vipir2015/014/raw/JM91J_2015014184704.RIQ\n",
      "<open file '/raid/VIPIR/vipir2015/014/raw/JM91J_2015014184704.RIQ', mode 'rb' at 0x7f58368f6db0>\n",
      "/raid/VIPIR/vipir2015/014/raw/JM91J_2015014184804.RIQ\n",
      "<open file '/raid/VIPIR/vipir2015/014/raw/JM91J_2015014184804.RIQ', mode 'rb' at 0x7f58374e48a0>\n",
      "/raid/VIPIR/vipir2015/014/raw/JM91J_2015014184904.RIQ\n",
      "<open file '/raid/VIPIR/vipir2015/014/raw/JM91J_2015014184904.RIQ', mode 'rb' at 0x7f58374e4f60>\n",
      "/raid/VIPIR/vipir2015/014/raw/JM91J_2015014185004.RIQ\n",
      "<open file '/raid/VIPIR/vipir2015/014/raw/JM91J_2015014185004.RIQ', mode 'rb' at 0x7f5836940780>\n",
      "/raid/VIPIR/vipir2015/014/raw/JM91J_2015014185104.RIQ\n",
      "<open file '/raid/VIPIR/vipir2015/014/raw/JM91J_2015014185104.RIQ', mode 'rb' at 0x7f58374e4f60>\n",
      "/raid/VIPIR/vipir2015/014/raw/JM91J_2015014185204.RIQ\n",
      "<open file '/raid/VIPIR/vipir2015/014/raw/JM91J_2015014185204.RIQ', mode 'rb' at 0x7f58374e48a0>\n",
      "/raid/VIPIR/vipir2015/014/raw/JM91J_2015014185304.RIQ\n",
      "<open file '/raid/VIPIR/vipir2015/014/raw/JM91J_2015014185304.RIQ', mode 'rb' at 0x7f58368f6db0>\n",
      "/raid/VIPIR/vipir2015/014/raw/JM91J_2015014185404.RIQ\n",
      "<open file '/raid/VIPIR/vipir2015/014/raw/JM91J_2015014185404.RIQ', mode 'rb' at 0x7f58374e48a0>\n",
      "/raid/VIPIR/vipir2015/014/raw/JM91J_2015014185504.RIQ\n",
      "<open file '/raid/VIPIR/vipir2015/014/raw/JM91J_2015014185504.RIQ', mode 'rb' at 0x7f58374e4f60>\n",
      "/raid/VIPIR/vipir2015/014/raw/JM91J_2015014185604.RIQ\n",
      "<open file '/raid/VIPIR/vipir2015/014/raw/JM91J_2015014185604.RIQ', mode 'rb' at 0x7f5836940780>\n",
      "/raid/VIPIR/vipir2015/014/raw/JM91J_2015014185704.RIQ\n",
      "<open file '/raid/VIPIR/vipir2015/014/raw/JM91J_2015014185704.RIQ', mode 'rb' at 0x7f58374e4f60>\n",
      "/raid/VIPIR/vipir2015/014/raw/JM91J_2015014185804.RIQ\n",
      "<open file '/raid/VIPIR/vipir2015/014/raw/JM91J_2015014185804.RIQ', mode 'rb' at 0x7f58374e48a0>\n",
      "/raid/VIPIR/vipir2015/014/raw/JM91J_2015014185904.RIQ\n",
      "<open file '/raid/VIPIR/vipir2015/014/raw/JM91J_2015014185904.RIQ', mode 'rb' at 0x7f58368f6db0>\n",
      "/raid/VIPIR/vipir2015/014/raw/JM91J_2015014190004.RIQ\n",
      "<open file '/raid/VIPIR/vipir2015/014/raw/JM91J_2015014190004.RIQ', mode 'rb' at 0x7f58374e48a0>\n",
      "/raid/VIPIR/vipir2015/014/raw/JM91J_2015014190104.RIQ\n",
      "<open file '/raid/VIPIR/vipir2015/014/raw/JM91J_2015014190104.RIQ', mode 'rb' at 0x7f58374e4f60>\n",
      "/raid/VIPIR/vipir2015/014/raw/JM91J_2015014190204.RIQ\n",
      "<open file '/raid/VIPIR/vipir2015/014/raw/JM91J_2015014190204.RIQ', mode 'rb' at 0x7f5836940780>\n",
      "/raid/VIPIR/vipir2015/014/raw/JM91J_2015014190304.RIQ\n",
      "<open file '/raid/VIPIR/vipir2015/014/raw/JM91J_2015014190304.RIQ', mode 'rb' at 0x7f58374e4f60>\n",
      "/raid/VIPIR/vipir2015/014/raw/JM91J_2015014190404.RIQ\n",
      "<open file '/raid/VIPIR/vipir2015/014/raw/JM91J_2015014190404.RIQ', mode 'rb' at 0x7f58374e48a0>\n",
      "/raid/VIPIR/vipir2015/014/raw/JM91J_2015014190504.RIQ\n",
      "<open file '/raid/VIPIR/vipir2015/014/raw/JM91J_2015014190504.RIQ', mode 'rb' at 0x7f58368f6db0>\n",
      "/raid/VIPIR/vipir2015/014/raw/JM91J_2015014190604.RIQ\n",
      "<open file '/raid/VIPIR/vipir2015/014/raw/JM91J_2015014190604.RIQ', mode 'rb' at 0x7f58374e48a0>\n",
      "/raid/VIPIR/vipir2015/014/raw/JM91J_2015014190704.RIQ\n",
      "<open file '/raid/VIPIR/vipir2015/014/raw/JM91J_2015014190704.RIQ', mode 'rb' at 0x7f58374e4f60>\n"
     ]
    },
    {
     "name": "stdout",
     "output_type": "stream",
     "text": [
      "/raid/VIPIR/vipir2015/014/raw/JM91J_2015014190804.RIQ\n",
      "<open file '/raid/VIPIR/vipir2015/014/raw/JM91J_2015014190804.RIQ', mode 'rb' at 0x7f5836940780>\n",
      "/raid/VIPIR/vipir2015/014/raw/JM91J_2015014190904.RIQ\n",
      "<open file '/raid/VIPIR/vipir2015/014/raw/JM91J_2015014190904.RIQ', mode 'rb' at 0x7f58374e4f60>\n",
      "/raid/VIPIR/vipir2015/014/raw/JM91J_2015014191004.RIQ\n",
      "<open file '/raid/VIPIR/vipir2015/014/raw/JM91J_2015014191004.RIQ', mode 'rb' at 0x7f58374e48a0>\n",
      "/raid/VIPIR/vipir2015/014/raw/JM91J_2015014191104.RIQ\n",
      "<open file '/raid/VIPIR/vipir2015/014/raw/JM91J_2015014191104.RIQ', mode 'rb' at 0x7f58368f6db0>\n",
      "/raid/VIPIR/vipir2015/014/raw/JM91J_2015014191204.RIQ\n",
      "<open file '/raid/VIPIR/vipir2015/014/raw/JM91J_2015014191204.RIQ', mode 'rb' at 0x7f58374e48a0>\n",
      "/raid/VIPIR/vipir2015/014/raw/JM91J_2015014191304.RIQ\n",
      "<open file '/raid/VIPIR/vipir2015/014/raw/JM91J_2015014191304.RIQ', mode 'rb' at 0x7f58374e4f60>\n",
      "/raid/VIPIR/vipir2015/014/raw/JM91J_2015014191404.RIQ\n",
      "<open file '/raid/VIPIR/vipir2015/014/raw/JM91J_2015014191404.RIQ', mode 'rb' at 0x7f5836940780>\n",
      "/raid/VIPIR/vipir2015/014/raw/JM91J_2015014191504.RIQ\n",
      "<open file '/raid/VIPIR/vipir2015/014/raw/JM91J_2015014191504.RIQ', mode 'rb' at 0x7f58374e4f60>\n",
      "/raid/VIPIR/vipir2015/014/raw/JM91J_2015014191604.RIQ\n",
      "<open file '/raid/VIPIR/vipir2015/014/raw/JM91J_2015014191604.RIQ', mode 'rb' at 0x7f58374e48a0>\n",
      "/raid/VIPIR/vipir2015/014/raw/JM91J_2015014191704.RIQ\n",
      "<open file '/raid/VIPIR/vipir2015/014/raw/JM91J_2015014191704.RIQ', mode 'rb' at 0x7f58368f6db0>\n",
      "/raid/VIPIR/vipir2015/014/raw/JM91J_2015014191804.RIQ\n",
      "<open file '/raid/VIPIR/vipir2015/014/raw/JM91J_2015014191804.RIQ', mode 'rb' at 0x7f58374e48a0>\n",
      "/raid/VIPIR/vipir2015/014/raw/JM91J_2015014191904.RIQ\n",
      "<open file '/raid/VIPIR/vipir2015/014/raw/JM91J_2015014191904.RIQ', mode 'rb' at 0x7f58374e4f60>\n",
      "/raid/VIPIR/vipir2015/014/raw/JM91J_2015014192004.RIQ\n",
      "<open file '/raid/VIPIR/vipir2015/014/raw/JM91J_2015014192004.RIQ', mode 'rb' at 0x7f5836940780>\n",
      "/raid/VIPIR/vipir2015/014/raw/JM91J_2015014192104.RIQ\n",
      "<open file '/raid/VIPIR/vipir2015/014/raw/JM91J_2015014192104.RIQ', mode 'rb' at 0x7f58374e4f60>\n",
      "/raid/VIPIR/vipir2015/014/raw/JM91J_2015014192204.RIQ\n",
      "<open file '/raid/VIPIR/vipir2015/014/raw/JM91J_2015014192204.RIQ', mode 'rb' at 0x7f58374e48a0>\n",
      "/raid/VIPIR/vipir2015/014/raw/JM91J_2015014192304.RIQ\n",
      "<open file '/raid/VIPIR/vipir2015/014/raw/JM91J_2015014192304.RIQ', mode 'rb' at 0x7f58368f6db0>\n",
      "/raid/VIPIR/vipir2015/014/raw/JM91J_2015014192404.RIQ\n",
      "<open file '/raid/VIPIR/vipir2015/014/raw/JM91J_2015014192404.RIQ', mode 'rb' at 0x7f58374e48a0>\n",
      "/raid/VIPIR/vipir2015/014/raw/JM91J_2015014192504.RIQ\n",
      "<open file '/raid/VIPIR/vipir2015/014/raw/JM91J_2015014192504.RIQ', mode 'rb' at 0x7f58374e4f60>\n",
      "/raid/VIPIR/vipir2015/014/raw/JM91J_2015014192604.RIQ\n",
      "<open file '/raid/VIPIR/vipir2015/014/raw/JM91J_2015014192604.RIQ', mode 'rb' at 0x7f5836940780>\n",
      "/raid/VIPIR/vipir2015/014/raw/JM91J_2015014192704.RIQ\n",
      "<open file '/raid/VIPIR/vipir2015/014/raw/JM91J_2015014192704.RIQ', mode 'rb' at 0x7f58374e4f60>\n",
      "/raid/VIPIR/vipir2015/014/raw/JM91J_2015014192804.RIQ\n",
      "<open file '/raid/VIPIR/vipir2015/014/raw/JM91J_2015014192804.RIQ', mode 'rb' at 0x7f58374e48a0>\n",
      "/raid/VIPIR/vipir2015/014/raw/JM91J_2015014192904.RIQ\n",
      "<open file '/raid/VIPIR/vipir2015/014/raw/JM91J_2015014192904.RIQ', mode 'rb' at 0x7f58368f6db0>\n",
      "/raid/VIPIR/vipir2015/014/raw/JM91J_2015014193004.RIQ\n",
      "<open file '/raid/VIPIR/vipir2015/014/raw/JM91J_2015014193004.RIQ', mode 'rb' at 0x7f58374e48a0>\n",
      "/raid/VIPIR/vipir2015/014/raw/JM91J_2015014193104.RIQ\n",
      "<open file '/raid/VIPIR/vipir2015/014/raw/JM91J_2015014193104.RIQ', mode 'rb' at 0x7f58374e4f60>\n",
      "/raid/VIPIR/vipir2015/014/raw/JM91J_2015014193204.RIQ\n",
      "<open file '/raid/VIPIR/vipir2015/014/raw/JM91J_2015014193204.RIQ', mode 'rb' at 0x7f5836940780>\n",
      "/raid/VIPIR/vipir2015/014/raw/JM91J_2015014193304.RIQ\n",
      "<open file '/raid/VIPIR/vipir2015/014/raw/JM91J_2015014193304.RIQ', mode 'rb' at 0x7f58374e4f60>\n",
      "/raid/VIPIR/vipir2015/014/raw/JM91J_2015014193404.RIQ\n",
      "<open file '/raid/VIPIR/vipir2015/014/raw/JM91J_2015014193404.RIQ', mode 'rb' at 0x7f58374e48a0>\n",
      "/raid/VIPIR/vipir2015/014/raw/JM91J_2015014193504.RIQ\n",
      "<open file '/raid/VIPIR/vipir2015/014/raw/JM91J_2015014193504.RIQ', mode 'rb' at 0x7f58368f6db0>\n",
      "/raid/VIPIR/vipir2015/014/raw/JM91J_2015014193604.RIQ\n",
      "<open file '/raid/VIPIR/vipir2015/014/raw/JM91J_2015014193604.RIQ', mode 'rb' at 0x7f58374e48a0>\n",
      "/raid/VIPIR/vipir2015/014/raw/JM91J_2015014193704.RIQ\n",
      "<open file '/raid/VIPIR/vipir2015/014/raw/JM91J_2015014193704.RIQ', mode 'rb' at 0x7f58374e4f60>\n",
      "/raid/VIPIR/vipir2015/014/raw/JM91J_2015014193804.RIQ\n",
      "<open file '/raid/VIPIR/vipir2015/014/raw/JM91J_2015014193804.RIQ', mode 'rb' at 0x7f5836940780>\n",
      "/raid/VIPIR/vipir2015/014/raw/JM91J_2015014193904.RIQ\n",
      "<open file '/raid/VIPIR/vipir2015/014/raw/JM91J_2015014193904.RIQ', mode 'rb' at 0x7f58374e4f60>\n",
      "/raid/VIPIR/vipir2015/014/raw/JM91J_2015014194004.RIQ\n",
      "<open file '/raid/VIPIR/vipir2015/014/raw/JM91J_2015014194004.RIQ', mode 'rb' at 0x7f58374e48a0>\n",
      "/raid/VIPIR/vipir2015/014/raw/JM91J_2015014194104.RIQ\n",
      "<open file '/raid/VIPIR/vipir2015/014/raw/JM91J_2015014194104.RIQ', mode 'rb' at 0x7f58368f6db0>\n",
      "/raid/VIPIR/vipir2015/014/raw/JM91J_2015014194204.RIQ\n",
      "<open file '/raid/VIPIR/vipir2015/014/raw/JM91J_2015014194204.RIQ', mode 'rb' at 0x7f58374e48a0>\n",
      "/raid/VIPIR/vipir2015/014/raw/JM91J_2015014194304.RIQ\n",
      "<open file '/raid/VIPIR/vipir2015/014/raw/JM91J_2015014194304.RIQ', mode 'rb' at 0x7f58374e4f60>\n",
      "/raid/VIPIR/vipir2015/014/raw/JM91J_2015014194404.RIQ\n",
      "<open file '/raid/VIPIR/vipir2015/014/raw/JM91J_2015014194404.RIQ', mode 'rb' at 0x7f5836940780>\n",
      "/raid/VIPIR/vipir2015/014/raw/JM91J_2015014194504.RIQ\n",
      "<open file '/raid/VIPIR/vipir2015/014/raw/JM91J_2015014194504.RIQ', mode 'rb' at 0x7f58374e4f60>\n",
      "/raid/VIPIR/vipir2015/014/raw/JM91J_2015014194604.RIQ\n",
      "<open file '/raid/VIPIR/vipir2015/014/raw/JM91J_2015014194604.RIQ', mode 'rb' at 0x7f58374e48a0>\n",
      "/raid/VIPIR/vipir2015/014/raw/JM91J_2015014194704.RIQ\n",
      "<open file '/raid/VIPIR/vipir2015/014/raw/JM91J_2015014194704.RIQ', mode 'rb' at 0x7f58368f6db0>\n",
      "/raid/VIPIR/vipir2015/014/raw/JM91J_2015014194804.RIQ\n",
      "<open file '/raid/VIPIR/vipir2015/014/raw/JM91J_2015014194804.RIQ', mode 'rb' at 0x7f58374e48a0>\n",
      "/raid/VIPIR/vipir2015/014/raw/JM91J_2015014194904.RIQ\n",
      "<open file '/raid/VIPIR/vipir2015/014/raw/JM91J_2015014194904.RIQ', mode 'rb' at 0x7f58374e4f60>\n",
      "/raid/VIPIR/vipir2015/014/raw/JM91J_2015014195004.RIQ\n",
      "<open file '/raid/VIPIR/vipir2015/014/raw/JM91J_2015014195004.RIQ', mode 'rb' at 0x7f5836940780>\n",
      "/raid/VIPIR/vipir2015/014/raw/JM91J_2015014195104.RIQ\n",
      "<open file '/raid/VIPIR/vipir2015/014/raw/JM91J_2015014195104.RIQ', mode 'rb' at 0x7f58374e4f60>\n",
      "/raid/VIPIR/vipir2015/014/raw/JM91J_2015014195204.RIQ\n",
      "<open file '/raid/VIPIR/vipir2015/014/raw/JM91J_2015014195204.RIQ', mode 'rb' at 0x7f58374e48a0>\n",
      "/raid/VIPIR/vipir2015/014/raw/JM91J_2015014195304.RIQ\n",
      "<open file '/raid/VIPIR/vipir2015/014/raw/JM91J_2015014195304.RIQ', mode 'rb' at 0x7f58368f6db0>\n",
      "/raid/VIPIR/vipir2015/014/raw/JM91J_2015014195404.RIQ\n",
      "<open file '/raid/VIPIR/vipir2015/014/raw/JM91J_2015014195404.RIQ', mode 'rb' at 0x7f58374e48a0>\n",
      "/raid/VIPIR/vipir2015/014/raw/JM91J_2015014195504.RIQ\n",
      "<open file '/raid/VIPIR/vipir2015/014/raw/JM91J_2015014195504.RIQ', mode 'rb' at 0x7f58374e4f60>\n",
      "/raid/VIPIR/vipir2015/014/raw/JM91J_2015014195604.RIQ\n",
      "<open file '/raid/VIPIR/vipir2015/014/raw/JM91J_2015014195604.RIQ', mode 'rb' at 0x7f5836940780>\n",
      "/raid/VIPIR/vipir2015/014/raw/JM91J_2015014195704.RIQ\n",
      "<open file '/raid/VIPIR/vipir2015/014/raw/JM91J_2015014195704.RIQ', mode 'rb' at 0x7f58374e4f60>\n",
      "/raid/VIPIR/vipir2015/014/raw/JM91J_2015014195804.RIQ\n",
      "<open file '/raid/VIPIR/vipir2015/014/raw/JM91J_2015014195804.RIQ', mode 'rb' at 0x7f58374e48a0>\n",
      "/raid/VIPIR/vipir2015/014/raw/JM91J_2015014195904.RIQ\n",
      "<open file '/raid/VIPIR/vipir2015/014/raw/JM91J_2015014195904.RIQ', mode 'rb' at 0x7f58368f6db0>\n",
      "/raid/VIPIR/vipir2015/014/raw/JM91J_2015014200004.RIQ\n",
      "<open file '/raid/VIPIR/vipir2015/014/raw/JM91J_2015014200004.RIQ', mode 'rb' at 0x7f58374e48a0>\n",
      "/raid/VIPIR/vipir2015/014/raw/JM91J_2015014200104.RIQ\n",
      "<open file '/raid/VIPIR/vipir2015/014/raw/JM91J_2015014200104.RIQ', mode 'rb' at 0x7f58374e4f60>\n",
      "/raid/VIPIR/vipir2015/014/raw/JM91J_2015014200204.RIQ\n",
      "<open file '/raid/VIPIR/vipir2015/014/raw/JM91J_2015014200204.RIQ', mode 'rb' at 0x7f5836940780>\n"
     ]
    },
    {
     "name": "stdout",
     "output_type": "stream",
     "text": [
      "/raid/VIPIR/vipir2015/014/raw/JM91J_2015014200304.RIQ\n",
      "<open file '/raid/VIPIR/vipir2015/014/raw/JM91J_2015014200304.RIQ', mode 'rb' at 0x7f58374e4f60>\n",
      "/raid/VIPIR/vipir2015/014/raw/JM91J_2015014200404.RIQ\n",
      "<open file '/raid/VIPIR/vipir2015/014/raw/JM91J_2015014200404.RIQ', mode 'rb' at 0x7f58374e48a0>\n",
      "/raid/VIPIR/vipir2015/014/raw/JM91J_2015014200504.RIQ\n",
      "<open file '/raid/VIPIR/vipir2015/014/raw/JM91J_2015014200504.RIQ', mode 'rb' at 0x7f58368f6db0>\n",
      "/raid/VIPIR/vipir2015/014/raw/JM91J_2015014200604.RIQ\n",
      "<open file '/raid/VIPIR/vipir2015/014/raw/JM91J_2015014200604.RIQ', mode 'rb' at 0x7f58374e48a0>\n",
      "/raid/VIPIR/vipir2015/014/raw/JM91J_2015014200704.RIQ\n",
      "<open file '/raid/VIPIR/vipir2015/014/raw/JM91J_2015014200704.RIQ', mode 'rb' at 0x7f58374e4f60>\n",
      "/raid/VIPIR/vipir2015/014/raw/JM91J_2015014200804.RIQ\n",
      "<open file '/raid/VIPIR/vipir2015/014/raw/JM91J_2015014200804.RIQ', mode 'rb' at 0x7f5836940780>\n",
      "/raid/VIPIR/vipir2015/014/raw/JM91J_2015014200904.RIQ\n",
      "<open file '/raid/VIPIR/vipir2015/014/raw/JM91J_2015014200904.RIQ', mode 'rb' at 0x7f58374e4f60>\n",
      "/raid/VIPIR/vipir2015/014/raw/JM91J_2015014201004.RIQ\n",
      "<open file '/raid/VIPIR/vipir2015/014/raw/JM91J_2015014201004.RIQ', mode 'rb' at 0x7f58374e48a0>\n",
      "/raid/VIPIR/vipir2015/014/raw/JM91J_2015014201104.RIQ\n",
      "<open file '/raid/VIPIR/vipir2015/014/raw/JM91J_2015014201104.RIQ', mode 'rb' at 0x7f58368f6db0>\n",
      "/raid/VIPIR/vipir2015/014/raw/JM91J_2015014201204.RIQ\n",
      "<open file '/raid/VIPIR/vipir2015/014/raw/JM91J_2015014201204.RIQ', mode 'rb' at 0x7f58374e48a0>\n",
      "/raid/VIPIR/vipir2015/014/raw/JM91J_2015014201304.RIQ\n",
      "<open file '/raid/VIPIR/vipir2015/014/raw/JM91J_2015014201304.RIQ', mode 'rb' at 0x7f58374e4f60>\n",
      "/raid/VIPIR/vipir2015/014/raw/JM91J_2015014201404.RIQ\n",
      "<open file '/raid/VIPIR/vipir2015/014/raw/JM91J_2015014201404.RIQ', mode 'rb' at 0x7f5836940780>\n",
      "/raid/VIPIR/vipir2015/014/raw/JM91J_2015014201504.RIQ\n",
      "<open file '/raid/VIPIR/vipir2015/014/raw/JM91J_2015014201504.RIQ', mode 'rb' at 0x7f58374e4f60>\n",
      "/raid/VIPIR/vipir2015/014/raw/JM91J_2015014201604.RIQ\n",
      "<open file '/raid/VIPIR/vipir2015/014/raw/JM91J_2015014201604.RIQ', mode 'rb' at 0x7f58374e48a0>\n",
      "/raid/VIPIR/vipir2015/014/raw/JM91J_2015014201704.RIQ\n",
      "<open file '/raid/VIPIR/vipir2015/014/raw/JM91J_2015014201704.RIQ', mode 'rb' at 0x7f58368f6db0>\n",
      "/raid/VIPIR/vipir2015/014/raw/JM91J_2015014201804.RIQ\n",
      "<open file '/raid/VIPIR/vipir2015/014/raw/JM91J_2015014201804.RIQ', mode 'rb' at 0x7f58374e48a0>\n",
      "/raid/VIPIR/vipir2015/014/raw/JM91J_2015014201904.RIQ\n",
      "<open file '/raid/VIPIR/vipir2015/014/raw/JM91J_2015014201904.RIQ', mode 'rb' at 0x7f58374e4f60>\n",
      "/raid/VIPIR/vipir2015/014/raw/JM91J_2015014202004.RIQ\n",
      "<open file '/raid/VIPIR/vipir2015/014/raw/JM91J_2015014202004.RIQ', mode 'rb' at 0x7f5836940780>\n",
      "/raid/VIPIR/vipir2015/014/raw/JM91J_2015014202104.RIQ\n",
      "<open file '/raid/VIPIR/vipir2015/014/raw/JM91J_2015014202104.RIQ', mode 'rb' at 0x7f58374e4f60>\n",
      "/raid/VIPIR/vipir2015/014/raw/JM91J_2015014202204.RIQ\n",
      "<open file '/raid/VIPIR/vipir2015/014/raw/JM91J_2015014202204.RIQ', mode 'rb' at 0x7f58374e48a0>\n",
      "/raid/VIPIR/vipir2015/014/raw/JM91J_2015014202304.RIQ\n",
      "<open file '/raid/VIPIR/vipir2015/014/raw/JM91J_2015014202304.RIQ', mode 'rb' at 0x7f58368f6db0>\n",
      "/raid/VIPIR/vipir2015/014/raw/JM91J_2015014202404.RIQ\n",
      "<open file '/raid/VIPIR/vipir2015/014/raw/JM91J_2015014202404.RIQ', mode 'rb' at 0x7f58374e48a0>\n",
      "/raid/VIPIR/vipir2015/014/raw/JM91J_2015014202504.RIQ\n",
      "<open file '/raid/VIPIR/vipir2015/014/raw/JM91J_2015014202504.RIQ', mode 'rb' at 0x7f58374e4f60>\n",
      "/raid/VIPIR/vipir2015/014/raw/JM91J_2015014202604.RIQ\n",
      "<open file '/raid/VIPIR/vipir2015/014/raw/JM91J_2015014202604.RIQ', mode 'rb' at 0x7f5836940780>\n",
      "/raid/VIPIR/vipir2015/014/raw/JM91J_2015014202704.RIQ\n",
      "<open file '/raid/VIPIR/vipir2015/014/raw/JM91J_2015014202704.RIQ', mode 'rb' at 0x7f58374e4f60>\n",
      "/raid/VIPIR/vipir2015/014/raw/JM91J_2015014202804.RIQ\n",
      "<open file '/raid/VIPIR/vipir2015/014/raw/JM91J_2015014202804.RIQ', mode 'rb' at 0x7f58374e48a0>\n",
      "/raid/VIPIR/vipir2015/014/raw/JM91J_2015014202904.RIQ\n",
      "<open file '/raid/VIPIR/vipir2015/014/raw/JM91J_2015014202904.RIQ', mode 'rb' at 0x7f58368f6db0>\n",
      "/raid/VIPIR/vipir2015/014/raw/JM91J_2015014203004.RIQ\n",
      "<open file '/raid/VIPIR/vipir2015/014/raw/JM91J_2015014203004.RIQ', mode 'rb' at 0x7f58374e48a0>\n",
      "/raid/VIPIR/vipir2015/014/raw/JM91J_2015014203104.RIQ\n",
      "<open file '/raid/VIPIR/vipir2015/014/raw/JM91J_2015014203104.RIQ', mode 'rb' at 0x7f58374e4f60>\n",
      "/raid/VIPIR/vipir2015/014/raw/JM91J_2015014203204.RIQ\n",
      "<open file '/raid/VIPIR/vipir2015/014/raw/JM91J_2015014203204.RIQ', mode 'rb' at 0x7f5836940780>\n",
      "/raid/VIPIR/vipir2015/014/raw/JM91J_2015014203304.RIQ\n",
      "<open file '/raid/VIPIR/vipir2015/014/raw/JM91J_2015014203304.RIQ', mode 'rb' at 0x7f58374e4f60>\n",
      "/raid/VIPIR/vipir2015/014/raw/JM91J_2015014203404.RIQ\n",
      "<open file '/raid/VIPIR/vipir2015/014/raw/JM91J_2015014203404.RIQ', mode 'rb' at 0x7f58374e48a0>\n",
      "/raid/VIPIR/vipir2015/014/raw/JM91J_2015014203504.RIQ\n",
      "<open file '/raid/VIPIR/vipir2015/014/raw/JM91J_2015014203504.RIQ', mode 'rb' at 0x7f58368f6db0>\n",
      "/raid/VIPIR/vipir2015/014/raw/JM91J_2015014203604.RIQ\n",
      "<open file '/raid/VIPIR/vipir2015/014/raw/JM91J_2015014203604.RIQ', mode 'rb' at 0x7f58374e48a0>\n",
      "/raid/VIPIR/vipir2015/014/raw/JM91J_2015014203704.RIQ\n",
      "<open file '/raid/VIPIR/vipir2015/014/raw/JM91J_2015014203704.RIQ', mode 'rb' at 0x7f58374e4f60>\n",
      "/raid/VIPIR/vipir2015/014/raw/JM91J_2015014203804.RIQ\n",
      "<open file '/raid/VIPIR/vipir2015/014/raw/JM91J_2015014203804.RIQ', mode 'rb' at 0x7f5836940780>\n",
      "/raid/VIPIR/vipir2015/014/raw/JM91J_2015014203904.RIQ\n",
      "<open file '/raid/VIPIR/vipir2015/014/raw/JM91J_2015014203904.RIQ', mode 'rb' at 0x7f58374e4f60>\n",
      "/raid/VIPIR/vipir2015/014/raw/JM91J_2015014204004.RIQ\n",
      "<open file '/raid/VIPIR/vipir2015/014/raw/JM91J_2015014204004.RIQ', mode 'rb' at 0x7f58374e48a0>\n",
      "/raid/VIPIR/vipir2015/014/raw/JM91J_2015014204104.RIQ\n",
      "<open file '/raid/VIPIR/vipir2015/014/raw/JM91J_2015014204104.RIQ', mode 'rb' at 0x7f58368f6db0>\n",
      "/raid/VIPIR/vipir2015/014/raw/JM91J_2015014204204.RIQ\n",
      "<open file '/raid/VIPIR/vipir2015/014/raw/JM91J_2015014204204.RIQ', mode 'rb' at 0x7f58374e48a0>\n",
      "/raid/VIPIR/vipir2015/014/raw/JM91J_2015014204304.RIQ\n",
      "<open file '/raid/VIPIR/vipir2015/014/raw/JM91J_2015014204304.RIQ', mode 'rb' at 0x7f58374e4f60>\n",
      "/raid/VIPIR/vipir2015/014/raw/JM91J_2015014204404.RIQ\n",
      "<open file '/raid/VIPIR/vipir2015/014/raw/JM91J_2015014204404.RIQ', mode 'rb' at 0x7f5836940780>\n",
      "/raid/VIPIR/vipir2015/014/raw/JM91J_2015014204504.RIQ\n",
      "<open file '/raid/VIPIR/vipir2015/014/raw/JM91J_2015014204504.RIQ', mode 'rb' at 0x7f58374e4f60>\n",
      "/raid/VIPIR/vipir2015/014/raw/JM91J_2015014204604.RIQ\n",
      "<open file '/raid/VIPIR/vipir2015/014/raw/JM91J_2015014204604.RIQ', mode 'rb' at 0x7f58374e48a0>\n",
      "/raid/VIPIR/vipir2015/014/raw/JM91J_2015014204704.RIQ\n",
      "<open file '/raid/VIPIR/vipir2015/014/raw/JM91J_2015014204704.RIQ', mode 'rb' at 0x7f58368f6db0>\n",
      "/raid/VIPIR/vipir2015/014/raw/JM91J_2015014204804.RIQ\n",
      "<open file '/raid/VIPIR/vipir2015/014/raw/JM91J_2015014204804.RIQ', mode 'rb' at 0x7f58374e48a0>\n",
      "/raid/VIPIR/vipir2015/014/raw/JM91J_2015014204904.RIQ\n",
      "<open file '/raid/VIPIR/vipir2015/014/raw/JM91J_2015014204904.RIQ', mode 'rb' at 0x7f58374e4f60>\n",
      "/raid/VIPIR/vipir2015/014/raw/JM91J_2015014205004.RIQ\n",
      "<open file '/raid/VIPIR/vipir2015/014/raw/JM91J_2015014205004.RIQ', mode 'rb' at 0x7f5836940780>\n",
      "/raid/VIPIR/vipir2015/014/raw/JM91J_2015014205104.RIQ\n",
      "<open file '/raid/VIPIR/vipir2015/014/raw/JM91J_2015014205104.RIQ', mode 'rb' at 0x7f58374e4f60>\n",
      "/raid/VIPIR/vipir2015/014/raw/JM91J_2015014205204.RIQ\n",
      "<open file '/raid/VIPIR/vipir2015/014/raw/JM91J_2015014205204.RIQ', mode 'rb' at 0x7f58374e48a0>\n",
      "/raid/VIPIR/vipir2015/014/raw/JM91J_2015014205304.RIQ\n",
      "<open file '/raid/VIPIR/vipir2015/014/raw/JM91J_2015014205304.RIQ', mode 'rb' at 0x7f58368f6db0>\n",
      "/raid/VIPIR/vipir2015/014/raw/JM91J_2015014205404.RIQ\n",
      "<open file '/raid/VIPIR/vipir2015/014/raw/JM91J_2015014205404.RIQ', mode 'rb' at 0x7f58374e48a0>\n",
      "/raid/VIPIR/vipir2015/014/raw/JM91J_2015014205504.RIQ\n",
      "<open file '/raid/VIPIR/vipir2015/014/raw/JM91J_2015014205504.RIQ', mode 'rb' at 0x7f58374e4f60>\n",
      "/raid/VIPIR/vipir2015/014/raw/JM91J_2015014205604.RIQ\n",
      "<open file '/raid/VIPIR/vipir2015/014/raw/JM91J_2015014205604.RIQ', mode 'rb' at 0x7f5836940780>\n",
      "/raid/VIPIR/vipir2015/014/raw/JM91J_2015014205704.RIQ\n",
      "<open file '/raid/VIPIR/vipir2015/014/raw/JM91J_2015014205704.RIQ', mode 'rb' at 0x7f58374e4f60>\n"
     ]
    },
    {
     "name": "stdout",
     "output_type": "stream",
     "text": [
      "/raid/VIPIR/vipir2015/014/raw/JM91J_2015014205804.RIQ\n",
      "<open file '/raid/VIPIR/vipir2015/014/raw/JM91J_2015014205804.RIQ', mode 'rb' at 0x7f58374e48a0>\n",
      "/raid/VIPIR/vipir2015/014/raw/JM91J_2015014205904.RIQ\n",
      "<open file '/raid/VIPIR/vipir2015/014/raw/JM91J_2015014205904.RIQ', mode 'rb' at 0x7f58368f6db0>\n",
      "/raid/VIPIR/vipir2015/014/raw/JM91J_2015014210004.RIQ\n",
      "<open file '/raid/VIPIR/vipir2015/014/raw/JM91J_2015014210004.RIQ', mode 'rb' at 0x7f58374e48a0>\n",
      "/raid/VIPIR/vipir2015/014/raw/JM91J_2015014210104.RIQ\n",
      "<open file '/raid/VIPIR/vipir2015/014/raw/JM91J_2015014210104.RIQ', mode 'rb' at 0x7f58374e4f60>\n",
      "/raid/VIPIR/vipir2015/014/raw/JM91J_2015014210204.RIQ\n",
      "<open file '/raid/VIPIR/vipir2015/014/raw/JM91J_2015014210204.RIQ', mode 'rb' at 0x7f5836940780>\n",
      "/raid/VIPIR/vipir2015/014/raw/JM91J_2015014210304.RIQ\n",
      "<open file '/raid/VIPIR/vipir2015/014/raw/JM91J_2015014210304.RIQ', mode 'rb' at 0x7f58374e4f60>\n",
      "/raid/VIPIR/vipir2015/014/raw/JM91J_2015014210404.RIQ\n",
      "<open file '/raid/VIPIR/vipir2015/014/raw/JM91J_2015014210404.RIQ', mode 'rb' at 0x7f58374e48a0>\n",
      "/raid/VIPIR/vipir2015/014/raw/JM91J_2015014210504.RIQ\n",
      "<open file '/raid/VIPIR/vipir2015/014/raw/JM91J_2015014210504.RIQ', mode 'rb' at 0x7f58368f6db0>\n",
      "/raid/VIPIR/vipir2015/014/raw/JM91J_2015014210604.RIQ\n",
      "<open file '/raid/VIPIR/vipir2015/014/raw/JM91J_2015014210604.RIQ', mode 'rb' at 0x7f58374e48a0>\n",
      "/raid/VIPIR/vipir2015/014/raw/JM91J_2015014210704.RIQ\n",
      "<open file '/raid/VIPIR/vipir2015/014/raw/JM91J_2015014210704.RIQ', mode 'rb' at 0x7f58374e4f60>\n",
      "/raid/VIPIR/vipir2015/014/raw/JM91J_2015014210804.RIQ\n",
      "<open file '/raid/VIPIR/vipir2015/014/raw/JM91J_2015014210804.RIQ', mode 'rb' at 0x7f5836940780>\n",
      "/raid/VIPIR/vipir2015/014/raw/JM91J_2015014210904.RIQ\n",
      "<open file '/raid/VIPIR/vipir2015/014/raw/JM91J_2015014210904.RIQ', mode 'rb' at 0x7f58374e4f60>\n",
      "/raid/VIPIR/vipir2015/014/raw/JM91J_2015014211004.RIQ\n",
      "<open file '/raid/VIPIR/vipir2015/014/raw/JM91J_2015014211004.RIQ', mode 'rb' at 0x7f58374e48a0>\n",
      "/raid/VIPIR/vipir2015/014/raw/JM91J_2015014211104.RIQ\n",
      "<open file '/raid/VIPIR/vipir2015/014/raw/JM91J_2015014211104.RIQ', mode 'rb' at 0x7f58368f6db0>\n",
      "/raid/VIPIR/vipir2015/014/raw/JM91J_2015014211204.RIQ\n",
      "<open file '/raid/VIPIR/vipir2015/014/raw/JM91J_2015014211204.RIQ', mode 'rb' at 0x7f58374e48a0>\n",
      "/raid/VIPIR/vipir2015/014/raw/JM91J_2015014211304.RIQ\n",
      "<open file '/raid/VIPIR/vipir2015/014/raw/JM91J_2015014211304.RIQ', mode 'rb' at 0x7f58374e4f60>\n",
      "/raid/VIPIR/vipir2015/014/raw/JM91J_2015014211404.RIQ\n",
      "<open file '/raid/VIPIR/vipir2015/014/raw/JM91J_2015014211404.RIQ', mode 'rb' at 0x7f5836940780>\n",
      "/raid/VIPIR/vipir2015/014/raw/JM91J_2015014211504.RIQ\n",
      "<open file '/raid/VIPIR/vipir2015/014/raw/JM91J_2015014211504.RIQ', mode 'rb' at 0x7f58374e4f60>\n",
      "/raid/VIPIR/vipir2015/014/raw/JM91J_2015014211604.RIQ\n",
      "<open file '/raid/VIPIR/vipir2015/014/raw/JM91J_2015014211604.RIQ', mode 'rb' at 0x7f58374e48a0>\n",
      "/raid/VIPIR/vipir2015/014/raw/JM91J_2015014211704.RIQ\n",
      "<open file '/raid/VIPIR/vipir2015/014/raw/JM91J_2015014211704.RIQ', mode 'rb' at 0x7f58368f6db0>\n",
      "/raid/VIPIR/vipir2015/014/raw/JM91J_2015014211804.RIQ\n",
      "<open file '/raid/VIPIR/vipir2015/014/raw/JM91J_2015014211804.RIQ', mode 'rb' at 0x7f58374e48a0>\n",
      "/raid/VIPIR/vipir2015/014/raw/JM91J_2015014211904.RIQ\n",
      "<open file '/raid/VIPIR/vipir2015/014/raw/JM91J_2015014211904.RIQ', mode 'rb' at 0x7f58374e4f60>\n",
      "/raid/VIPIR/vipir2015/014/raw/JM91J_2015014212004.RIQ\n",
      "<open file '/raid/VIPIR/vipir2015/014/raw/JM91J_2015014212004.RIQ', mode 'rb' at 0x7f5836940780>\n",
      "/raid/VIPIR/vipir2015/014/raw/JM91J_2015014212104.RIQ\n",
      "<open file '/raid/VIPIR/vipir2015/014/raw/JM91J_2015014212104.RIQ', mode 'rb' at 0x7f58374e4f60>\n",
      "/raid/VIPIR/vipir2015/014/raw/JM91J_2015014212204.RIQ\n",
      "<open file '/raid/VIPIR/vipir2015/014/raw/JM91J_2015014212204.RIQ', mode 'rb' at 0x7f58374e48a0>\n",
      "/raid/VIPIR/vipir2015/014/raw/JM91J_2015014212304.RIQ\n",
      "<open file '/raid/VIPIR/vipir2015/014/raw/JM91J_2015014212304.RIQ', mode 'rb' at 0x7f58368f6db0>\n",
      "/raid/VIPIR/vipir2015/014/raw/JM91J_2015014212404.RIQ\n",
      "<open file '/raid/VIPIR/vipir2015/014/raw/JM91J_2015014212404.RIQ', mode 'rb' at 0x7f58374e48a0>\n",
      "/raid/VIPIR/vipir2015/014/raw/JM91J_2015014212504.RIQ\n",
      "<open file '/raid/VIPIR/vipir2015/014/raw/JM91J_2015014212504.RIQ', mode 'rb' at 0x7f58374e4f60>\n",
      "/raid/VIPIR/vipir2015/014/raw/JM91J_2015014212604.RIQ\n",
      "<open file '/raid/VIPIR/vipir2015/014/raw/JM91J_2015014212604.RIQ', mode 'rb' at 0x7f5836940780>\n",
      "/raid/VIPIR/vipir2015/014/raw/JM91J_2015014212704.RIQ\n",
      "<open file '/raid/VIPIR/vipir2015/014/raw/JM91J_2015014212704.RIQ', mode 'rb' at 0x7f58374e4f60>\n",
      "/raid/VIPIR/vipir2015/014/raw/JM91J_2015014212804.RIQ\n",
      "<open file '/raid/VIPIR/vipir2015/014/raw/JM91J_2015014212804.RIQ', mode 'rb' at 0x7f58374e48a0>\n",
      "/raid/VIPIR/vipir2015/014/raw/JM91J_2015014212904.RIQ\n",
      "<open file '/raid/VIPIR/vipir2015/014/raw/JM91J_2015014212904.RIQ', mode 'rb' at 0x7f58368f6db0>\n",
      "/raid/VIPIR/vipir2015/014/raw/JM91J_2015014213004.RIQ\n",
      "<open file '/raid/VIPIR/vipir2015/014/raw/JM91J_2015014213004.RIQ', mode 'rb' at 0x7f58374e48a0>\n",
      "/raid/VIPIR/vipir2015/014/raw/JM91J_2015014213104.RIQ\n",
      "<open file '/raid/VIPIR/vipir2015/014/raw/JM91J_2015014213104.RIQ', mode 'rb' at 0x7f58374e4f60>\n",
      "/raid/VIPIR/vipir2015/014/raw/JM91J_2015014213204.RIQ\n",
      "<open file '/raid/VIPIR/vipir2015/014/raw/JM91J_2015014213204.RIQ', mode 'rb' at 0x7f5836940780>\n",
      "/raid/VIPIR/vipir2015/014/raw/JM91J_2015014213304.RIQ\n",
      "<open file '/raid/VIPIR/vipir2015/014/raw/JM91J_2015014213304.RIQ', mode 'rb' at 0x7f58374e4f60>\n",
      "/raid/VIPIR/vipir2015/014/raw/JM91J_2015014213404.RIQ\n",
      "<open file '/raid/VIPIR/vipir2015/014/raw/JM91J_2015014213404.RIQ', mode 'rb' at 0x7f58374e48a0>\n",
      "/raid/VIPIR/vipir2015/014/raw/JM91J_2015014213504.RIQ\n",
      "<open file '/raid/VIPIR/vipir2015/014/raw/JM91J_2015014213504.RIQ', mode 'rb' at 0x7f58368f6db0>\n",
      "/raid/VIPIR/vipir2015/014/raw/JM91J_2015014213604.RIQ\n",
      "<open file '/raid/VIPIR/vipir2015/014/raw/JM91J_2015014213604.RIQ', mode 'rb' at 0x7f58374e48a0>\n",
      "/raid/VIPIR/vipir2015/014/raw/JM91J_2015014213704.RIQ\n",
      "<open file '/raid/VIPIR/vipir2015/014/raw/JM91J_2015014213704.RIQ', mode 'rb' at 0x7f58374e4f60>\n",
      "/raid/VIPIR/vipir2015/014/raw/JM91J_2015014213804.RIQ\n",
      "<open file '/raid/VIPIR/vipir2015/014/raw/JM91J_2015014213804.RIQ', mode 'rb' at 0x7f5836940780>\n",
      "/raid/VIPIR/vipir2015/014/raw/JM91J_2015014213904.RIQ\n",
      "<open file '/raid/VIPIR/vipir2015/014/raw/JM91J_2015014213904.RIQ', mode 'rb' at 0x7f58374e4f60>\n",
      "/raid/VIPIR/vipir2015/014/raw/JM91J_2015014214004.RIQ\n",
      "<open file '/raid/VIPIR/vipir2015/014/raw/JM91J_2015014214004.RIQ', mode 'rb' at 0x7f58374e48a0>\n",
      "/raid/VIPIR/vipir2015/014/raw/JM91J_2015014214104.RIQ\n",
      "<open file '/raid/VIPIR/vipir2015/014/raw/JM91J_2015014214104.RIQ', mode 'rb' at 0x7f58368f6db0>\n",
      "/raid/VIPIR/vipir2015/014/raw/JM91J_2015014214204.RIQ\n",
      "<open file '/raid/VIPIR/vipir2015/014/raw/JM91J_2015014214204.RIQ', mode 'rb' at 0x7f58374e48a0>\n",
      "/raid/VIPIR/vipir2015/014/raw/JM91J_2015014214304.RIQ\n",
      "<open file '/raid/VIPIR/vipir2015/014/raw/JM91J_2015014214304.RIQ', mode 'rb' at 0x7f58374e4f60>\n",
      "/raid/VIPIR/vipir2015/014/raw/JM91J_2015014214404.RIQ\n",
      "<open file '/raid/VIPIR/vipir2015/014/raw/JM91J_2015014214404.RIQ', mode 'rb' at 0x7f5836940780>\n",
      "/raid/VIPIR/vipir2015/014/raw/JM91J_2015014214504.RIQ\n",
      "<open file '/raid/VIPIR/vipir2015/014/raw/JM91J_2015014214504.RIQ', mode 'rb' at 0x7f58374e4f60>\n",
      "/raid/VIPIR/vipir2015/014/raw/JM91J_2015014214604.RIQ\n",
      "<open file '/raid/VIPIR/vipir2015/014/raw/JM91J_2015014214604.RIQ', mode 'rb' at 0x7f58374e48a0>\n",
      "/raid/VIPIR/vipir2015/014/raw/JM91J_2015014214704.RIQ\n",
      "<open file '/raid/VIPIR/vipir2015/014/raw/JM91J_2015014214704.RIQ', mode 'rb' at 0x7f58368f6db0>\n",
      "/raid/VIPIR/vipir2015/014/raw/JM91J_2015014214804.RIQ\n",
      "<open file '/raid/VIPIR/vipir2015/014/raw/JM91J_2015014214804.RIQ', mode 'rb' at 0x7f58374e48a0>\n",
      "/raid/VIPIR/vipir2015/014/raw/JM91J_2015014214904.RIQ\n",
      "<open file '/raid/VIPIR/vipir2015/014/raw/JM91J_2015014214904.RIQ', mode 'rb' at 0x7f58374e4f60>\n",
      "/raid/VIPIR/vipir2015/014/raw/JM91J_2015014215004.RIQ\n",
      "<open file '/raid/VIPIR/vipir2015/014/raw/JM91J_2015014215004.RIQ', mode 'rb' at 0x7f5836940780>\n",
      "/raid/VIPIR/vipir2015/014/raw/JM91J_2015014215104.RIQ\n",
      "<open file '/raid/VIPIR/vipir2015/014/raw/JM91J_2015014215104.RIQ', mode 'rb' at 0x7f58374e4f60>\n",
      "/raid/VIPIR/vipir2015/014/raw/JM91J_2015014215204.RIQ\n",
      "<open file '/raid/VIPIR/vipir2015/014/raw/JM91J_2015014215204.RIQ', mode 'rb' at 0x7f58374e48a0>\n"
     ]
    },
    {
     "name": "stdout",
     "output_type": "stream",
     "text": [
      "/raid/VIPIR/vipir2015/014/raw/JM91J_2015014215304.RIQ\n",
      "<open file '/raid/VIPIR/vipir2015/014/raw/JM91J_2015014215304.RIQ', mode 'rb' at 0x7f58368f6db0>\n",
      "/raid/VIPIR/vipir2015/014/raw/JM91J_2015014215404.RIQ\n",
      "<open file '/raid/VIPIR/vipir2015/014/raw/JM91J_2015014215404.RIQ', mode 'rb' at 0x7f58374e48a0>\n",
      "/raid/VIPIR/vipir2015/014/raw/JM91J_2015014215504.RIQ\n",
      "<open file '/raid/VIPIR/vipir2015/014/raw/JM91J_2015014215504.RIQ', mode 'rb' at 0x7f58374e4f60>\n",
      "/raid/VIPIR/vipir2015/014/raw/JM91J_2015014215604.RIQ\n",
      "<open file '/raid/VIPIR/vipir2015/014/raw/JM91J_2015014215604.RIQ', mode 'rb' at 0x7f5836940780>\n",
      "/raid/VIPIR/vipir2015/014/raw/JM91J_2015014215704.RIQ\n",
      "<open file '/raid/VIPIR/vipir2015/014/raw/JM91J_2015014215704.RIQ', mode 'rb' at 0x7f58374e4f60>\n",
      "/raid/VIPIR/vipir2015/014/raw/JM91J_2015014215804.RIQ\n",
      "<open file '/raid/VIPIR/vipir2015/014/raw/JM91J_2015014215804.RIQ', mode 'rb' at 0x7f58374e48a0>\n",
      "/raid/VIPIR/vipir2015/014/raw/JM91J_2015014215904.RIQ\n",
      "<open file '/raid/VIPIR/vipir2015/014/raw/JM91J_2015014215904.RIQ', mode 'rb' at 0x7f58368f6db0>\n",
      "/raid/VIPIR/vipir2015/014/raw/JM91J_2015014220004.RIQ\n",
      "<open file '/raid/VIPIR/vipir2015/014/raw/JM91J_2015014220004.RIQ', mode 'rb' at 0x7f58374e48a0>\n",
      "/raid/VIPIR/vipir2015/014/raw/JM91J_2015014220104.RIQ\n",
      "<open file '/raid/VIPIR/vipir2015/014/raw/JM91J_2015014220104.RIQ', mode 'rb' at 0x7f58374e4f60>\n",
      "/raid/VIPIR/vipir2015/014/raw/JM91J_2015014220204.RIQ\n",
      "<open file '/raid/VIPIR/vipir2015/014/raw/JM91J_2015014220204.RIQ', mode 'rb' at 0x7f5836940780>\n",
      "/raid/VIPIR/vipir2015/014/raw/JM91J_2015014220304.RIQ\n",
      "<open file '/raid/VIPIR/vipir2015/014/raw/JM91J_2015014220304.RIQ', mode 'rb' at 0x7f58374e4f60>\n",
      "/raid/VIPIR/vipir2015/014/raw/JM91J_2015014220404.RIQ\n",
      "<open file '/raid/VIPIR/vipir2015/014/raw/JM91J_2015014220404.RIQ', mode 'rb' at 0x7f58374e48a0>\n",
      "/raid/VIPIR/vipir2015/014/raw/JM91J_2015014220504.RIQ\n",
      "<open file '/raid/VIPIR/vipir2015/014/raw/JM91J_2015014220504.RIQ', mode 'rb' at 0x7f58368f6db0>\n",
      "/raid/VIPIR/vipir2015/014/raw/JM91J_2015014220604.RIQ\n",
      "<open file '/raid/VIPIR/vipir2015/014/raw/JM91J_2015014220604.RIQ', mode 'rb' at 0x7f58374e48a0>\n",
      "/raid/VIPIR/vipir2015/014/raw/JM91J_2015014220704.RIQ\n",
      "<open file '/raid/VIPIR/vipir2015/014/raw/JM91J_2015014220704.RIQ', mode 'rb' at 0x7f58374e4f60>\n",
      "/raid/VIPIR/vipir2015/014/raw/JM91J_2015014220804.RIQ\n",
      "<open file '/raid/VIPIR/vipir2015/014/raw/JM91J_2015014220804.RIQ', mode 'rb' at 0x7f5836940780>\n",
      "/raid/VIPIR/vipir2015/014/raw/JM91J_2015014220904.RIQ\n",
      "<open file '/raid/VIPIR/vipir2015/014/raw/JM91J_2015014220904.RIQ', mode 'rb' at 0x7f58374e4f60>\n",
      "/raid/VIPIR/vipir2015/014/raw/JM91J_2015014221004.RIQ\n",
      "<open file '/raid/VIPIR/vipir2015/014/raw/JM91J_2015014221004.RIQ', mode 'rb' at 0x7f58374e48a0>\n",
      "/raid/VIPIR/vipir2015/014/raw/JM91J_2015014221104.RIQ\n",
      "<open file '/raid/VIPIR/vipir2015/014/raw/JM91J_2015014221104.RIQ', mode 'rb' at 0x7f58368f6db0>\n",
      "/raid/VIPIR/vipir2015/014/raw/JM91J_2015014221204.RIQ\n",
      "<open file '/raid/VIPIR/vipir2015/014/raw/JM91J_2015014221204.RIQ', mode 'rb' at 0x7f58374e48a0>\n",
      "/raid/VIPIR/vipir2015/014/raw/JM91J_2015014221304.RIQ\n",
      "<open file '/raid/VIPIR/vipir2015/014/raw/JM91J_2015014221304.RIQ', mode 'rb' at 0x7f58374e4f60>\n",
      "/raid/VIPIR/vipir2015/014/raw/JM91J_2015014221404.RIQ\n",
      "<open file '/raid/VIPIR/vipir2015/014/raw/JM91J_2015014221404.RIQ', mode 'rb' at 0x7f5836940780>\n",
      "/raid/VIPIR/vipir2015/014/raw/JM91J_2015014221504.RIQ\n",
      "<open file '/raid/VIPIR/vipir2015/014/raw/JM91J_2015014221504.RIQ', mode 'rb' at 0x7f58374e4f60>\n",
      "/raid/VIPIR/vipir2015/014/raw/JM91J_2015014221604.RIQ\n",
      "<open file '/raid/VIPIR/vipir2015/014/raw/JM91J_2015014221604.RIQ', mode 'rb' at 0x7f58374e48a0>\n",
      "/raid/VIPIR/vipir2015/014/raw/JM91J_2015014221704.RIQ\n",
      "<open file '/raid/VIPIR/vipir2015/014/raw/JM91J_2015014221704.RIQ', mode 'rb' at 0x7f58368f6db0>\n",
      "/raid/VIPIR/vipir2015/014/raw/JM91J_2015014221804.RIQ\n",
      "<open file '/raid/VIPIR/vipir2015/014/raw/JM91J_2015014221804.RIQ', mode 'rb' at 0x7f58374e48a0>\n",
      "/raid/VIPIR/vipir2015/014/raw/JM91J_2015014221904.RIQ\n",
      "<open file '/raid/VIPIR/vipir2015/014/raw/JM91J_2015014221904.RIQ', mode 'rb' at 0x7f58374e4f60>\n",
      "/raid/VIPIR/vipir2015/014/raw/JM91J_2015014222004.RIQ\n",
      "<open file '/raid/VIPIR/vipir2015/014/raw/JM91J_2015014222004.RIQ', mode 'rb' at 0x7f5836940780>\n",
      "/raid/VIPIR/vipir2015/014/raw/JM91J_2015014222104.RIQ\n",
      "<open file '/raid/VIPIR/vipir2015/014/raw/JM91J_2015014222104.RIQ', mode 'rb' at 0x7f58374e4f60>\n",
      "/raid/VIPIR/vipir2015/014/raw/JM91J_2015014222204.RIQ\n",
      "<open file '/raid/VIPIR/vipir2015/014/raw/JM91J_2015014222204.RIQ', mode 'rb' at 0x7f58374e48a0>\n",
      "/raid/VIPIR/vipir2015/014/raw/JM91J_2015014222304.RIQ\n",
      "<open file '/raid/VIPIR/vipir2015/014/raw/JM91J_2015014222304.RIQ', mode 'rb' at 0x7f58368f6db0>\n",
      "/raid/VIPIR/vipir2015/014/raw/JM91J_2015014222404.RIQ\n",
      "<open file '/raid/VIPIR/vipir2015/014/raw/JM91J_2015014222404.RIQ', mode 'rb' at 0x7f58374e48a0>\n",
      "/raid/VIPIR/vipir2015/014/raw/JM91J_2015014222504.RIQ\n",
      "<open file '/raid/VIPIR/vipir2015/014/raw/JM91J_2015014222504.RIQ', mode 'rb' at 0x7f58374e4f60>\n",
      "/raid/VIPIR/vipir2015/014/raw/JM91J_2015014222604.RIQ\n",
      "<open file '/raid/VIPIR/vipir2015/014/raw/JM91J_2015014222604.RIQ', mode 'rb' at 0x7f5836940780>\n",
      "/raid/VIPIR/vipir2015/014/raw/JM91J_2015014222704.RIQ\n",
      "<open file '/raid/VIPIR/vipir2015/014/raw/JM91J_2015014222704.RIQ', mode 'rb' at 0x7f58374e4f60>\n",
      "/raid/VIPIR/vipir2015/014/raw/JM91J_2015014222804.RIQ\n",
      "<open file '/raid/VIPIR/vipir2015/014/raw/JM91J_2015014222804.RIQ', mode 'rb' at 0x7f58374e48a0>\n",
      "/raid/VIPIR/vipir2015/014/raw/JM91J_2015014222904.RIQ\n",
      "<open file '/raid/VIPIR/vipir2015/014/raw/JM91J_2015014222904.RIQ', mode 'rb' at 0x7f58368f6db0>\n",
      "/raid/VIPIR/vipir2015/014/raw/JM91J_2015014223004.RIQ\n",
      "<open file '/raid/VIPIR/vipir2015/014/raw/JM91J_2015014223004.RIQ', mode 'rb' at 0x7f58374e48a0>\n",
      "/raid/VIPIR/vipir2015/014/raw/JM91J_2015014223104.RIQ\n",
      "<open file '/raid/VIPIR/vipir2015/014/raw/JM91J_2015014223104.RIQ', mode 'rb' at 0x7f58374e4f60>\n",
      "/raid/VIPIR/vipir2015/014/raw/JM91J_2015014223204.RIQ\n",
      "<open file '/raid/VIPIR/vipir2015/014/raw/JM91J_2015014223204.RIQ', mode 'rb' at 0x7f5836940780>\n",
      "/raid/VIPIR/vipir2015/014/raw/JM91J_2015014223304.RIQ\n",
      "<open file '/raid/VIPIR/vipir2015/014/raw/JM91J_2015014223304.RIQ', mode 'rb' at 0x7f58374e4f60>\n",
      "/raid/VIPIR/vipir2015/014/raw/JM91J_2015014223404.RIQ\n",
      "<open file '/raid/VIPIR/vipir2015/014/raw/JM91J_2015014223404.RIQ', mode 'rb' at 0x7f58374e48a0>\n",
      "/raid/VIPIR/vipir2015/014/raw/JM91J_2015014223504.RIQ\n",
      "<open file '/raid/VIPIR/vipir2015/014/raw/JM91J_2015014223504.RIQ', mode 'rb' at 0x7f58368f6db0>\n",
      "/raid/VIPIR/vipir2015/014/raw/JM91J_2015014223604.RIQ\n",
      "<open file '/raid/VIPIR/vipir2015/014/raw/JM91J_2015014223604.RIQ', mode 'rb' at 0x7f58374e48a0>\n",
      "/raid/VIPIR/vipir2015/014/raw/JM91J_2015014223704.RIQ\n",
      "<open file '/raid/VIPIR/vipir2015/014/raw/JM91J_2015014223704.RIQ', mode 'rb' at 0x7f58374e4f60>\n",
      "/raid/VIPIR/vipir2015/014/raw/JM91J_2015014223804.RIQ\n",
      "<open file '/raid/VIPIR/vipir2015/014/raw/JM91J_2015014223804.RIQ', mode 'rb' at 0x7f5836940780>\n",
      "/raid/VIPIR/vipir2015/014/raw/JM91J_2015014223904.RIQ\n",
      "<open file '/raid/VIPIR/vipir2015/014/raw/JM91J_2015014223904.RIQ', mode 'rb' at 0x7f58374e4f60>\n",
      "/raid/VIPIR/vipir2015/014/raw/JM91J_2015014224004.RIQ\n",
      "<open file '/raid/VIPIR/vipir2015/014/raw/JM91J_2015014224004.RIQ', mode 'rb' at 0x7f58374e48a0>\n",
      "/raid/VIPIR/vipir2015/014/raw/JM91J_2015014224104.RIQ\n",
      "<open file '/raid/VIPIR/vipir2015/014/raw/JM91J_2015014224104.RIQ', mode 'rb' at 0x7f58368f6db0>\n",
      "/raid/VIPIR/vipir2015/014/raw/JM91J_2015014224204.RIQ\n",
      "<open file '/raid/VIPIR/vipir2015/014/raw/JM91J_2015014224204.RIQ', mode 'rb' at 0x7f58374e48a0>\n",
      "/raid/VIPIR/vipir2015/014/raw/JM91J_2015014224304.RIQ\n",
      "<open file '/raid/VIPIR/vipir2015/014/raw/JM91J_2015014224304.RIQ', mode 'rb' at 0x7f58374e4f60>\n",
      "/raid/VIPIR/vipir2015/014/raw/JM91J_2015014224404.RIQ\n",
      "<open file '/raid/VIPIR/vipir2015/014/raw/JM91J_2015014224404.RIQ', mode 'rb' at 0x7f5836940780>\n",
      "/raid/VIPIR/vipir2015/014/raw/JM91J_2015014224504.RIQ\n",
      "<open file '/raid/VIPIR/vipir2015/014/raw/JM91J_2015014224504.RIQ', mode 'rb' at 0x7f58374e4f60>\n",
      "/raid/VIPIR/vipir2015/014/raw/JM91J_2015014224604.RIQ\n",
      "<open file '/raid/VIPIR/vipir2015/014/raw/JM91J_2015014224604.RIQ', mode 'rb' at 0x7f58374e48a0>\n",
      "/raid/VIPIR/vipir2015/014/raw/JM91J_2015014224704.RIQ\n",
      "<open file '/raid/VIPIR/vipir2015/014/raw/JM91J_2015014224704.RIQ', mode 'rb' at 0x7f58368f6db0>\n"
     ]
    },
    {
     "name": "stdout",
     "output_type": "stream",
     "text": [
      "/raid/VIPIR/vipir2015/014/raw/JM91J_2015014224804.RIQ\n",
      "<open file '/raid/VIPIR/vipir2015/014/raw/JM91J_2015014224804.RIQ', mode 'rb' at 0x7f58374e48a0>\n",
      "/raid/VIPIR/vipir2015/014/raw/JM91J_2015014224904.RIQ\n",
      "<open file '/raid/VIPIR/vipir2015/014/raw/JM91J_2015014224904.RIQ', mode 'rb' at 0x7f58374e4f60>\n",
      "/raid/VIPIR/vipir2015/014/raw/JM91J_2015014225004.RIQ\n",
      "<open file '/raid/VIPIR/vipir2015/014/raw/JM91J_2015014225004.RIQ', mode 'rb' at 0x7f5836940780>\n",
      "/raid/VIPIR/vipir2015/014/raw/JM91J_2015014225104.RIQ\n",
      "<open file '/raid/VIPIR/vipir2015/014/raw/JM91J_2015014225104.RIQ', mode 'rb' at 0x7f58374e4f60>\n",
      "/raid/VIPIR/vipir2015/014/raw/JM91J_2015014225204.RIQ\n",
      "<open file '/raid/VIPIR/vipir2015/014/raw/JM91J_2015014225204.RIQ', mode 'rb' at 0x7f58374e48a0>\n",
      "/raid/VIPIR/vipir2015/014/raw/JM91J_2015014225304.RIQ\n",
      "<open file '/raid/VIPIR/vipir2015/014/raw/JM91J_2015014225304.RIQ', mode 'rb' at 0x7f58368f6db0>\n",
      "/raid/VIPIR/vipir2015/014/raw/JM91J_2015014225404.RIQ\n",
      "<open file '/raid/VIPIR/vipir2015/014/raw/JM91J_2015014225404.RIQ', mode 'rb' at 0x7f58374e48a0>\n",
      "/raid/VIPIR/vipir2015/014/raw/JM91J_2015014225504.RIQ\n",
      "<open file '/raid/VIPIR/vipir2015/014/raw/JM91J_2015014225504.RIQ', mode 'rb' at 0x7f58374e4f60>\n",
      "/raid/VIPIR/vipir2015/014/raw/JM91J_2015014225604.RIQ\n",
      "<open file '/raid/VIPIR/vipir2015/014/raw/JM91J_2015014225604.RIQ', mode 'rb' at 0x7f5836940780>\n",
      "/raid/VIPIR/vipir2015/014/raw/JM91J_2015014225704.RIQ\n",
      "<open file '/raid/VIPIR/vipir2015/014/raw/JM91J_2015014225704.RIQ', mode 'rb' at 0x7f58374e4f60>\n",
      "/raid/VIPIR/vipir2015/014/raw/JM91J_2015014225804.RIQ\n",
      "<open file '/raid/VIPIR/vipir2015/014/raw/JM91J_2015014225804.RIQ', mode 'rb' at 0x7f58374e48a0>\n",
      "/raid/VIPIR/vipir2015/014/raw/JM91J_2015014225904.RIQ\n",
      "<open file '/raid/VIPIR/vipir2015/014/raw/JM91J_2015014225904.RIQ', mode 'rb' at 0x7f58368f6db0>\n",
      "/raid/VIPIR/vipir2015/014/raw/JM91J_2015014230004.RIQ\n",
      "<open file '/raid/VIPIR/vipir2015/014/raw/JM91J_2015014230004.RIQ', mode 'rb' at 0x7f58374e48a0>\n",
      "/raid/VIPIR/vipir2015/014/raw/JM91J_2015014230104.RIQ\n",
      "<open file '/raid/VIPIR/vipir2015/014/raw/JM91J_2015014230104.RIQ', mode 'rb' at 0x7f58374e4f60>\n",
      "/raid/VIPIR/vipir2015/014/raw/JM91J_2015014230204.RIQ\n",
      "<open file '/raid/VIPIR/vipir2015/014/raw/JM91J_2015014230204.RIQ', mode 'rb' at 0x7f5836940780>\n",
      "/raid/VIPIR/vipir2015/014/raw/JM91J_2015014230304.RIQ\n",
      "<open file '/raid/VIPIR/vipir2015/014/raw/JM91J_2015014230304.RIQ', mode 'rb' at 0x7f58374e4f60>\n",
      "/raid/VIPIR/vipir2015/014/raw/JM91J_2015014230404.RIQ\n",
      "<open file '/raid/VIPIR/vipir2015/014/raw/JM91J_2015014230404.RIQ', mode 'rb' at 0x7f58374e48a0>\n",
      "/raid/VIPIR/vipir2015/014/raw/JM91J_2015014230504.RIQ\n",
      "<open file '/raid/VIPIR/vipir2015/014/raw/JM91J_2015014230504.RIQ', mode 'rb' at 0x7f58368f6db0>\n",
      "/raid/VIPIR/vipir2015/014/raw/JM91J_2015014230604.RIQ\n",
      "<open file '/raid/VIPIR/vipir2015/014/raw/JM91J_2015014230604.RIQ', mode 'rb' at 0x7f58374e48a0>\n",
      "/raid/VIPIR/vipir2015/014/raw/JM91J_2015014230704.RIQ\n",
      "<open file '/raid/VIPIR/vipir2015/014/raw/JM91J_2015014230704.RIQ', mode 'rb' at 0x7f58374e4f60>\n",
      "/raid/VIPIR/vipir2015/014/raw/JM91J_2015014230804.RIQ\n",
      "<open file '/raid/VIPIR/vipir2015/014/raw/JM91J_2015014230804.RIQ', mode 'rb' at 0x7f5836940780>\n",
      "/raid/VIPIR/vipir2015/014/raw/JM91J_2015014230904.RIQ\n",
      "<open file '/raid/VIPIR/vipir2015/014/raw/JM91J_2015014230904.RIQ', mode 'rb' at 0x7f58374e4f60>\n",
      "/raid/VIPIR/vipir2015/014/raw/JM91J_2015014231004.RIQ\n",
      "<open file '/raid/VIPIR/vipir2015/014/raw/JM91J_2015014231004.RIQ', mode 'rb' at 0x7f58374e48a0>\n",
      "/raid/VIPIR/vipir2015/014/raw/JM91J_2015014231104.RIQ\n",
      "<open file '/raid/VIPIR/vipir2015/014/raw/JM91J_2015014231104.RIQ', mode 'rb' at 0x7f58368f6db0>\n",
      "/raid/VIPIR/vipir2015/014/raw/JM91J_2015014231204.RIQ\n",
      "<open file '/raid/VIPIR/vipir2015/014/raw/JM91J_2015014231204.RIQ', mode 'rb' at 0x7f58374e48a0>\n",
      "/raid/VIPIR/vipir2015/014/raw/JM91J_2015014231304.RIQ\n",
      "<open file '/raid/VIPIR/vipir2015/014/raw/JM91J_2015014231304.RIQ', mode 'rb' at 0x7f58374e4f60>\n",
      "/raid/VIPIR/vipir2015/014/raw/JM91J_2015014231404.RIQ\n",
      "<open file '/raid/VIPIR/vipir2015/014/raw/JM91J_2015014231404.RIQ', mode 'rb' at 0x7f5836940780>\n",
      "/raid/VIPIR/vipir2015/014/raw/JM91J_2015014231504.RIQ\n",
      "<open file '/raid/VIPIR/vipir2015/014/raw/JM91J_2015014231504.RIQ', mode 'rb' at 0x7f58374e4f60>\n",
      "/raid/VIPIR/vipir2015/014/raw/JM91J_2015014231604.RIQ\n",
      "<open file '/raid/VIPIR/vipir2015/014/raw/JM91J_2015014231604.RIQ', mode 'rb' at 0x7f58374e48a0>\n",
      "/raid/VIPIR/vipir2015/014/raw/JM91J_2015014231704.RIQ\n",
      "<open file '/raid/VIPIR/vipir2015/014/raw/JM91J_2015014231704.RIQ', mode 'rb' at 0x7f58368f6db0>\n",
      "/raid/VIPIR/vipir2015/014/raw/JM91J_2015014231804.RIQ\n",
      "<open file '/raid/VIPIR/vipir2015/014/raw/JM91J_2015014231804.RIQ', mode 'rb' at 0x7f58374e48a0>\n",
      "/raid/VIPIR/vipir2015/014/raw/JM91J_2015014231904.RIQ\n",
      "<open file '/raid/VIPIR/vipir2015/014/raw/JM91J_2015014231904.RIQ', mode 'rb' at 0x7f58374e4f60>\n",
      "/raid/VIPIR/vipir2015/014/raw/JM91J_2015014232004.RIQ\n",
      "<open file '/raid/VIPIR/vipir2015/014/raw/JM91J_2015014232004.RIQ', mode 'rb' at 0x7f5836940780>\n",
      "/raid/VIPIR/vipir2015/014/raw/JM91J_2015014232104.RIQ\n",
      "<open file '/raid/VIPIR/vipir2015/014/raw/JM91J_2015014232104.RIQ', mode 'rb' at 0x7f58374e4f60>\n",
      "/raid/VIPIR/vipir2015/014/raw/JM91J_2015014232204.RIQ\n",
      "<open file '/raid/VIPIR/vipir2015/014/raw/JM91J_2015014232204.RIQ', mode 'rb' at 0x7f58374e48a0>\n",
      "/raid/VIPIR/vipir2015/014/raw/JM91J_2015014232304.RIQ\n",
      "<open file '/raid/VIPIR/vipir2015/014/raw/JM91J_2015014232304.RIQ', mode 'rb' at 0x7f58368f6db0>\n",
      "/raid/VIPIR/vipir2015/014/raw/JM91J_2015014232404.RIQ\n",
      "<open file '/raid/VIPIR/vipir2015/014/raw/JM91J_2015014232404.RIQ', mode 'rb' at 0x7f58374e48a0>\n",
      "/raid/VIPIR/vipir2015/014/raw/JM91J_2015014232504.RIQ\n",
      "<open file '/raid/VIPIR/vipir2015/014/raw/JM91J_2015014232504.RIQ', mode 'rb' at 0x7f58374e4f60>\n",
      "/raid/VIPIR/vipir2015/014/raw/JM91J_2015014232604.RIQ\n",
      "<open file '/raid/VIPIR/vipir2015/014/raw/JM91J_2015014232604.RIQ', mode 'rb' at 0x7f5836940780>\n",
      "/raid/VIPIR/vipir2015/014/raw/JM91J_2015014232704.RIQ\n",
      "<open file '/raid/VIPIR/vipir2015/014/raw/JM91J_2015014232704.RIQ', mode 'rb' at 0x7f58374e4f60>\n",
      "/raid/VIPIR/vipir2015/014/raw/JM91J_2015014232804.RIQ\n",
      "<open file '/raid/VIPIR/vipir2015/014/raw/JM91J_2015014232804.RIQ', mode 'rb' at 0x7f58374e48a0>\n",
      "/raid/VIPIR/vipir2015/014/raw/JM91J_2015014232904.RIQ\n",
      "<open file '/raid/VIPIR/vipir2015/014/raw/JM91J_2015014232904.RIQ', mode 'rb' at 0x7f58368f6db0>\n",
      "/raid/VIPIR/vipir2015/014/raw/JM91J_2015014233004.RIQ\n",
      "<open file '/raid/VIPIR/vipir2015/014/raw/JM91J_2015014233004.RIQ', mode 'rb' at 0x7f58374e48a0>\n",
      "/raid/VIPIR/vipir2015/014/raw/JM91J_2015014233104.RIQ\n",
      "<open file '/raid/VIPIR/vipir2015/014/raw/JM91J_2015014233104.RIQ', mode 'rb' at 0x7f58374e4f60>\n",
      "/raid/VIPIR/vipir2015/014/raw/JM91J_2015014233204.RIQ\n",
      "<open file '/raid/VIPIR/vipir2015/014/raw/JM91J_2015014233204.RIQ', mode 'rb' at 0x7f5836940780>\n",
      "/raid/VIPIR/vipir2015/014/raw/JM91J_2015014233304.RIQ\n",
      "<open file '/raid/VIPIR/vipir2015/014/raw/JM91J_2015014233304.RIQ', mode 'rb' at 0x7f58374e4f60>\n",
      "/raid/VIPIR/vipir2015/014/raw/JM91J_2015014233404.RIQ\n",
      "<open file '/raid/VIPIR/vipir2015/014/raw/JM91J_2015014233404.RIQ', mode 'rb' at 0x7f58374e48a0>\n",
      "/raid/VIPIR/vipir2015/014/raw/JM91J_2015014233504.RIQ\n",
      "<open file '/raid/VIPIR/vipir2015/014/raw/JM91J_2015014233504.RIQ', mode 'rb' at 0x7f58368f6db0>\n",
      "/raid/VIPIR/vipir2015/014/raw/JM91J_2015014233604.RIQ\n",
      "<open file '/raid/VIPIR/vipir2015/014/raw/JM91J_2015014233604.RIQ', mode 'rb' at 0x7f58374e48a0>\n",
      "/raid/VIPIR/vipir2015/014/raw/JM91J_2015014233704.RIQ\n",
      "<open file '/raid/VIPIR/vipir2015/014/raw/JM91J_2015014233704.RIQ', mode 'rb' at 0x7f58374e4f60>\n",
      "/raid/VIPIR/vipir2015/014/raw/JM91J_2015014233804.RIQ\n",
      "<open file '/raid/VIPIR/vipir2015/014/raw/JM91J_2015014233804.RIQ', mode 'rb' at 0x7f5836940780>\n",
      "/raid/VIPIR/vipir2015/014/raw/JM91J_2015014233904.RIQ\n",
      "<open file '/raid/VIPIR/vipir2015/014/raw/JM91J_2015014233904.RIQ', mode 'rb' at 0x7f58374e4f60>\n",
      "/raid/VIPIR/vipir2015/014/raw/JM91J_2015014234004.RIQ\n",
      "<open file '/raid/VIPIR/vipir2015/014/raw/JM91J_2015014234004.RIQ', mode 'rb' at 0x7f58374e48a0>\n",
      "/raid/VIPIR/vipir2015/014/raw/JM91J_2015014234104.RIQ\n",
      "<open file '/raid/VIPIR/vipir2015/014/raw/JM91J_2015014234104.RIQ', mode 'rb' at 0x7f58368f6db0>\n",
      "/raid/VIPIR/vipir2015/014/raw/JM91J_2015014234204.RIQ\n",
      "<open file '/raid/VIPIR/vipir2015/014/raw/JM91J_2015014234204.RIQ', mode 'rb' at 0x7f58374e48a0>\n"
     ]
    },
    {
     "name": "stdout",
     "output_type": "stream",
     "text": [
      "/raid/VIPIR/vipir2015/014/raw/JM91J_2015014234304.RIQ\n",
      "<open file '/raid/VIPIR/vipir2015/014/raw/JM91J_2015014234304.RIQ', mode 'rb' at 0x7f58374e4f60>\n",
      "/raid/VIPIR/vipir2015/014/raw/JM91J_2015014234404.RIQ\n",
      "<open file '/raid/VIPIR/vipir2015/014/raw/JM91J_2015014234404.RIQ', mode 'rb' at 0x7f5836940780>\n",
      "/raid/VIPIR/vipir2015/014/raw/JM91J_2015014234504.RIQ\n",
      "<open file '/raid/VIPIR/vipir2015/014/raw/JM91J_2015014234504.RIQ', mode 'rb' at 0x7f58374e4f60>\n",
      "/raid/VIPIR/vipir2015/014/raw/JM91J_2015014234604.RIQ\n",
      "<open file '/raid/VIPIR/vipir2015/014/raw/JM91J_2015014234604.RIQ', mode 'rb' at 0x7f58374e48a0>\n",
      "/raid/VIPIR/vipir2015/014/raw/JM91J_2015014234704.RIQ\n",
      "<open file '/raid/VIPIR/vipir2015/014/raw/JM91J_2015014234704.RIQ', mode 'rb' at 0x7f58368f6db0>\n",
      "/raid/VIPIR/vipir2015/014/raw/JM91J_2015014234804.RIQ\n",
      "<open file '/raid/VIPIR/vipir2015/014/raw/JM91J_2015014234804.RIQ', mode 'rb' at 0x7f58374e48a0>\n",
      "/raid/VIPIR/vipir2015/014/raw/JM91J_2015014234904.RIQ\n",
      "<open file '/raid/VIPIR/vipir2015/014/raw/JM91J_2015014234904.RIQ', mode 'rb' at 0x7f58374e4f60>\n",
      "/raid/VIPIR/vipir2015/014/raw/JM91J_2015014235004.RIQ\n",
      "<open file '/raid/VIPIR/vipir2015/014/raw/JM91J_2015014235004.RIQ', mode 'rb' at 0x7f5836940780>\n",
      "/raid/VIPIR/vipir2015/014/raw/JM91J_2015014235104.RIQ\n",
      "<open file '/raid/VIPIR/vipir2015/014/raw/JM91J_2015014235104.RIQ', mode 'rb' at 0x7f58374e4f60>\n",
      "/raid/VIPIR/vipir2015/014/raw/JM91J_2015014235204.RIQ\n",
      "<open file '/raid/VIPIR/vipir2015/014/raw/JM91J_2015014235204.RIQ', mode 'rb' at 0x7f58374e48a0>\n",
      "/raid/VIPIR/vipir2015/014/raw/JM91J_2015014235304.RIQ\n",
      "<open file '/raid/VIPIR/vipir2015/014/raw/JM91J_2015014235304.RIQ', mode 'rb' at 0x7f58368f6db0>\n",
      "/raid/VIPIR/vipir2015/014/raw/JM91J_2015014235404.RIQ\n",
      "<open file '/raid/VIPIR/vipir2015/014/raw/JM91J_2015014235404.RIQ', mode 'rb' at 0x7f58374e48a0>\n",
      "/raid/VIPIR/vipir2015/014/raw/JM91J_2015014235504.RIQ\n",
      "<open file '/raid/VIPIR/vipir2015/014/raw/JM91J_2015014235504.RIQ', mode 'rb' at 0x7f58374e4f60>\n",
      "/raid/VIPIR/vipir2015/014/raw/JM91J_2015014235604.RIQ\n",
      "<open file '/raid/VIPIR/vipir2015/014/raw/JM91J_2015014235604.RIQ', mode 'rb' at 0x7f5836940780>\n",
      "/raid/VIPIR/vipir2015/014/raw/JM91J_2015014235704.RIQ\n",
      "<open file '/raid/VIPIR/vipir2015/014/raw/JM91J_2015014235704.RIQ', mode 'rb' at 0x7f58374e4f60>\n",
      "/raid/VIPIR/vipir2015/014/raw/JM91J_2015014235804.RIQ\n",
      "<open file '/raid/VIPIR/vipir2015/014/raw/JM91J_2015014235804.RIQ', mode 'rb' at 0x7f58374e48a0>\n",
      "/raid/VIPIR/vipir2015/014/raw/JM91J_2015014235904.RIQ\n",
      "<open file '/raid/VIPIR/vipir2015/014/raw/JM91J_2015014235904.RIQ', mode 'rb' at 0x7f58368f6db0>\n"
     ]
    },
    {
     "data": {
      "text/plain": [
       "<Figure size 1008x504 with 0 Axes>"
      ]
     },
     "metadata": {},
     "output_type": "display_data"
    },
    {
     "data": {
      "text/plain": [
       "<Figure size 1440x720 with 0 Axes>"
      ]
     },
     "metadata": {},
     "output_type": "display_data"
    },
    {
     "data": {
      "text/plain": [
       "<Figure size 1008x504 with 0 Axes>"
      ]
     },
     "metadata": {},
     "output_type": "display_data"
    },
    {
     "data": {
      "text/plain": [
       "<Figure size 1008x504 with 0 Axes>"
      ]
     },
     "metadata": {},
     "output_type": "display_data"
    },
    {
     "data": {
      "text/plain": [
       "<Figure size 1440x720 with 0 Axes>"
      ]
     },
     "metadata": {},
     "output_type": "display_data"
    },
    {
     "data": {
      "text/plain": [
       "<Figure size 1008x504 with 0 Axes>"
      ]
     },
     "metadata": {},
     "output_type": "display_data"
    },
    {
     "data": {
      "text/plain": [
       "<Figure size 1008x504 with 0 Axes>"
      ]
     },
     "metadata": {},
     "output_type": "display_data"
    },
    {
     "data": {
      "text/plain": [
       "<Figure size 1440x720 with 0 Axes>"
      ]
     },
     "metadata": {},
     "output_type": "display_data"
    },
    {
     "data": {
      "text/plain": [
       "<Figure size 1008x504 with 0 Axes>"
      ]
     },
     "metadata": {},
     "output_type": "display_data"
    },
    {
     "data": {
      "text/plain": [
       "<Figure size 1008x504 with 0 Axes>"
      ]
     },
     "metadata": {},
     "output_type": "display_data"
    },
    {
     "data": {
      "text/plain": [
       "<Figure size 1440x720 with 0 Axes>"
      ]
     },
     "metadata": {},
     "output_type": "display_data"
    },
    {
     "data": {
      "text/plain": [
       "<Figure size 1008x504 with 0 Axes>"
      ]
     },
     "metadata": {},
     "output_type": "display_data"
    },
    {
     "data": {
      "text/plain": [
       "<Figure size 1008x504 with 0 Axes>"
      ]
     },
     "metadata": {},
     "output_type": "display_data"
    },
    {
     "data": {
      "text/plain": [
       "<Figure size 1440x720 with 0 Axes>"
      ]
     },
     "metadata": {},
     "output_type": "display_data"
    },
    {
     "data": {
      "text/plain": [
       "<Figure size 1008x504 with 0 Axes>"
      ]
     },
     "metadata": {},
     "output_type": "display_data"
    },
    {
     "data": {
      "text/plain": [
       "<Figure size 1008x504 with 0 Axes>"
      ]
     },
     "metadata": {},
     "output_type": "display_data"
    },
    {
     "data": {
      "text/plain": [
       "<Figure size 1440x720 with 0 Axes>"
      ]
     },
     "metadata": {},
     "output_type": "display_data"
    },
    {
     "data": {
      "text/plain": [
       "<Figure size 1008x504 with 0 Axes>"
      ]
     },
     "metadata": {},
     "output_type": "display_data"
    },
    {
     "data": {
      "text/plain": [
       "<Figure size 1008x504 with 0 Axes>"
      ]
     },
     "metadata": {},
     "output_type": "display_data"
    },
    {
     "data": {
      "text/plain": [
       "<Figure size 1440x720 with 0 Axes>"
      ]
     },
     "metadata": {},
     "output_type": "display_data"
    },
    {
     "data": {
      "text/plain": [
       "<Figure size 1008x504 with 0 Axes>"
      ]
     },
     "metadata": {},
     "output_type": "display_data"
    },
    {
     "data": {
      "text/plain": [
       "<Figure size 1008x504 with 0 Axes>"
      ]
     },
     "metadata": {},
     "output_type": "display_data"
    },
    {
     "data": {
      "text/plain": [
       "<Figure size 1440x720 with 0 Axes>"
      ]
     },
     "metadata": {},
     "output_type": "display_data"
    },
    {
     "data": {
      "text/plain": [
       "<Figure size 1008x504 with 0 Axes>"
      ]
     },
     "metadata": {},
     "output_type": "display_data"
    },
    {
     "data": {
      "text/plain": [
       "<Figure size 1008x504 with 0 Axes>"
      ]
     },
     "metadata": {},
     "output_type": "display_data"
    },
    {
     "data": {
      "text/plain": [
       "<Figure size 1440x720 with 0 Axes>"
      ]
     },
     "metadata": {},
     "output_type": "display_data"
    },
    {
     "data": {
      "text/plain": [
       "<Figure size 1008x504 with 0 Axes>"
      ]
     },
     "metadata": {},
     "output_type": "display_data"
    },
    {
     "data": {
      "text/plain": [
       "<Figure size 1008x504 with 0 Axes>"
      ]
     },
     "metadata": {},
     "output_type": "display_data"
    },
    {
     "data": {
      "text/plain": [
       "<Figure size 1440x720 with 0 Axes>"
      ]
     },
     "metadata": {},
     "output_type": "display_data"
    },
    {
     "data": {
      "text/plain": [
       "<Figure size 1008x504 with 0 Axes>"
      ]
     },
     "metadata": {},
     "output_type": "display_data"
    },
    {
     "data": {
      "text/plain": [
       "<Figure size 1008x504 with 0 Axes>"
      ]
     },
     "metadata": {},
     "output_type": "display_data"
    },
    {
     "data": {
      "text/plain": [
       "<Figure size 1440x720 with 0 Axes>"
      ]
     },
     "metadata": {},
     "output_type": "display_data"
    },
    {
     "data": {
      "text/plain": [
       "<Figure size 1008x504 with 0 Axes>"
      ]
     },
     "metadata": {},
     "output_type": "display_data"
    },
    {
     "data": {
      "text/plain": [
       "<Figure size 1008x504 with 0 Axes>"
      ]
     },
     "metadata": {},
     "output_type": "display_data"
    },
    {
     "data": {
      "text/plain": [
       "<Figure size 1440x720 with 0 Axes>"
      ]
     },
     "metadata": {},
     "output_type": "display_data"
    },
    {
     "data": {
      "text/plain": [
       "<Figure size 1008x504 with 0 Axes>"
      ]
     },
     "metadata": {},
     "output_type": "display_data"
    },
    {
     "data": {
      "text/plain": [
       "<Figure size 1008x504 with 0 Axes>"
      ]
     },
     "metadata": {},
     "output_type": "display_data"
    },
    {
     "data": {
      "text/plain": [
       "<Figure size 1440x720 with 0 Axes>"
      ]
     },
     "metadata": {},
     "output_type": "display_data"
    },
    {
     "data": {
      "text/plain": [
       "<Figure size 1008x504 with 0 Axes>"
      ]
     },
     "metadata": {},
     "output_type": "display_data"
    },
    {
     "data": {
      "text/plain": [
       "<Figure size 1008x504 with 0 Axes>"
      ]
     },
     "metadata": {},
     "output_type": "display_data"
    },
    {
     "data": {
      "text/plain": [
       "<Figure size 1440x720 with 0 Axes>"
      ]
     },
     "metadata": {},
     "output_type": "display_data"
    },
    {
     "data": {
      "text/plain": [
       "<Figure size 1008x504 with 0 Axes>"
      ]
     },
     "metadata": {},
     "output_type": "display_data"
    },
    {
     "data": {
      "text/plain": [
       "<Figure size 1008x504 with 0 Axes>"
      ]
     },
     "metadata": {},
     "output_type": "display_data"
    },
    {
     "data": {
      "text/plain": [
       "<Figure size 1440x720 with 0 Axes>"
      ]
     },
     "metadata": {},
     "output_type": "display_data"
    },
    {
     "data": {
      "text/plain": [
       "<Figure size 1008x504 with 0 Axes>"
      ]
     },
     "metadata": {},
     "output_type": "display_data"
    },
    {
     "data": {
      "text/plain": [
       "<Figure size 1008x504 with 0 Axes>"
      ]
     },
     "metadata": {},
     "output_type": "display_data"
    },
    {
     "data": {
      "text/plain": [
       "<Figure size 1440x720 with 0 Axes>"
      ]
     },
     "metadata": {},
     "output_type": "display_data"
    },
    {
     "data": {
      "text/plain": [
       "<Figure size 1008x504 with 0 Axes>"
      ]
     },
     "metadata": {},
     "output_type": "display_data"
    },
    {
     "data": {
      "text/plain": [
       "<Figure size 1008x504 with 0 Axes>"
      ]
     },
     "metadata": {},
     "output_type": "display_data"
    },
    {
     "data": {
      "text/plain": [
       "<Figure size 1440x720 with 0 Axes>"
      ]
     },
     "metadata": {},
     "output_type": "display_data"
    },
    {
     "data": {
      "text/plain": [
       "<Figure size 1008x504 with 0 Axes>"
      ]
     },
     "metadata": {},
     "output_type": "display_data"
    },
    {
     "data": {
      "text/plain": [
       "<Figure size 1008x504 with 0 Axes>"
      ]
     },
     "metadata": {},
     "output_type": "display_data"
    },
    {
     "data": {
      "text/plain": [
       "<Figure size 1440x720 with 0 Axes>"
      ]
     },
     "metadata": {},
     "output_type": "display_data"
    },
    {
     "data": {
      "text/plain": [
       "<Figure size 1008x504 with 0 Axes>"
      ]
     },
     "metadata": {},
     "output_type": "display_data"
    },
    {
     "data": {
      "text/plain": [
       "<Figure size 1008x504 with 0 Axes>"
      ]
     },
     "metadata": {},
     "output_type": "display_data"
    },
    {
     "data": {
      "text/plain": [
       "<Figure size 1440x720 with 0 Axes>"
      ]
     },
     "metadata": {},
     "output_type": "display_data"
    },
    {
     "data": {
      "text/plain": [
       "<Figure size 1008x504 with 0 Axes>"
      ]
     },
     "metadata": {},
     "output_type": "display_data"
    },
    {
     "data": {
      "text/plain": [
       "<Figure size 1008x504 with 0 Axes>"
      ]
     },
     "metadata": {},
     "output_type": "display_data"
    },
    {
     "data": {
      "text/plain": [
       "<Figure size 1440x720 with 0 Axes>"
      ]
     },
     "metadata": {},
     "output_type": "display_data"
    },
    {
     "data": {
      "text/plain": [
       "<Figure size 1008x504 with 0 Axes>"
      ]
     },
     "metadata": {},
     "output_type": "display_data"
    },
    {
     "data": {
      "text/plain": [
       "<Figure size 1008x504 with 0 Axes>"
      ]
     },
     "metadata": {},
     "output_type": "display_data"
    },
    {
     "data": {
      "text/plain": [
       "<Figure size 1440x720 with 0 Axes>"
      ]
     },
     "metadata": {},
     "output_type": "display_data"
    },
    {
     "data": {
      "text/plain": [
       "<Figure size 1008x504 with 0 Axes>"
      ]
     },
     "metadata": {},
     "output_type": "display_data"
    },
    {
     "data": {
      "text/plain": [
       "<Figure size 1008x504 with 0 Axes>"
      ]
     },
     "metadata": {},
     "output_type": "display_data"
    },
    {
     "data": {
      "text/plain": [
       "<Figure size 1440x720 with 0 Axes>"
      ]
     },
     "metadata": {},
     "output_type": "display_data"
    },
    {
     "data": {
      "text/plain": [
       "<Figure size 1008x504 with 0 Axes>"
      ]
     },
     "metadata": {},
     "output_type": "display_data"
    },
    {
     "data": {
      "text/plain": [
       "<Figure size 1008x504 with 0 Axes>"
      ]
     },
     "metadata": {},
     "output_type": "display_data"
    },
    {
     "data": {
      "text/plain": [
       "<Figure size 1440x720 with 0 Axes>"
      ]
     },
     "metadata": {},
     "output_type": "display_data"
    },
    {
     "data": {
      "text/plain": [
       "<Figure size 1008x504 with 0 Axes>"
      ]
     },
     "metadata": {},
     "output_type": "display_data"
    },
    {
     "data": {
      "text/plain": [
       "<Figure size 1008x504 with 0 Axes>"
      ]
     },
     "metadata": {},
     "output_type": "display_data"
    },
    {
     "data": {
      "text/plain": [
       "<Figure size 1440x720 with 0 Axes>"
      ]
     },
     "metadata": {},
     "output_type": "display_data"
    },
    {
     "data": {
      "text/plain": [
       "<Figure size 1008x504 with 0 Axes>"
      ]
     },
     "metadata": {},
     "output_type": "display_data"
    },
    {
     "data": {
      "text/plain": [
       "<Figure size 1008x504 with 0 Axes>"
      ]
     },
     "metadata": {},
     "output_type": "display_data"
    },
    {
     "data": {
      "text/plain": [
       "<Figure size 1440x720 with 0 Axes>"
      ]
     },
     "metadata": {},
     "output_type": "display_data"
    },
    {
     "data": {
      "text/plain": [
       "<Figure size 1008x504 with 0 Axes>"
      ]
     },
     "metadata": {},
     "output_type": "display_data"
    },
    {
     "data": {
      "text/plain": [
       "<Figure size 1008x504 with 0 Axes>"
      ]
     },
     "metadata": {},
     "output_type": "display_data"
    },
    {
     "data": {
      "text/plain": [
       "<Figure size 1440x720 with 0 Axes>"
      ]
     },
     "metadata": {},
     "output_type": "display_data"
    },
    {
     "data": {
      "text/plain": [
       "<Figure size 1008x504 with 0 Axes>"
      ]
     },
     "metadata": {},
     "output_type": "display_data"
    },
    {
     "data": {
      "text/plain": [
       "<Figure size 1008x504 with 0 Axes>"
      ]
     },
     "metadata": {},
     "output_type": "display_data"
    },
    {
     "data": {
      "text/plain": [
       "<Figure size 1440x720 with 0 Axes>"
      ]
     },
     "metadata": {},
     "output_type": "display_data"
    },
    {
     "data": {
      "text/plain": [
       "<Figure size 1008x504 with 0 Axes>"
      ]
     },
     "metadata": {},
     "output_type": "display_data"
    },
    {
     "data": {
      "text/plain": [
       "<Figure size 1008x504 with 0 Axes>"
      ]
     },
     "metadata": {},
     "output_type": "display_data"
    },
    {
     "data": {
      "text/plain": [
       "<Figure size 1440x720 with 0 Axes>"
      ]
     },
     "metadata": {},
     "output_type": "display_data"
    },
    {
     "data": {
      "text/plain": [
       "<Figure size 1008x504 with 0 Axes>"
      ]
     },
     "metadata": {},
     "output_type": "display_data"
    },
    {
     "data": {
      "text/plain": [
       "<Figure size 1008x504 with 0 Axes>"
      ]
     },
     "metadata": {},
     "output_type": "display_data"
    },
    {
     "data": {
      "text/plain": [
       "<Figure size 1440x720 with 0 Axes>"
      ]
     },
     "metadata": {},
     "output_type": "display_data"
    },
    {
     "data": {
      "text/plain": [
       "<Figure size 1008x504 with 0 Axes>"
      ]
     },
     "metadata": {},
     "output_type": "display_data"
    },
    {
     "data": {
      "text/plain": [
       "<Figure size 1008x504 with 0 Axes>"
      ]
     },
     "metadata": {},
     "output_type": "display_data"
    },
    {
     "data": {
      "text/plain": [
       "<Figure size 1440x720 with 0 Axes>"
      ]
     },
     "metadata": {},
     "output_type": "display_data"
    },
    {
     "data": {
      "text/plain": [
       "<Figure size 1008x504 with 0 Axes>"
      ]
     },
     "metadata": {},
     "output_type": "display_data"
    },
    {
     "data": {
      "text/plain": [
       "<Figure size 1008x504 with 0 Axes>"
      ]
     },
     "metadata": {},
     "output_type": "display_data"
    },
    {
     "data": {
      "text/plain": [
       "<Figure size 1440x720 with 0 Axes>"
      ]
     },
     "metadata": {},
     "output_type": "display_data"
    },
    {
     "data": {
      "text/plain": [
       "<Figure size 1008x504 with 0 Axes>"
      ]
     },
     "metadata": {},
     "output_type": "display_data"
    },
    {
     "data": {
      "text/plain": [
       "<Figure size 1008x504 with 0 Axes>"
      ]
     },
     "metadata": {},
     "output_type": "display_data"
    },
    {
     "data": {
      "text/plain": [
       "<Figure size 1440x720 with 0 Axes>"
      ]
     },
     "metadata": {},
     "output_type": "display_data"
    },
    {
     "data": {
      "text/plain": [
       "<Figure size 1008x504 with 0 Axes>"
      ]
     },
     "metadata": {},
     "output_type": "display_data"
    },
    {
     "data": {
      "text/plain": [
       "<Figure size 1008x504 with 0 Axes>"
      ]
     },
     "metadata": {},
     "output_type": "display_data"
    },
    {
     "data": {
      "text/plain": [
       "<Figure size 1440x720 with 0 Axes>"
      ]
     },
     "metadata": {},
     "output_type": "display_data"
    },
    {
     "data": {
      "text/plain": [
       "<Figure size 1008x504 with 0 Axes>"
      ]
     },
     "metadata": {},
     "output_type": "display_data"
    },
    {
     "data": {
      "text/plain": [
       "<Figure size 1008x504 with 0 Axes>"
      ]
     },
     "metadata": {},
     "output_type": "display_data"
    },
    {
     "data": {
      "text/plain": [
       "<Figure size 1440x720 with 0 Axes>"
      ]
     },
     "metadata": {},
     "output_type": "display_data"
    },
    {
     "data": {
      "text/plain": [
       "<Figure size 1008x504 with 0 Axes>"
      ]
     },
     "metadata": {},
     "output_type": "display_data"
    },
    {
     "data": {
      "text/plain": [
       "<Figure size 1008x504 with 0 Axes>"
      ]
     },
     "metadata": {},
     "output_type": "display_data"
    },
    {
     "data": {
      "text/plain": [
       "<Figure size 1440x720 with 0 Axes>"
      ]
     },
     "metadata": {},
     "output_type": "display_data"
    },
    {
     "data": {
      "text/plain": [
       "<Figure size 1008x504 with 0 Axes>"
      ]
     },
     "metadata": {},
     "output_type": "display_data"
    },
    {
     "data": {
      "text/plain": [
       "<Figure size 1008x504 with 0 Axes>"
      ]
     },
     "metadata": {},
     "output_type": "display_data"
    },
    {
     "data": {
      "text/plain": [
       "<Figure size 1440x720 with 0 Axes>"
      ]
     },
     "metadata": {},
     "output_type": "display_data"
    },
    {
     "data": {
      "text/plain": [
       "<Figure size 1008x504 with 0 Axes>"
      ]
     },
     "metadata": {},
     "output_type": "display_data"
    },
    {
     "data": {
      "text/plain": [
       "<Figure size 1008x504 with 0 Axes>"
      ]
     },
     "metadata": {},
     "output_type": "display_data"
    },
    {
     "data": {
      "text/plain": [
       "<Figure size 1440x720 with 0 Axes>"
      ]
     },
     "metadata": {},
     "output_type": "display_data"
    },
    {
     "data": {
      "text/plain": [
       "<Figure size 1008x504 with 0 Axes>"
      ]
     },
     "metadata": {},
     "output_type": "display_data"
    },
    {
     "data": {
      "text/plain": [
       "<Figure size 1008x504 with 0 Axes>"
      ]
     },
     "metadata": {},
     "output_type": "display_data"
    },
    {
     "data": {
      "text/plain": [
       "<Figure size 1440x720 with 0 Axes>"
      ]
     },
     "metadata": {},
     "output_type": "display_data"
    },
    {
     "data": {
      "text/plain": [
       "<Figure size 1008x504 with 0 Axes>"
      ]
     },
     "metadata": {},
     "output_type": "display_data"
    },
    {
     "data": {
      "text/plain": [
       "<Figure size 1008x504 with 0 Axes>"
      ]
     },
     "metadata": {},
     "output_type": "display_data"
    },
    {
     "data": {
      "text/plain": [
       "<Figure size 1440x720 with 0 Axes>"
      ]
     },
     "metadata": {},
     "output_type": "display_data"
    },
    {
     "data": {
      "text/plain": [
       "<Figure size 1008x504 with 0 Axes>"
      ]
     },
     "metadata": {},
     "output_type": "display_data"
    },
    {
     "data": {
      "text/plain": [
       "<Figure size 1008x504 with 0 Axes>"
      ]
     },
     "metadata": {},
     "output_type": "display_data"
    },
    {
     "data": {
      "text/plain": [
       "<Figure size 1440x720 with 0 Axes>"
      ]
     },
     "metadata": {},
     "output_type": "display_data"
    },
    {
     "data": {
      "text/plain": [
       "<Figure size 1008x504 with 0 Axes>"
      ]
     },
     "metadata": {},
     "output_type": "display_data"
    },
    {
     "data": {
      "text/plain": [
       "<Figure size 1008x504 with 0 Axes>"
      ]
     },
     "metadata": {},
     "output_type": "display_data"
    },
    {
     "data": {
      "text/plain": [
       "<Figure size 1440x720 with 0 Axes>"
      ]
     },
     "metadata": {},
     "output_type": "display_data"
    },
    {
     "data": {
      "text/plain": [
       "<Figure size 1008x504 with 0 Axes>"
      ]
     },
     "metadata": {},
     "output_type": "display_data"
    },
    {
     "data": {
      "text/plain": [
       "<Figure size 1008x504 with 0 Axes>"
      ]
     },
     "metadata": {},
     "output_type": "display_data"
    },
    {
     "data": {
      "text/plain": [
       "<Figure size 1440x720 with 0 Axes>"
      ]
     },
     "metadata": {},
     "output_type": "display_data"
    },
    {
     "data": {
      "text/plain": [
       "<Figure size 1008x504 with 0 Axes>"
      ]
     },
     "metadata": {},
     "output_type": "display_data"
    },
    {
     "data": {
      "text/plain": [
       "<Figure size 1008x504 with 0 Axes>"
      ]
     },
     "metadata": {},
     "output_type": "display_data"
    },
    {
     "data": {
      "text/plain": [
       "<Figure size 1440x720 with 0 Axes>"
      ]
     },
     "metadata": {},
     "output_type": "display_data"
    },
    {
     "data": {
      "text/plain": [
       "<Figure size 1008x504 with 0 Axes>"
      ]
     },
     "metadata": {},
     "output_type": "display_data"
    },
    {
     "data": {
      "text/plain": [
       "<Figure size 1008x504 with 0 Axes>"
      ]
     },
     "metadata": {},
     "output_type": "display_data"
    },
    {
     "data": {
      "text/plain": [
       "<Figure size 1440x720 with 0 Axes>"
      ]
     },
     "metadata": {},
     "output_type": "display_data"
    },
    {
     "data": {
      "text/plain": [
       "<Figure size 1008x504 with 0 Axes>"
      ]
     },
     "metadata": {},
     "output_type": "display_data"
    },
    {
     "data": {
      "text/plain": [
       "<Figure size 1008x504 with 0 Axes>"
      ]
     },
     "metadata": {},
     "output_type": "display_data"
    },
    {
     "data": {
      "text/plain": [
       "<Figure size 1440x720 with 0 Axes>"
      ]
     },
     "metadata": {},
     "output_type": "display_data"
    },
    {
     "data": {
      "text/plain": [
       "<Figure size 1008x504 with 0 Axes>"
      ]
     },
     "metadata": {},
     "output_type": "display_data"
    },
    {
     "data": {
      "text/plain": [
       "<Figure size 1008x504 with 0 Axes>"
      ]
     },
     "metadata": {},
     "output_type": "display_data"
    },
    {
     "data": {
      "text/plain": [
       "<Figure size 1440x720 with 0 Axes>"
      ]
     },
     "metadata": {},
     "output_type": "display_data"
    },
    {
     "data": {
      "text/plain": [
       "<Figure size 1008x504 with 0 Axes>"
      ]
     },
     "metadata": {},
     "output_type": "display_data"
    },
    {
     "data": {
      "text/plain": [
       "<Figure size 1008x504 with 0 Axes>"
      ]
     },
     "metadata": {},
     "output_type": "display_data"
    },
    {
     "data": {
      "text/plain": [
       "<Figure size 1440x720 with 0 Axes>"
      ]
     },
     "metadata": {},
     "output_type": "display_data"
    },
    {
     "data": {
      "text/plain": [
       "<Figure size 1008x504 with 0 Axes>"
      ]
     },
     "metadata": {},
     "output_type": "display_data"
    },
    {
     "data": {
      "text/plain": [
       "<Figure size 1008x504 with 0 Axes>"
      ]
     },
     "metadata": {},
     "output_type": "display_data"
    },
    {
     "data": {
      "text/plain": [
       "<Figure size 1440x720 with 0 Axes>"
      ]
     },
     "metadata": {},
     "output_type": "display_data"
    },
    {
     "data": {
      "text/plain": [
       "<Figure size 1008x504 with 0 Axes>"
      ]
     },
     "metadata": {},
     "output_type": "display_data"
    },
    {
     "data": {
      "text/plain": [
       "<Figure size 1008x504 with 0 Axes>"
      ]
     },
     "metadata": {},
     "output_type": "display_data"
    },
    {
     "data": {
      "text/plain": [
       "<Figure size 1440x720 with 0 Axes>"
      ]
     },
     "metadata": {},
     "output_type": "display_data"
    },
    {
     "data": {
      "text/plain": [
       "<Figure size 1008x504 with 0 Axes>"
      ]
     },
     "metadata": {},
     "output_type": "display_data"
    },
    {
     "data": {
      "text/plain": [
       "<Figure size 1008x504 with 0 Axes>"
      ]
     },
     "metadata": {},
     "output_type": "display_data"
    },
    {
     "data": {
      "text/plain": [
       "<Figure size 1440x720 with 0 Axes>"
      ]
     },
     "metadata": {},
     "output_type": "display_data"
    },
    {
     "data": {
      "text/plain": [
       "<Figure size 1008x504 with 0 Axes>"
      ]
     },
     "metadata": {},
     "output_type": "display_data"
    },
    {
     "data": {
      "text/plain": [
       "<Figure size 1008x504 with 0 Axes>"
      ]
     },
     "metadata": {},
     "output_type": "display_data"
    },
    {
     "data": {
      "text/plain": [
       "<Figure size 1440x720 with 0 Axes>"
      ]
     },
     "metadata": {},
     "output_type": "display_data"
    },
    {
     "data": {
      "text/plain": [
       "<Figure size 1008x504 with 0 Axes>"
      ]
     },
     "metadata": {},
     "output_type": "display_data"
    },
    {
     "data": {
      "text/plain": [
       "<Figure size 1008x504 with 0 Axes>"
      ]
     },
     "metadata": {},
     "output_type": "display_data"
    },
    {
     "data": {
      "text/plain": [
       "<Figure size 1440x720 with 0 Axes>"
      ]
     },
     "metadata": {},
     "output_type": "display_data"
    },
    {
     "data": {
      "text/plain": [
       "<Figure size 1008x504 with 0 Axes>"
      ]
     },
     "metadata": {},
     "output_type": "display_data"
    },
    {
     "data": {
      "text/plain": [
       "<Figure size 1008x504 with 0 Axes>"
      ]
     },
     "metadata": {},
     "output_type": "display_data"
    },
    {
     "data": {
      "text/plain": [
       "<Figure size 1440x720 with 0 Axes>"
      ]
     },
     "metadata": {},
     "output_type": "display_data"
    },
    {
     "data": {
      "text/plain": [
       "<Figure size 1008x504 with 0 Axes>"
      ]
     },
     "metadata": {},
     "output_type": "display_data"
    },
    {
     "data": {
      "text/plain": [
       "<Figure size 1008x504 with 0 Axes>"
      ]
     },
     "metadata": {},
     "output_type": "display_data"
    },
    {
     "data": {
      "text/plain": [
       "<Figure size 1440x720 with 0 Axes>"
      ]
     },
     "metadata": {},
     "output_type": "display_data"
    },
    {
     "data": {
      "text/plain": [
       "<Figure size 1008x504 with 0 Axes>"
      ]
     },
     "metadata": {},
     "output_type": "display_data"
    },
    {
     "data": {
      "text/plain": [
       "<Figure size 1008x504 with 0 Axes>"
      ]
     },
     "metadata": {},
     "output_type": "display_data"
    },
    {
     "data": {
      "text/plain": [
       "<Figure size 1440x720 with 0 Axes>"
      ]
     },
     "metadata": {},
     "output_type": "display_data"
    },
    {
     "data": {
      "text/plain": [
       "<Figure size 1008x504 with 0 Axes>"
      ]
     },
     "metadata": {},
     "output_type": "display_data"
    },
    {
     "data": {
      "text/plain": [
       "<Figure size 1008x504 with 0 Axes>"
      ]
     },
     "metadata": {},
     "output_type": "display_data"
    },
    {
     "data": {
      "text/plain": [
       "<Figure size 1440x720 with 0 Axes>"
      ]
     },
     "metadata": {},
     "output_type": "display_data"
    },
    {
     "data": {
      "text/plain": [
       "<Figure size 1008x504 with 0 Axes>"
      ]
     },
     "metadata": {},
     "output_type": "display_data"
    },
    {
     "data": {
      "text/plain": [
       "<Figure size 1008x504 with 0 Axes>"
      ]
     },
     "metadata": {},
     "output_type": "display_data"
    },
    {
     "data": {
      "text/plain": [
       "<Figure size 1440x720 with 0 Axes>"
      ]
     },
     "metadata": {},
     "output_type": "display_data"
    },
    {
     "data": {
      "text/plain": [
       "<Figure size 1008x504 with 0 Axes>"
      ]
     },
     "metadata": {},
     "output_type": "display_data"
    },
    {
     "data": {
      "text/plain": [
       "<Figure size 1008x504 with 0 Axes>"
      ]
     },
     "metadata": {},
     "output_type": "display_data"
    },
    {
     "data": {
      "text/plain": [
       "<Figure size 1440x720 with 0 Axes>"
      ]
     },
     "metadata": {},
     "output_type": "display_data"
    },
    {
     "data": {
      "text/plain": [
       "<Figure size 1008x504 with 0 Axes>"
      ]
     },
     "metadata": {},
     "output_type": "display_data"
    },
    {
     "data": {
      "text/plain": [
       "<Figure size 1008x504 with 0 Axes>"
      ]
     },
     "metadata": {},
     "output_type": "display_data"
    },
    {
     "data": {
      "text/plain": [
       "<Figure size 1440x720 with 0 Axes>"
      ]
     },
     "metadata": {},
     "output_type": "display_data"
    },
    {
     "data": {
      "text/plain": [
       "<Figure size 1008x504 with 0 Axes>"
      ]
     },
     "metadata": {},
     "output_type": "display_data"
    },
    {
     "data": {
      "text/plain": [
       "<Figure size 1008x504 with 0 Axes>"
      ]
     },
     "metadata": {},
     "output_type": "display_data"
    },
    {
     "data": {
      "text/plain": [
       "<Figure size 1440x720 with 0 Axes>"
      ]
     },
     "metadata": {},
     "output_type": "display_data"
    },
    {
     "data": {
      "text/plain": [
       "<Figure size 1008x504 with 0 Axes>"
      ]
     },
     "metadata": {},
     "output_type": "display_data"
    },
    {
     "data": {
      "text/plain": [
       "<Figure size 1008x504 with 0 Axes>"
      ]
     },
     "metadata": {},
     "output_type": "display_data"
    },
    {
     "data": {
      "text/plain": [
       "<Figure size 1440x720 with 0 Axes>"
      ]
     },
     "metadata": {},
     "output_type": "display_data"
    },
    {
     "data": {
      "text/plain": [
       "<Figure size 1008x504 with 0 Axes>"
      ]
     },
     "metadata": {},
     "output_type": "display_data"
    },
    {
     "data": {
      "text/plain": [
       "<Figure size 1008x504 with 0 Axes>"
      ]
     },
     "metadata": {},
     "output_type": "display_data"
    },
    {
     "data": {
      "text/plain": [
       "<Figure size 1440x720 with 0 Axes>"
      ]
     },
     "metadata": {},
     "output_type": "display_data"
    },
    {
     "data": {
      "text/plain": [
       "<Figure size 1008x504 with 0 Axes>"
      ]
     },
     "metadata": {},
     "output_type": "display_data"
    },
    {
     "data": {
      "text/plain": [
       "<Figure size 1008x504 with 0 Axes>"
      ]
     },
     "metadata": {},
     "output_type": "display_data"
    },
    {
     "data": {
      "text/plain": [
       "<Figure size 1440x720 with 0 Axes>"
      ]
     },
     "metadata": {},
     "output_type": "display_data"
    },
    {
     "data": {
      "text/plain": [
       "<Figure size 1008x504 with 0 Axes>"
      ]
     },
     "metadata": {},
     "output_type": "display_data"
    },
    {
     "data": {
      "text/plain": [
       "<Figure size 1008x504 with 0 Axes>"
      ]
     },
     "metadata": {},
     "output_type": "display_data"
    },
    {
     "data": {
      "text/plain": [
       "<Figure size 1440x720 with 0 Axes>"
      ]
     },
     "metadata": {},
     "output_type": "display_data"
    },
    {
     "data": {
      "text/plain": [
       "<Figure size 1008x504 with 0 Axes>"
      ]
     },
     "metadata": {},
     "output_type": "display_data"
    },
    {
     "data": {
      "text/plain": [
       "<Figure size 1008x504 with 0 Axes>"
      ]
     },
     "metadata": {},
     "output_type": "display_data"
    },
    {
     "data": {
      "text/plain": [
       "<Figure size 1440x720 with 0 Axes>"
      ]
     },
     "metadata": {},
     "output_type": "display_data"
    },
    {
     "data": {
      "text/plain": [
       "<Figure size 1008x504 with 0 Axes>"
      ]
     },
     "metadata": {},
     "output_type": "display_data"
    },
    {
     "data": {
      "text/plain": [
       "<Figure size 1008x504 with 0 Axes>"
      ]
     },
     "metadata": {},
     "output_type": "display_data"
    },
    {
     "data": {
      "text/plain": [
       "<Figure size 1440x720 with 0 Axes>"
      ]
     },
     "metadata": {},
     "output_type": "display_data"
    },
    {
     "data": {
      "text/plain": [
       "<Figure size 1008x504 with 0 Axes>"
      ]
     },
     "metadata": {},
     "output_type": "display_data"
    },
    {
     "data": {
      "text/plain": [
       "<Figure size 1008x504 with 0 Axes>"
      ]
     },
     "metadata": {},
     "output_type": "display_data"
    },
    {
     "data": {
      "text/plain": [
       "<Figure size 1440x720 with 0 Axes>"
      ]
     },
     "metadata": {},
     "output_type": "display_data"
    },
    {
     "data": {
      "text/plain": [
       "<Figure size 1008x504 with 0 Axes>"
      ]
     },
     "metadata": {},
     "output_type": "display_data"
    },
    {
     "data": {
      "text/plain": [
       "<Figure size 1008x504 with 0 Axes>"
      ]
     },
     "metadata": {},
     "output_type": "display_data"
    },
    {
     "data": {
      "text/plain": [
       "<Figure size 1440x720 with 0 Axes>"
      ]
     },
     "metadata": {},
     "output_type": "display_data"
    },
    {
     "data": {
      "text/plain": [
       "<Figure size 1008x504 with 0 Axes>"
      ]
     },
     "metadata": {},
     "output_type": "display_data"
    },
    {
     "data": {
      "text/plain": [
       "<Figure size 1008x504 with 0 Axes>"
      ]
     },
     "metadata": {},
     "output_type": "display_data"
    },
    {
     "data": {
      "text/plain": [
       "<Figure size 1440x720 with 0 Axes>"
      ]
     },
     "metadata": {},
     "output_type": "display_data"
    },
    {
     "data": {
      "text/plain": [
       "<Figure size 1008x504 with 0 Axes>"
      ]
     },
     "metadata": {},
     "output_type": "display_data"
    },
    {
     "data": {
      "text/plain": [
       "<Figure size 1008x504 with 0 Axes>"
      ]
     },
     "metadata": {},
     "output_type": "display_data"
    },
    {
     "data": {
      "text/plain": [
       "<Figure size 1440x720 with 0 Axes>"
      ]
     },
     "metadata": {},
     "output_type": "display_data"
    },
    {
     "data": {
      "text/plain": [
       "<Figure size 1008x504 with 0 Axes>"
      ]
     },
     "metadata": {},
     "output_type": "display_data"
    },
    {
     "data": {
      "text/plain": [
       "<Figure size 1008x504 with 0 Axes>"
      ]
     },
     "metadata": {},
     "output_type": "display_data"
    },
    {
     "data": {
      "text/plain": [
       "<Figure size 1440x720 with 0 Axes>"
      ]
     },
     "metadata": {},
     "output_type": "display_data"
    },
    {
     "data": {
      "text/plain": [
       "<Figure size 1008x504 with 0 Axes>"
      ]
     },
     "metadata": {},
     "output_type": "display_data"
    },
    {
     "data": {
      "text/plain": [
       "<Figure size 1008x504 with 0 Axes>"
      ]
     },
     "metadata": {},
     "output_type": "display_data"
    },
    {
     "data": {
      "text/plain": [
       "<Figure size 1440x720 with 0 Axes>"
      ]
     },
     "metadata": {},
     "output_type": "display_data"
    },
    {
     "data": {
      "text/plain": [
       "<Figure size 1008x504 with 0 Axes>"
      ]
     },
     "metadata": {},
     "output_type": "display_data"
    },
    {
     "data": {
      "text/plain": [
       "<Figure size 1008x504 with 0 Axes>"
      ]
     },
     "metadata": {},
     "output_type": "display_data"
    },
    {
     "data": {
      "text/plain": [
       "<Figure size 1440x720 with 0 Axes>"
      ]
     },
     "metadata": {},
     "output_type": "display_data"
    },
    {
     "data": {
      "text/plain": [
       "<Figure size 1008x504 with 0 Axes>"
      ]
     },
     "metadata": {},
     "output_type": "display_data"
    },
    {
     "data": {
      "text/plain": [
       "<Figure size 1008x504 with 0 Axes>"
      ]
     },
     "metadata": {},
     "output_type": "display_data"
    },
    {
     "data": {
      "text/plain": [
       "<Figure size 1440x720 with 0 Axes>"
      ]
     },
     "metadata": {},
     "output_type": "display_data"
    },
    {
     "data": {
      "text/plain": [
       "<Figure size 1008x504 with 0 Axes>"
      ]
     },
     "metadata": {},
     "output_type": "display_data"
    },
    {
     "data": {
      "text/plain": [
       "<Figure size 1008x504 with 0 Axes>"
      ]
     },
     "metadata": {},
     "output_type": "display_data"
    },
    {
     "data": {
      "text/plain": [
       "<Figure size 1440x720 with 0 Axes>"
      ]
     },
     "metadata": {},
     "output_type": "display_data"
    },
    {
     "data": {
      "text/plain": [
       "<Figure size 1008x504 with 0 Axes>"
      ]
     },
     "metadata": {},
     "output_type": "display_data"
    },
    {
     "data": {
      "text/plain": [
       "<Figure size 1008x504 with 0 Axes>"
      ]
     },
     "metadata": {},
     "output_type": "display_data"
    },
    {
     "data": {
      "text/plain": [
       "<Figure size 1440x720 with 0 Axes>"
      ]
     },
     "metadata": {},
     "output_type": "display_data"
    },
    {
     "data": {
      "text/plain": [
       "<Figure size 1008x504 with 0 Axes>"
      ]
     },
     "metadata": {},
     "output_type": "display_data"
    },
    {
     "data": {
      "text/plain": [
       "<Figure size 1008x504 with 0 Axes>"
      ]
     },
     "metadata": {},
     "output_type": "display_data"
    },
    {
     "data": {
      "text/plain": [
       "<Figure size 1440x720 with 0 Axes>"
      ]
     },
     "metadata": {},
     "output_type": "display_data"
    },
    {
     "data": {
      "text/plain": [
       "<Figure size 1008x504 with 0 Axes>"
      ]
     },
     "metadata": {},
     "output_type": "display_data"
    },
    {
     "data": {
      "text/plain": [
       "<Figure size 1008x504 with 0 Axes>"
      ]
     },
     "metadata": {},
     "output_type": "display_data"
    },
    {
     "data": {
      "text/plain": [
       "<Figure size 1440x720 with 0 Axes>"
      ]
     },
     "metadata": {},
     "output_type": "display_data"
    },
    {
     "data": {
      "text/plain": [
       "<Figure size 1008x504 with 0 Axes>"
      ]
     },
     "metadata": {},
     "output_type": "display_data"
    },
    {
     "data": {
      "text/plain": [
       "<Figure size 1008x504 with 0 Axes>"
      ]
     },
     "metadata": {},
     "output_type": "display_data"
    },
    {
     "data": {
      "text/plain": [
       "<Figure size 1440x720 with 0 Axes>"
      ]
     },
     "metadata": {},
     "output_type": "display_data"
    },
    {
     "data": {
      "text/plain": [
       "<Figure size 1008x504 with 0 Axes>"
      ]
     },
     "metadata": {},
     "output_type": "display_data"
    },
    {
     "data": {
      "text/plain": [
       "<Figure size 1008x504 with 0 Axes>"
      ]
     },
     "metadata": {},
     "output_type": "display_data"
    },
    {
     "data": {
      "text/plain": [
       "<Figure size 1440x720 with 0 Axes>"
      ]
     },
     "metadata": {},
     "output_type": "display_data"
    },
    {
     "data": {
      "text/plain": [
       "<Figure size 1008x504 with 0 Axes>"
      ]
     },
     "metadata": {},
     "output_type": "display_data"
    },
    {
     "data": {
      "text/plain": [
       "<Figure size 1008x504 with 0 Axes>"
      ]
     },
     "metadata": {},
     "output_type": "display_data"
    },
    {
     "data": {
      "text/plain": [
       "<Figure size 1440x720 with 0 Axes>"
      ]
     },
     "metadata": {},
     "output_type": "display_data"
    },
    {
     "data": {
      "text/plain": [
       "<Figure size 1008x504 with 0 Axes>"
      ]
     },
     "metadata": {},
     "output_type": "display_data"
    },
    {
     "data": {
      "text/plain": [
       "<Figure size 1008x504 with 0 Axes>"
      ]
     },
     "metadata": {},
     "output_type": "display_data"
    },
    {
     "data": {
      "text/plain": [
       "<Figure size 1440x720 with 0 Axes>"
      ]
     },
     "metadata": {},
     "output_type": "display_data"
    },
    {
     "data": {
      "text/plain": [
       "<Figure size 1008x504 with 0 Axes>"
      ]
     },
     "metadata": {},
     "output_type": "display_data"
    },
    {
     "data": {
      "text/plain": [
       "<Figure size 1008x504 with 0 Axes>"
      ]
     },
     "metadata": {},
     "output_type": "display_data"
    },
    {
     "data": {
      "text/plain": [
       "<Figure size 1440x720 with 0 Axes>"
      ]
     },
     "metadata": {},
     "output_type": "display_data"
    },
    {
     "data": {
      "text/plain": [
       "<Figure size 1008x504 with 0 Axes>"
      ]
     },
     "metadata": {},
     "output_type": "display_data"
    },
    {
     "data": {
      "text/plain": [
       "<Figure size 1008x504 with 0 Axes>"
      ]
     },
     "metadata": {},
     "output_type": "display_data"
    },
    {
     "data": {
      "text/plain": [
       "<Figure size 1440x720 with 0 Axes>"
      ]
     },
     "metadata": {},
     "output_type": "display_data"
    },
    {
     "data": {
      "text/plain": [
       "<Figure size 1008x504 with 0 Axes>"
      ]
     },
     "metadata": {},
     "output_type": "display_data"
    },
    {
     "data": {
      "text/plain": [
       "<Figure size 1008x504 with 0 Axes>"
      ]
     },
     "metadata": {},
     "output_type": "display_data"
    },
    {
     "data": {
      "text/plain": [
       "<Figure size 1440x720 with 0 Axes>"
      ]
     },
     "metadata": {},
     "output_type": "display_data"
    },
    {
     "data": {
      "text/plain": [
       "<Figure size 1008x504 with 0 Axes>"
      ]
     },
     "metadata": {},
     "output_type": "display_data"
    },
    {
     "data": {
      "text/plain": [
       "<Figure size 1008x504 with 0 Axes>"
      ]
     },
     "metadata": {},
     "output_type": "display_data"
    },
    {
     "data": {
      "text/plain": [
       "<Figure size 1440x720 with 0 Axes>"
      ]
     },
     "metadata": {},
     "output_type": "display_data"
    },
    {
     "data": {
      "text/plain": [
       "<Figure size 1008x504 with 0 Axes>"
      ]
     },
     "metadata": {},
     "output_type": "display_data"
    },
    {
     "data": {
      "text/plain": [
       "<Figure size 1008x504 with 0 Axes>"
      ]
     },
     "metadata": {},
     "output_type": "display_data"
    },
    {
     "data": {
      "text/plain": [
       "<Figure size 1440x720 with 0 Axes>"
      ]
     },
     "metadata": {},
     "output_type": "display_data"
    },
    {
     "data": {
      "text/plain": [
       "<Figure size 1008x504 with 0 Axes>"
      ]
     },
     "metadata": {},
     "output_type": "display_data"
    },
    {
     "data": {
      "text/plain": [
       "<Figure size 1008x504 with 0 Axes>"
      ]
     },
     "metadata": {},
     "output_type": "display_data"
    },
    {
     "data": {
      "text/plain": [
       "<Figure size 1440x720 with 0 Axes>"
      ]
     },
     "metadata": {},
     "output_type": "display_data"
    },
    {
     "data": {
      "text/plain": [
       "<Figure size 1008x504 with 0 Axes>"
      ]
     },
     "metadata": {},
     "output_type": "display_data"
    },
    {
     "data": {
      "text/plain": [
       "<Figure size 1008x504 with 0 Axes>"
      ]
     },
     "metadata": {},
     "output_type": "display_data"
    },
    {
     "data": {
      "text/plain": [
       "<Figure size 1440x720 with 0 Axes>"
      ]
     },
     "metadata": {},
     "output_type": "display_data"
    },
    {
     "data": {
      "text/plain": [
       "<Figure size 1008x504 with 0 Axes>"
      ]
     },
     "metadata": {},
     "output_type": "display_data"
    },
    {
     "data": {
      "text/plain": [
       "<Figure size 1008x504 with 0 Axes>"
      ]
     },
     "metadata": {},
     "output_type": "display_data"
    },
    {
     "data": {
      "text/plain": [
       "<Figure size 1440x720 with 0 Axes>"
      ]
     },
     "metadata": {},
     "output_type": "display_data"
    },
    {
     "data": {
      "text/plain": [
       "<Figure size 1008x504 with 0 Axes>"
      ]
     },
     "metadata": {},
     "output_type": "display_data"
    },
    {
     "data": {
      "text/plain": [
       "<Figure size 1008x504 with 0 Axes>"
      ]
     },
     "metadata": {},
     "output_type": "display_data"
    },
    {
     "data": {
      "text/plain": [
       "<Figure size 1440x720 with 0 Axes>"
      ]
     },
     "metadata": {},
     "output_type": "display_data"
    },
    {
     "data": {
      "text/plain": [
       "<Figure size 1008x504 with 0 Axes>"
      ]
     },
     "metadata": {},
     "output_type": "display_data"
    },
    {
     "data": {
      "text/plain": [
       "<Figure size 1008x504 with 0 Axes>"
      ]
     },
     "metadata": {},
     "output_type": "display_data"
    },
    {
     "data": {
      "text/plain": [
       "<Figure size 1440x720 with 0 Axes>"
      ]
     },
     "metadata": {},
     "output_type": "display_data"
    },
    {
     "data": {
      "text/plain": [
       "<Figure size 1008x504 with 0 Axes>"
      ]
     },
     "metadata": {},
     "output_type": "display_data"
    },
    {
     "data": {
      "text/plain": [
       "<Figure size 1008x504 with 0 Axes>"
      ]
     },
     "metadata": {},
     "output_type": "display_data"
    },
    {
     "data": {
      "text/plain": [
       "<Figure size 1440x720 with 0 Axes>"
      ]
     },
     "metadata": {},
     "output_type": "display_data"
    },
    {
     "data": {
      "text/plain": [
       "<Figure size 1008x504 with 0 Axes>"
      ]
     },
     "metadata": {},
     "output_type": "display_data"
    },
    {
     "data": {
      "text/plain": [
       "<Figure size 1008x504 with 0 Axes>"
      ]
     },
     "metadata": {},
     "output_type": "display_data"
    },
    {
     "data": {
      "text/plain": [
       "<Figure size 1440x720 with 0 Axes>"
      ]
     },
     "metadata": {},
     "output_type": "display_data"
    },
    {
     "data": {
      "text/plain": [
       "<Figure size 1008x504 with 0 Axes>"
      ]
     },
     "metadata": {},
     "output_type": "display_data"
    },
    {
     "data": {
      "text/plain": [
       "<Figure size 1008x504 with 0 Axes>"
      ]
     },
     "metadata": {},
     "output_type": "display_data"
    },
    {
     "data": {
      "text/plain": [
       "<Figure size 1440x720 with 0 Axes>"
      ]
     },
     "metadata": {},
     "output_type": "display_data"
    },
    {
     "data": {
      "text/plain": [
       "<Figure size 1008x504 with 0 Axes>"
      ]
     },
     "metadata": {},
     "output_type": "display_data"
    },
    {
     "data": {
      "text/plain": [
       "<Figure size 1008x504 with 0 Axes>"
      ]
     },
     "metadata": {},
     "output_type": "display_data"
    },
    {
     "data": {
      "text/plain": [
       "<Figure size 1440x720 with 0 Axes>"
      ]
     },
     "metadata": {},
     "output_type": "display_data"
    },
    {
     "data": {
      "text/plain": [
       "<Figure size 1008x504 with 0 Axes>"
      ]
     },
     "metadata": {},
     "output_type": "display_data"
    },
    {
     "data": {
      "text/plain": [
       "<Figure size 1008x504 with 0 Axes>"
      ]
     },
     "metadata": {},
     "output_type": "display_data"
    },
    {
     "data": {
      "text/plain": [
       "<Figure size 1440x720 with 0 Axes>"
      ]
     },
     "metadata": {},
     "output_type": "display_data"
    },
    {
     "data": {
      "text/plain": [
       "<Figure size 1008x504 with 0 Axes>"
      ]
     },
     "metadata": {},
     "output_type": "display_data"
    },
    {
     "data": {
      "text/plain": [
       "<Figure size 1008x504 with 0 Axes>"
      ]
     },
     "metadata": {},
     "output_type": "display_data"
    },
    {
     "data": {
      "text/plain": [
       "<Figure size 1440x720 with 0 Axes>"
      ]
     },
     "metadata": {},
     "output_type": "display_data"
    },
    {
     "data": {
      "text/plain": [
       "<Figure size 1008x504 with 0 Axes>"
      ]
     },
     "metadata": {},
     "output_type": "display_data"
    },
    {
     "data": {
      "text/plain": [
       "<Figure size 1008x504 with 0 Axes>"
      ]
     },
     "metadata": {},
     "output_type": "display_data"
    },
    {
     "data": {
      "text/plain": [
       "<Figure size 1440x720 with 0 Axes>"
      ]
     },
     "metadata": {},
     "output_type": "display_data"
    },
    {
     "data": {
      "text/plain": [
       "<Figure size 1008x504 with 0 Axes>"
      ]
     },
     "metadata": {},
     "output_type": "display_data"
    },
    {
     "data": {
      "text/plain": [
       "<Figure size 1008x504 with 0 Axes>"
      ]
     },
     "metadata": {},
     "output_type": "display_data"
    },
    {
     "data": {
      "text/plain": [
       "<Figure size 1440x720 with 0 Axes>"
      ]
     },
     "metadata": {},
     "output_type": "display_data"
    },
    {
     "data": {
      "text/plain": [
       "<Figure size 1008x504 with 0 Axes>"
      ]
     },
     "metadata": {},
     "output_type": "display_data"
    },
    {
     "data": {
      "text/plain": [
       "<Figure size 1008x504 with 0 Axes>"
      ]
     },
     "metadata": {},
     "output_type": "display_data"
    },
    {
     "data": {
      "text/plain": [
       "<Figure size 1440x720 with 0 Axes>"
      ]
     },
     "metadata": {},
     "output_type": "display_data"
    },
    {
     "data": {
      "text/plain": [
       "<Figure size 1008x504 with 0 Axes>"
      ]
     },
     "metadata": {},
     "output_type": "display_data"
    },
    {
     "data": {
      "text/plain": [
       "<Figure size 1008x504 with 0 Axes>"
      ]
     },
     "metadata": {},
     "output_type": "display_data"
    },
    {
     "data": {
      "text/plain": [
       "<Figure size 1440x720 with 0 Axes>"
      ]
     },
     "metadata": {},
     "output_type": "display_data"
    },
    {
     "data": {
      "text/plain": [
       "<Figure size 1008x504 with 0 Axes>"
      ]
     },
     "metadata": {},
     "output_type": "display_data"
    },
    {
     "data": {
      "text/plain": [
       "<Figure size 1008x504 with 0 Axes>"
      ]
     },
     "metadata": {},
     "output_type": "display_data"
    },
    {
     "data": {
      "text/plain": [
       "<Figure size 1440x720 with 0 Axes>"
      ]
     },
     "metadata": {},
     "output_type": "display_data"
    },
    {
     "data": {
      "text/plain": [
       "<Figure size 1008x504 with 0 Axes>"
      ]
     },
     "metadata": {},
     "output_type": "display_data"
    },
    {
     "data": {
      "text/plain": [
       "<Figure size 1008x504 with 0 Axes>"
      ]
     },
     "metadata": {},
     "output_type": "display_data"
    },
    {
     "data": {
      "text/plain": [
       "<Figure size 1440x720 with 0 Axes>"
      ]
     },
     "metadata": {},
     "output_type": "display_data"
    },
    {
     "data": {
      "text/plain": [
       "<Figure size 1008x504 with 0 Axes>"
      ]
     },
     "metadata": {},
     "output_type": "display_data"
    },
    {
     "data": {
      "text/plain": [
       "<Figure size 1008x504 with 0 Axes>"
      ]
     },
     "metadata": {},
     "output_type": "display_data"
    },
    {
     "data": {
      "text/plain": [
       "<Figure size 1440x720 with 0 Axes>"
      ]
     },
     "metadata": {},
     "output_type": "display_data"
    },
    {
     "data": {
      "text/plain": [
       "<Figure size 1008x504 with 0 Axes>"
      ]
     },
     "metadata": {},
     "output_type": "display_data"
    },
    {
     "data": {
      "text/plain": [
       "<Figure size 1008x504 with 0 Axes>"
      ]
     },
     "metadata": {},
     "output_type": "display_data"
    },
    {
     "data": {
      "text/plain": [
       "<Figure size 1440x720 with 0 Axes>"
      ]
     },
     "metadata": {},
     "output_type": "display_data"
    },
    {
     "data": {
      "text/plain": [
       "<Figure size 1008x504 with 0 Axes>"
      ]
     },
     "metadata": {},
     "output_type": "display_data"
    },
    {
     "data": {
      "text/plain": [
       "<Figure size 1008x504 with 0 Axes>"
      ]
     },
     "metadata": {},
     "output_type": "display_data"
    },
    {
     "data": {
      "text/plain": [
       "<Figure size 1440x720 with 0 Axes>"
      ]
     },
     "metadata": {},
     "output_type": "display_data"
    },
    {
     "data": {
      "text/plain": [
       "<Figure size 1008x504 with 0 Axes>"
      ]
     },
     "metadata": {},
     "output_type": "display_data"
    },
    {
     "data": {
      "text/plain": [
       "<Figure size 1008x504 with 0 Axes>"
      ]
     },
     "metadata": {},
     "output_type": "display_data"
    },
    {
     "data": {
      "text/plain": [
       "<Figure size 1440x720 with 0 Axes>"
      ]
     },
     "metadata": {},
     "output_type": "display_data"
    },
    {
     "data": {
      "text/plain": [
       "<Figure size 1008x504 with 0 Axes>"
      ]
     },
     "metadata": {},
     "output_type": "display_data"
    },
    {
     "data": {
      "text/plain": [
       "<Figure size 1008x504 with 0 Axes>"
      ]
     },
     "metadata": {},
     "output_type": "display_data"
    },
    {
     "data": {
      "text/plain": [
       "<Figure size 1440x720 with 0 Axes>"
      ]
     },
     "metadata": {},
     "output_type": "display_data"
    },
    {
     "data": {
      "text/plain": [
       "<Figure size 1008x504 with 0 Axes>"
      ]
     },
     "metadata": {},
     "output_type": "display_data"
    },
    {
     "data": {
      "text/plain": [
       "<Figure size 1008x504 with 0 Axes>"
      ]
     },
     "metadata": {},
     "output_type": "display_data"
    },
    {
     "data": {
      "text/plain": [
       "<Figure size 1440x720 with 0 Axes>"
      ]
     },
     "metadata": {},
     "output_type": "display_data"
    },
    {
     "data": {
      "text/plain": [
       "<Figure size 1008x504 with 0 Axes>"
      ]
     },
     "metadata": {},
     "output_type": "display_data"
    },
    {
     "data": {
      "text/plain": [
       "<Figure size 1008x504 with 0 Axes>"
      ]
     },
     "metadata": {},
     "output_type": "display_data"
    },
    {
     "data": {
      "text/plain": [
       "<Figure size 1440x720 with 0 Axes>"
      ]
     },
     "metadata": {},
     "output_type": "display_data"
    },
    {
     "data": {
      "text/plain": [
       "<Figure size 1008x504 with 0 Axes>"
      ]
     },
     "metadata": {},
     "output_type": "display_data"
    },
    {
     "data": {
      "text/plain": [
       "<Figure size 1008x504 with 0 Axes>"
      ]
     },
     "metadata": {},
     "output_type": "display_data"
    },
    {
     "data": {
      "text/plain": [
       "<Figure size 1440x720 with 0 Axes>"
      ]
     },
     "metadata": {},
     "output_type": "display_data"
    },
    {
     "data": {
      "text/plain": [
       "<Figure size 1008x504 with 0 Axes>"
      ]
     },
     "metadata": {},
     "output_type": "display_data"
    },
    {
     "data": {
      "text/plain": [
       "<Figure size 1008x504 with 0 Axes>"
      ]
     },
     "metadata": {},
     "output_type": "display_data"
    },
    {
     "data": {
      "text/plain": [
       "<Figure size 1440x720 with 0 Axes>"
      ]
     },
     "metadata": {},
     "output_type": "display_data"
    },
    {
     "data": {
      "text/plain": [
       "<Figure size 1008x504 with 0 Axes>"
      ]
     },
     "metadata": {},
     "output_type": "display_data"
    },
    {
     "data": {
      "text/plain": [
       "<Figure size 1008x504 with 0 Axes>"
      ]
     },
     "metadata": {},
     "output_type": "display_data"
    },
    {
     "data": {
      "text/plain": [
       "<Figure size 1440x720 with 0 Axes>"
      ]
     },
     "metadata": {},
     "output_type": "display_data"
    },
    {
     "data": {
      "text/plain": [
       "<Figure size 1008x504 with 0 Axes>"
      ]
     },
     "metadata": {},
     "output_type": "display_data"
    },
    {
     "data": {
      "text/plain": [
       "<Figure size 1008x504 with 0 Axes>"
      ]
     },
     "metadata": {},
     "output_type": "display_data"
    },
    {
     "data": {
      "text/plain": [
       "<Figure size 1440x720 with 0 Axes>"
      ]
     },
     "metadata": {},
     "output_type": "display_data"
    },
    {
     "data": {
      "text/plain": [
       "<Figure size 1008x504 with 0 Axes>"
      ]
     },
     "metadata": {},
     "output_type": "display_data"
    },
    {
     "data": {
      "text/plain": [
       "<Figure size 1008x504 with 0 Axes>"
      ]
     },
     "metadata": {},
     "output_type": "display_data"
    },
    {
     "data": {
      "text/plain": [
       "<Figure size 1440x720 with 0 Axes>"
      ]
     },
     "metadata": {},
     "output_type": "display_data"
    },
    {
     "data": {
      "text/plain": [
       "<Figure size 1008x504 with 0 Axes>"
      ]
     },
     "metadata": {},
     "output_type": "display_data"
    },
    {
     "data": {
      "text/plain": [
       "<Figure size 1008x504 with 0 Axes>"
      ]
     },
     "metadata": {},
     "output_type": "display_data"
    },
    {
     "data": {
      "text/plain": [
       "<Figure size 1440x720 with 0 Axes>"
      ]
     },
     "metadata": {},
     "output_type": "display_data"
    },
    {
     "data": {
      "text/plain": [
       "<Figure size 1008x504 with 0 Axes>"
      ]
     },
     "metadata": {},
     "output_type": "display_data"
    },
    {
     "data": {
      "text/plain": [
       "<Figure size 1008x504 with 0 Axes>"
      ]
     },
     "metadata": {},
     "output_type": "display_data"
    },
    {
     "data": {
      "text/plain": [
       "<Figure size 1440x720 with 0 Axes>"
      ]
     },
     "metadata": {},
     "output_type": "display_data"
    },
    {
     "data": {
      "text/plain": [
       "<Figure size 1008x504 with 0 Axes>"
      ]
     },
     "metadata": {},
     "output_type": "display_data"
    },
    {
     "data": {
      "text/plain": [
       "<Figure size 1008x504 with 0 Axes>"
      ]
     },
     "metadata": {},
     "output_type": "display_data"
    },
    {
     "data": {
      "text/plain": [
       "<Figure size 1440x720 with 0 Axes>"
      ]
     },
     "metadata": {},
     "output_type": "display_data"
    },
    {
     "data": {
      "text/plain": [
       "<Figure size 1008x504 with 0 Axes>"
      ]
     },
     "metadata": {},
     "output_type": "display_data"
    },
    {
     "data": {
      "text/plain": [
       "<Figure size 1008x504 with 0 Axes>"
      ]
     },
     "metadata": {},
     "output_type": "display_data"
    },
    {
     "data": {
      "text/plain": [
       "<Figure size 1440x720 with 0 Axes>"
      ]
     },
     "metadata": {},
     "output_type": "display_data"
    },
    {
     "data": {
      "text/plain": [
       "<Figure size 1008x504 with 0 Axes>"
      ]
     },
     "metadata": {},
     "output_type": "display_data"
    },
    {
     "data": {
      "text/plain": [
       "<Figure size 1008x504 with 0 Axes>"
      ]
     },
     "metadata": {},
     "output_type": "display_data"
    },
    {
     "data": {
      "text/plain": [
       "<Figure size 1440x720 with 0 Axes>"
      ]
     },
     "metadata": {},
     "output_type": "display_data"
    },
    {
     "data": {
      "text/plain": [
       "<Figure size 1008x504 with 0 Axes>"
      ]
     },
     "metadata": {},
     "output_type": "display_data"
    },
    {
     "data": {
      "text/plain": [
       "<Figure size 1008x504 with 0 Axes>"
      ]
     },
     "metadata": {},
     "output_type": "display_data"
    },
    {
     "data": {
      "text/plain": [
       "<Figure size 1440x720 with 0 Axes>"
      ]
     },
     "metadata": {},
     "output_type": "display_data"
    },
    {
     "data": {
      "text/plain": [
       "<Figure size 1008x504 with 0 Axes>"
      ]
     },
     "metadata": {},
     "output_type": "display_data"
    },
    {
     "data": {
      "text/plain": [
       "<Figure size 1008x504 with 0 Axes>"
      ]
     },
     "metadata": {},
     "output_type": "display_data"
    },
    {
     "data": {
      "text/plain": [
       "<Figure size 1440x720 with 0 Axes>"
      ]
     },
     "metadata": {},
     "output_type": "display_data"
    },
    {
     "data": {
      "text/plain": [
       "<Figure size 1008x504 with 0 Axes>"
      ]
     },
     "metadata": {},
     "output_type": "display_data"
    },
    {
     "data": {
      "text/plain": [
       "<Figure size 1008x504 with 0 Axes>"
      ]
     },
     "metadata": {},
     "output_type": "display_data"
    },
    {
     "data": {
      "text/plain": [
       "<Figure size 1440x720 with 0 Axes>"
      ]
     },
     "metadata": {},
     "output_type": "display_data"
    },
    {
     "data": {
      "text/plain": [
       "<Figure size 1008x504 with 0 Axes>"
      ]
     },
     "metadata": {},
     "output_type": "display_data"
    },
    {
     "data": {
      "text/plain": [
       "<Figure size 1008x504 with 0 Axes>"
      ]
     },
     "metadata": {},
     "output_type": "display_data"
    },
    {
     "data": {
      "text/plain": [
       "<Figure size 1440x720 with 0 Axes>"
      ]
     },
     "metadata": {},
     "output_type": "display_data"
    },
    {
     "data": {
      "text/plain": [
       "<Figure size 1008x504 with 0 Axes>"
      ]
     },
     "metadata": {},
     "output_type": "display_data"
    },
    {
     "data": {
      "text/plain": [
       "<Figure size 1008x504 with 0 Axes>"
      ]
     },
     "metadata": {},
     "output_type": "display_data"
    },
    {
     "data": {
      "text/plain": [
       "<Figure size 1440x720 with 0 Axes>"
      ]
     },
     "metadata": {},
     "output_type": "display_data"
    },
    {
     "data": {
      "text/plain": [
       "<Figure size 1008x504 with 0 Axes>"
      ]
     },
     "metadata": {},
     "output_type": "display_data"
    },
    {
     "data": {
      "text/plain": [
       "<Figure size 1008x504 with 0 Axes>"
      ]
     },
     "metadata": {},
     "output_type": "display_data"
    },
    {
     "data": {
      "text/plain": [
       "<Figure size 1440x720 with 0 Axes>"
      ]
     },
     "metadata": {},
     "output_type": "display_data"
    },
    {
     "data": {
      "text/plain": [
       "<Figure size 1008x504 with 0 Axes>"
      ]
     },
     "metadata": {},
     "output_type": "display_data"
    },
    {
     "data": {
      "text/plain": [
       "<Figure size 1008x504 with 0 Axes>"
      ]
     },
     "metadata": {},
     "output_type": "display_data"
    },
    {
     "data": {
      "text/plain": [
       "<Figure size 1440x720 with 0 Axes>"
      ]
     },
     "metadata": {},
     "output_type": "display_data"
    },
    {
     "data": {
      "text/plain": [
       "<Figure size 1008x504 with 0 Axes>"
      ]
     },
     "metadata": {},
     "output_type": "display_data"
    },
    {
     "data": {
      "text/plain": [
       "<Figure size 1008x504 with 0 Axes>"
      ]
     },
     "metadata": {},
     "output_type": "display_data"
    },
    {
     "data": {
      "text/plain": [
       "<Figure size 1440x720 with 0 Axes>"
      ]
     },
     "metadata": {},
     "output_type": "display_data"
    },
    {
     "data": {
      "text/plain": [
       "<Figure size 1008x504 with 0 Axes>"
      ]
     },
     "metadata": {},
     "output_type": "display_data"
    },
    {
     "data": {
      "text/plain": [
       "<Figure size 1008x504 with 0 Axes>"
      ]
     },
     "metadata": {},
     "output_type": "display_data"
    },
    {
     "data": {
      "text/plain": [
       "<Figure size 1440x720 with 0 Axes>"
      ]
     },
     "metadata": {},
     "output_type": "display_data"
    },
    {
     "data": {
      "text/plain": [
       "<Figure size 1008x504 with 0 Axes>"
      ]
     },
     "metadata": {},
     "output_type": "display_data"
    },
    {
     "data": {
      "text/plain": [
       "<Figure size 1008x504 with 0 Axes>"
      ]
     },
     "metadata": {},
     "output_type": "display_data"
    },
    {
     "data": {
      "text/plain": [
       "<Figure size 1440x720 with 0 Axes>"
      ]
     },
     "metadata": {},
     "output_type": "display_data"
    },
    {
     "data": {
      "text/plain": [
       "<Figure size 1008x504 with 0 Axes>"
      ]
     },
     "metadata": {},
     "output_type": "display_data"
    },
    {
     "data": {
      "text/plain": [
       "<Figure size 1008x504 with 0 Axes>"
      ]
     },
     "metadata": {},
     "output_type": "display_data"
    },
    {
     "data": {
      "text/plain": [
       "<Figure size 1440x720 with 0 Axes>"
      ]
     },
     "metadata": {},
     "output_type": "display_data"
    },
    {
     "data": {
      "text/plain": [
       "<Figure size 1008x504 with 0 Axes>"
      ]
     },
     "metadata": {},
     "output_type": "display_data"
    },
    {
     "data": {
      "text/plain": [
       "<Figure size 1008x504 with 0 Axes>"
      ]
     },
     "metadata": {},
     "output_type": "display_data"
    },
    {
     "data": {
      "text/plain": [
       "<Figure size 1440x720 with 0 Axes>"
      ]
     },
     "metadata": {},
     "output_type": "display_data"
    },
    {
     "data": {
      "text/plain": [
       "<Figure size 1008x504 with 0 Axes>"
      ]
     },
     "metadata": {},
     "output_type": "display_data"
    },
    {
     "data": {
      "text/plain": [
       "<Figure size 1008x504 with 0 Axes>"
      ]
     },
     "metadata": {},
     "output_type": "display_data"
    },
    {
     "data": {
      "text/plain": [
       "<Figure size 1440x720 with 0 Axes>"
      ]
     },
     "metadata": {},
     "output_type": "display_data"
    },
    {
     "data": {
      "text/plain": [
       "<Figure size 1008x504 with 0 Axes>"
      ]
     },
     "metadata": {},
     "output_type": "display_data"
    },
    {
     "data": {
      "text/plain": [
       "<Figure size 1008x504 with 0 Axes>"
      ]
     },
     "metadata": {},
     "output_type": "display_data"
    },
    {
     "data": {
      "text/plain": [
       "<Figure size 1440x720 with 0 Axes>"
      ]
     },
     "metadata": {},
     "output_type": "display_data"
    },
    {
     "data": {
      "text/plain": [
       "<Figure size 1008x504 with 0 Axes>"
      ]
     },
     "metadata": {},
     "output_type": "display_data"
    },
    {
     "data": {
      "text/plain": [
       "<Figure size 1008x504 with 0 Axes>"
      ]
     },
     "metadata": {},
     "output_type": "display_data"
    },
    {
     "data": {
      "text/plain": [
       "<Figure size 1440x720 with 0 Axes>"
      ]
     },
     "metadata": {},
     "output_type": "display_data"
    },
    {
     "data": {
      "text/plain": [
       "<Figure size 1008x504 with 0 Axes>"
      ]
     },
     "metadata": {},
     "output_type": "display_data"
    },
    {
     "data": {
      "text/plain": [
       "<Figure size 1008x504 with 0 Axes>"
      ]
     },
     "metadata": {},
     "output_type": "display_data"
    },
    {
     "data": {
      "text/plain": [
       "<Figure size 1440x720 with 0 Axes>"
      ]
     },
     "metadata": {},
     "output_type": "display_data"
    },
    {
     "data": {
      "text/plain": [
       "<Figure size 1008x504 with 0 Axes>"
      ]
     },
     "metadata": {},
     "output_type": "display_data"
    },
    {
     "data": {
      "text/plain": [
       "<Figure size 1008x504 with 0 Axes>"
      ]
     },
     "metadata": {},
     "output_type": "display_data"
    },
    {
     "data": {
      "text/plain": [
       "<Figure size 1440x720 with 0 Axes>"
      ]
     },
     "metadata": {},
     "output_type": "display_data"
    },
    {
     "data": {
      "text/plain": [
       "<Figure size 1008x504 with 0 Axes>"
      ]
     },
     "metadata": {},
     "output_type": "display_data"
    },
    {
     "data": {
      "text/plain": [
       "<Figure size 1008x504 with 0 Axes>"
      ]
     },
     "metadata": {},
     "output_type": "display_data"
    },
    {
     "data": {
      "text/plain": [
       "<Figure size 1440x720 with 0 Axes>"
      ]
     },
     "metadata": {},
     "output_type": "display_data"
    },
    {
     "data": {
      "text/plain": [
       "<Figure size 1008x504 with 0 Axes>"
      ]
     },
     "metadata": {},
     "output_type": "display_data"
    },
    {
     "data": {
      "text/plain": [
       "<Figure size 1008x504 with 0 Axes>"
      ]
     },
     "metadata": {},
     "output_type": "display_data"
    },
    {
     "data": {
      "text/plain": [
       "<Figure size 1440x720 with 0 Axes>"
      ]
     },
     "metadata": {},
     "output_type": "display_data"
    },
    {
     "data": {
      "text/plain": [
       "<Figure size 1008x504 with 0 Axes>"
      ]
     },
     "metadata": {},
     "output_type": "display_data"
    },
    {
     "data": {
      "text/plain": [
       "<Figure size 1008x504 with 0 Axes>"
      ]
     },
     "metadata": {},
     "output_type": "display_data"
    },
    {
     "data": {
      "text/plain": [
       "<Figure size 1440x720 with 0 Axes>"
      ]
     },
     "metadata": {},
     "output_type": "display_data"
    },
    {
     "data": {
      "text/plain": [
       "<Figure size 1008x504 with 0 Axes>"
      ]
     },
     "metadata": {},
     "output_type": "display_data"
    },
    {
     "data": {
      "text/plain": [
       "<Figure size 1008x504 with 0 Axes>"
      ]
     },
     "metadata": {},
     "output_type": "display_data"
    },
    {
     "data": {
      "text/plain": [
       "<Figure size 1440x720 with 0 Axes>"
      ]
     },
     "metadata": {},
     "output_type": "display_data"
    },
    {
     "data": {
      "text/plain": [
       "<Figure size 1008x504 with 0 Axes>"
      ]
     },
     "metadata": {},
     "output_type": "display_data"
    },
    {
     "data": {
      "text/plain": [
       "<Figure size 1008x504 with 0 Axes>"
      ]
     },
     "metadata": {},
     "output_type": "display_data"
    },
    {
     "data": {
      "text/plain": [
       "<Figure size 1440x720 with 0 Axes>"
      ]
     },
     "metadata": {},
     "output_type": "display_data"
    },
    {
     "data": {
      "text/plain": [
       "<Figure size 1008x504 with 0 Axes>"
      ]
     },
     "metadata": {},
     "output_type": "display_data"
    },
    {
     "data": {
      "text/plain": [
       "<Figure size 1008x504 with 0 Axes>"
      ]
     },
     "metadata": {},
     "output_type": "display_data"
    },
    {
     "data": {
      "text/plain": [
       "<Figure size 1440x720 with 0 Axes>"
      ]
     },
     "metadata": {},
     "output_type": "display_data"
    },
    {
     "data": {
      "text/plain": [
       "<Figure size 1008x504 with 0 Axes>"
      ]
     },
     "metadata": {},
     "output_type": "display_data"
    },
    {
     "data": {
      "text/plain": [
       "<Figure size 1008x504 with 0 Axes>"
      ]
     },
     "metadata": {},
     "output_type": "display_data"
    },
    {
     "data": {
      "text/plain": [
       "<Figure size 1440x720 with 0 Axes>"
      ]
     },
     "metadata": {},
     "output_type": "display_data"
    },
    {
     "data": {
      "text/plain": [
       "<Figure size 1008x504 with 0 Axes>"
      ]
     },
     "metadata": {},
     "output_type": "display_data"
    },
    {
     "data": {
      "text/plain": [
       "<Figure size 1008x504 with 0 Axes>"
      ]
     },
     "metadata": {},
     "output_type": "display_data"
    },
    {
     "data": {
      "text/plain": [
       "<Figure size 1440x720 with 0 Axes>"
      ]
     },
     "metadata": {},
     "output_type": "display_data"
    },
    {
     "data": {
      "text/plain": [
       "<Figure size 1008x504 with 0 Axes>"
      ]
     },
     "metadata": {},
     "output_type": "display_data"
    },
    {
     "data": {
      "text/plain": [
       "<Figure size 1008x504 with 0 Axes>"
      ]
     },
     "metadata": {},
     "output_type": "display_data"
    },
    {
     "data": {
      "text/plain": [
       "<Figure size 1440x720 with 0 Axes>"
      ]
     },
     "metadata": {},
     "output_type": "display_data"
    },
    {
     "data": {
      "text/plain": [
       "<Figure size 1008x504 with 0 Axes>"
      ]
     },
     "metadata": {},
     "output_type": "display_data"
    },
    {
     "data": {
      "text/plain": [
       "<Figure size 1008x504 with 0 Axes>"
      ]
     },
     "metadata": {},
     "output_type": "display_data"
    },
    {
     "data": {
      "text/plain": [
       "<Figure size 1440x720 with 0 Axes>"
      ]
     },
     "metadata": {},
     "output_type": "display_data"
    },
    {
     "data": {
      "text/plain": [
       "<Figure size 1008x504 with 0 Axes>"
      ]
     },
     "metadata": {},
     "output_type": "display_data"
    },
    {
     "data": {
      "text/plain": [
       "<Figure size 1008x504 with 0 Axes>"
      ]
     },
     "metadata": {},
     "output_type": "display_data"
    },
    {
     "data": {
      "text/plain": [
       "<Figure size 1440x720 with 0 Axes>"
      ]
     },
     "metadata": {},
     "output_type": "display_data"
    },
    {
     "data": {
      "text/plain": [
       "<Figure size 1008x504 with 0 Axes>"
      ]
     },
     "metadata": {},
     "output_type": "display_data"
    },
    {
     "data": {
      "text/plain": [
       "<Figure size 1008x504 with 0 Axes>"
      ]
     },
     "metadata": {},
     "output_type": "display_data"
    },
    {
     "data": {
      "text/plain": [
       "<Figure size 1440x720 with 0 Axes>"
      ]
     },
     "metadata": {},
     "output_type": "display_data"
    },
    {
     "data": {
      "text/plain": [
       "<Figure size 1008x504 with 0 Axes>"
      ]
     },
     "metadata": {},
     "output_type": "display_data"
    },
    {
     "data": {
      "text/plain": [
       "<Figure size 1008x504 with 0 Axes>"
      ]
     },
     "metadata": {},
     "output_type": "display_data"
    },
    {
     "data": {
      "text/plain": [
       "<Figure size 1440x720 with 0 Axes>"
      ]
     },
     "metadata": {},
     "output_type": "display_data"
    },
    {
     "data": {
      "text/plain": [
       "<Figure size 1008x504 with 0 Axes>"
      ]
     },
     "metadata": {},
     "output_type": "display_data"
    },
    {
     "data": {
      "text/plain": [
       "<Figure size 1008x504 with 0 Axes>"
      ]
     },
     "metadata": {},
     "output_type": "display_data"
    },
    {
     "data": {
      "text/plain": [
       "<Figure size 1440x720 with 0 Axes>"
      ]
     },
     "metadata": {},
     "output_type": "display_data"
    },
    {
     "data": {
      "text/plain": [
       "<Figure size 1008x504 with 0 Axes>"
      ]
     },
     "metadata": {},
     "output_type": "display_data"
    },
    {
     "data": {
      "text/plain": [
       "<Figure size 1008x504 with 0 Axes>"
      ]
     },
     "metadata": {},
     "output_type": "display_data"
    },
    {
     "data": {
      "text/plain": [
       "<Figure size 1440x720 with 0 Axes>"
      ]
     },
     "metadata": {},
     "output_type": "display_data"
    },
    {
     "data": {
      "text/plain": [
       "<Figure size 1008x504 with 0 Axes>"
      ]
     },
     "metadata": {},
     "output_type": "display_data"
    },
    {
     "data": {
      "text/plain": [
       "<Figure size 1008x504 with 0 Axes>"
      ]
     },
     "metadata": {},
     "output_type": "display_data"
    },
    {
     "data": {
      "text/plain": [
       "<Figure size 1440x720 with 0 Axes>"
      ]
     },
     "metadata": {},
     "output_type": "display_data"
    },
    {
     "data": {
      "text/plain": [
       "<Figure size 1008x504 with 0 Axes>"
      ]
     },
     "metadata": {},
     "output_type": "display_data"
    },
    {
     "data": {
      "text/plain": [
       "<Figure size 1008x504 with 0 Axes>"
      ]
     },
     "metadata": {},
     "output_type": "display_data"
    },
    {
     "data": {
      "text/plain": [
       "<Figure size 1440x720 with 0 Axes>"
      ]
     },
     "metadata": {},
     "output_type": "display_data"
    },
    {
     "data": {
      "text/plain": [
       "<Figure size 1008x504 with 0 Axes>"
      ]
     },
     "metadata": {},
     "output_type": "display_data"
    },
    {
     "data": {
      "text/plain": [
       "<Figure size 1008x504 with 0 Axes>"
      ]
     },
     "metadata": {},
     "output_type": "display_data"
    },
    {
     "data": {
      "text/plain": [
       "<Figure size 1440x720 with 0 Axes>"
      ]
     },
     "metadata": {},
     "output_type": "display_data"
    },
    {
     "data": {
      "text/plain": [
       "<Figure size 1008x504 with 0 Axes>"
      ]
     },
     "metadata": {},
     "output_type": "display_data"
    },
    {
     "data": {
      "text/plain": [
       "<Figure size 1008x504 with 0 Axes>"
      ]
     },
     "metadata": {},
     "output_type": "display_data"
    },
    {
     "data": {
      "text/plain": [
       "<Figure size 1440x720 with 0 Axes>"
      ]
     },
     "metadata": {},
     "output_type": "display_data"
    },
    {
     "data": {
      "text/plain": [
       "<Figure size 1008x504 with 0 Axes>"
      ]
     },
     "metadata": {},
     "output_type": "display_data"
    },
    {
     "data": {
      "text/plain": [
       "<Figure size 1008x504 with 0 Axes>"
      ]
     },
     "metadata": {},
     "output_type": "display_data"
    },
    {
     "data": {
      "text/plain": [
       "<Figure size 1440x720 with 0 Axes>"
      ]
     },
     "metadata": {},
     "output_type": "display_data"
    },
    {
     "data": {
      "text/plain": [
       "<Figure size 1008x504 with 0 Axes>"
      ]
     },
     "metadata": {},
     "output_type": "display_data"
    },
    {
     "data": {
      "text/plain": [
       "<Figure size 1008x504 with 0 Axes>"
      ]
     },
     "metadata": {},
     "output_type": "display_data"
    },
    {
     "data": {
      "text/plain": [
       "<Figure size 1440x720 with 0 Axes>"
      ]
     },
     "metadata": {},
     "output_type": "display_data"
    },
    {
     "data": {
      "text/plain": [
       "<Figure size 1008x504 with 0 Axes>"
      ]
     },
     "metadata": {},
     "output_type": "display_data"
    },
    {
     "data": {
      "text/plain": [
       "<Figure size 1008x504 with 0 Axes>"
      ]
     },
     "metadata": {},
     "output_type": "display_data"
    },
    {
     "data": {
      "text/plain": [
       "<Figure size 1440x720 with 0 Axes>"
      ]
     },
     "metadata": {},
     "output_type": "display_data"
    },
    {
     "data": {
      "text/plain": [
       "<Figure size 1008x504 with 0 Axes>"
      ]
     },
     "metadata": {},
     "output_type": "display_data"
    },
    {
     "data": {
      "text/plain": [
       "<Figure size 1008x504 with 0 Axes>"
      ]
     },
     "metadata": {},
     "output_type": "display_data"
    },
    {
     "data": {
      "text/plain": [
       "<Figure size 1440x720 with 0 Axes>"
      ]
     },
     "metadata": {},
     "output_type": "display_data"
    },
    {
     "data": {
      "text/plain": [
       "<Figure size 1008x504 with 0 Axes>"
      ]
     },
     "metadata": {},
     "output_type": "display_data"
    },
    {
     "data": {
      "text/plain": [
       "<Figure size 1008x504 with 0 Axes>"
      ]
     },
     "metadata": {},
     "output_type": "display_data"
    },
    {
     "data": {
      "text/plain": [
       "<Figure size 1440x720 with 0 Axes>"
      ]
     },
     "metadata": {},
     "output_type": "display_data"
    },
    {
     "data": {
      "text/plain": [
       "<Figure size 1008x504 with 0 Axes>"
      ]
     },
     "metadata": {},
     "output_type": "display_data"
    },
    {
     "data": {
      "text/plain": [
       "<Figure size 1008x504 with 0 Axes>"
      ]
     },
     "metadata": {},
     "output_type": "display_data"
    },
    {
     "data": {
      "text/plain": [
       "<Figure size 1440x720 with 0 Axes>"
      ]
     },
     "metadata": {},
     "output_type": "display_data"
    },
    {
     "data": {
      "text/plain": [
       "<Figure size 1008x504 with 0 Axes>"
      ]
     },
     "metadata": {},
     "output_type": "display_data"
    },
    {
     "data": {
      "text/plain": [
       "<Figure size 1008x504 with 0 Axes>"
      ]
     },
     "metadata": {},
     "output_type": "display_data"
    },
    {
     "data": {
      "text/plain": [
       "<Figure size 1440x720 with 0 Axes>"
      ]
     },
     "metadata": {},
     "output_type": "display_data"
    },
    {
     "data": {
      "text/plain": [
       "<Figure size 1008x504 with 0 Axes>"
      ]
     },
     "metadata": {},
     "output_type": "display_data"
    },
    {
     "data": {
      "text/plain": [
       "<Figure size 1008x504 with 0 Axes>"
      ]
     },
     "metadata": {},
     "output_type": "display_data"
    },
    {
     "data": {
      "text/plain": [
       "<Figure size 1440x720 with 0 Axes>"
      ]
     },
     "metadata": {},
     "output_type": "display_data"
    },
    {
     "data": {
      "text/plain": [
       "<Figure size 1008x504 with 0 Axes>"
      ]
     },
     "metadata": {},
     "output_type": "display_data"
    },
    {
     "data": {
      "text/plain": [
       "<Figure size 1008x504 with 0 Axes>"
      ]
     },
     "metadata": {},
     "output_type": "display_data"
    },
    {
     "data": {
      "text/plain": [
       "<Figure size 1440x720 with 0 Axes>"
      ]
     },
     "metadata": {},
     "output_type": "display_data"
    },
    {
     "data": {
      "text/plain": [
       "<Figure size 1008x504 with 0 Axes>"
      ]
     },
     "metadata": {},
     "output_type": "display_data"
    },
    {
     "data": {
      "text/plain": [
       "<Figure size 1008x504 with 0 Axes>"
      ]
     },
     "metadata": {},
     "output_type": "display_data"
    },
    {
     "data": {
      "text/plain": [
       "<Figure size 1440x720 with 0 Axes>"
      ]
     },
     "metadata": {},
     "output_type": "display_data"
    },
    {
     "data": {
      "text/plain": [
       "<Figure size 1008x504 with 0 Axes>"
      ]
     },
     "metadata": {},
     "output_type": "display_data"
    },
    {
     "data": {
      "text/plain": [
       "<Figure size 1008x504 with 0 Axes>"
      ]
     },
     "metadata": {},
     "output_type": "display_data"
    },
    {
     "data": {
      "text/plain": [
       "<Figure size 1440x720 with 0 Axes>"
      ]
     },
     "metadata": {},
     "output_type": "display_data"
    },
    {
     "data": {
      "text/plain": [
       "<Figure size 1008x504 with 0 Axes>"
      ]
     },
     "metadata": {},
     "output_type": "display_data"
    },
    {
     "data": {
      "text/plain": [
       "<Figure size 1008x504 with 0 Axes>"
      ]
     },
     "metadata": {},
     "output_type": "display_data"
    },
    {
     "data": {
      "text/plain": [
       "<Figure size 1440x720 with 0 Axes>"
      ]
     },
     "metadata": {},
     "output_type": "display_data"
    },
    {
     "data": {
      "text/plain": [
       "<Figure size 1008x504 with 0 Axes>"
      ]
     },
     "metadata": {},
     "output_type": "display_data"
    },
    {
     "data": {
      "text/plain": [
       "<Figure size 1008x504 with 0 Axes>"
      ]
     },
     "metadata": {},
     "output_type": "display_data"
    },
    {
     "data": {
      "text/plain": [
       "<Figure size 1440x720 with 0 Axes>"
      ]
     },
     "metadata": {},
     "output_type": "display_data"
    },
    {
     "data": {
      "text/plain": [
       "<Figure size 1008x504 with 0 Axes>"
      ]
     },
     "metadata": {},
     "output_type": "display_data"
    },
    {
     "data": {
      "text/plain": [
       "<Figure size 1008x504 with 0 Axes>"
      ]
     },
     "metadata": {},
     "output_type": "display_data"
    },
    {
     "data": {
      "text/plain": [
       "<Figure size 1440x720 with 0 Axes>"
      ]
     },
     "metadata": {},
     "output_type": "display_data"
    },
    {
     "data": {
      "text/plain": [
       "<Figure size 1008x504 with 0 Axes>"
      ]
     },
     "metadata": {},
     "output_type": "display_data"
    },
    {
     "data": {
      "text/plain": [
       "<Figure size 1008x504 with 0 Axes>"
      ]
     },
     "metadata": {},
     "output_type": "display_data"
    },
    {
     "data": {
      "text/plain": [
       "<Figure size 1440x720 with 0 Axes>"
      ]
     },
     "metadata": {},
     "output_type": "display_data"
    },
    {
     "data": {
      "text/plain": [
       "<Figure size 1008x504 with 0 Axes>"
      ]
     },
     "metadata": {},
     "output_type": "display_data"
    },
    {
     "data": {
      "text/plain": [
       "<Figure size 1008x504 with 0 Axes>"
      ]
     },
     "metadata": {},
     "output_type": "display_data"
    },
    {
     "data": {
      "text/plain": [
       "<Figure size 1440x720 with 0 Axes>"
      ]
     },
     "metadata": {},
     "output_type": "display_data"
    },
    {
     "data": {
      "text/plain": [
       "<Figure size 1008x504 with 0 Axes>"
      ]
     },
     "metadata": {},
     "output_type": "display_data"
    },
    {
     "data": {
      "text/plain": [
       "<Figure size 1008x504 with 0 Axes>"
      ]
     },
     "metadata": {},
     "output_type": "display_data"
    },
    {
     "data": {
      "text/plain": [
       "<Figure size 1440x720 with 0 Axes>"
      ]
     },
     "metadata": {},
     "output_type": "display_data"
    },
    {
     "data": {
      "text/plain": [
       "<Figure size 1008x504 with 0 Axes>"
      ]
     },
     "metadata": {},
     "output_type": "display_data"
    },
    {
     "data": {
      "text/plain": [
       "<Figure size 1008x504 with 0 Axes>"
      ]
     },
     "metadata": {},
     "output_type": "display_data"
    },
    {
     "data": {
      "text/plain": [
       "<Figure size 1440x720 with 0 Axes>"
      ]
     },
     "metadata": {},
     "output_type": "display_data"
    },
    {
     "data": {
      "text/plain": [
       "<Figure size 1008x504 with 0 Axes>"
      ]
     },
     "metadata": {},
     "output_type": "display_data"
    },
    {
     "data": {
      "text/plain": [
       "<Figure size 1008x504 with 0 Axes>"
      ]
     },
     "metadata": {},
     "output_type": "display_data"
    },
    {
     "data": {
      "text/plain": [
       "<Figure size 1440x720 with 0 Axes>"
      ]
     },
     "metadata": {},
     "output_type": "display_data"
    },
    {
     "data": {
      "text/plain": [
       "<Figure size 1008x504 with 0 Axes>"
      ]
     },
     "metadata": {},
     "output_type": "display_data"
    },
    {
     "data": {
      "text/plain": [
       "<Figure size 1008x504 with 0 Axes>"
      ]
     },
     "metadata": {},
     "output_type": "display_data"
    },
    {
     "data": {
      "text/plain": [
       "<Figure size 1440x720 with 0 Axes>"
      ]
     },
     "metadata": {},
     "output_type": "display_data"
    },
    {
     "data": {
      "text/plain": [
       "<Figure size 1008x504 with 0 Axes>"
      ]
     },
     "metadata": {},
     "output_type": "display_data"
    },
    {
     "data": {
      "text/plain": [
       "<Figure size 1008x504 with 0 Axes>"
      ]
     },
     "metadata": {},
     "output_type": "display_data"
    },
    {
     "data": {
      "text/plain": [
       "<Figure size 1440x720 with 0 Axes>"
      ]
     },
     "metadata": {},
     "output_type": "display_data"
    },
    {
     "data": {
      "text/plain": [
       "<Figure size 1008x504 with 0 Axes>"
      ]
     },
     "metadata": {},
     "output_type": "display_data"
    },
    {
     "data": {
      "text/plain": [
       "<Figure size 1008x504 with 0 Axes>"
      ]
     },
     "metadata": {},
     "output_type": "display_data"
    },
    {
     "data": {
      "text/plain": [
       "<Figure size 1440x720 with 0 Axes>"
      ]
     },
     "metadata": {},
     "output_type": "display_data"
    },
    {
     "data": {
      "text/plain": [
       "<Figure size 1008x504 with 0 Axes>"
      ]
     },
     "metadata": {},
     "output_type": "display_data"
    },
    {
     "data": {
      "text/plain": [
       "<Figure size 1008x504 with 0 Axes>"
      ]
     },
     "metadata": {},
     "output_type": "display_data"
    },
    {
     "data": {
      "text/plain": [
       "<Figure size 1440x720 with 0 Axes>"
      ]
     },
     "metadata": {},
     "output_type": "display_data"
    },
    {
     "data": {
      "text/plain": [
       "<Figure size 1008x504 with 0 Axes>"
      ]
     },
     "metadata": {},
     "output_type": "display_data"
    },
    {
     "data": {
      "text/plain": [
       "<Figure size 1008x504 with 0 Axes>"
      ]
     },
     "metadata": {},
     "output_type": "display_data"
    },
    {
     "data": {
      "text/plain": [
       "<Figure size 1440x720 with 0 Axes>"
      ]
     },
     "metadata": {},
     "output_type": "display_data"
    },
    {
     "data": {
      "text/plain": [
       "<Figure size 1008x504 with 0 Axes>"
      ]
     },
     "metadata": {},
     "output_type": "display_data"
    },
    {
     "data": {
      "text/plain": [
       "<Figure size 1008x504 with 0 Axes>"
      ]
     },
     "metadata": {},
     "output_type": "display_data"
    },
    {
     "data": {
      "text/plain": [
       "<Figure size 1440x720 with 0 Axes>"
      ]
     },
     "metadata": {},
     "output_type": "display_data"
    },
    {
     "data": {
      "text/plain": [
       "<Figure size 1008x504 with 0 Axes>"
      ]
     },
     "metadata": {},
     "output_type": "display_data"
    },
    {
     "data": {
      "text/plain": [
       "<Figure size 1008x504 with 0 Axes>"
      ]
     },
     "metadata": {},
     "output_type": "display_data"
    },
    {
     "data": {
      "text/plain": [
       "<Figure size 1440x720 with 0 Axes>"
      ]
     },
     "metadata": {},
     "output_type": "display_data"
    },
    {
     "data": {
      "text/plain": [
       "<Figure size 1008x504 with 0 Axes>"
      ]
     },
     "metadata": {},
     "output_type": "display_data"
    },
    {
     "data": {
      "text/plain": [
       "<Figure size 1008x504 with 0 Axes>"
      ]
     },
     "metadata": {},
     "output_type": "display_data"
    },
    {
     "data": {
      "text/plain": [
       "<Figure size 1440x720 with 0 Axes>"
      ]
     },
     "metadata": {},
     "output_type": "display_data"
    },
    {
     "data": {
      "text/plain": [
       "<Figure size 1008x504 with 0 Axes>"
      ]
     },
     "metadata": {},
     "output_type": "display_data"
    },
    {
     "data": {
      "text/plain": [
       "<Figure size 1008x504 with 0 Axes>"
      ]
     },
     "metadata": {},
     "output_type": "display_data"
    },
    {
     "data": {
      "text/plain": [
       "<Figure size 1440x720 with 0 Axes>"
      ]
     },
     "metadata": {},
     "output_type": "display_data"
    },
    {
     "data": {
      "text/plain": [
       "<Figure size 1008x504 with 0 Axes>"
      ]
     },
     "metadata": {},
     "output_type": "display_data"
    },
    {
     "data": {
      "text/plain": [
       "<Figure size 1008x504 with 0 Axes>"
      ]
     },
     "metadata": {},
     "output_type": "display_data"
    },
    {
     "data": {
      "text/plain": [
       "<Figure size 1440x720 with 0 Axes>"
      ]
     },
     "metadata": {},
     "output_type": "display_data"
    },
    {
     "data": {
      "text/plain": [
       "<Figure size 1008x504 with 0 Axes>"
      ]
     },
     "metadata": {},
     "output_type": "display_data"
    },
    {
     "data": {
      "text/plain": [
       "<Figure size 1008x504 with 0 Axes>"
      ]
     },
     "metadata": {},
     "output_type": "display_data"
    },
    {
     "data": {
      "text/plain": [
       "<Figure size 1440x720 with 0 Axes>"
      ]
     },
     "metadata": {},
     "output_type": "display_data"
    },
    {
     "data": {
      "text/plain": [
       "<Figure size 1008x504 with 0 Axes>"
      ]
     },
     "metadata": {},
     "output_type": "display_data"
    },
    {
     "data": {
      "text/plain": [
       "<Figure size 1008x504 with 0 Axes>"
      ]
     },
     "metadata": {},
     "output_type": "display_data"
    },
    {
     "data": {
      "text/plain": [
       "<Figure size 1440x720 with 0 Axes>"
      ]
     },
     "metadata": {},
     "output_type": "display_data"
    },
    {
     "data": {
      "text/plain": [
       "<Figure size 1008x504 with 0 Axes>"
      ]
     },
     "metadata": {},
     "output_type": "display_data"
    },
    {
     "data": {
      "text/plain": [
       "<Figure size 1008x504 with 0 Axes>"
      ]
     },
     "metadata": {},
     "output_type": "display_data"
    },
    {
     "data": {
      "text/plain": [
       "<Figure size 1440x720 with 0 Axes>"
      ]
     },
     "metadata": {},
     "output_type": "display_data"
    },
    {
     "data": {
      "text/plain": [
       "<Figure size 1008x504 with 0 Axes>"
      ]
     },
     "metadata": {},
     "output_type": "display_data"
    },
    {
     "data": {
      "text/plain": [
       "<Figure size 1008x504 with 0 Axes>"
      ]
     },
     "metadata": {},
     "output_type": "display_data"
    },
    {
     "data": {
      "text/plain": [
       "<Figure size 1440x720 with 0 Axes>"
      ]
     },
     "metadata": {},
     "output_type": "display_data"
    },
    {
     "data": {
      "text/plain": [
       "<Figure size 1008x504 with 0 Axes>"
      ]
     },
     "metadata": {},
     "output_type": "display_data"
    },
    {
     "data": {
      "text/plain": [
       "<Figure size 1008x504 with 0 Axes>"
      ]
     },
     "metadata": {},
     "output_type": "display_data"
    },
    {
     "data": {
      "text/plain": [
       "<Figure size 1440x720 with 0 Axes>"
      ]
     },
     "metadata": {},
     "output_type": "display_data"
    },
    {
     "data": {
      "text/plain": [
       "<Figure size 1008x504 with 0 Axes>"
      ]
     },
     "metadata": {},
     "output_type": "display_data"
    },
    {
     "data": {
      "text/plain": [
       "<Figure size 1008x504 with 0 Axes>"
      ]
     },
     "metadata": {},
     "output_type": "display_data"
    },
    {
     "data": {
      "text/plain": [
       "<Figure size 1440x720 with 0 Axes>"
      ]
     },
     "metadata": {},
     "output_type": "display_data"
    },
    {
     "data": {
      "text/plain": [
       "<Figure size 1008x504 with 0 Axes>"
      ]
     },
     "metadata": {},
     "output_type": "display_data"
    },
    {
     "data": {
      "text/plain": [
       "<Figure size 1008x504 with 0 Axes>"
      ]
     },
     "metadata": {},
     "output_type": "display_data"
    },
    {
     "data": {
      "text/plain": [
       "<Figure size 1440x720 with 0 Axes>"
      ]
     },
     "metadata": {},
     "output_type": "display_data"
    },
    {
     "data": {
      "text/plain": [
       "<Figure size 1008x504 with 0 Axes>"
      ]
     },
     "metadata": {},
     "output_type": "display_data"
    },
    {
     "data": {
      "text/plain": [
       "<Figure size 1008x504 with 0 Axes>"
      ]
     },
     "metadata": {},
     "output_type": "display_data"
    },
    {
     "data": {
      "text/plain": [
       "<Figure size 1440x720 with 0 Axes>"
      ]
     },
     "metadata": {},
     "output_type": "display_data"
    },
    {
     "data": {
      "text/plain": [
       "<Figure size 1008x504 with 0 Axes>"
      ]
     },
     "metadata": {},
     "output_type": "display_data"
    },
    {
     "data": {
      "text/plain": [
       "<Figure size 1008x504 with 0 Axes>"
      ]
     },
     "metadata": {},
     "output_type": "display_data"
    },
    {
     "data": {
      "text/plain": [
       "<Figure size 1440x720 with 0 Axes>"
      ]
     },
     "metadata": {},
     "output_type": "display_data"
    },
    {
     "data": {
      "text/plain": [
       "<Figure size 1008x504 with 0 Axes>"
      ]
     },
     "metadata": {},
     "output_type": "display_data"
    },
    {
     "data": {
      "text/plain": [
       "<Figure size 1008x504 with 0 Axes>"
      ]
     },
     "metadata": {},
     "output_type": "display_data"
    },
    {
     "data": {
      "text/plain": [
       "<Figure size 1440x720 with 0 Axes>"
      ]
     },
     "metadata": {},
     "output_type": "display_data"
    },
    {
     "data": {
      "text/plain": [
       "<Figure size 1008x504 with 0 Axes>"
      ]
     },
     "metadata": {},
     "output_type": "display_data"
    },
    {
     "data": {
      "text/plain": [
       "<Figure size 1008x504 with 0 Axes>"
      ]
     },
     "metadata": {},
     "output_type": "display_data"
    },
    {
     "data": {
      "text/plain": [
       "<Figure size 1440x720 with 0 Axes>"
      ]
     },
     "metadata": {},
     "output_type": "display_data"
    },
    {
     "data": {
      "text/plain": [
       "<Figure size 1008x504 with 0 Axes>"
      ]
     },
     "metadata": {},
     "output_type": "display_data"
    },
    {
     "data": {
      "text/plain": [
       "<Figure size 1008x504 with 0 Axes>"
      ]
     },
     "metadata": {},
     "output_type": "display_data"
    },
    {
     "data": {
      "text/plain": [
       "<Figure size 1440x720 with 0 Axes>"
      ]
     },
     "metadata": {},
     "output_type": "display_data"
    },
    {
     "data": {
      "text/plain": [
       "<Figure size 1008x504 with 0 Axes>"
      ]
     },
     "metadata": {},
     "output_type": "display_data"
    },
    {
     "data": {
      "text/plain": [
       "<Figure size 1008x504 with 0 Axes>"
      ]
     },
     "metadata": {},
     "output_type": "display_data"
    },
    {
     "data": {
      "text/plain": [
       "<Figure size 1440x720 with 0 Axes>"
      ]
     },
     "metadata": {},
     "output_type": "display_data"
    },
    {
     "data": {
      "text/plain": [
       "<Figure size 1008x504 with 0 Axes>"
      ]
     },
     "metadata": {},
     "output_type": "display_data"
    },
    {
     "data": {
      "text/plain": [
       "<Figure size 1008x504 with 0 Axes>"
      ]
     },
     "metadata": {},
     "output_type": "display_data"
    },
    {
     "data": {
      "text/plain": [
       "<Figure size 1440x720 with 0 Axes>"
      ]
     },
     "metadata": {},
     "output_type": "display_data"
    },
    {
     "data": {
      "text/plain": [
       "<Figure size 1008x504 with 0 Axes>"
      ]
     },
     "metadata": {},
     "output_type": "display_data"
    },
    {
     "data": {
      "text/plain": [
       "<Figure size 1008x504 with 0 Axes>"
      ]
     },
     "metadata": {},
     "output_type": "display_data"
    },
    {
     "data": {
      "text/plain": [
       "<Figure size 1440x720 with 0 Axes>"
      ]
     },
     "metadata": {},
     "output_type": "display_data"
    },
    {
     "data": {
      "text/plain": [
       "<Figure size 1008x504 with 0 Axes>"
      ]
     },
     "metadata": {},
     "output_type": "display_data"
    },
    {
     "data": {
      "text/plain": [
       "<Figure size 1008x504 with 0 Axes>"
      ]
     },
     "metadata": {},
     "output_type": "display_data"
    },
    {
     "data": {
      "text/plain": [
       "<Figure size 1440x720 with 0 Axes>"
      ]
     },
     "metadata": {},
     "output_type": "display_data"
    },
    {
     "data": {
      "text/plain": [
       "<Figure size 1008x504 with 0 Axes>"
      ]
     },
     "metadata": {},
     "output_type": "display_data"
    },
    {
     "data": {
      "text/plain": [
       "<Figure size 1008x504 with 0 Axes>"
      ]
     },
     "metadata": {},
     "output_type": "display_data"
    },
    {
     "data": {
      "text/plain": [
       "<Figure size 1440x720 with 0 Axes>"
      ]
     },
     "metadata": {},
     "output_type": "display_data"
    },
    {
     "data": {
      "text/plain": [
       "<Figure size 1008x504 with 0 Axes>"
      ]
     },
     "metadata": {},
     "output_type": "display_data"
    },
    {
     "data": {
      "text/plain": [
       "<Figure size 1008x504 with 0 Axes>"
      ]
     },
     "metadata": {},
     "output_type": "display_data"
    },
    {
     "data": {
      "text/plain": [
       "<Figure size 1440x720 with 0 Axes>"
      ]
     },
     "metadata": {},
     "output_type": "display_data"
    },
    {
     "data": {
      "text/plain": [
       "<Figure size 1008x504 with 0 Axes>"
      ]
     },
     "metadata": {},
     "output_type": "display_data"
    },
    {
     "data": {
      "text/plain": [
       "<Figure size 1008x504 with 0 Axes>"
      ]
     },
     "metadata": {},
     "output_type": "display_data"
    },
    {
     "data": {
      "text/plain": [
       "<Figure size 1440x720 with 0 Axes>"
      ]
     },
     "metadata": {},
     "output_type": "display_data"
    },
    {
     "data": {
      "text/plain": [
       "<Figure size 1008x504 with 0 Axes>"
      ]
     },
     "metadata": {},
     "output_type": "display_data"
    },
    {
     "data": {
      "text/plain": [
       "<Figure size 1008x504 with 0 Axes>"
      ]
     },
     "metadata": {},
     "output_type": "display_data"
    },
    {
     "data": {
      "text/plain": [
       "<Figure size 1440x720 with 0 Axes>"
      ]
     },
     "metadata": {},
     "output_type": "display_data"
    },
    {
     "data": {
      "text/plain": [
       "<Figure size 1008x504 with 0 Axes>"
      ]
     },
     "metadata": {},
     "output_type": "display_data"
    },
    {
     "data": {
      "text/plain": [
       "<Figure size 1008x504 with 0 Axes>"
      ]
     },
     "metadata": {},
     "output_type": "display_data"
    },
    {
     "data": {
      "text/plain": [
       "<Figure size 1440x720 with 0 Axes>"
      ]
     },
     "metadata": {},
     "output_type": "display_data"
    },
    {
     "data": {
      "text/plain": [
       "<Figure size 1008x504 with 0 Axes>"
      ]
     },
     "metadata": {},
     "output_type": "display_data"
    },
    {
     "data": {
      "text/plain": [
       "<Figure size 1008x504 with 0 Axes>"
      ]
     },
     "metadata": {},
     "output_type": "display_data"
    },
    {
     "data": {
      "text/plain": [
       "<Figure size 1440x720 with 0 Axes>"
      ]
     },
     "metadata": {},
     "output_type": "display_data"
    },
    {
     "data": {
      "text/plain": [
       "<Figure size 1008x504 with 0 Axes>"
      ]
     },
     "metadata": {},
     "output_type": "display_data"
    },
    {
     "data": {
      "text/plain": [
       "<Figure size 1008x504 with 0 Axes>"
      ]
     },
     "metadata": {},
     "output_type": "display_data"
    },
    {
     "data": {
      "text/plain": [
       "<Figure size 1440x720 with 0 Axes>"
      ]
     },
     "metadata": {},
     "output_type": "display_data"
    },
    {
     "data": {
      "text/plain": [
       "<Figure size 1008x504 with 0 Axes>"
      ]
     },
     "metadata": {},
     "output_type": "display_data"
    },
    {
     "data": {
      "text/plain": [
       "<Figure size 1008x504 with 0 Axes>"
      ]
     },
     "metadata": {},
     "output_type": "display_data"
    },
    {
     "data": {
      "text/plain": [
       "<Figure size 1440x720 with 0 Axes>"
      ]
     },
     "metadata": {},
     "output_type": "display_data"
    },
    {
     "data": {
      "text/plain": [
       "<Figure size 1008x504 with 0 Axes>"
      ]
     },
     "metadata": {},
     "output_type": "display_data"
    },
    {
     "data": {
      "text/plain": [
       "<Figure size 1008x504 with 0 Axes>"
      ]
     },
     "metadata": {},
     "output_type": "display_data"
    },
    {
     "data": {
      "text/plain": [
       "<Figure size 1440x720 with 0 Axes>"
      ]
     },
     "metadata": {},
     "output_type": "display_data"
    },
    {
     "data": {
      "text/plain": [
       "<Figure size 1008x504 with 0 Axes>"
      ]
     },
     "metadata": {},
     "output_type": "display_data"
    },
    {
     "data": {
      "text/plain": [
       "<Figure size 1008x504 with 0 Axes>"
      ]
     },
     "metadata": {},
     "output_type": "display_data"
    },
    {
     "data": {
      "text/plain": [
       "<Figure size 1440x720 with 0 Axes>"
      ]
     },
     "metadata": {},
     "output_type": "display_data"
    },
    {
     "data": {
      "text/plain": [
       "<Figure size 1008x504 with 0 Axes>"
      ]
     },
     "metadata": {},
     "output_type": "display_data"
    },
    {
     "data": {
      "text/plain": [
       "<Figure size 1008x504 with 0 Axes>"
      ]
     },
     "metadata": {},
     "output_type": "display_data"
    },
    {
     "data": {
      "text/plain": [
       "<Figure size 1440x720 with 0 Axes>"
      ]
     },
     "metadata": {},
     "output_type": "display_data"
    },
    {
     "data": {
      "text/plain": [
       "<Figure size 1008x504 with 0 Axes>"
      ]
     },
     "metadata": {},
     "output_type": "display_data"
    },
    {
     "data": {
      "text/plain": [
       "<Figure size 1008x504 with 0 Axes>"
      ]
     },
     "metadata": {},
     "output_type": "display_data"
    },
    {
     "data": {
      "text/plain": [
       "<Figure size 1440x720 with 0 Axes>"
      ]
     },
     "metadata": {},
     "output_type": "display_data"
    },
    {
     "data": {
      "text/plain": [
       "<Figure size 1008x504 with 0 Axes>"
      ]
     },
     "metadata": {},
     "output_type": "display_data"
    },
    {
     "data": {
      "text/plain": [
       "<Figure size 1008x504 with 0 Axes>"
      ]
     },
     "metadata": {},
     "output_type": "display_data"
    },
    {
     "data": {
      "text/plain": [
       "<Figure size 1440x720 with 0 Axes>"
      ]
     },
     "metadata": {},
     "output_type": "display_data"
    },
    {
     "data": {
      "text/plain": [
       "<Figure size 1008x504 with 0 Axes>"
      ]
     },
     "metadata": {},
     "output_type": "display_data"
    },
    {
     "data": {
      "text/plain": [
       "<Figure size 1008x504 with 0 Axes>"
      ]
     },
     "metadata": {},
     "output_type": "display_data"
    },
    {
     "data": {
      "text/plain": [
       "<Figure size 1440x720 with 0 Axes>"
      ]
     },
     "metadata": {},
     "output_type": "display_data"
    },
    {
     "data": {
      "text/plain": [
       "<Figure size 1008x504 with 0 Axes>"
      ]
     },
     "metadata": {},
     "output_type": "display_data"
    },
    {
     "data": {
      "text/plain": [
       "<Figure size 1008x504 with 0 Axes>"
      ]
     },
     "metadata": {},
     "output_type": "display_data"
    },
    {
     "data": {
      "text/plain": [
       "<Figure size 1440x720 with 0 Axes>"
      ]
     },
     "metadata": {},
     "output_type": "display_data"
    },
    {
     "data": {
      "text/plain": [
       "<Figure size 1008x504 with 0 Axes>"
      ]
     },
     "metadata": {},
     "output_type": "display_data"
    },
    {
     "data": {
      "text/plain": [
       "<Figure size 1008x504 with 0 Axes>"
      ]
     },
     "metadata": {},
     "output_type": "display_data"
    },
    {
     "data": {
      "text/plain": [
       "<Figure size 1440x720 with 0 Axes>"
      ]
     },
     "metadata": {},
     "output_type": "display_data"
    },
    {
     "data": {
      "text/plain": [
       "<Figure size 1008x504 with 0 Axes>"
      ]
     },
     "metadata": {},
     "output_type": "display_data"
    },
    {
     "data": {
      "text/plain": [
       "<Figure size 1008x504 with 0 Axes>"
      ]
     },
     "metadata": {},
     "output_type": "display_data"
    },
    {
     "data": {
      "text/plain": [
       "<Figure size 1440x720 with 0 Axes>"
      ]
     },
     "metadata": {},
     "output_type": "display_data"
    },
    {
     "data": {
      "text/plain": [
       "<Figure size 1008x504 with 0 Axes>"
      ]
     },
     "metadata": {},
     "output_type": "display_data"
    },
    {
     "data": {
      "text/plain": [
       "<Figure size 1008x504 with 0 Axes>"
      ]
     },
     "metadata": {},
     "output_type": "display_data"
    },
    {
     "data": {
      "text/plain": [
       "<Figure size 1440x720 with 0 Axes>"
      ]
     },
     "metadata": {},
     "output_type": "display_data"
    },
    {
     "data": {
      "text/plain": [
       "<Figure size 1008x504 with 0 Axes>"
      ]
     },
     "metadata": {},
     "output_type": "display_data"
    },
    {
     "data": {
      "text/plain": [
       "<Figure size 1008x504 with 0 Axes>"
      ]
     },
     "metadata": {},
     "output_type": "display_data"
    },
    {
     "data": {
      "text/plain": [
       "<Figure size 1440x720 with 0 Axes>"
      ]
     },
     "metadata": {},
     "output_type": "display_data"
    },
    {
     "data": {
      "text/plain": [
       "<Figure size 1008x504 with 0 Axes>"
      ]
     },
     "metadata": {},
     "output_type": "display_data"
    },
    {
     "data": {
      "text/plain": [
       "<Figure size 1008x504 with 0 Axes>"
      ]
     },
     "metadata": {},
     "output_type": "display_data"
    },
    {
     "data": {
      "text/plain": [
       "<Figure size 1440x720 with 0 Axes>"
      ]
     },
     "metadata": {},
     "output_type": "display_data"
    },
    {
     "data": {
      "text/plain": [
       "<Figure size 1008x504 with 0 Axes>"
      ]
     },
     "metadata": {},
     "output_type": "display_data"
    },
    {
     "data": {
      "text/plain": [
       "<Figure size 1008x504 with 0 Axes>"
      ]
     },
     "metadata": {},
     "output_type": "display_data"
    },
    {
     "data": {
      "text/plain": [
       "<Figure size 1440x720 with 0 Axes>"
      ]
     },
     "metadata": {},
     "output_type": "display_data"
    },
    {
     "data": {
      "text/plain": [
       "<Figure size 1008x504 with 0 Axes>"
      ]
     },
     "metadata": {},
     "output_type": "display_data"
    },
    {
     "data": {
      "text/plain": [
       "<Figure size 1008x504 with 0 Axes>"
      ]
     },
     "metadata": {},
     "output_type": "display_data"
    },
    {
     "data": {
      "text/plain": [
       "<Figure size 1440x720 with 0 Axes>"
      ]
     },
     "metadata": {},
     "output_type": "display_data"
    },
    {
     "data": {
      "text/plain": [
       "<Figure size 1008x504 with 0 Axes>"
      ]
     },
     "metadata": {},
     "output_type": "display_data"
    },
    {
     "data": {
      "text/plain": [
       "<Figure size 1008x504 with 0 Axes>"
      ]
     },
     "metadata": {},
     "output_type": "display_data"
    },
    {
     "data": {
      "text/plain": [
       "<Figure size 1440x720 with 0 Axes>"
      ]
     },
     "metadata": {},
     "output_type": "display_data"
    },
    {
     "data": {
      "text/plain": [
       "<Figure size 1008x504 with 0 Axes>"
      ]
     },
     "metadata": {},
     "output_type": "display_data"
    },
    {
     "data": {
      "text/plain": [
       "<Figure size 1008x504 with 0 Axes>"
      ]
     },
     "metadata": {},
     "output_type": "display_data"
    },
    {
     "data": {
      "text/plain": [
       "<Figure size 1440x720 with 0 Axes>"
      ]
     },
     "metadata": {},
     "output_type": "display_data"
    },
    {
     "data": {
      "text/plain": [
       "<Figure size 1008x504 with 0 Axes>"
      ]
     },
     "metadata": {},
     "output_type": "display_data"
    },
    {
     "data": {
      "text/plain": [
       "<Figure size 1008x504 with 0 Axes>"
      ]
     },
     "metadata": {},
     "output_type": "display_data"
    },
    {
     "data": {
      "text/plain": [
       "<Figure size 1440x720 with 0 Axes>"
      ]
     },
     "metadata": {},
     "output_type": "display_data"
    },
    {
     "data": {
      "text/plain": [
       "<Figure size 1008x504 with 0 Axes>"
      ]
     },
     "metadata": {},
     "output_type": "display_data"
    },
    {
     "data": {
      "text/plain": [
       "<Figure size 1008x504 with 0 Axes>"
      ]
     },
     "metadata": {},
     "output_type": "display_data"
    },
    {
     "data": {
      "text/plain": [
       "<Figure size 1440x720 with 0 Axes>"
      ]
     },
     "metadata": {},
     "output_type": "display_data"
    },
    {
     "data": {
      "text/plain": [
       "<Figure size 1008x504 with 0 Axes>"
      ]
     },
     "metadata": {},
     "output_type": "display_data"
    },
    {
     "data": {
      "text/plain": [
       "<Figure size 1008x504 with 0 Axes>"
      ]
     },
     "metadata": {},
     "output_type": "display_data"
    },
    {
     "data": {
      "text/plain": [
       "<Figure size 1440x720 with 0 Axes>"
      ]
     },
     "metadata": {},
     "output_type": "display_data"
    },
    {
     "data": {
      "text/plain": [
       "<Figure size 1008x504 with 0 Axes>"
      ]
     },
     "metadata": {},
     "output_type": "display_data"
    },
    {
     "data": {
      "text/plain": [
       "<Figure size 1008x504 with 0 Axes>"
      ]
     },
     "metadata": {},
     "output_type": "display_data"
    },
    {
     "data": {
      "text/plain": [
       "<Figure size 1440x720 with 0 Axes>"
      ]
     },
     "metadata": {},
     "output_type": "display_data"
    },
    {
     "data": {
      "text/plain": [
       "<Figure size 1008x504 with 0 Axes>"
      ]
     },
     "metadata": {},
     "output_type": "display_data"
    },
    {
     "data": {
      "text/plain": [
       "<Figure size 1008x504 with 0 Axes>"
      ]
     },
     "metadata": {},
     "output_type": "display_data"
    },
    {
     "data": {
      "text/plain": [
       "<Figure size 1440x720 with 0 Axes>"
      ]
     },
     "metadata": {},
     "output_type": "display_data"
    },
    {
     "data": {
      "text/plain": [
       "<Figure size 1008x504 with 0 Axes>"
      ]
     },
     "metadata": {},
     "output_type": "display_data"
    },
    {
     "data": {
      "text/plain": [
       "<Figure size 1008x504 with 0 Axes>"
      ]
     },
     "metadata": {},
     "output_type": "display_data"
    },
    {
     "data": {
      "text/plain": [
       "<Figure size 1440x720 with 0 Axes>"
      ]
     },
     "metadata": {},
     "output_type": "display_data"
    },
    {
     "data": {
      "text/plain": [
       "<Figure size 1008x504 with 0 Axes>"
      ]
     },
     "metadata": {},
     "output_type": "display_data"
    },
    {
     "data": {
      "text/plain": [
       "<Figure size 1008x504 with 0 Axes>"
      ]
     },
     "metadata": {},
     "output_type": "display_data"
    },
    {
     "data": {
      "text/plain": [
       "<Figure size 1440x720 with 0 Axes>"
      ]
     },
     "metadata": {},
     "output_type": "display_data"
    },
    {
     "data": {
      "text/plain": [
       "<Figure size 1008x504 with 0 Axes>"
      ]
     },
     "metadata": {},
     "output_type": "display_data"
    },
    {
     "data": {
      "text/plain": [
       "<Figure size 1008x504 with 0 Axes>"
      ]
     },
     "metadata": {},
     "output_type": "display_data"
    },
    {
     "data": {
      "text/plain": [
       "<Figure size 1440x720 with 0 Axes>"
      ]
     },
     "metadata": {},
     "output_type": "display_data"
    },
    {
     "data": {
      "text/plain": [
       "<Figure size 1008x504 with 0 Axes>"
      ]
     },
     "metadata": {},
     "output_type": "display_data"
    },
    {
     "data": {
      "text/plain": [
       "<Figure size 1008x504 with 0 Axes>"
      ]
     },
     "metadata": {},
     "output_type": "display_data"
    },
    {
     "data": {
      "text/plain": [
       "<Figure size 1440x720 with 0 Axes>"
      ]
     },
     "metadata": {},
     "output_type": "display_data"
    },
    {
     "data": {
      "text/plain": [
       "<Figure size 1008x504 with 0 Axes>"
      ]
     },
     "metadata": {},
     "output_type": "display_data"
    },
    {
     "data": {
      "text/plain": [
       "<Figure size 1008x504 with 0 Axes>"
      ]
     },
     "metadata": {},
     "output_type": "display_data"
    },
    {
     "data": {
      "text/plain": [
       "<Figure size 1440x720 with 0 Axes>"
      ]
     },
     "metadata": {},
     "output_type": "display_data"
    },
    {
     "data": {
      "text/plain": [
       "<Figure size 1008x504 with 0 Axes>"
      ]
     },
     "metadata": {},
     "output_type": "display_data"
    },
    {
     "data": {
      "text/plain": [
       "<Figure size 1008x504 with 0 Axes>"
      ]
     },
     "metadata": {},
     "output_type": "display_data"
    },
    {
     "data": {
      "text/plain": [
       "<Figure size 1440x720 with 0 Axes>"
      ]
     },
     "metadata": {},
     "output_type": "display_data"
    },
    {
     "data": {
      "text/plain": [
       "<Figure size 1008x504 with 0 Axes>"
      ]
     },
     "metadata": {},
     "output_type": "display_data"
    },
    {
     "data": {
      "text/plain": [
       "<Figure size 1008x504 with 0 Axes>"
      ]
     },
     "metadata": {},
     "output_type": "display_data"
    },
    {
     "data": {
      "text/plain": [
       "<Figure size 1440x720 with 0 Axes>"
      ]
     },
     "metadata": {},
     "output_type": "display_data"
    },
    {
     "data": {
      "text/plain": [
       "<Figure size 1008x504 with 0 Axes>"
      ]
     },
     "metadata": {},
     "output_type": "display_data"
    },
    {
     "data": {
      "text/plain": [
       "<Figure size 1008x504 with 0 Axes>"
      ]
     },
     "metadata": {},
     "output_type": "display_data"
    },
    {
     "data": {
      "text/plain": [
       "<Figure size 1440x720 with 0 Axes>"
      ]
     },
     "metadata": {},
     "output_type": "display_data"
    },
    {
     "data": {
      "text/plain": [
       "<Figure size 1008x504 with 0 Axes>"
      ]
     },
     "metadata": {},
     "output_type": "display_data"
    },
    {
     "data": {
      "text/plain": [
       "<Figure size 1008x504 with 0 Axes>"
      ]
     },
     "metadata": {},
     "output_type": "display_data"
    },
    {
     "data": {
      "text/plain": [
       "<Figure size 1440x720 with 0 Axes>"
      ]
     },
     "metadata": {},
     "output_type": "display_data"
    },
    {
     "data": {
      "text/plain": [
       "<Figure size 1008x504 with 0 Axes>"
      ]
     },
     "metadata": {},
     "output_type": "display_data"
    },
    {
     "data": {
      "text/plain": [
       "<Figure size 1008x504 with 0 Axes>"
      ]
     },
     "metadata": {},
     "output_type": "display_data"
    },
    {
     "data": {
      "text/plain": [
       "<Figure size 1440x720 with 0 Axes>"
      ]
     },
     "metadata": {},
     "output_type": "display_data"
    },
    {
     "data": {
      "text/plain": [
       "<Figure size 1008x504 with 0 Axes>"
      ]
     },
     "metadata": {},
     "output_type": "display_data"
    },
    {
     "data": {
      "text/plain": [
       "<Figure size 1008x504 with 0 Axes>"
      ]
     },
     "metadata": {},
     "output_type": "display_data"
    },
    {
     "data": {
      "text/plain": [
       "<Figure size 1440x720 with 0 Axes>"
      ]
     },
     "metadata": {},
     "output_type": "display_data"
    },
    {
     "data": {
      "text/plain": [
       "<Figure size 1008x504 with 0 Axes>"
      ]
     },
     "metadata": {},
     "output_type": "display_data"
    },
    {
     "data": {
      "text/plain": [
       "<Figure size 1008x504 with 0 Axes>"
      ]
     },
     "metadata": {},
     "output_type": "display_data"
    },
    {
     "data": {
      "text/plain": [
       "<Figure size 1440x720 with 0 Axes>"
      ]
     },
     "metadata": {},
     "output_type": "display_data"
    },
    {
     "data": {
      "text/plain": [
       "<Figure size 1008x504 with 0 Axes>"
      ]
     },
     "metadata": {},
     "output_type": "display_data"
    },
    {
     "data": {
      "text/plain": [
       "<Figure size 1008x504 with 0 Axes>"
      ]
     },
     "metadata": {},
     "output_type": "display_data"
    },
    {
     "data": {
      "text/plain": [
       "<Figure size 1440x720 with 0 Axes>"
      ]
     },
     "metadata": {},
     "output_type": "display_data"
    },
    {
     "data": {
      "text/plain": [
       "<Figure size 1008x504 with 0 Axes>"
      ]
     },
     "metadata": {},
     "output_type": "display_data"
    },
    {
     "data": {
      "text/plain": [
       "<Figure size 1008x504 with 0 Axes>"
      ]
     },
     "metadata": {},
     "output_type": "display_data"
    },
    {
     "data": {
      "text/plain": [
       "<Figure size 1440x720 with 0 Axes>"
      ]
     },
     "metadata": {},
     "output_type": "display_data"
    },
    {
     "data": {
      "text/plain": [
       "<Figure size 1008x504 with 0 Axes>"
      ]
     },
     "metadata": {},
     "output_type": "display_data"
    },
    {
     "data": {
      "text/plain": [
       "<Figure size 1008x504 with 0 Axes>"
      ]
     },
     "metadata": {},
     "output_type": "display_data"
    },
    {
     "data": {
      "text/plain": [
       "<Figure size 1440x720 with 0 Axes>"
      ]
     },
     "metadata": {},
     "output_type": "display_data"
    },
    {
     "data": {
      "text/plain": [
       "<Figure size 1008x504 with 0 Axes>"
      ]
     },
     "metadata": {},
     "output_type": "display_data"
    },
    {
     "data": {
      "text/plain": [
       "<Figure size 1008x504 with 0 Axes>"
      ]
     },
     "metadata": {},
     "output_type": "display_data"
    },
    {
     "data": {
      "text/plain": [
       "<Figure size 1440x720 with 0 Axes>"
      ]
     },
     "metadata": {},
     "output_type": "display_data"
    },
    {
     "data": {
      "text/plain": [
       "<Figure size 1008x504 with 0 Axes>"
      ]
     },
     "metadata": {},
     "output_type": "display_data"
    },
    {
     "data": {
      "text/plain": [
       "<Figure size 1008x504 with 0 Axes>"
      ]
     },
     "metadata": {},
     "output_type": "display_data"
    },
    {
     "data": {
      "text/plain": [
       "<Figure size 1440x720 with 0 Axes>"
      ]
     },
     "metadata": {},
     "output_type": "display_data"
    },
    {
     "data": {
      "text/plain": [
       "<Figure size 1008x504 with 0 Axes>"
      ]
     },
     "metadata": {},
     "output_type": "display_data"
    },
    {
     "data": {
      "text/plain": [
       "<Figure size 1008x504 with 0 Axes>"
      ]
     },
     "metadata": {},
     "output_type": "display_data"
    },
    {
     "data": {
      "text/plain": [
       "<Figure size 1440x720 with 0 Axes>"
      ]
     },
     "metadata": {},
     "output_type": "display_data"
    },
    {
     "data": {
      "text/plain": [
       "<Figure size 1008x504 with 0 Axes>"
      ]
     },
     "metadata": {},
     "output_type": "display_data"
    },
    {
     "data": {
      "text/plain": [
       "<Figure size 1008x504 with 0 Axes>"
      ]
     },
     "metadata": {},
     "output_type": "display_data"
    },
    {
     "data": {
      "text/plain": [
       "<Figure size 1440x720 with 0 Axes>"
      ]
     },
     "metadata": {},
     "output_type": "display_data"
    },
    {
     "data": {
      "text/plain": [
       "<Figure size 1008x504 with 0 Axes>"
      ]
     },
     "metadata": {},
     "output_type": "display_data"
    },
    {
     "data": {
      "text/plain": [
       "<Figure size 1008x504 with 0 Axes>"
      ]
     },
     "metadata": {},
     "output_type": "display_data"
    },
    {
     "data": {
      "text/plain": [
       "<Figure size 1440x720 with 0 Axes>"
      ]
     },
     "metadata": {},
     "output_type": "display_data"
    },
    {
     "data": {
      "text/plain": [
       "<Figure size 1008x504 with 0 Axes>"
      ]
     },
     "metadata": {},
     "output_type": "display_data"
    },
    {
     "data": {
      "text/plain": [
       "<Figure size 1008x504 with 0 Axes>"
      ]
     },
     "metadata": {},
     "output_type": "display_data"
    },
    {
     "data": {
      "text/plain": [
       "<Figure size 1440x720 with 0 Axes>"
      ]
     },
     "metadata": {},
     "output_type": "display_data"
    },
    {
     "data": {
      "text/plain": [
       "<Figure size 1008x504 with 0 Axes>"
      ]
     },
     "metadata": {},
     "output_type": "display_data"
    },
    {
     "data": {
      "text/plain": [
       "<Figure size 1008x504 with 0 Axes>"
      ]
     },
     "metadata": {},
     "output_type": "display_data"
    },
    {
     "data": {
      "text/plain": [
       "<Figure size 1440x720 with 0 Axes>"
      ]
     },
     "metadata": {},
     "output_type": "display_data"
    },
    {
     "data": {
      "text/plain": [
       "<Figure size 1008x504 with 0 Axes>"
      ]
     },
     "metadata": {},
     "output_type": "display_data"
    },
    {
     "data": {
      "text/plain": [
       "<Figure size 1008x504 with 0 Axes>"
      ]
     },
     "metadata": {},
     "output_type": "display_data"
    },
    {
     "data": {
      "text/plain": [
       "<Figure size 1440x720 with 0 Axes>"
      ]
     },
     "metadata": {},
     "output_type": "display_data"
    },
    {
     "data": {
      "text/plain": [
       "<Figure size 1008x504 with 0 Axes>"
      ]
     },
     "metadata": {},
     "output_type": "display_data"
    },
    {
     "data": {
      "text/plain": [
       "<Figure size 1008x504 with 0 Axes>"
      ]
     },
     "metadata": {},
     "output_type": "display_data"
    },
    {
     "data": {
      "text/plain": [
       "<Figure size 1440x720 with 0 Axes>"
      ]
     },
     "metadata": {},
     "output_type": "display_data"
    },
    {
     "data": {
      "text/plain": [
       "<Figure size 1008x504 with 0 Axes>"
      ]
     },
     "metadata": {},
     "output_type": "display_data"
    },
    {
     "data": {
      "text/plain": [
       "<Figure size 1008x504 with 0 Axes>"
      ]
     },
     "metadata": {},
     "output_type": "display_data"
    },
    {
     "data": {
      "text/plain": [
       "<Figure size 1440x720 with 0 Axes>"
      ]
     },
     "metadata": {},
     "output_type": "display_data"
    },
    {
     "data": {
      "text/plain": [
       "<Figure size 1008x504 with 0 Axes>"
      ]
     },
     "metadata": {},
     "output_type": "display_data"
    },
    {
     "data": {
      "text/plain": [
       "<Figure size 1008x504 with 0 Axes>"
      ]
     },
     "metadata": {},
     "output_type": "display_data"
    },
    {
     "data": {
      "text/plain": [
       "<Figure size 1440x720 with 0 Axes>"
      ]
     },
     "metadata": {},
     "output_type": "display_data"
    },
    {
     "data": {
      "text/plain": [
       "<Figure size 1008x504 with 0 Axes>"
      ]
     },
     "metadata": {},
     "output_type": "display_data"
    },
    {
     "data": {
      "text/plain": [
       "<Figure size 1008x504 with 0 Axes>"
      ]
     },
     "metadata": {},
     "output_type": "display_data"
    },
    {
     "data": {
      "text/plain": [
       "<Figure size 1440x720 with 0 Axes>"
      ]
     },
     "metadata": {},
     "output_type": "display_data"
    },
    {
     "data": {
      "text/plain": [
       "<Figure size 1008x504 with 0 Axes>"
      ]
     },
     "metadata": {},
     "output_type": "display_data"
    },
    {
     "data": {
      "text/plain": [
       "<Figure size 1008x504 with 0 Axes>"
      ]
     },
     "metadata": {},
     "output_type": "display_data"
    },
    {
     "data": {
      "text/plain": [
       "<Figure size 1440x720 with 0 Axes>"
      ]
     },
     "metadata": {},
     "output_type": "display_data"
    },
    {
     "data": {
      "text/plain": [
       "<Figure size 1008x504 with 0 Axes>"
      ]
     },
     "metadata": {},
     "output_type": "display_data"
    },
    {
     "data": {
      "text/plain": [
       "<Figure size 1008x504 with 0 Axes>"
      ]
     },
     "metadata": {},
     "output_type": "display_data"
    },
    {
     "data": {
      "text/plain": [
       "<Figure size 1440x720 with 0 Axes>"
      ]
     },
     "metadata": {},
     "output_type": "display_data"
    },
    {
     "data": {
      "text/plain": [
       "<Figure size 1008x504 with 0 Axes>"
      ]
     },
     "metadata": {},
     "output_type": "display_data"
    },
    {
     "data": {
      "text/plain": [
       "<Figure size 1008x504 with 0 Axes>"
      ]
     },
     "metadata": {},
     "output_type": "display_data"
    },
    {
     "data": {
      "text/plain": [
       "<Figure size 1440x720 with 0 Axes>"
      ]
     },
     "metadata": {},
     "output_type": "display_data"
    },
    {
     "data": {
      "text/plain": [
       "<Figure size 1008x504 with 0 Axes>"
      ]
     },
     "metadata": {},
     "output_type": "display_data"
    },
    {
     "data": {
      "text/plain": [
       "<Figure size 1008x504 with 0 Axes>"
      ]
     },
     "metadata": {},
     "output_type": "display_data"
    },
    {
     "data": {
      "text/plain": [
       "<Figure size 1440x720 with 0 Axes>"
      ]
     },
     "metadata": {},
     "output_type": "display_data"
    },
    {
     "data": {
      "text/plain": [
       "<Figure size 1008x504 with 0 Axes>"
      ]
     },
     "metadata": {},
     "output_type": "display_data"
    },
    {
     "data": {
      "text/plain": [
       "<Figure size 1008x504 with 0 Axes>"
      ]
     },
     "metadata": {},
     "output_type": "display_data"
    },
    {
     "data": {
      "text/plain": [
       "<Figure size 1440x720 with 0 Axes>"
      ]
     },
     "metadata": {},
     "output_type": "display_data"
    },
    {
     "data": {
      "text/plain": [
       "<Figure size 1008x504 with 0 Axes>"
      ]
     },
     "metadata": {},
     "output_type": "display_data"
    },
    {
     "data": {
      "text/plain": [
       "<Figure size 1008x504 with 0 Axes>"
      ]
     },
     "metadata": {},
     "output_type": "display_data"
    },
    {
     "data": {
      "text/plain": [
       "<Figure size 1440x720 with 0 Axes>"
      ]
     },
     "metadata": {},
     "output_type": "display_data"
    },
    {
     "data": {
      "text/plain": [
       "<Figure size 1008x504 with 0 Axes>"
      ]
     },
     "metadata": {},
     "output_type": "display_data"
    },
    {
     "data": {
      "text/plain": [
       "<Figure size 1008x504 with 0 Axes>"
      ]
     },
     "metadata": {},
     "output_type": "display_data"
    },
    {
     "data": {
      "text/plain": [
       "<Figure size 1440x720 with 0 Axes>"
      ]
     },
     "metadata": {},
     "output_type": "display_data"
    },
    {
     "data": {
      "text/plain": [
       "<Figure size 1008x504 with 0 Axes>"
      ]
     },
     "metadata": {},
     "output_type": "display_data"
    },
    {
     "data": {
      "text/plain": [
       "<Figure size 1008x504 with 0 Axes>"
      ]
     },
     "metadata": {},
     "output_type": "display_data"
    },
    {
     "data": {
      "text/plain": [
       "<Figure size 1440x720 with 0 Axes>"
      ]
     },
     "metadata": {},
     "output_type": "display_data"
    },
    {
     "data": {
      "text/plain": [
       "<Figure size 1008x504 with 0 Axes>"
      ]
     },
     "metadata": {},
     "output_type": "display_data"
    },
    {
     "data": {
      "text/plain": [
       "<Figure size 1008x504 with 0 Axes>"
      ]
     },
     "metadata": {},
     "output_type": "display_data"
    },
    {
     "data": {
      "text/plain": [
       "<Figure size 1440x720 with 0 Axes>"
      ]
     },
     "metadata": {},
     "output_type": "display_data"
    },
    {
     "data": {
      "text/plain": [
       "<Figure size 1008x504 with 0 Axes>"
      ]
     },
     "metadata": {},
     "output_type": "display_data"
    },
    {
     "data": {
      "text/plain": [
       "<Figure size 1008x504 with 0 Axes>"
      ]
     },
     "metadata": {},
     "output_type": "display_data"
    },
    {
     "data": {
      "text/plain": [
       "<Figure size 1440x720 with 0 Axes>"
      ]
     },
     "metadata": {},
     "output_type": "display_data"
    },
    {
     "data": {
      "text/plain": [
       "<Figure size 1008x504 with 0 Axes>"
      ]
     },
     "metadata": {},
     "output_type": "display_data"
    },
    {
     "data": {
      "text/plain": [
       "<Figure size 1008x504 with 0 Axes>"
      ]
     },
     "metadata": {},
     "output_type": "display_data"
    },
    {
     "data": {
      "text/plain": [
       "<Figure size 1440x720 with 0 Axes>"
      ]
     },
     "metadata": {},
     "output_type": "display_data"
    },
    {
     "data": {
      "text/plain": [
       "<Figure size 1008x504 with 0 Axes>"
      ]
     },
     "metadata": {},
     "output_type": "display_data"
    },
    {
     "data": {
      "text/plain": [
       "<Figure size 1008x504 with 0 Axes>"
      ]
     },
     "metadata": {},
     "output_type": "display_data"
    },
    {
     "data": {
      "text/plain": [
       "<Figure size 1440x720 with 0 Axes>"
      ]
     },
     "metadata": {},
     "output_type": "display_data"
    },
    {
     "data": {
      "text/plain": [
       "<Figure size 1008x504 with 0 Axes>"
      ]
     },
     "metadata": {},
     "output_type": "display_data"
    },
    {
     "data": {
      "text/plain": [
       "<Figure size 1008x504 with 0 Axes>"
      ]
     },
     "metadata": {},
     "output_type": "display_data"
    },
    {
     "data": {
      "text/plain": [
       "<Figure size 1440x720 with 0 Axes>"
      ]
     },
     "metadata": {},
     "output_type": "display_data"
    },
    {
     "data": {
      "text/plain": [
       "<Figure size 1008x504 with 0 Axes>"
      ]
     },
     "metadata": {},
     "output_type": "display_data"
    },
    {
     "data": {
      "text/plain": [
       "<Figure size 1008x504 with 0 Axes>"
      ]
     },
     "metadata": {},
     "output_type": "display_data"
    },
    {
     "data": {
      "text/plain": [
       "<Figure size 1440x720 with 0 Axes>"
      ]
     },
     "metadata": {},
     "output_type": "display_data"
    },
    {
     "data": {
      "text/plain": [
       "<Figure size 1008x504 with 0 Axes>"
      ]
     },
     "metadata": {},
     "output_type": "display_data"
    },
    {
     "data": {
      "text/plain": [
       "<Figure size 1008x504 with 0 Axes>"
      ]
     },
     "metadata": {},
     "output_type": "display_data"
    },
    {
     "data": {
      "text/plain": [
       "<Figure size 1440x720 with 0 Axes>"
      ]
     },
     "metadata": {},
     "output_type": "display_data"
    },
    {
     "data": {
      "text/plain": [
       "<Figure size 1008x504 with 0 Axes>"
      ]
     },
     "metadata": {},
     "output_type": "display_data"
    },
    {
     "data": {
      "text/plain": [
       "<Figure size 1008x504 with 0 Axes>"
      ]
     },
     "metadata": {},
     "output_type": "display_data"
    },
    {
     "data": {
      "text/plain": [
       "<Figure size 1440x720 with 0 Axes>"
      ]
     },
     "metadata": {},
     "output_type": "display_data"
    },
    {
     "data": {
      "text/plain": [
       "<Figure size 1008x504 with 0 Axes>"
      ]
     },
     "metadata": {},
     "output_type": "display_data"
    },
    {
     "data": {
      "text/plain": [
       "<Figure size 1008x504 with 0 Axes>"
      ]
     },
     "metadata": {},
     "output_type": "display_data"
    },
    {
     "data": {
      "text/plain": [
       "<Figure size 1440x720 with 0 Axes>"
      ]
     },
     "metadata": {},
     "output_type": "display_data"
    },
    {
     "data": {
      "text/plain": [
       "<Figure size 1008x504 with 0 Axes>"
      ]
     },
     "metadata": {},
     "output_type": "display_data"
    },
    {
     "data": {
      "text/plain": [
       "<Figure size 1008x504 with 0 Axes>"
      ]
     },
     "metadata": {},
     "output_type": "display_data"
    },
    {
     "data": {
      "text/plain": [
       "<Figure size 1440x720 with 0 Axes>"
      ]
     },
     "metadata": {},
     "output_type": "display_data"
    },
    {
     "data": {
      "text/plain": [
       "<Figure size 1008x504 with 0 Axes>"
      ]
     },
     "metadata": {},
     "output_type": "display_data"
    },
    {
     "data": {
      "text/plain": [
       "<Figure size 1008x504 with 0 Axes>"
      ]
     },
     "metadata": {},
     "output_type": "display_data"
    },
    {
     "data": {
      "text/plain": [
       "<Figure size 1440x720 with 0 Axes>"
      ]
     },
     "metadata": {},
     "output_type": "display_data"
    },
    {
     "data": {
      "text/plain": [
       "<Figure size 1008x504 with 0 Axes>"
      ]
     },
     "metadata": {},
     "output_type": "display_data"
    },
    {
     "data": {
      "text/plain": [
       "<Figure size 1008x504 with 0 Axes>"
      ]
     },
     "metadata": {},
     "output_type": "display_data"
    },
    {
     "data": {
      "text/plain": [
       "<Figure size 1440x720 with 0 Axes>"
      ]
     },
     "metadata": {},
     "output_type": "display_data"
    },
    {
     "data": {
      "text/plain": [
       "<Figure size 1008x504 with 0 Axes>"
      ]
     },
     "metadata": {},
     "output_type": "display_data"
    },
    {
     "data": {
      "text/plain": [
       "<Figure size 1008x504 with 0 Axes>"
      ]
     },
     "metadata": {},
     "output_type": "display_data"
    },
    {
     "data": {
      "text/plain": [
       "<Figure size 1440x720 with 0 Axes>"
      ]
     },
     "metadata": {},
     "output_type": "display_data"
    },
    {
     "data": {
      "text/plain": [
       "<Figure size 1008x504 with 0 Axes>"
      ]
     },
     "metadata": {},
     "output_type": "display_data"
    },
    {
     "data": {
      "text/plain": [
       "<Figure size 1008x504 with 0 Axes>"
      ]
     },
     "metadata": {},
     "output_type": "display_data"
    },
    {
     "data": {
      "text/plain": [
       "<Figure size 1440x720 with 0 Axes>"
      ]
     },
     "metadata": {},
     "output_type": "display_data"
    },
    {
     "data": {
      "text/plain": [
       "<Figure size 1008x504 with 0 Axes>"
      ]
     },
     "metadata": {},
     "output_type": "display_data"
    },
    {
     "data": {
      "text/plain": [
       "<Figure size 1008x504 with 0 Axes>"
      ]
     },
     "metadata": {},
     "output_type": "display_data"
    },
    {
     "data": {
      "text/plain": [
       "<Figure size 1440x720 with 0 Axes>"
      ]
     },
     "metadata": {},
     "output_type": "display_data"
    },
    {
     "data": {
      "text/plain": [
       "<Figure size 1008x504 with 0 Axes>"
      ]
     },
     "metadata": {},
     "output_type": "display_data"
    },
    {
     "data": {
      "text/plain": [
       "<Figure size 1008x504 with 0 Axes>"
      ]
     },
     "metadata": {},
     "output_type": "display_data"
    },
    {
     "data": {
      "text/plain": [
       "<Figure size 1440x720 with 0 Axes>"
      ]
     },
     "metadata": {},
     "output_type": "display_data"
    },
    {
     "data": {
      "text/plain": [
       "<Figure size 1008x504 with 0 Axes>"
      ]
     },
     "metadata": {},
     "output_type": "display_data"
    },
    {
     "data": {
      "text/plain": [
       "<Figure size 1008x504 with 0 Axes>"
      ]
     },
     "metadata": {},
     "output_type": "display_data"
    },
    {
     "data": {
      "text/plain": [
       "<Figure size 1440x720 with 0 Axes>"
      ]
     },
     "metadata": {},
     "output_type": "display_data"
    },
    {
     "data": {
      "text/plain": [
       "<Figure size 1008x504 with 0 Axes>"
      ]
     },
     "metadata": {},
     "output_type": "display_data"
    },
    {
     "data": {
      "text/plain": [
       "<Figure size 1008x504 with 0 Axes>"
      ]
     },
     "metadata": {},
     "output_type": "display_data"
    },
    {
     "data": {
      "text/plain": [
       "<Figure size 1440x720 with 0 Axes>"
      ]
     },
     "metadata": {},
     "output_type": "display_data"
    },
    {
     "data": {
      "text/plain": [
       "<Figure size 1008x504 with 0 Axes>"
      ]
     },
     "metadata": {},
     "output_type": "display_data"
    },
    {
     "data": {
      "text/plain": [
       "<Figure size 1008x504 with 0 Axes>"
      ]
     },
     "metadata": {},
     "output_type": "display_data"
    },
    {
     "data": {
      "text/plain": [
       "<Figure size 1440x720 with 0 Axes>"
      ]
     },
     "metadata": {},
     "output_type": "display_data"
    },
    {
     "data": {
      "text/plain": [
       "<Figure size 1008x504 with 0 Axes>"
      ]
     },
     "metadata": {},
     "output_type": "display_data"
    },
    {
     "data": {
      "text/plain": [
       "<Figure size 1008x504 with 0 Axes>"
      ]
     },
     "metadata": {},
     "output_type": "display_data"
    },
    {
     "data": {
      "text/plain": [
       "<Figure size 1440x720 with 0 Axes>"
      ]
     },
     "metadata": {},
     "output_type": "display_data"
    },
    {
     "data": {
      "text/plain": [
       "<Figure size 1008x504 with 0 Axes>"
      ]
     },
     "metadata": {},
     "output_type": "display_data"
    },
    {
     "data": {
      "text/plain": [
       "<Figure size 1008x504 with 0 Axes>"
      ]
     },
     "metadata": {},
     "output_type": "display_data"
    },
    {
     "data": {
      "text/plain": [
       "<Figure size 1440x720 with 0 Axes>"
      ]
     },
     "metadata": {},
     "output_type": "display_data"
    },
    {
     "data": {
      "text/plain": [
       "<Figure size 1008x504 with 0 Axes>"
      ]
     },
     "metadata": {},
     "output_type": "display_data"
    },
    {
     "data": {
      "text/plain": [
       "<Figure size 1008x504 with 0 Axes>"
      ]
     },
     "metadata": {},
     "output_type": "display_data"
    },
    {
     "data": {
      "text/plain": [
       "<Figure size 1440x720 with 0 Axes>"
      ]
     },
     "metadata": {},
     "output_type": "display_data"
    },
    {
     "data": {
      "text/plain": [
       "<Figure size 1008x504 with 0 Axes>"
      ]
     },
     "metadata": {},
     "output_type": "display_data"
    },
    {
     "data": {
      "text/plain": [
       "<Figure size 1008x504 with 0 Axes>"
      ]
     },
     "metadata": {},
     "output_type": "display_data"
    },
    {
     "data": {
      "text/plain": [
       "<Figure size 1440x720 with 0 Axes>"
      ]
     },
     "metadata": {},
     "output_type": "display_data"
    },
    {
     "data": {
      "text/plain": [
       "<Figure size 1008x504 with 0 Axes>"
      ]
     },
     "metadata": {},
     "output_type": "display_data"
    },
    {
     "data": {
      "text/plain": [
       "<Figure size 1008x504 with 0 Axes>"
      ]
     },
     "metadata": {},
     "output_type": "display_data"
    },
    {
     "data": {
      "text/plain": [
       "<Figure size 1440x720 with 0 Axes>"
      ]
     },
     "metadata": {},
     "output_type": "display_data"
    },
    {
     "data": {
      "text/plain": [
       "<Figure size 1008x504 with 0 Axes>"
      ]
     },
     "metadata": {},
     "output_type": "display_data"
    },
    {
     "data": {
      "text/plain": [
       "<Figure size 1008x504 with 0 Axes>"
      ]
     },
     "metadata": {},
     "output_type": "display_data"
    },
    {
     "data": {
      "text/plain": [
       "<Figure size 1440x720 with 0 Axes>"
      ]
     },
     "metadata": {},
     "output_type": "display_data"
    },
    {
     "data": {
      "text/plain": [
       "<Figure size 1008x504 with 0 Axes>"
      ]
     },
     "metadata": {},
     "output_type": "display_data"
    },
    {
     "data": {
      "text/plain": [
       "<Figure size 1008x504 with 0 Axes>"
      ]
     },
     "metadata": {},
     "output_type": "display_data"
    },
    {
     "data": {
      "text/plain": [
       "<Figure size 1440x720 with 0 Axes>"
      ]
     },
     "metadata": {},
     "output_type": "display_data"
    },
    {
     "data": {
      "text/plain": [
       "<Figure size 1008x504 with 0 Axes>"
      ]
     },
     "metadata": {},
     "output_type": "display_data"
    },
    {
     "data": {
      "text/plain": [
       "<Figure size 1008x504 with 0 Axes>"
      ]
     },
     "metadata": {},
     "output_type": "display_data"
    },
    {
     "data": {
      "text/plain": [
       "<Figure size 1440x720 with 0 Axes>"
      ]
     },
     "metadata": {},
     "output_type": "display_data"
    },
    {
     "data": {
      "text/plain": [
       "<Figure size 1008x504 with 0 Axes>"
      ]
     },
     "metadata": {},
     "output_type": "display_data"
    },
    {
     "data": {
      "text/plain": [
       "<Figure size 1008x504 with 0 Axes>"
      ]
     },
     "metadata": {},
     "output_type": "display_data"
    },
    {
     "data": {
      "text/plain": [
       "<Figure size 1440x720 with 0 Axes>"
      ]
     },
     "metadata": {},
     "output_type": "display_data"
    },
    {
     "data": {
      "text/plain": [
       "<Figure size 1008x504 with 0 Axes>"
      ]
     },
     "metadata": {},
     "output_type": "display_data"
    },
    {
     "data": {
      "text/plain": [
       "<Figure size 1008x504 with 0 Axes>"
      ]
     },
     "metadata": {},
     "output_type": "display_data"
    },
    {
     "data": {
      "text/plain": [
       "<Figure size 1440x720 with 0 Axes>"
      ]
     },
     "metadata": {},
     "output_type": "display_data"
    },
    {
     "data": {
      "text/plain": [
       "<Figure size 1008x504 with 0 Axes>"
      ]
     },
     "metadata": {},
     "output_type": "display_data"
    },
    {
     "data": {
      "text/plain": [
       "<Figure size 1008x504 with 0 Axes>"
      ]
     },
     "metadata": {},
     "output_type": "display_data"
    },
    {
     "data": {
      "text/plain": [
       "<Figure size 1440x720 with 0 Axes>"
      ]
     },
     "metadata": {},
     "output_type": "display_data"
    },
    {
     "data": {
      "text/plain": [
       "<Figure size 1008x504 with 0 Axes>"
      ]
     },
     "metadata": {},
     "output_type": "display_data"
    },
    {
     "data": {
      "text/plain": [
       "<Figure size 1008x504 with 0 Axes>"
      ]
     },
     "metadata": {},
     "output_type": "display_data"
    },
    {
     "data": {
      "text/plain": [
       "<Figure size 1440x720 with 0 Axes>"
      ]
     },
     "metadata": {},
     "output_type": "display_data"
    },
    {
     "data": {
      "text/plain": [
       "<Figure size 1008x504 with 0 Axes>"
      ]
     },
     "metadata": {},
     "output_type": "display_data"
    },
    {
     "data": {
      "text/plain": [
       "<Figure size 1008x504 with 0 Axes>"
      ]
     },
     "metadata": {},
     "output_type": "display_data"
    },
    {
     "data": {
      "text/plain": [
       "<Figure size 1440x720 with 0 Axes>"
      ]
     },
     "metadata": {},
     "output_type": "display_data"
    },
    {
     "data": {
      "text/plain": [
       "<Figure size 1008x504 with 0 Axes>"
      ]
     },
     "metadata": {},
     "output_type": "display_data"
    },
    {
     "data": {
      "text/plain": [
       "<Figure size 1008x504 with 0 Axes>"
      ]
     },
     "metadata": {},
     "output_type": "display_data"
    },
    {
     "data": {
      "text/plain": [
       "<Figure size 1440x720 with 0 Axes>"
      ]
     },
     "metadata": {},
     "output_type": "display_data"
    },
    {
     "data": {
      "text/plain": [
       "<Figure size 1008x504 with 0 Axes>"
      ]
     },
     "metadata": {},
     "output_type": "display_data"
    },
    {
     "data": {
      "text/plain": [
       "<Figure size 1008x504 with 0 Axes>"
      ]
     },
     "metadata": {},
     "output_type": "display_data"
    },
    {
     "data": {
      "text/plain": [
       "<Figure size 1440x720 with 0 Axes>"
      ]
     },
     "metadata": {},
     "output_type": "display_data"
    },
    {
     "data": {
      "text/plain": [
       "<Figure size 1008x504 with 0 Axes>"
      ]
     },
     "metadata": {},
     "output_type": "display_data"
    },
    {
     "data": {
      "text/plain": [
       "<Figure size 1008x504 with 0 Axes>"
      ]
     },
     "metadata": {},
     "output_type": "display_data"
    },
    {
     "data": {
      "text/plain": [
       "<Figure size 1440x720 with 0 Axes>"
      ]
     },
     "metadata": {},
     "output_type": "display_data"
    },
    {
     "data": {
      "text/plain": [
       "<Figure size 1008x504 with 0 Axes>"
      ]
     },
     "metadata": {},
     "output_type": "display_data"
    },
    {
     "data": {
      "text/plain": [
       "<Figure size 1008x504 with 0 Axes>"
      ]
     },
     "metadata": {},
     "output_type": "display_data"
    },
    {
     "data": {
      "text/plain": [
       "<Figure size 1440x720 with 0 Axes>"
      ]
     },
     "metadata": {},
     "output_type": "display_data"
    },
    {
     "data": {
      "text/plain": [
       "<Figure size 1008x504 with 0 Axes>"
      ]
     },
     "metadata": {},
     "output_type": "display_data"
    },
    {
     "data": {
      "text/plain": [
       "<Figure size 1008x504 with 0 Axes>"
      ]
     },
     "metadata": {},
     "output_type": "display_data"
    },
    {
     "data": {
      "text/plain": [
       "<Figure size 1440x720 with 0 Axes>"
      ]
     },
     "metadata": {},
     "output_type": "display_data"
    },
    {
     "data": {
      "text/plain": [
       "<Figure size 1008x504 with 0 Axes>"
      ]
     },
     "metadata": {},
     "output_type": "display_data"
    },
    {
     "data": {
      "text/plain": [
       "<Figure size 1008x504 with 0 Axes>"
      ]
     },
     "metadata": {},
     "output_type": "display_data"
    },
    {
     "data": {
      "text/plain": [
       "<Figure size 1440x720 with 0 Axes>"
      ]
     },
     "metadata": {},
     "output_type": "display_data"
    },
    {
     "data": {
      "text/plain": [
       "<Figure size 1008x504 with 0 Axes>"
      ]
     },
     "metadata": {},
     "output_type": "display_data"
    },
    {
     "data": {
      "text/plain": [
       "<Figure size 1008x504 with 0 Axes>"
      ]
     },
     "metadata": {},
     "output_type": "display_data"
    },
    {
     "data": {
      "text/plain": [
       "<Figure size 1440x720 with 0 Axes>"
      ]
     },
     "metadata": {},
     "output_type": "display_data"
    },
    {
     "data": {
      "text/plain": [
       "<Figure size 1008x504 with 0 Axes>"
      ]
     },
     "metadata": {},
     "output_type": "display_data"
    },
    {
     "data": {
      "text/plain": [
       "<Figure size 1008x504 with 0 Axes>"
      ]
     },
     "metadata": {},
     "output_type": "display_data"
    },
    {
     "data": {
      "text/plain": [
       "<Figure size 1440x720 with 0 Axes>"
      ]
     },
     "metadata": {},
     "output_type": "display_data"
    },
    {
     "data": {
      "text/plain": [
       "<Figure size 1008x504 with 0 Axes>"
      ]
     },
     "metadata": {},
     "output_type": "display_data"
    },
    {
     "data": {
      "text/plain": [
       "<Figure size 1008x504 with 0 Axes>"
      ]
     },
     "metadata": {},
     "output_type": "display_data"
    },
    {
     "data": {
      "text/plain": [
       "<Figure size 1440x720 with 0 Axes>"
      ]
     },
     "metadata": {},
     "output_type": "display_data"
    },
    {
     "data": {
      "text/plain": [
       "<Figure size 1008x504 with 0 Axes>"
      ]
     },
     "metadata": {},
     "output_type": "display_data"
    },
    {
     "data": {
      "text/plain": [
       "<Figure size 1008x504 with 0 Axes>"
      ]
     },
     "metadata": {},
     "output_type": "display_data"
    },
    {
     "data": {
      "text/plain": [
       "<Figure size 1440x720 with 0 Axes>"
      ]
     },
     "metadata": {},
     "output_type": "display_data"
    },
    {
     "data": {
      "text/plain": [
       "<Figure size 1008x504 with 0 Axes>"
      ]
     },
     "metadata": {},
     "output_type": "display_data"
    },
    {
     "data": {
      "text/plain": [
       "<Figure size 1008x504 with 0 Axes>"
      ]
     },
     "metadata": {},
     "output_type": "display_data"
    },
    {
     "data": {
      "text/plain": [
       "<Figure size 1440x720 with 0 Axes>"
      ]
     },
     "metadata": {},
     "output_type": "display_data"
    },
    {
     "data": {
      "text/plain": [
       "<Figure size 1008x504 with 0 Axes>"
      ]
     },
     "metadata": {},
     "output_type": "display_data"
    },
    {
     "data": {
      "text/plain": [
       "<Figure size 1008x504 with 0 Axes>"
      ]
     },
     "metadata": {},
     "output_type": "display_data"
    },
    {
     "data": {
      "text/plain": [
       "<Figure size 1440x720 with 0 Axes>"
      ]
     },
     "metadata": {},
     "output_type": "display_data"
    },
    {
     "data": {
      "text/plain": [
       "<Figure size 1008x504 with 0 Axes>"
      ]
     },
     "metadata": {},
     "output_type": "display_data"
    },
    {
     "data": {
      "text/plain": [
       "<Figure size 1008x504 with 0 Axes>"
      ]
     },
     "metadata": {},
     "output_type": "display_data"
    },
    {
     "data": {
      "text/plain": [
       "<Figure size 1440x720 with 0 Axes>"
      ]
     },
     "metadata": {},
     "output_type": "display_data"
    },
    {
     "data": {
      "text/plain": [
       "<Figure size 1008x504 with 0 Axes>"
      ]
     },
     "metadata": {},
     "output_type": "display_data"
    },
    {
     "data": {
      "text/plain": [
       "<Figure size 1008x504 with 0 Axes>"
      ]
     },
     "metadata": {},
     "output_type": "display_data"
    },
    {
     "data": {
      "text/plain": [
       "<Figure size 1440x720 with 0 Axes>"
      ]
     },
     "metadata": {},
     "output_type": "display_data"
    },
    {
     "data": {
      "text/plain": [
       "<Figure size 1008x504 with 0 Axes>"
      ]
     },
     "metadata": {},
     "output_type": "display_data"
    },
    {
     "data": {
      "text/plain": [
       "<Figure size 1008x504 with 0 Axes>"
      ]
     },
     "metadata": {},
     "output_type": "display_data"
    },
    {
     "data": {
      "text/plain": [
       "<Figure size 1440x720 with 0 Axes>"
      ]
     },
     "metadata": {},
     "output_type": "display_data"
    },
    {
     "data": {
      "text/plain": [
       "<Figure size 1008x504 with 0 Axes>"
      ]
     },
     "metadata": {},
     "output_type": "display_data"
    },
    {
     "data": {
      "text/plain": [
       "<Figure size 1008x504 with 0 Axes>"
      ]
     },
     "metadata": {},
     "output_type": "display_data"
    },
    {
     "data": {
      "text/plain": [
       "<Figure size 1440x720 with 0 Axes>"
      ]
     },
     "metadata": {},
     "output_type": "display_data"
    },
    {
     "data": {
      "text/plain": [
       "<Figure size 1008x504 with 0 Axes>"
      ]
     },
     "metadata": {},
     "output_type": "display_data"
    },
    {
     "data": {
      "text/plain": [
       "<Figure size 1008x504 with 0 Axes>"
      ]
     },
     "metadata": {},
     "output_type": "display_data"
    },
    {
     "data": {
      "text/plain": [
       "<Figure size 1440x720 with 0 Axes>"
      ]
     },
     "metadata": {},
     "output_type": "display_data"
    },
    {
     "data": {
      "text/plain": [
       "<Figure size 1008x504 with 0 Axes>"
      ]
     },
     "metadata": {},
     "output_type": "display_data"
    },
    {
     "data": {
      "text/plain": [
       "<Figure size 1008x504 with 0 Axes>"
      ]
     },
     "metadata": {},
     "output_type": "display_data"
    },
    {
     "data": {
      "text/plain": [
       "<Figure size 1440x720 with 0 Axes>"
      ]
     },
     "metadata": {},
     "output_type": "display_data"
    },
    {
     "data": {
      "text/plain": [
       "<Figure size 1008x504 with 0 Axes>"
      ]
     },
     "metadata": {},
     "output_type": "display_data"
    },
    {
     "data": {
      "text/plain": [
       "<Figure size 1008x504 with 0 Axes>"
      ]
     },
     "metadata": {},
     "output_type": "display_data"
    },
    {
     "data": {
      "text/plain": [
       "<Figure size 1440x720 with 0 Axes>"
      ]
     },
     "metadata": {},
     "output_type": "display_data"
    },
    {
     "data": {
      "text/plain": [
       "<Figure size 1008x504 with 0 Axes>"
      ]
     },
     "metadata": {},
     "output_type": "display_data"
    },
    {
     "data": {
      "text/plain": [
       "<Figure size 1008x504 with 0 Axes>"
      ]
     },
     "metadata": {},
     "output_type": "display_data"
    },
    {
     "data": {
      "text/plain": [
       "<Figure size 1440x720 with 0 Axes>"
      ]
     },
     "metadata": {},
     "output_type": "display_data"
    },
    {
     "data": {
      "text/plain": [
       "<Figure size 1008x504 with 0 Axes>"
      ]
     },
     "metadata": {},
     "output_type": "display_data"
    },
    {
     "data": {
      "text/plain": [
       "<Figure size 1008x504 with 0 Axes>"
      ]
     },
     "metadata": {},
     "output_type": "display_data"
    },
    {
     "data": {
      "text/plain": [
       "<Figure size 1440x720 with 0 Axes>"
      ]
     },
     "metadata": {},
     "output_type": "display_data"
    },
    {
     "data": {
      "text/plain": [
       "<Figure size 1008x504 with 0 Axes>"
      ]
     },
     "metadata": {},
     "output_type": "display_data"
    },
    {
     "data": {
      "text/plain": [
       "<Figure size 1008x504 with 0 Axes>"
      ]
     },
     "metadata": {},
     "output_type": "display_data"
    },
    {
     "data": {
      "text/plain": [
       "<Figure size 1440x720 with 0 Axes>"
      ]
     },
     "metadata": {},
     "output_type": "display_data"
    },
    {
     "data": {
      "text/plain": [
       "<Figure size 1008x504 with 0 Axes>"
      ]
     },
     "metadata": {},
     "output_type": "display_data"
    },
    {
     "data": {
      "text/plain": [
       "<Figure size 1008x504 with 0 Axes>"
      ]
     },
     "metadata": {},
     "output_type": "display_data"
    },
    {
     "data": {
      "text/plain": [
       "<Figure size 1440x720 with 0 Axes>"
      ]
     },
     "metadata": {},
     "output_type": "display_data"
    },
    {
     "data": {
      "text/plain": [
       "<Figure size 1008x504 with 0 Axes>"
      ]
     },
     "metadata": {},
     "output_type": "display_data"
    },
    {
     "data": {
      "text/plain": [
       "<Figure size 1008x504 with 0 Axes>"
      ]
     },
     "metadata": {},
     "output_type": "display_data"
    },
    {
     "data": {
      "text/plain": [
       "<Figure size 1440x720 with 0 Axes>"
      ]
     },
     "metadata": {},
     "output_type": "display_data"
    },
    {
     "data": {
      "text/plain": [
       "<Figure size 1008x504 with 0 Axes>"
      ]
     },
     "metadata": {},
     "output_type": "display_data"
    },
    {
     "data": {
      "text/plain": [
       "<Figure size 1008x504 with 0 Axes>"
      ]
     },
     "metadata": {},
     "output_type": "display_data"
    },
    {
     "data": {
      "text/plain": [
       "<Figure size 1440x720 with 0 Axes>"
      ]
     },
     "metadata": {},
     "output_type": "display_data"
    },
    {
     "data": {
      "text/plain": [
       "<Figure size 1008x504 with 0 Axes>"
      ]
     },
     "metadata": {},
     "output_type": "display_data"
    },
    {
     "data": {
      "text/plain": [
       "<Figure size 1008x504 with 0 Axes>"
      ]
     },
     "metadata": {},
     "output_type": "display_data"
    },
    {
     "data": {
      "text/plain": [
       "<Figure size 1440x720 with 0 Axes>"
      ]
     },
     "metadata": {},
     "output_type": "display_data"
    },
    {
     "data": {
      "text/plain": [
       "<Figure size 1008x504 with 0 Axes>"
      ]
     },
     "metadata": {},
     "output_type": "display_data"
    },
    {
     "data": {
      "text/plain": [
       "<Figure size 1008x504 with 0 Axes>"
      ]
     },
     "metadata": {},
     "output_type": "display_data"
    },
    {
     "data": {
      "text/plain": [
       "<Figure size 1440x720 with 0 Axes>"
      ]
     },
     "metadata": {},
     "output_type": "display_data"
    },
    {
     "data": {
      "text/plain": [
       "<Figure size 1008x504 with 0 Axes>"
      ]
     },
     "metadata": {},
     "output_type": "display_data"
    },
    {
     "data": {
      "text/plain": [
       "<Figure size 1008x504 with 0 Axes>"
      ]
     },
     "metadata": {},
     "output_type": "display_data"
    },
    {
     "data": {
      "text/plain": [
       "<Figure size 1440x720 with 0 Axes>"
      ]
     },
     "metadata": {},
     "output_type": "display_data"
    },
    {
     "data": {
      "text/plain": [
       "<Figure size 1008x504 with 0 Axes>"
      ]
     },
     "metadata": {},
     "output_type": "display_data"
    },
    {
     "data": {
      "text/plain": [
       "<Figure size 1008x504 with 0 Axes>"
      ]
     },
     "metadata": {},
     "output_type": "display_data"
    },
    {
     "data": {
      "text/plain": [
       "<Figure size 1440x720 with 0 Axes>"
      ]
     },
     "metadata": {},
     "output_type": "display_data"
    },
    {
     "data": {
      "text/plain": [
       "<Figure size 1008x504 with 0 Axes>"
      ]
     },
     "metadata": {},
     "output_type": "display_data"
    },
    {
     "data": {
      "text/plain": [
       "<Figure size 1008x504 with 0 Axes>"
      ]
     },
     "metadata": {},
     "output_type": "display_data"
    },
    {
     "data": {
      "text/plain": [
       "<Figure size 1440x720 with 0 Axes>"
      ]
     },
     "metadata": {},
     "output_type": "display_data"
    },
    {
     "data": {
      "text/plain": [
       "<Figure size 1008x504 with 0 Axes>"
      ]
     },
     "metadata": {},
     "output_type": "display_data"
    },
    {
     "data": {
      "text/plain": [
       "<Figure size 1008x504 with 0 Axes>"
      ]
     },
     "metadata": {},
     "output_type": "display_data"
    },
    {
     "data": {
      "text/plain": [
       "<Figure size 1440x720 with 0 Axes>"
      ]
     },
     "metadata": {},
     "output_type": "display_data"
    },
    {
     "data": {
      "text/plain": [
       "<Figure size 1008x504 with 0 Axes>"
      ]
     },
     "metadata": {},
     "output_type": "display_data"
    },
    {
     "data": {
      "text/plain": [
       "<Figure size 1008x504 with 0 Axes>"
      ]
     },
     "metadata": {},
     "output_type": "display_data"
    },
    {
     "data": {
      "text/plain": [
       "<Figure size 1440x720 with 0 Axes>"
      ]
     },
     "metadata": {},
     "output_type": "display_data"
    },
    {
     "data": {
      "text/plain": [
       "<Figure size 1008x504 with 0 Axes>"
      ]
     },
     "metadata": {},
     "output_type": "display_data"
    },
    {
     "data": {
      "text/plain": [
       "<Figure size 1008x504 with 0 Axes>"
      ]
     },
     "metadata": {},
     "output_type": "display_data"
    },
    {
     "data": {
      "text/plain": [
       "<Figure size 1440x720 with 0 Axes>"
      ]
     },
     "metadata": {},
     "output_type": "display_data"
    },
    {
     "data": {
      "text/plain": [
       "<Figure size 1008x504 with 0 Axes>"
      ]
     },
     "metadata": {},
     "output_type": "display_data"
    },
    {
     "data": {
      "text/plain": [
       "<Figure size 1008x504 with 0 Axes>"
      ]
     },
     "metadata": {},
     "output_type": "display_data"
    },
    {
     "data": {
      "text/plain": [
       "<Figure size 1440x720 with 0 Axes>"
      ]
     },
     "metadata": {},
     "output_type": "display_data"
    },
    {
     "data": {
      "text/plain": [
       "<Figure size 1008x504 with 0 Axes>"
      ]
     },
     "metadata": {},
     "output_type": "display_data"
    },
    {
     "data": {
      "text/plain": [
       "<Figure size 1008x504 with 0 Axes>"
      ]
     },
     "metadata": {},
     "output_type": "display_data"
    },
    {
     "data": {
      "text/plain": [
       "<Figure size 1440x720 with 0 Axes>"
      ]
     },
     "metadata": {},
     "output_type": "display_data"
    },
    {
     "data": {
      "text/plain": [
       "<Figure size 1008x504 with 0 Axes>"
      ]
     },
     "metadata": {},
     "output_type": "display_data"
    },
    {
     "data": {
      "text/plain": [
       "<Figure size 1008x504 with 0 Axes>"
      ]
     },
     "metadata": {},
     "output_type": "display_data"
    },
    {
     "data": {
      "text/plain": [
       "<Figure size 1440x720 with 0 Axes>"
      ]
     },
     "metadata": {},
     "output_type": "display_data"
    },
    {
     "data": {
      "text/plain": [
       "<Figure size 1008x504 with 0 Axes>"
      ]
     },
     "metadata": {},
     "output_type": "display_data"
    },
    {
     "data": {
      "text/plain": [
       "<Figure size 1008x504 with 0 Axes>"
      ]
     },
     "metadata": {},
     "output_type": "display_data"
    },
    {
     "data": {
      "text/plain": [
       "<Figure size 1440x720 with 0 Axes>"
      ]
     },
     "metadata": {},
     "output_type": "display_data"
    },
    {
     "data": {
      "text/plain": [
       "<Figure size 1008x504 with 0 Axes>"
      ]
     },
     "metadata": {},
     "output_type": "display_data"
    },
    {
     "data": {
      "text/plain": [
       "<Figure size 1008x504 with 0 Axes>"
      ]
     },
     "metadata": {},
     "output_type": "display_data"
    },
    {
     "data": {
      "text/plain": [
       "<Figure size 1440x720 with 0 Axes>"
      ]
     },
     "metadata": {},
     "output_type": "display_data"
    },
    {
     "data": {
      "text/plain": [
       "<Figure size 1008x504 with 0 Axes>"
      ]
     },
     "metadata": {},
     "output_type": "display_data"
    },
    {
     "data": {
      "text/plain": [
       "<Figure size 1008x504 with 0 Axes>"
      ]
     },
     "metadata": {},
     "output_type": "display_data"
    },
    {
     "data": {
      "text/plain": [
       "<Figure size 1440x720 with 0 Axes>"
      ]
     },
     "metadata": {},
     "output_type": "display_data"
    },
    {
     "data": {
      "text/plain": [
       "<Figure size 1008x504 with 0 Axes>"
      ]
     },
     "metadata": {},
     "output_type": "display_data"
    },
    {
     "data": {
      "text/plain": [
       "<Figure size 1008x504 with 0 Axes>"
      ]
     },
     "metadata": {},
     "output_type": "display_data"
    },
    {
     "data": {
      "text/plain": [
       "<Figure size 1440x720 with 0 Axes>"
      ]
     },
     "metadata": {},
     "output_type": "display_data"
    },
    {
     "data": {
      "text/plain": [
       "<Figure size 1008x504 with 0 Axes>"
      ]
     },
     "metadata": {},
     "output_type": "display_data"
    },
    {
     "data": {
      "text/plain": [
       "<Figure size 1008x504 with 0 Axes>"
      ]
     },
     "metadata": {},
     "output_type": "display_data"
    },
    {
     "data": {
      "text/plain": [
       "<Figure size 1440x720 with 0 Axes>"
      ]
     },
     "metadata": {},
     "output_type": "display_data"
    },
    {
     "data": {
      "text/plain": [
       "<Figure size 1008x504 with 0 Axes>"
      ]
     },
     "metadata": {},
     "output_type": "display_data"
    },
    {
     "data": {
      "text/plain": [
       "<Figure size 1008x504 with 0 Axes>"
      ]
     },
     "metadata": {},
     "output_type": "display_data"
    },
    {
     "data": {
      "text/plain": [
       "<Figure size 1440x720 with 0 Axes>"
      ]
     },
     "metadata": {},
     "output_type": "display_data"
    },
    {
     "data": {
      "text/plain": [
       "<Figure size 1008x504 with 0 Axes>"
      ]
     },
     "metadata": {},
     "output_type": "display_data"
    },
    {
     "data": {
      "text/plain": [
       "<Figure size 1008x504 with 0 Axes>"
      ]
     },
     "metadata": {},
     "output_type": "display_data"
    },
    {
     "data": {
      "text/plain": [
       "<Figure size 1440x720 with 0 Axes>"
      ]
     },
     "metadata": {},
     "output_type": "display_data"
    },
    {
     "data": {
      "text/plain": [
       "<Figure size 1008x504 with 0 Axes>"
      ]
     },
     "metadata": {},
     "output_type": "display_data"
    },
    {
     "data": {
      "text/plain": [
       "<Figure size 1008x504 with 0 Axes>"
      ]
     },
     "metadata": {},
     "output_type": "display_data"
    },
    {
     "data": {
      "text/plain": [
       "<Figure size 1440x720 with 0 Axes>"
      ]
     },
     "metadata": {},
     "output_type": "display_data"
    },
    {
     "data": {
      "text/plain": [
       "<Figure size 1008x504 with 0 Axes>"
      ]
     },
     "metadata": {},
     "output_type": "display_data"
    },
    {
     "data": {
      "text/plain": [
       "<Figure size 1008x504 with 0 Axes>"
      ]
     },
     "metadata": {},
     "output_type": "display_data"
    },
    {
     "data": {
      "text/plain": [
       "<Figure size 1440x720 with 0 Axes>"
      ]
     },
     "metadata": {},
     "output_type": "display_data"
    },
    {
     "data": {
      "text/plain": [
       "<Figure size 1008x504 with 0 Axes>"
      ]
     },
     "metadata": {},
     "output_type": "display_data"
    },
    {
     "data": {
      "text/plain": [
       "<Figure size 1008x504 with 0 Axes>"
      ]
     },
     "metadata": {},
     "output_type": "display_data"
    },
    {
     "data": {
      "text/plain": [
       "<Figure size 1440x720 with 0 Axes>"
      ]
     },
     "metadata": {},
     "output_type": "display_data"
    },
    {
     "data": {
      "text/plain": [
       "<Figure size 1008x504 with 0 Axes>"
      ]
     },
     "metadata": {},
     "output_type": "display_data"
    },
    {
     "data": {
      "text/plain": [
       "<Figure size 1008x504 with 0 Axes>"
      ]
     },
     "metadata": {},
     "output_type": "display_data"
    },
    {
     "data": {
      "text/plain": [
       "<Figure size 1440x720 with 0 Axes>"
      ]
     },
     "metadata": {},
     "output_type": "display_data"
    },
    {
     "data": {
      "text/plain": [
       "<Figure size 1008x504 with 0 Axes>"
      ]
     },
     "metadata": {},
     "output_type": "display_data"
    },
    {
     "data": {
      "text/plain": [
       "<Figure size 1008x504 with 0 Axes>"
      ]
     },
     "metadata": {},
     "output_type": "display_data"
    },
    {
     "data": {
      "text/plain": [
       "<Figure size 1440x720 with 0 Axes>"
      ]
     },
     "metadata": {},
     "output_type": "display_data"
    },
    {
     "data": {
      "text/plain": [
       "<Figure size 1008x504 with 0 Axes>"
      ]
     },
     "metadata": {},
     "output_type": "display_data"
    },
    {
     "data": {
      "text/plain": [
       "<Figure size 1008x504 with 0 Axes>"
      ]
     },
     "metadata": {},
     "output_type": "display_data"
    },
    {
     "data": {
      "text/plain": [
       "<Figure size 1440x720 with 0 Axes>"
      ]
     },
     "metadata": {},
     "output_type": "display_data"
    },
    {
     "data": {
      "text/plain": [
       "<Figure size 1008x504 with 0 Axes>"
      ]
     },
     "metadata": {},
     "output_type": "display_data"
    },
    {
     "data": {
      "text/plain": [
       "<Figure size 1008x504 with 0 Axes>"
      ]
     },
     "metadata": {},
     "output_type": "display_data"
    },
    {
     "data": {
      "text/plain": [
       "<Figure size 1440x720 with 0 Axes>"
      ]
     },
     "metadata": {},
     "output_type": "display_data"
    },
    {
     "data": {
      "text/plain": [
       "<Figure size 1008x504 with 0 Axes>"
      ]
     },
     "metadata": {},
     "output_type": "display_data"
    },
    {
     "data": {
      "text/plain": [
       "<Figure size 1008x504 with 0 Axes>"
      ]
     },
     "metadata": {},
     "output_type": "display_data"
    },
    {
     "data": {
      "text/plain": [
       "<Figure size 1440x720 with 0 Axes>"
      ]
     },
     "metadata": {},
     "output_type": "display_data"
    },
    {
     "data": {
      "text/plain": [
       "<Figure size 1008x504 with 0 Axes>"
      ]
     },
     "metadata": {},
     "output_type": "display_data"
    },
    {
     "data": {
      "text/plain": [
       "<Figure size 1008x504 with 0 Axes>"
      ]
     },
     "metadata": {},
     "output_type": "display_data"
    },
    {
     "data": {
      "text/plain": [
       "<Figure size 1440x720 with 0 Axes>"
      ]
     },
     "metadata": {},
     "output_type": "display_data"
    },
    {
     "data": {
      "text/plain": [
       "<Figure size 1008x504 with 0 Axes>"
      ]
     },
     "metadata": {},
     "output_type": "display_data"
    },
    {
     "data": {
      "text/plain": [
       "<Figure size 1008x504 with 0 Axes>"
      ]
     },
     "metadata": {},
     "output_type": "display_data"
    },
    {
     "data": {
      "text/plain": [
       "<Figure size 1440x720 with 0 Axes>"
      ]
     },
     "metadata": {},
     "output_type": "display_data"
    },
    {
     "data": {
      "text/plain": [
       "<Figure size 1008x504 with 0 Axes>"
      ]
     },
     "metadata": {},
     "output_type": "display_data"
    },
    {
     "data": {
      "text/plain": [
       "<Figure size 1008x504 with 0 Axes>"
      ]
     },
     "metadata": {},
     "output_type": "display_data"
    },
    {
     "data": {
      "text/plain": [
       "<Figure size 1440x720 with 0 Axes>"
      ]
     },
     "metadata": {},
     "output_type": "display_data"
    },
    {
     "data": {
      "text/plain": [
       "<Figure size 1008x504 with 0 Axes>"
      ]
     },
     "metadata": {},
     "output_type": "display_data"
    },
    {
     "data": {
      "text/plain": [
       "<Figure size 1008x504 with 0 Axes>"
      ]
     },
     "metadata": {},
     "output_type": "display_data"
    },
    {
     "data": {
      "text/plain": [
       "<Figure size 1440x720 with 0 Axes>"
      ]
     },
     "metadata": {},
     "output_type": "display_data"
    },
    {
     "data": {
      "text/plain": [
       "<Figure size 1008x504 with 0 Axes>"
      ]
     },
     "metadata": {},
     "output_type": "display_data"
    },
    {
     "data": {
      "text/plain": [
       "<Figure size 1008x504 with 0 Axes>"
      ]
     },
     "metadata": {},
     "output_type": "display_data"
    },
    {
     "data": {
      "text/plain": [
       "<Figure size 1440x720 with 0 Axes>"
      ]
     },
     "metadata": {},
     "output_type": "display_data"
    },
    {
     "data": {
      "text/plain": [
       "<Figure size 1008x504 with 0 Axes>"
      ]
     },
     "metadata": {},
     "output_type": "display_data"
    },
    {
     "data": {
      "text/plain": [
       "<Figure size 1008x504 with 0 Axes>"
      ]
     },
     "metadata": {},
     "output_type": "display_data"
    },
    {
     "data": {
      "text/plain": [
       "<Figure size 1440x720 with 0 Axes>"
      ]
     },
     "metadata": {},
     "output_type": "display_data"
    },
    {
     "data": {
      "text/plain": [
       "<Figure size 1008x504 with 0 Axes>"
      ]
     },
     "metadata": {},
     "output_type": "display_data"
    },
    {
     "data": {
      "text/plain": [
       "<Figure size 1008x504 with 0 Axes>"
      ]
     },
     "metadata": {},
     "output_type": "display_data"
    },
    {
     "data": {
      "text/plain": [
       "<Figure size 1440x720 with 0 Axes>"
      ]
     },
     "metadata": {},
     "output_type": "display_data"
    },
    {
     "data": {
      "text/plain": [
       "<Figure size 1008x504 with 0 Axes>"
      ]
     },
     "metadata": {},
     "output_type": "display_data"
    },
    {
     "data": {
      "text/plain": [
       "<Figure size 1008x504 with 0 Axes>"
      ]
     },
     "metadata": {},
     "output_type": "display_data"
    },
    {
     "data": {
      "text/plain": [
       "<Figure size 1440x720 with 0 Axes>"
      ]
     },
     "metadata": {},
     "output_type": "display_data"
    },
    {
     "data": {
      "text/plain": [
       "<Figure size 1008x504 with 0 Axes>"
      ]
     },
     "metadata": {},
     "output_type": "display_data"
    },
    {
     "data": {
      "text/plain": [
       "<Figure size 1008x504 with 0 Axes>"
      ]
     },
     "metadata": {},
     "output_type": "display_data"
    },
    {
     "data": {
      "text/plain": [
       "<Figure size 1440x720 with 0 Axes>"
      ]
     },
     "metadata": {},
     "output_type": "display_data"
    },
    {
     "data": {
      "text/plain": [
       "<Figure size 1008x504 with 0 Axes>"
      ]
     },
     "metadata": {},
     "output_type": "display_data"
    },
    {
     "data": {
      "text/plain": [
       "<Figure size 1008x504 with 0 Axes>"
      ]
     },
     "metadata": {},
     "output_type": "display_data"
    },
    {
     "data": {
      "text/plain": [
       "<Figure size 1440x720 with 0 Axes>"
      ]
     },
     "metadata": {},
     "output_type": "display_data"
    },
    {
     "data": {
      "text/plain": [
       "<Figure size 1008x504 with 0 Axes>"
      ]
     },
     "metadata": {},
     "output_type": "display_data"
    },
    {
     "data": {
      "text/plain": [
       "<Figure size 1008x504 with 0 Axes>"
      ]
     },
     "metadata": {},
     "output_type": "display_data"
    },
    {
     "data": {
      "text/plain": [
       "<Figure size 1440x720 with 0 Axes>"
      ]
     },
     "metadata": {},
     "output_type": "display_data"
    },
    {
     "data": {
      "text/plain": [
       "<Figure size 1008x504 with 0 Axes>"
      ]
     },
     "metadata": {},
     "output_type": "display_data"
    },
    {
     "data": {
      "text/plain": [
       "<Figure size 1008x504 with 0 Axes>"
      ]
     },
     "metadata": {},
     "output_type": "display_data"
    },
    {
     "data": {
      "text/plain": [
       "<Figure size 1440x720 with 0 Axes>"
      ]
     },
     "metadata": {},
     "output_type": "display_data"
    },
    {
     "data": {
      "text/plain": [
       "<Figure size 1008x504 with 0 Axes>"
      ]
     },
     "metadata": {},
     "output_type": "display_data"
    },
    {
     "data": {
      "text/plain": [
       "<Figure size 1008x504 with 0 Axes>"
      ]
     },
     "metadata": {},
     "output_type": "display_data"
    },
    {
     "data": {
      "text/plain": [
       "<Figure size 1440x720 with 0 Axes>"
      ]
     },
     "metadata": {},
     "output_type": "display_data"
    },
    {
     "data": {
      "text/plain": [
       "<Figure size 1008x504 with 0 Axes>"
      ]
     },
     "metadata": {},
     "output_type": "display_data"
    },
    {
     "data": {
      "text/plain": [
       "<Figure size 1008x504 with 0 Axes>"
      ]
     },
     "metadata": {},
     "output_type": "display_data"
    },
    {
     "data": {
      "text/plain": [
       "<Figure size 1440x720 with 0 Axes>"
      ]
     },
     "metadata": {},
     "output_type": "display_data"
    },
    {
     "data": {
      "text/plain": [
       "<Figure size 1008x504 with 0 Axes>"
      ]
     },
     "metadata": {},
     "output_type": "display_data"
    },
    {
     "data": {
      "text/plain": [
       "<Figure size 1008x504 with 0 Axes>"
      ]
     },
     "metadata": {},
     "output_type": "display_data"
    },
    {
     "data": {
      "text/plain": [
       "<Figure size 1440x720 with 0 Axes>"
      ]
     },
     "metadata": {},
     "output_type": "display_data"
    },
    {
     "data": {
      "text/plain": [
       "<Figure size 1008x504 with 0 Axes>"
      ]
     },
     "metadata": {},
     "output_type": "display_data"
    },
    {
     "data": {
      "text/plain": [
       "<Figure size 1008x504 with 0 Axes>"
      ]
     },
     "metadata": {},
     "output_type": "display_data"
    },
    {
     "data": {
      "text/plain": [
       "<Figure size 1440x720 with 0 Axes>"
      ]
     },
     "metadata": {},
     "output_type": "display_data"
    },
    {
     "data": {
      "text/plain": [
       "<Figure size 1008x504 with 0 Axes>"
      ]
     },
     "metadata": {},
     "output_type": "display_data"
    },
    {
     "data": {
      "text/plain": [
       "<Figure size 1008x504 with 0 Axes>"
      ]
     },
     "metadata": {},
     "output_type": "display_data"
    },
    {
     "data": {
      "text/plain": [
       "<Figure size 1440x720 with 0 Axes>"
      ]
     },
     "metadata": {},
     "output_type": "display_data"
    },
    {
     "data": {
      "text/plain": [
       "<Figure size 1008x504 with 0 Axes>"
      ]
     },
     "metadata": {},
     "output_type": "display_data"
    },
    {
     "data": {
      "text/plain": [
       "<Figure size 1008x504 with 0 Axes>"
      ]
     },
     "metadata": {},
     "output_type": "display_data"
    },
    {
     "data": {
      "text/plain": [
       "<Figure size 1440x720 with 0 Axes>"
      ]
     },
     "metadata": {},
     "output_type": "display_data"
    },
    {
     "data": {
      "text/plain": [
       "<Figure size 1008x504 with 0 Axes>"
      ]
     },
     "metadata": {},
     "output_type": "display_data"
    },
    {
     "data": {
      "text/plain": [
       "<Figure size 1008x504 with 0 Axes>"
      ]
     },
     "metadata": {},
     "output_type": "display_data"
    },
    {
     "data": {
      "text/plain": [
       "<Figure size 1440x720 with 0 Axes>"
      ]
     },
     "metadata": {},
     "output_type": "display_data"
    },
    {
     "data": {
      "text/plain": [
       "<Figure size 1008x504 with 0 Axes>"
      ]
     },
     "metadata": {},
     "output_type": "display_data"
    },
    {
     "data": {
      "text/plain": [
       "<Figure size 1008x504 with 0 Axes>"
      ]
     },
     "metadata": {},
     "output_type": "display_data"
    },
    {
     "data": {
      "text/plain": [
       "<Figure size 1440x720 with 0 Axes>"
      ]
     },
     "metadata": {},
     "output_type": "display_data"
    },
    {
     "data": {
      "text/plain": [
       "<Figure size 1008x504 with 0 Axes>"
      ]
     },
     "metadata": {},
     "output_type": "display_data"
    },
    {
     "data": {
      "text/plain": [
       "<Figure size 1008x504 with 0 Axes>"
      ]
     },
     "metadata": {},
     "output_type": "display_data"
    },
    {
     "data": {
      "text/plain": [
       "<Figure size 1440x720 with 0 Axes>"
      ]
     },
     "metadata": {},
     "output_type": "display_data"
    },
    {
     "data": {
      "text/plain": [
       "<Figure size 1008x504 with 0 Axes>"
      ]
     },
     "metadata": {},
     "output_type": "display_data"
    },
    {
     "data": {
      "text/plain": [
       "<Figure size 1008x504 with 0 Axes>"
      ]
     },
     "metadata": {},
     "output_type": "display_data"
    },
    {
     "data": {
      "text/plain": [
       "<Figure size 1440x720 with 0 Axes>"
      ]
     },
     "metadata": {},
     "output_type": "display_data"
    },
    {
     "data": {
      "text/plain": [
       "<Figure size 1008x504 with 0 Axes>"
      ]
     },
     "metadata": {},
     "output_type": "display_data"
    },
    {
     "data": {
      "text/plain": [
       "<Figure size 1008x504 with 0 Axes>"
      ]
     },
     "metadata": {},
     "output_type": "display_data"
    },
    {
     "data": {
      "text/plain": [
       "<Figure size 1440x720 with 0 Axes>"
      ]
     },
     "metadata": {},
     "output_type": "display_data"
    },
    {
     "data": {
      "text/plain": [
       "<Figure size 1008x504 with 0 Axes>"
      ]
     },
     "metadata": {},
     "output_type": "display_data"
    },
    {
     "data": {
      "text/plain": [
       "<Figure size 1008x504 with 0 Axes>"
      ]
     },
     "metadata": {},
     "output_type": "display_data"
    },
    {
     "data": {
      "text/plain": [
       "<Figure size 1440x720 with 0 Axes>"
      ]
     },
     "metadata": {},
     "output_type": "display_data"
    },
    {
     "data": {
      "text/plain": [
       "<Figure size 1008x504 with 0 Axes>"
      ]
     },
     "metadata": {},
     "output_type": "display_data"
    },
    {
     "data": {
      "text/plain": [
       "<Figure size 1008x504 with 0 Axes>"
      ]
     },
     "metadata": {},
     "output_type": "display_data"
    },
    {
     "data": {
      "text/plain": [
       "<Figure size 1440x720 with 0 Axes>"
      ]
     },
     "metadata": {},
     "output_type": "display_data"
    },
    {
     "data": {
      "text/plain": [
       "<Figure size 1008x504 with 0 Axes>"
      ]
     },
     "metadata": {},
     "output_type": "display_data"
    },
    {
     "data": {
      "text/plain": [
       "<Figure size 1008x504 with 0 Axes>"
      ]
     },
     "metadata": {},
     "output_type": "display_data"
    },
    {
     "data": {
      "text/plain": [
       "<Figure size 1440x720 with 0 Axes>"
      ]
     },
     "metadata": {},
     "output_type": "display_data"
    },
    {
     "data": {
      "text/plain": [
       "<Figure size 1008x504 with 0 Axes>"
      ]
     },
     "metadata": {},
     "output_type": "display_data"
    },
    {
     "data": {
      "text/plain": [
       "<Figure size 1008x504 with 0 Axes>"
      ]
     },
     "metadata": {},
     "output_type": "display_data"
    },
    {
     "data": {
      "text/plain": [
       "<Figure size 1440x720 with 0 Axes>"
      ]
     },
     "metadata": {},
     "output_type": "display_data"
    },
    {
     "data": {
      "text/plain": [
       "<Figure size 1008x504 with 0 Axes>"
      ]
     },
     "metadata": {},
     "output_type": "display_data"
    },
    {
     "data": {
      "text/plain": [
       "<Figure size 1008x504 with 0 Axes>"
      ]
     },
     "metadata": {},
     "output_type": "display_data"
    },
    {
     "data": {
      "text/plain": [
       "<Figure size 1440x720 with 0 Axes>"
      ]
     },
     "metadata": {},
     "output_type": "display_data"
    },
    {
     "data": {
      "text/plain": [
       "<Figure size 1008x504 with 0 Axes>"
      ]
     },
     "metadata": {},
     "output_type": "display_data"
    },
    {
     "data": {
      "text/plain": [
       "<Figure size 1008x504 with 0 Axes>"
      ]
     },
     "metadata": {},
     "output_type": "display_data"
    },
    {
     "data": {
      "text/plain": [
       "<Figure size 1440x720 with 0 Axes>"
      ]
     },
     "metadata": {},
     "output_type": "display_data"
    },
    {
     "data": {
      "text/plain": [
       "<Figure size 1008x504 with 0 Axes>"
      ]
     },
     "metadata": {},
     "output_type": "display_data"
    },
    {
     "data": {
      "text/plain": [
       "<Figure size 1008x504 with 0 Axes>"
      ]
     },
     "metadata": {},
     "output_type": "display_data"
    },
    {
     "data": {
      "text/plain": [
       "<Figure size 1440x720 with 0 Axes>"
      ]
     },
     "metadata": {},
     "output_type": "display_data"
    },
    {
     "data": {
      "text/plain": [
       "<Figure size 1008x504 with 0 Axes>"
      ]
     },
     "metadata": {},
     "output_type": "display_data"
    },
    {
     "data": {
      "text/plain": [
       "<Figure size 1008x504 with 0 Axes>"
      ]
     },
     "metadata": {},
     "output_type": "display_data"
    },
    {
     "data": {
      "text/plain": [
       "<Figure size 1440x720 with 0 Axes>"
      ]
     },
     "metadata": {},
     "output_type": "display_data"
    },
    {
     "data": {
      "text/plain": [
       "<Figure size 1008x504 with 0 Axes>"
      ]
     },
     "metadata": {},
     "output_type": "display_data"
    },
    {
     "data": {
      "text/plain": [
       "<Figure size 1008x504 with 0 Axes>"
      ]
     },
     "metadata": {},
     "output_type": "display_data"
    },
    {
     "data": {
      "text/plain": [
       "<Figure size 1440x720 with 0 Axes>"
      ]
     },
     "metadata": {},
     "output_type": "display_data"
    },
    {
     "data": {
      "text/plain": [
       "<Figure size 1008x504 with 0 Axes>"
      ]
     },
     "metadata": {},
     "output_type": "display_data"
    },
    {
     "data": {
      "text/plain": [
       "<Figure size 1008x504 with 0 Axes>"
      ]
     },
     "metadata": {},
     "output_type": "display_data"
    },
    {
     "data": {
      "text/plain": [
       "<Figure size 1440x720 with 0 Axes>"
      ]
     },
     "metadata": {},
     "output_type": "display_data"
    },
    {
     "data": {
      "text/plain": [
       "<Figure size 1008x504 with 0 Axes>"
      ]
     },
     "metadata": {},
     "output_type": "display_data"
    },
    {
     "data": {
      "text/plain": [
       "<Figure size 1008x504 with 0 Axes>"
      ]
     },
     "metadata": {},
     "output_type": "display_data"
    },
    {
     "data": {
      "text/plain": [
       "<Figure size 1440x720 with 0 Axes>"
      ]
     },
     "metadata": {},
     "output_type": "display_data"
    },
    {
     "data": {
      "text/plain": [
       "<Figure size 1008x504 with 0 Axes>"
      ]
     },
     "metadata": {},
     "output_type": "display_data"
    },
    {
     "data": {
      "text/plain": [
       "<Figure size 1008x504 with 0 Axes>"
      ]
     },
     "metadata": {},
     "output_type": "display_data"
    },
    {
     "data": {
      "text/plain": [
       "<Figure size 1440x720 with 0 Axes>"
      ]
     },
     "metadata": {},
     "output_type": "display_data"
    },
    {
     "data": {
      "text/plain": [
       "<Figure size 1008x504 with 0 Axes>"
      ]
     },
     "metadata": {},
     "output_type": "display_data"
    },
    {
     "data": {
      "text/plain": [
       "<Figure size 1008x504 with 0 Axes>"
      ]
     },
     "metadata": {},
     "output_type": "display_data"
    },
    {
     "data": {
      "text/plain": [
       "<Figure size 1440x720 with 0 Axes>"
      ]
     },
     "metadata": {},
     "output_type": "display_data"
    },
    {
     "data": {
      "text/plain": [
       "<Figure size 1008x504 with 0 Axes>"
      ]
     },
     "metadata": {},
     "output_type": "display_data"
    },
    {
     "data": {
      "text/plain": [
       "<Figure size 1008x504 with 0 Axes>"
      ]
     },
     "metadata": {},
     "output_type": "display_data"
    },
    {
     "data": {
      "text/plain": [
       "<Figure size 1440x720 with 0 Axes>"
      ]
     },
     "metadata": {},
     "output_type": "display_data"
    },
    {
     "data": {
      "text/plain": [
       "<Figure size 1008x504 with 0 Axes>"
      ]
     },
     "metadata": {},
     "output_type": "display_data"
    },
    {
     "data": {
      "text/plain": [
       "<Figure size 1008x504 with 0 Axes>"
      ]
     },
     "metadata": {},
     "output_type": "display_data"
    },
    {
     "data": {
      "text/plain": [
       "<Figure size 1440x720 with 0 Axes>"
      ]
     },
     "metadata": {},
     "output_type": "display_data"
    },
    {
     "data": {
      "text/plain": [
       "<Figure size 1008x504 with 0 Axes>"
      ]
     },
     "metadata": {},
     "output_type": "display_data"
    },
    {
     "data": {
      "text/plain": [
       "<Figure size 1008x504 with 0 Axes>"
      ]
     },
     "metadata": {},
     "output_type": "display_data"
    },
    {
     "data": {
      "text/plain": [
       "<Figure size 1440x720 with 0 Axes>"
      ]
     },
     "metadata": {},
     "output_type": "display_data"
    },
    {
     "data": {
      "text/plain": [
       "<Figure size 1008x504 with 0 Axes>"
      ]
     },
     "metadata": {},
     "output_type": "display_data"
    },
    {
     "data": {
      "text/plain": [
       "<Figure size 1008x504 with 0 Axes>"
      ]
     },
     "metadata": {},
     "output_type": "display_data"
    },
    {
     "data": {
      "text/plain": [
       "<Figure size 1440x720 with 0 Axes>"
      ]
     },
     "metadata": {},
     "output_type": "display_data"
    },
    {
     "data": {
      "text/plain": [
       "<Figure size 1008x504 with 0 Axes>"
      ]
     },
     "metadata": {},
     "output_type": "display_data"
    },
    {
     "data": {
      "text/plain": [
       "<Figure size 1008x504 with 0 Axes>"
      ]
     },
     "metadata": {},
     "output_type": "display_data"
    },
    {
     "data": {
      "text/plain": [
       "<Figure size 1440x720 with 0 Axes>"
      ]
     },
     "metadata": {},
     "output_type": "display_data"
    },
    {
     "data": {
      "text/plain": [
       "<Figure size 1008x504 with 0 Axes>"
      ]
     },
     "metadata": {},
     "output_type": "display_data"
    },
    {
     "data": {
      "text/plain": [
       "<Figure size 1008x504 with 0 Axes>"
      ]
     },
     "metadata": {},
     "output_type": "display_data"
    },
    {
     "data": {
      "text/plain": [
       "<Figure size 1440x720 with 0 Axes>"
      ]
     },
     "metadata": {},
     "output_type": "display_data"
    },
    {
     "data": {
      "text/plain": [
       "<Figure size 1008x504 with 0 Axes>"
      ]
     },
     "metadata": {},
     "output_type": "display_data"
    },
    {
     "data": {
      "text/plain": [
       "<Figure size 1008x504 with 0 Axes>"
      ]
     },
     "metadata": {},
     "output_type": "display_data"
    },
    {
     "data": {
      "text/plain": [
       "<Figure size 1440x720 with 0 Axes>"
      ]
     },
     "metadata": {},
     "output_type": "display_data"
    },
    {
     "data": {
      "text/plain": [
       "<Figure size 1008x504 with 0 Axes>"
      ]
     },
     "metadata": {},
     "output_type": "display_data"
    },
    {
     "data": {
      "text/plain": [
       "<Figure size 1008x504 with 0 Axes>"
      ]
     },
     "metadata": {},
     "output_type": "display_data"
    },
    {
     "data": {
      "text/plain": [
       "<Figure size 1440x720 with 0 Axes>"
      ]
     },
     "metadata": {},
     "output_type": "display_data"
    },
    {
     "data": {
      "text/plain": [
       "<Figure size 1008x504 with 0 Axes>"
      ]
     },
     "metadata": {},
     "output_type": "display_data"
    },
    {
     "data": {
      "text/plain": [
       "<Figure size 1008x504 with 0 Axes>"
      ]
     },
     "metadata": {},
     "output_type": "display_data"
    },
    {
     "data": {
      "text/plain": [
       "<Figure size 1440x720 with 0 Axes>"
      ]
     },
     "metadata": {},
     "output_type": "display_data"
    },
    {
     "data": {
      "text/plain": [
       "<Figure size 1008x504 with 0 Axes>"
      ]
     },
     "metadata": {},
     "output_type": "display_data"
    },
    {
     "data": {
      "text/plain": [
       "<Figure size 1008x504 with 0 Axes>"
      ]
     },
     "metadata": {},
     "output_type": "display_data"
    },
    {
     "data": {
      "text/plain": [
       "<Figure size 1440x720 with 0 Axes>"
      ]
     },
     "metadata": {},
     "output_type": "display_data"
    },
    {
     "data": {
      "text/plain": [
       "<Figure size 1008x504 with 0 Axes>"
      ]
     },
     "metadata": {},
     "output_type": "display_data"
    },
    {
     "data": {
      "text/plain": [
       "<Figure size 1008x504 with 0 Axes>"
      ]
     },
     "metadata": {},
     "output_type": "display_data"
    },
    {
     "data": {
      "text/plain": [
       "<Figure size 1440x720 with 0 Axes>"
      ]
     },
     "metadata": {},
     "output_type": "display_data"
    },
    {
     "data": {
      "text/plain": [
       "<Figure size 1008x504 with 0 Axes>"
      ]
     },
     "metadata": {},
     "output_type": "display_data"
    },
    {
     "data": {
      "text/plain": [
       "<Figure size 1008x504 with 0 Axes>"
      ]
     },
     "metadata": {},
     "output_type": "display_data"
    },
    {
     "data": {
      "text/plain": [
       "<Figure size 1440x720 with 0 Axes>"
      ]
     },
     "metadata": {},
     "output_type": "display_data"
    },
    {
     "data": {
      "text/plain": [
       "<Figure size 1008x504 with 0 Axes>"
      ]
     },
     "metadata": {},
     "output_type": "display_data"
    },
    {
     "data": {
      "text/plain": [
       "<Figure size 1008x504 with 0 Axes>"
      ]
     },
     "metadata": {},
     "output_type": "display_data"
    },
    {
     "data": {
      "text/plain": [
       "<Figure size 1440x720 with 0 Axes>"
      ]
     },
     "metadata": {},
     "output_type": "display_data"
    },
    {
     "data": {
      "text/plain": [
       "<Figure size 1008x504 with 0 Axes>"
      ]
     },
     "metadata": {},
     "output_type": "display_data"
    },
    {
     "data": {
      "text/plain": [
       "<Figure size 1008x504 with 0 Axes>"
      ]
     },
     "metadata": {},
     "output_type": "display_data"
    },
    {
     "data": {
      "text/plain": [
       "<Figure size 1440x720 with 0 Axes>"
      ]
     },
     "metadata": {},
     "output_type": "display_data"
    },
    {
     "data": {
      "text/plain": [
       "<Figure size 1008x504 with 0 Axes>"
      ]
     },
     "metadata": {},
     "output_type": "display_data"
    },
    {
     "data": {
      "text/plain": [
       "<Figure size 1008x504 with 0 Axes>"
      ]
     },
     "metadata": {},
     "output_type": "display_data"
    },
    {
     "data": {
      "text/plain": [
       "<Figure size 1440x720 with 0 Axes>"
      ]
     },
     "metadata": {},
     "output_type": "display_data"
    },
    {
     "data": {
      "text/plain": [
       "<Figure size 1008x504 with 0 Axes>"
      ]
     },
     "metadata": {},
     "output_type": "display_data"
    },
    {
     "data": {
      "text/plain": [
       "<Figure size 1008x504 with 0 Axes>"
      ]
     },
     "metadata": {},
     "output_type": "display_data"
    },
    {
     "data": {
      "text/plain": [
       "<Figure size 1440x720 with 0 Axes>"
      ]
     },
     "metadata": {},
     "output_type": "display_data"
    },
    {
     "data": {
      "text/plain": [
       "<Figure size 1008x504 with 0 Axes>"
      ]
     },
     "metadata": {},
     "output_type": "display_data"
    },
    {
     "data": {
      "text/plain": [
       "<Figure size 1008x504 with 0 Axes>"
      ]
     },
     "metadata": {},
     "output_type": "display_data"
    },
    {
     "data": {
      "text/plain": [
       "<Figure size 1440x720 with 0 Axes>"
      ]
     },
     "metadata": {},
     "output_type": "display_data"
    },
    {
     "data": {
      "text/plain": [
       "<Figure size 1008x504 with 0 Axes>"
      ]
     },
     "metadata": {},
     "output_type": "display_data"
    },
    {
     "data": {
      "text/plain": [
       "<Figure size 1008x504 with 0 Axes>"
      ]
     },
     "metadata": {},
     "output_type": "display_data"
    },
    {
     "data": {
      "text/plain": [
       "<Figure size 1440x720 with 0 Axes>"
      ]
     },
     "metadata": {},
     "output_type": "display_data"
    },
    {
     "data": {
      "text/plain": [
       "<Figure size 1008x504 with 0 Axes>"
      ]
     },
     "metadata": {},
     "output_type": "display_data"
    },
    {
     "data": {
      "text/plain": [
       "<Figure size 1008x504 with 0 Axes>"
      ]
     },
     "metadata": {},
     "output_type": "display_data"
    },
    {
     "data": {
      "text/plain": [
       "<Figure size 1440x720 with 0 Axes>"
      ]
     },
     "metadata": {},
     "output_type": "display_data"
    },
    {
     "data": {
      "text/plain": [
       "<Figure size 1008x504 with 0 Axes>"
      ]
     },
     "metadata": {},
     "output_type": "display_data"
    },
    {
     "data": {
      "text/plain": [
       "<Figure size 1008x504 with 0 Axes>"
      ]
     },
     "metadata": {},
     "output_type": "display_data"
    },
    {
     "data": {
      "text/plain": [
       "<Figure size 1440x720 with 0 Axes>"
      ]
     },
     "metadata": {},
     "output_type": "display_data"
    },
    {
     "data": {
      "text/plain": [
       "<Figure size 1008x504 with 0 Axes>"
      ]
     },
     "metadata": {},
     "output_type": "display_data"
    },
    {
     "data": {
      "text/plain": [
       "<Figure size 1008x504 with 0 Axes>"
      ]
     },
     "metadata": {},
     "output_type": "display_data"
    },
    {
     "data": {
      "text/plain": [
       "<Figure size 1440x720 with 0 Axes>"
      ]
     },
     "metadata": {},
     "output_type": "display_data"
    },
    {
     "data": {
      "text/plain": [
       "<Figure size 1008x504 with 0 Axes>"
      ]
     },
     "metadata": {},
     "output_type": "display_data"
    },
    {
     "data": {
      "text/plain": [
       "<Figure size 1008x504 with 0 Axes>"
      ]
     },
     "metadata": {},
     "output_type": "display_data"
    },
    {
     "data": {
      "text/plain": [
       "<Figure size 1440x720 with 0 Axes>"
      ]
     },
     "metadata": {},
     "output_type": "display_data"
    },
    {
     "data": {
      "text/plain": [
       "<Figure size 1008x504 with 0 Axes>"
      ]
     },
     "metadata": {},
     "output_type": "display_data"
    },
    {
     "data": {
      "text/plain": [
       "<Figure size 1008x504 with 0 Axes>"
      ]
     },
     "metadata": {},
     "output_type": "display_data"
    },
    {
     "data": {
      "text/plain": [
       "<Figure size 1440x720 with 0 Axes>"
      ]
     },
     "metadata": {},
     "output_type": "display_data"
    },
    {
     "data": {
      "text/plain": [
       "<Figure size 1008x504 with 0 Axes>"
      ]
     },
     "metadata": {},
     "output_type": "display_data"
    },
    {
     "data": {
      "text/plain": [
       "<Figure size 1008x504 with 0 Axes>"
      ]
     },
     "metadata": {},
     "output_type": "display_data"
    },
    {
     "data": {
      "text/plain": [
       "<Figure size 1440x720 with 0 Axes>"
      ]
     },
     "metadata": {},
     "output_type": "display_data"
    },
    {
     "data": {
      "text/plain": [
       "<Figure size 1008x504 with 0 Axes>"
      ]
     },
     "metadata": {},
     "output_type": "display_data"
    },
    {
     "data": {
      "text/plain": [
       "<Figure size 1008x504 with 0 Axes>"
      ]
     },
     "metadata": {},
     "output_type": "display_data"
    },
    {
     "data": {
      "text/plain": [
       "<Figure size 1440x720 with 0 Axes>"
      ]
     },
     "metadata": {},
     "output_type": "display_data"
    },
    {
     "data": {
      "text/plain": [
       "<Figure size 1008x504 with 0 Axes>"
      ]
     },
     "metadata": {},
     "output_type": "display_data"
    },
    {
     "data": {
      "text/plain": [
       "<Figure size 1008x504 with 0 Axes>"
      ]
     },
     "metadata": {},
     "output_type": "display_data"
    },
    {
     "data": {
      "text/plain": [
       "<Figure size 1440x720 with 0 Axes>"
      ]
     },
     "metadata": {},
     "output_type": "display_data"
    },
    {
     "data": {
      "text/plain": [
       "<Figure size 1008x504 with 0 Axes>"
      ]
     },
     "metadata": {},
     "output_type": "display_data"
    },
    {
     "data": {
      "text/plain": [
       "<Figure size 1008x504 with 0 Axes>"
      ]
     },
     "metadata": {},
     "output_type": "display_data"
    },
    {
     "data": {
      "text/plain": [
       "<Figure size 1440x720 with 0 Axes>"
      ]
     },
     "metadata": {},
     "output_type": "display_data"
    },
    {
     "data": {
      "text/plain": [
       "<Figure size 1008x504 with 0 Axes>"
      ]
     },
     "metadata": {},
     "output_type": "display_data"
    },
    {
     "data": {
      "text/plain": [
       "<Figure size 1008x504 with 0 Axes>"
      ]
     },
     "metadata": {},
     "output_type": "display_data"
    },
    {
     "data": {
      "text/plain": [
       "<Figure size 1440x720 with 0 Axes>"
      ]
     },
     "metadata": {},
     "output_type": "display_data"
    },
    {
     "data": {
      "text/plain": [
       "<Figure size 1008x504 with 0 Axes>"
      ]
     },
     "metadata": {},
     "output_type": "display_data"
    },
    {
     "data": {
      "text/plain": [
       "<Figure size 1008x504 with 0 Axes>"
      ]
     },
     "metadata": {},
     "output_type": "display_data"
    },
    {
     "data": {
      "text/plain": [
       "<Figure size 1440x720 with 0 Axes>"
      ]
     },
     "metadata": {},
     "output_type": "display_data"
    },
    {
     "data": {
      "text/plain": [
       "<Figure size 1008x504 with 0 Axes>"
      ]
     },
     "metadata": {},
     "output_type": "display_data"
    },
    {
     "data": {
      "text/plain": [
       "<Figure size 1008x504 with 0 Axes>"
      ]
     },
     "metadata": {},
     "output_type": "display_data"
    },
    {
     "data": {
      "text/plain": [
       "<Figure size 1440x720 with 0 Axes>"
      ]
     },
     "metadata": {},
     "output_type": "display_data"
    },
    {
     "data": {
      "text/plain": [
       "<Figure size 1008x504 with 0 Axes>"
      ]
     },
     "metadata": {},
     "output_type": "display_data"
    },
    {
     "data": {
      "text/plain": [
       "<Figure size 1008x504 with 0 Axes>"
      ]
     },
     "metadata": {},
     "output_type": "display_data"
    },
    {
     "data": {
      "text/plain": [
       "<Figure size 1440x720 with 0 Axes>"
      ]
     },
     "metadata": {},
     "output_type": "display_data"
    },
    {
     "data": {
      "text/plain": [
       "<Figure size 1008x504 with 0 Axes>"
      ]
     },
     "metadata": {},
     "output_type": "display_data"
    },
    {
     "data": {
      "text/plain": [
       "<Figure size 1008x504 with 0 Axes>"
      ]
     },
     "metadata": {},
     "output_type": "display_data"
    },
    {
     "data": {
      "text/plain": [
       "<Figure size 1440x720 with 0 Axes>"
      ]
     },
     "metadata": {},
     "output_type": "display_data"
    },
    {
     "data": {
      "text/plain": [
       "<Figure size 1008x504 with 0 Axes>"
      ]
     },
     "metadata": {},
     "output_type": "display_data"
    },
    {
     "data": {
      "text/plain": [
       "<Figure size 1008x504 with 0 Axes>"
      ]
     },
     "metadata": {},
     "output_type": "display_data"
    },
    {
     "data": {
      "text/plain": [
       "<Figure size 1440x720 with 0 Axes>"
      ]
     },
     "metadata": {},
     "output_type": "display_data"
    },
    {
     "data": {
      "text/plain": [
       "<Figure size 1008x504 with 0 Axes>"
      ]
     },
     "metadata": {},
     "output_type": "display_data"
    },
    {
     "data": {
      "text/plain": [
       "<Figure size 1008x504 with 0 Axes>"
      ]
     },
     "metadata": {},
     "output_type": "display_data"
    },
    {
     "data": {
      "text/plain": [
       "<Figure size 1440x720 with 0 Axes>"
      ]
     },
     "metadata": {},
     "output_type": "display_data"
    },
    {
     "data": {
      "text/plain": [
       "<Figure size 1008x504 with 0 Axes>"
      ]
     },
     "metadata": {},
     "output_type": "display_data"
    },
    {
     "data": {
      "text/plain": [
       "<Figure size 1008x504 with 0 Axes>"
      ]
     },
     "metadata": {},
     "output_type": "display_data"
    },
    {
     "data": {
      "text/plain": [
       "<Figure size 1440x720 with 0 Axes>"
      ]
     },
     "metadata": {},
     "output_type": "display_data"
    },
    {
     "data": {
      "text/plain": [
       "<Figure size 1008x504 with 0 Axes>"
      ]
     },
     "metadata": {},
     "output_type": "display_data"
    },
    {
     "data": {
      "text/plain": [
       "<Figure size 1008x504 with 0 Axes>"
      ]
     },
     "metadata": {},
     "output_type": "display_data"
    },
    {
     "data": {
      "text/plain": [
       "<Figure size 1440x720 with 0 Axes>"
      ]
     },
     "metadata": {},
     "output_type": "display_data"
    },
    {
     "data": {
      "text/plain": [
       "<Figure size 1008x504 with 0 Axes>"
      ]
     },
     "metadata": {},
     "output_type": "display_data"
    },
    {
     "data": {
      "text/plain": [
       "<Figure size 1008x504 with 0 Axes>"
      ]
     },
     "metadata": {},
     "output_type": "display_data"
    },
    {
     "data": {
      "text/plain": [
       "<Figure size 1440x720 with 0 Axes>"
      ]
     },
     "metadata": {},
     "output_type": "display_data"
    },
    {
     "data": {
      "text/plain": [
       "<Figure size 1008x504 with 0 Axes>"
      ]
     },
     "metadata": {},
     "output_type": "display_data"
    },
    {
     "data": {
      "text/plain": [
       "<Figure size 1008x504 with 0 Axes>"
      ]
     },
     "metadata": {},
     "output_type": "display_data"
    },
    {
     "data": {
      "text/plain": [
       "<Figure size 1440x720 with 0 Axes>"
      ]
     },
     "metadata": {},
     "output_type": "display_data"
    },
    {
     "data": {
      "text/plain": [
       "<Figure size 1008x504 with 0 Axes>"
      ]
     },
     "metadata": {},
     "output_type": "display_data"
    },
    {
     "data": {
      "text/plain": [
       "<Figure size 1008x504 with 0 Axes>"
      ]
     },
     "metadata": {},
     "output_type": "display_data"
    },
    {
     "data": {
      "text/plain": [
       "<Figure size 1440x720 with 0 Axes>"
      ]
     },
     "metadata": {},
     "output_type": "display_data"
    },
    {
     "data": {
      "text/plain": [
       "<Figure size 1008x504 with 0 Axes>"
      ]
     },
     "metadata": {},
     "output_type": "display_data"
    },
    {
     "data": {
      "text/plain": [
       "<Figure size 1008x504 with 0 Axes>"
      ]
     },
     "metadata": {},
     "output_type": "display_data"
    },
    {
     "data": {
      "text/plain": [
       "<Figure size 1440x720 with 0 Axes>"
      ]
     },
     "metadata": {},
     "output_type": "display_data"
    },
    {
     "data": {
      "text/plain": [
       "<Figure size 1008x504 with 0 Axes>"
      ]
     },
     "metadata": {},
     "output_type": "display_data"
    },
    {
     "data": {
      "text/plain": [
       "<Figure size 1008x504 with 0 Axes>"
      ]
     },
     "metadata": {},
     "output_type": "display_data"
    },
    {
     "data": {
      "text/plain": [
       "<Figure size 1440x720 with 0 Axes>"
      ]
     },
     "metadata": {},
     "output_type": "display_data"
    },
    {
     "data": {
      "text/plain": [
       "<Figure size 1008x504 with 0 Axes>"
      ]
     },
     "metadata": {},
     "output_type": "display_data"
    },
    {
     "data": {
      "text/plain": [
       "<Figure size 1008x504 with 0 Axes>"
      ]
     },
     "metadata": {},
     "output_type": "display_data"
    },
    {
     "data": {
      "text/plain": [
       "<Figure size 1440x720 with 0 Axes>"
      ]
     },
     "metadata": {},
     "output_type": "display_data"
    },
    {
     "data": {
      "text/plain": [
       "<Figure size 1008x504 with 0 Axes>"
      ]
     },
     "metadata": {},
     "output_type": "display_data"
    },
    {
     "data": {
      "text/plain": [
       "<Figure size 1008x504 with 0 Axes>"
      ]
     },
     "metadata": {},
     "output_type": "display_data"
    },
    {
     "data": {
      "text/plain": [
       "<Figure size 1440x720 with 0 Axes>"
      ]
     },
     "metadata": {},
     "output_type": "display_data"
    },
    {
     "data": {
      "text/plain": [
       "<Figure size 1008x504 with 0 Axes>"
      ]
     },
     "metadata": {},
     "output_type": "display_data"
    },
    {
     "data": {
      "text/plain": [
       "<Figure size 1008x504 with 0 Axes>"
      ]
     },
     "metadata": {},
     "output_type": "display_data"
    },
    {
     "data": {
      "text/plain": [
       "<Figure size 1440x720 with 0 Axes>"
      ]
     },
     "metadata": {},
     "output_type": "display_data"
    },
    {
     "data": {
      "text/plain": [
       "<Figure size 1008x504 with 0 Axes>"
      ]
     },
     "metadata": {},
     "output_type": "display_data"
    },
    {
     "data": {
      "text/plain": [
       "<Figure size 1008x504 with 0 Axes>"
      ]
     },
     "metadata": {},
     "output_type": "display_data"
    },
    {
     "data": {
      "text/plain": [
       "<Figure size 1440x720 with 0 Axes>"
      ]
     },
     "metadata": {},
     "output_type": "display_data"
    },
    {
     "data": {
      "text/plain": [
       "<Figure size 1008x504 with 0 Axes>"
      ]
     },
     "metadata": {},
     "output_type": "display_data"
    },
    {
     "data": {
      "text/plain": [
       "<Figure size 1008x504 with 0 Axes>"
      ]
     },
     "metadata": {},
     "output_type": "display_data"
    },
    {
     "data": {
      "text/plain": [
       "<Figure size 1440x720 with 0 Axes>"
      ]
     },
     "metadata": {},
     "output_type": "display_data"
    },
    {
     "data": {
      "text/plain": [
       "<Figure size 1008x504 with 0 Axes>"
      ]
     },
     "metadata": {},
     "output_type": "display_data"
    },
    {
     "data": {
      "text/plain": [
       "<Figure size 1008x504 with 0 Axes>"
      ]
     },
     "metadata": {},
     "output_type": "display_data"
    },
    {
     "data": {
      "text/plain": [
       "<Figure size 1440x720 with 0 Axes>"
      ]
     },
     "metadata": {},
     "output_type": "display_data"
    },
    {
     "data": {
      "text/plain": [
       "<Figure size 1008x504 with 0 Axes>"
      ]
     },
     "metadata": {},
     "output_type": "display_data"
    },
    {
     "data": {
      "text/plain": [
       "<Figure size 1008x504 with 0 Axes>"
      ]
     },
     "metadata": {},
     "output_type": "display_data"
    },
    {
     "data": {
      "text/plain": [
       "<Figure size 1440x720 with 0 Axes>"
      ]
     },
     "metadata": {},
     "output_type": "display_data"
    },
    {
     "data": {
      "text/plain": [
       "<Figure size 1008x504 with 0 Axes>"
      ]
     },
     "metadata": {},
     "output_type": "display_data"
    },
    {
     "data": {
      "text/plain": [
       "<Figure size 1008x504 with 0 Axes>"
      ]
     },
     "metadata": {},
     "output_type": "display_data"
    },
    {
     "data": {
      "text/plain": [
       "<Figure size 1440x720 with 0 Axes>"
      ]
     },
     "metadata": {},
     "output_type": "display_data"
    },
    {
     "data": {
      "text/plain": [
       "<Figure size 1008x504 with 0 Axes>"
      ]
     },
     "metadata": {},
     "output_type": "display_data"
    },
    {
     "data": {
      "text/plain": [
       "<Figure size 1008x504 with 0 Axes>"
      ]
     },
     "metadata": {},
     "output_type": "display_data"
    },
    {
     "data": {
      "text/plain": [
       "<Figure size 1440x720 with 0 Axes>"
      ]
     },
     "metadata": {},
     "output_type": "display_data"
    },
    {
     "data": {
      "text/plain": [
       "<Figure size 1008x504 with 0 Axes>"
      ]
     },
     "metadata": {},
     "output_type": "display_data"
    },
    {
     "data": {
      "text/plain": [
       "<Figure size 1008x504 with 0 Axes>"
      ]
     },
     "metadata": {},
     "output_type": "display_data"
    },
    {
     "data": {
      "text/plain": [
       "<Figure size 1440x720 with 0 Axes>"
      ]
     },
     "metadata": {},
     "output_type": "display_data"
    },
    {
     "data": {
      "text/plain": [
       "<Figure size 1008x504 with 0 Axes>"
      ]
     },
     "metadata": {},
     "output_type": "display_data"
    },
    {
     "data": {
      "text/plain": [
       "<Figure size 1008x504 with 0 Axes>"
      ]
     },
     "metadata": {},
     "output_type": "display_data"
    },
    {
     "data": {
      "text/plain": [
       "<Figure size 1440x720 with 0 Axes>"
      ]
     },
     "metadata": {},
     "output_type": "display_data"
    },
    {
     "data": {
      "text/plain": [
       "<Figure size 1008x504 with 0 Axes>"
      ]
     },
     "metadata": {},
     "output_type": "display_data"
    },
    {
     "data": {
      "text/plain": [
       "<Figure size 1008x504 with 0 Axes>"
      ]
     },
     "metadata": {},
     "output_type": "display_data"
    },
    {
     "data": {
      "text/plain": [
       "<Figure size 1440x720 with 0 Axes>"
      ]
     },
     "metadata": {},
     "output_type": "display_data"
    },
    {
     "data": {
      "text/plain": [
       "<Figure size 1008x504 with 0 Axes>"
      ]
     },
     "metadata": {},
     "output_type": "display_data"
    },
    {
     "data": {
      "text/plain": [
       "<Figure size 1008x504 with 0 Axes>"
      ]
     },
     "metadata": {},
     "output_type": "display_data"
    },
    {
     "data": {
      "text/plain": [
       "<Figure size 1440x720 with 0 Axes>"
      ]
     },
     "metadata": {},
     "output_type": "display_data"
    },
    {
     "data": {
      "text/plain": [
       "<Figure size 1008x504 with 0 Axes>"
      ]
     },
     "metadata": {},
     "output_type": "display_data"
    },
    {
     "data": {
      "text/plain": [
       "<Figure size 1008x504 with 0 Axes>"
      ]
     },
     "metadata": {},
     "output_type": "display_data"
    },
    {
     "data": {
      "text/plain": [
       "<Figure size 1440x720 with 0 Axes>"
      ]
     },
     "metadata": {},
     "output_type": "display_data"
    },
    {
     "data": {
      "text/plain": [
       "<Figure size 1008x504 with 0 Axes>"
      ]
     },
     "metadata": {},
     "output_type": "display_data"
    },
    {
     "data": {
      "text/plain": [
       "<Figure size 1008x504 with 0 Axes>"
      ]
     },
     "metadata": {},
     "output_type": "display_data"
    },
    {
     "data": {
      "text/plain": [
       "<Figure size 1440x720 with 0 Axes>"
      ]
     },
     "metadata": {},
     "output_type": "display_data"
    },
    {
     "data": {
      "text/plain": [
       "<Figure size 1008x504 with 0 Axes>"
      ]
     },
     "metadata": {},
     "output_type": "display_data"
    },
    {
     "data": {
      "text/plain": [
       "<Figure size 1008x504 with 0 Axes>"
      ]
     },
     "metadata": {},
     "output_type": "display_data"
    },
    {
     "data": {
      "text/plain": [
       "<Figure size 1440x720 with 0 Axes>"
      ]
     },
     "metadata": {},
     "output_type": "display_data"
    },
    {
     "data": {
      "text/plain": [
       "<Figure size 1008x504 with 0 Axes>"
      ]
     },
     "metadata": {},
     "output_type": "display_data"
    },
    {
     "data": {
      "text/plain": [
       "<Figure size 1008x504 with 0 Axes>"
      ]
     },
     "metadata": {},
     "output_type": "display_data"
    },
    {
     "data": {
      "text/plain": [
       "<Figure size 1440x720 with 0 Axes>"
      ]
     },
     "metadata": {},
     "output_type": "display_data"
    },
    {
     "data": {
      "text/plain": [
       "<Figure size 1008x504 with 0 Axes>"
      ]
     },
     "metadata": {},
     "output_type": "display_data"
    },
    {
     "data": {
      "text/plain": [
       "<Figure size 1008x504 with 0 Axes>"
      ]
     },
     "metadata": {},
     "output_type": "display_data"
    },
    {
     "data": {
      "text/plain": [
       "<Figure size 1440x720 with 0 Axes>"
      ]
     },
     "metadata": {},
     "output_type": "display_data"
    },
    {
     "data": {
      "text/plain": [
       "<Figure size 1008x504 with 0 Axes>"
      ]
     },
     "metadata": {},
     "output_type": "display_data"
    },
    {
     "data": {
      "text/plain": [
       "<Figure size 1008x504 with 0 Axes>"
      ]
     },
     "metadata": {},
     "output_type": "display_data"
    },
    {
     "data": {
      "text/plain": [
       "<Figure size 1440x720 with 0 Axes>"
      ]
     },
     "metadata": {},
     "output_type": "display_data"
    },
    {
     "data": {
      "text/plain": [
       "<Figure size 1008x504 with 0 Axes>"
      ]
     },
     "metadata": {},
     "output_type": "display_data"
    },
    {
     "data": {
      "text/plain": [
       "<Figure size 1008x504 with 0 Axes>"
      ]
     },
     "metadata": {},
     "output_type": "display_data"
    },
    {
     "data": {
      "text/plain": [
       "<Figure size 1440x720 with 0 Axes>"
      ]
     },
     "metadata": {},
     "output_type": "display_data"
    },
    {
     "data": {
      "text/plain": [
       "<Figure size 1008x504 with 0 Axes>"
      ]
     },
     "metadata": {},
     "output_type": "display_data"
    },
    {
     "data": {
      "text/plain": [
       "<Figure size 1008x504 with 0 Axes>"
      ]
     },
     "metadata": {},
     "output_type": "display_data"
    },
    {
     "data": {
      "text/plain": [
       "<Figure size 1440x720 with 0 Axes>"
      ]
     },
     "metadata": {},
     "output_type": "display_data"
    },
    {
     "data": {
      "text/plain": [
       "<Figure size 1008x504 with 0 Axes>"
      ]
     },
     "metadata": {},
     "output_type": "display_data"
    },
    {
     "data": {
      "text/plain": [
       "<Figure size 1008x504 with 0 Axes>"
      ]
     },
     "metadata": {},
     "output_type": "display_data"
    },
    {
     "data": {
      "text/plain": [
       "<Figure size 1440x720 with 0 Axes>"
      ]
     },
     "metadata": {},
     "output_type": "display_data"
    },
    {
     "data": {
      "text/plain": [
       "<Figure size 1008x504 with 0 Axes>"
      ]
     },
     "metadata": {},
     "output_type": "display_data"
    },
    {
     "data": {
      "text/plain": [
       "<Figure size 1008x504 with 0 Axes>"
      ]
     },
     "metadata": {},
     "output_type": "display_data"
    },
    {
     "data": {
      "text/plain": [
       "<Figure size 1440x720 with 0 Axes>"
      ]
     },
     "metadata": {},
     "output_type": "display_data"
    },
    {
     "data": {
      "text/plain": [
       "<Figure size 1008x504 with 0 Axes>"
      ]
     },
     "metadata": {},
     "output_type": "display_data"
    },
    {
     "data": {
      "text/plain": [
       "<Figure size 1008x504 with 0 Axes>"
      ]
     },
     "metadata": {},
     "output_type": "display_data"
    },
    {
     "data": {
      "text/plain": [
       "<Figure size 1440x720 with 0 Axes>"
      ]
     },
     "metadata": {},
     "output_type": "display_data"
    },
    {
     "data": {
      "text/plain": [
       "<Figure size 1008x504 with 0 Axes>"
      ]
     },
     "metadata": {},
     "output_type": "display_data"
    },
    {
     "data": {
      "text/plain": [
       "<Figure size 1008x504 with 0 Axes>"
      ]
     },
     "metadata": {},
     "output_type": "display_data"
    },
    {
     "data": {
      "text/plain": [
       "<Figure size 1440x720 with 0 Axes>"
      ]
     },
     "metadata": {},
     "output_type": "display_data"
    },
    {
     "data": {
      "text/plain": [
       "<Figure size 1008x504 with 0 Axes>"
      ]
     },
     "metadata": {},
     "output_type": "display_data"
    },
    {
     "data": {
      "text/plain": [
       "<Figure size 1008x504 with 0 Axes>"
      ]
     },
     "metadata": {},
     "output_type": "display_data"
    },
    {
     "data": {
      "text/plain": [
       "<Figure size 1440x720 with 0 Axes>"
      ]
     },
     "metadata": {},
     "output_type": "display_data"
    },
    {
     "data": {
      "text/plain": [
       "<Figure size 1008x504 with 0 Axes>"
      ]
     },
     "metadata": {},
     "output_type": "display_data"
    },
    {
     "data": {
      "text/plain": [
       "<Figure size 1008x504 with 0 Axes>"
      ]
     },
     "metadata": {},
     "output_type": "display_data"
    },
    {
     "data": {
      "text/plain": [
       "<Figure size 1440x720 with 0 Axes>"
      ]
     },
     "metadata": {},
     "output_type": "display_data"
    },
    {
     "data": {
      "text/plain": [
       "<Figure size 1008x504 with 0 Axes>"
      ]
     },
     "metadata": {},
     "output_type": "display_data"
    },
    {
     "data": {
      "text/plain": [
       "<Figure size 1008x504 with 0 Axes>"
      ]
     },
     "metadata": {},
     "output_type": "display_data"
    },
    {
     "data": {
      "text/plain": [
       "<Figure size 1440x720 with 0 Axes>"
      ]
     },
     "metadata": {},
     "output_type": "display_data"
    },
    {
     "data": {
      "text/plain": [
       "<Figure size 1008x504 with 0 Axes>"
      ]
     },
     "metadata": {},
     "output_type": "display_data"
    },
    {
     "data": {
      "text/plain": [
       "<Figure size 1008x504 with 0 Axes>"
      ]
     },
     "metadata": {},
     "output_type": "display_data"
    },
    {
     "data": {
      "text/plain": [
       "<Figure size 1440x720 with 0 Axes>"
      ]
     },
     "metadata": {},
     "output_type": "display_data"
    },
    {
     "data": {
      "text/plain": [
       "<Figure size 1008x504 with 0 Axes>"
      ]
     },
     "metadata": {},
     "output_type": "display_data"
    },
    {
     "data": {
      "text/plain": [
       "<Figure size 1008x504 with 0 Axes>"
      ]
     },
     "metadata": {},
     "output_type": "display_data"
    },
    {
     "data": {
      "text/plain": [
       "<Figure size 1440x720 with 0 Axes>"
      ]
     },
     "metadata": {},
     "output_type": "display_data"
    },
    {
     "data": {
      "text/plain": [
       "<Figure size 1008x504 with 0 Axes>"
      ]
     },
     "metadata": {},
     "output_type": "display_data"
    },
    {
     "data": {
      "text/plain": [
       "<Figure size 1008x504 with 0 Axes>"
      ]
     },
     "metadata": {},
     "output_type": "display_data"
    },
    {
     "data": {
      "text/plain": [
       "<Figure size 1440x720 with 0 Axes>"
      ]
     },
     "metadata": {},
     "output_type": "display_data"
    },
    {
     "data": {
      "text/plain": [
       "<Figure size 1008x504 with 0 Axes>"
      ]
     },
     "metadata": {},
     "output_type": "display_data"
    },
    {
     "data": {
      "text/plain": [
       "<Figure size 1008x504 with 0 Axes>"
      ]
     },
     "metadata": {},
     "output_type": "display_data"
    },
    {
     "data": {
      "text/plain": [
       "<Figure size 1440x720 with 0 Axes>"
      ]
     },
     "metadata": {},
     "output_type": "display_data"
    },
    {
     "data": {
      "text/plain": [
       "<Figure size 1008x504 with 0 Axes>"
      ]
     },
     "metadata": {},
     "output_type": "display_data"
    },
    {
     "data": {
      "text/plain": [
       "<Figure size 1008x504 with 0 Axes>"
      ]
     },
     "metadata": {},
     "output_type": "display_data"
    },
    {
     "data": {
      "text/plain": [
       "<Figure size 1440x720 with 0 Axes>"
      ]
     },
     "metadata": {},
     "output_type": "display_data"
    },
    {
     "data": {
      "text/plain": [
       "<Figure size 1008x504 with 0 Axes>"
      ]
     },
     "metadata": {},
     "output_type": "display_data"
    },
    {
     "data": {
      "text/plain": [
       "<Figure size 1008x504 with 0 Axes>"
      ]
     },
     "metadata": {},
     "output_type": "display_data"
    },
    {
     "data": {
      "text/plain": [
       "<Figure size 1440x720 with 0 Axes>"
      ]
     },
     "metadata": {},
     "output_type": "display_data"
    },
    {
     "data": {
      "text/plain": [
       "<Figure size 1008x504 with 0 Axes>"
      ]
     },
     "metadata": {},
     "output_type": "display_data"
    },
    {
     "data": {
      "text/plain": [
       "<Figure size 1008x504 with 0 Axes>"
      ]
     },
     "metadata": {},
     "output_type": "display_data"
    },
    {
     "data": {
      "text/plain": [
       "<Figure size 1440x720 with 0 Axes>"
      ]
     },
     "metadata": {},
     "output_type": "display_data"
    },
    {
     "data": {
      "text/plain": [
       "<Figure size 1008x504 with 0 Axes>"
      ]
     },
     "metadata": {},
     "output_type": "display_data"
    },
    {
     "data": {
      "text/plain": [
       "<Figure size 1008x504 with 0 Axes>"
      ]
     },
     "metadata": {},
     "output_type": "display_data"
    },
    {
     "data": {
      "text/plain": [
       "<Figure size 1440x720 with 0 Axes>"
      ]
     },
     "metadata": {},
     "output_type": "display_data"
    },
    {
     "data": {
      "text/plain": [
       "<Figure size 1008x504 with 0 Axes>"
      ]
     },
     "metadata": {},
     "output_type": "display_data"
    },
    {
     "data": {
      "text/plain": [
       "<Figure size 1008x504 with 0 Axes>"
      ]
     },
     "metadata": {},
     "output_type": "display_data"
    },
    {
     "data": {
      "text/plain": [
       "<Figure size 1440x720 with 0 Axes>"
      ]
     },
     "metadata": {},
     "output_type": "display_data"
    },
    {
     "data": {
      "text/plain": [
       "<Figure size 1008x504 with 0 Axes>"
      ]
     },
     "metadata": {},
     "output_type": "display_data"
    },
    {
     "data": {
      "text/plain": [
       "<Figure size 1008x504 with 0 Axes>"
      ]
     },
     "metadata": {},
     "output_type": "display_data"
    },
    {
     "data": {
      "text/plain": [
       "<Figure size 1440x720 with 0 Axes>"
      ]
     },
     "metadata": {},
     "output_type": "display_data"
    },
    {
     "data": {
      "text/plain": [
       "<Figure size 1008x504 with 0 Axes>"
      ]
     },
     "metadata": {},
     "output_type": "display_data"
    },
    {
     "data": {
      "text/plain": [
       "<Figure size 1008x504 with 0 Axes>"
      ]
     },
     "metadata": {},
     "output_type": "display_data"
    },
    {
     "data": {
      "text/plain": [
       "<Figure size 1440x720 with 0 Axes>"
      ]
     },
     "metadata": {},
     "output_type": "display_data"
    },
    {
     "data": {
      "text/plain": [
       "<Figure size 1008x504 with 0 Axes>"
      ]
     },
     "metadata": {},
     "output_type": "display_data"
    },
    {
     "data": {
      "text/plain": [
       "<Figure size 1008x504 with 0 Axes>"
      ]
     },
     "metadata": {},
     "output_type": "display_data"
    },
    {
     "data": {
      "text/plain": [
       "<Figure size 1440x720 with 0 Axes>"
      ]
     },
     "metadata": {},
     "output_type": "display_data"
    },
    {
     "data": {
      "text/plain": [
       "<Figure size 1008x504 with 0 Axes>"
      ]
     },
     "metadata": {},
     "output_type": "display_data"
    },
    {
     "data": {
      "text/plain": [
       "<Figure size 1008x504 with 0 Axes>"
      ]
     },
     "metadata": {},
     "output_type": "display_data"
    },
    {
     "data": {
      "text/plain": [
       "<Figure size 1440x720 with 0 Axes>"
      ]
     },
     "metadata": {},
     "output_type": "display_data"
    },
    {
     "data": {
      "text/plain": [
       "<Figure size 1008x504 with 0 Axes>"
      ]
     },
     "metadata": {},
     "output_type": "display_data"
    },
    {
     "data": {
      "text/plain": [
       "<Figure size 1008x504 with 0 Axes>"
      ]
     },
     "metadata": {},
     "output_type": "display_data"
    },
    {
     "data": {
      "text/plain": [
       "<Figure size 1440x720 with 0 Axes>"
      ]
     },
     "metadata": {},
     "output_type": "display_data"
    },
    {
     "data": {
      "text/plain": [
       "<Figure size 1008x504 with 0 Axes>"
      ]
     },
     "metadata": {},
     "output_type": "display_data"
    },
    {
     "data": {
      "text/plain": [
       "<Figure size 1008x504 with 0 Axes>"
      ]
     },
     "metadata": {},
     "output_type": "display_data"
    },
    {
     "data": {
      "text/plain": [
       "<Figure size 1440x720 with 0 Axes>"
      ]
     },
     "metadata": {},
     "output_type": "display_data"
    },
    {
     "data": {
      "text/plain": [
       "<Figure size 1008x504 with 0 Axes>"
      ]
     },
     "metadata": {},
     "output_type": "display_data"
    },
    {
     "data": {
      "text/plain": [
       "<Figure size 1008x504 with 0 Axes>"
      ]
     },
     "metadata": {},
     "output_type": "display_data"
    },
    {
     "data": {
      "text/plain": [
       "<Figure size 1440x720 with 0 Axes>"
      ]
     },
     "metadata": {},
     "output_type": "display_data"
    },
    {
     "data": {
      "text/plain": [
       "<Figure size 1008x504 with 0 Axes>"
      ]
     },
     "metadata": {},
     "output_type": "display_data"
    },
    {
     "data": {
      "text/plain": [
       "<Figure size 1008x504 with 0 Axes>"
      ]
     },
     "metadata": {},
     "output_type": "display_data"
    },
    {
     "data": {
      "text/plain": [
       "<Figure size 1440x720 with 0 Axes>"
      ]
     },
     "metadata": {},
     "output_type": "display_data"
    },
    {
     "data": {
      "text/plain": [
       "<Figure size 1008x504 with 0 Axes>"
      ]
     },
     "metadata": {},
     "output_type": "display_data"
    },
    {
     "data": {
      "text/plain": [
       "<Figure size 1008x504 with 0 Axes>"
      ]
     },
     "metadata": {},
     "output_type": "display_data"
    },
    {
     "data": {
      "text/plain": [
       "<Figure size 1440x720 with 0 Axes>"
      ]
     },
     "metadata": {},
     "output_type": "display_data"
    },
    {
     "data": {
      "text/plain": [
       "<Figure size 1008x504 with 0 Axes>"
      ]
     },
     "metadata": {},
     "output_type": "display_data"
    },
    {
     "data": {
      "text/plain": [
       "<Figure size 1008x504 with 0 Axes>"
      ]
     },
     "metadata": {},
     "output_type": "display_data"
    },
    {
     "data": {
      "text/plain": [
       "<Figure size 1440x720 with 0 Axes>"
      ]
     },
     "metadata": {},
     "output_type": "display_data"
    },
    {
     "data": {
      "text/plain": [
       "<Figure size 1008x504 with 0 Axes>"
      ]
     },
     "metadata": {},
     "output_type": "display_data"
    },
    {
     "data": {
      "text/plain": [
       "<Figure size 1008x504 with 0 Axes>"
      ]
     },
     "metadata": {},
     "output_type": "display_data"
    },
    {
     "data": {
      "text/plain": [
       "<Figure size 1440x720 with 0 Axes>"
      ]
     },
     "metadata": {},
     "output_type": "display_data"
    },
    {
     "data": {
      "text/plain": [
       "<Figure size 1008x504 with 0 Axes>"
      ]
     },
     "metadata": {},
     "output_type": "display_data"
    },
    {
     "data": {
      "text/plain": [
       "<Figure size 1008x504 with 0 Axes>"
      ]
     },
     "metadata": {},
     "output_type": "display_data"
    },
    {
     "data": {
      "text/plain": [
       "<Figure size 1440x720 with 0 Axes>"
      ]
     },
     "metadata": {},
     "output_type": "display_data"
    },
    {
     "data": {
      "text/plain": [
       "<Figure size 1008x504 with 0 Axes>"
      ]
     },
     "metadata": {},
     "output_type": "display_data"
    },
    {
     "data": {
      "text/plain": [
       "<Figure size 1008x504 with 0 Axes>"
      ]
     },
     "metadata": {},
     "output_type": "display_data"
    },
    {
     "data": {
      "text/plain": [
       "<Figure size 1440x720 with 0 Axes>"
      ]
     },
     "metadata": {},
     "output_type": "display_data"
    },
    {
     "data": {
      "text/plain": [
       "<Figure size 1008x504 with 0 Axes>"
      ]
     },
     "metadata": {},
     "output_type": "display_data"
    },
    {
     "data": {
      "text/plain": [
       "<Figure size 1008x504 with 0 Axes>"
      ]
     },
     "metadata": {},
     "output_type": "display_data"
    },
    {
     "data": {
      "text/plain": [
       "<Figure size 1440x720 with 0 Axes>"
      ]
     },
     "metadata": {},
     "output_type": "display_data"
    },
    {
     "data": {
      "text/plain": [
       "<Figure size 1008x504 with 0 Axes>"
      ]
     },
     "metadata": {},
     "output_type": "display_data"
    },
    {
     "data": {
      "text/plain": [
       "<Figure size 1008x504 with 0 Axes>"
      ]
     },
     "metadata": {},
     "output_type": "display_data"
    },
    {
     "data": {
      "text/plain": [
       "<Figure size 1440x720 with 0 Axes>"
      ]
     },
     "metadata": {},
     "output_type": "display_data"
    },
    {
     "data": {
      "text/plain": [
       "<Figure size 1008x504 with 0 Axes>"
      ]
     },
     "metadata": {},
     "output_type": "display_data"
    },
    {
     "data": {
      "text/plain": [
       "<Figure size 1008x504 with 0 Axes>"
      ]
     },
     "metadata": {},
     "output_type": "display_data"
    },
    {
     "data": {
      "text/plain": [
       "<Figure size 1440x720 with 0 Axes>"
      ]
     },
     "metadata": {},
     "output_type": "display_data"
    },
    {
     "data": {
      "text/plain": [
       "<Figure size 1008x504 with 0 Axes>"
      ]
     },
     "metadata": {},
     "output_type": "display_data"
    },
    {
     "data": {
      "text/plain": [
       "<Figure size 1008x504 with 0 Axes>"
      ]
     },
     "metadata": {},
     "output_type": "display_data"
    },
    {
     "data": {
      "text/plain": [
       "<Figure size 1440x720 with 0 Axes>"
      ]
     },
     "metadata": {},
     "output_type": "display_data"
    },
    {
     "data": {
      "text/plain": [
       "<Figure size 1008x504 with 0 Axes>"
      ]
     },
     "metadata": {},
     "output_type": "display_data"
    },
    {
     "data": {
      "text/plain": [
       "<Figure size 1008x504 with 0 Axes>"
      ]
     },
     "metadata": {},
     "output_type": "display_data"
    },
    {
     "data": {
      "text/plain": [
       "<Figure size 1440x720 with 0 Axes>"
      ]
     },
     "metadata": {},
     "output_type": "display_data"
    },
    {
     "data": {
      "text/plain": [
       "<Figure size 1008x504 with 0 Axes>"
      ]
     },
     "metadata": {},
     "output_type": "display_data"
    },
    {
     "data": {
      "text/plain": [
       "<Figure size 1008x504 with 0 Axes>"
      ]
     },
     "metadata": {},
     "output_type": "display_data"
    },
    {
     "data": {
      "text/plain": [
       "<Figure size 1440x720 with 0 Axes>"
      ]
     },
     "metadata": {},
     "output_type": "display_data"
    },
    {
     "data": {
      "text/plain": [
       "<Figure size 1008x504 with 0 Axes>"
      ]
     },
     "metadata": {},
     "output_type": "display_data"
    },
    {
     "data": {
      "text/plain": [
       "<Figure size 1008x504 with 0 Axes>"
      ]
     },
     "metadata": {},
     "output_type": "display_data"
    },
    {
     "data": {
      "text/plain": [
       "<Figure size 1440x720 with 0 Axes>"
      ]
     },
     "metadata": {},
     "output_type": "display_data"
    },
    {
     "data": {
      "text/plain": [
       "<Figure size 1008x504 with 0 Axes>"
      ]
     },
     "metadata": {},
     "output_type": "display_data"
    },
    {
     "data": {
      "text/plain": [
       "<Figure size 1008x504 with 0 Axes>"
      ]
     },
     "metadata": {},
     "output_type": "display_data"
    },
    {
     "data": {
      "text/plain": [
       "<Figure size 1440x720 with 0 Axes>"
      ]
     },
     "metadata": {},
     "output_type": "display_data"
    },
    {
     "data": {
      "text/plain": [
       "<Figure size 1008x504 with 0 Axes>"
      ]
     },
     "metadata": {},
     "output_type": "display_data"
    },
    {
     "data": {
      "text/plain": [
       "<Figure size 1008x504 with 0 Axes>"
      ]
     },
     "metadata": {},
     "output_type": "display_data"
    },
    {
     "data": {
      "text/plain": [
       "<Figure size 1440x720 with 0 Axes>"
      ]
     },
     "metadata": {},
     "output_type": "display_data"
    },
    {
     "data": {
      "text/plain": [
       "<Figure size 1008x504 with 0 Axes>"
      ]
     },
     "metadata": {},
     "output_type": "display_data"
    },
    {
     "data": {
      "text/plain": [
       "<Figure size 1008x504 with 0 Axes>"
      ]
     },
     "metadata": {},
     "output_type": "display_data"
    },
    {
     "data": {
      "text/plain": [
       "<Figure size 1440x720 with 0 Axes>"
      ]
     },
     "metadata": {},
     "output_type": "display_data"
    },
    {
     "data": {
      "text/plain": [
       "<Figure size 1008x504 with 0 Axes>"
      ]
     },
     "metadata": {},
     "output_type": "display_data"
    },
    {
     "data": {
      "text/plain": [
       "<Figure size 1008x504 with 0 Axes>"
      ]
     },
     "metadata": {},
     "output_type": "display_data"
    },
    {
     "data": {
      "text/plain": [
       "<Figure size 1440x720 with 0 Axes>"
      ]
     },
     "metadata": {},
     "output_type": "display_data"
    },
    {
     "data": {
      "text/plain": [
       "<Figure size 1008x504 with 0 Axes>"
      ]
     },
     "metadata": {},
     "output_type": "display_data"
    },
    {
     "data": {
      "text/plain": [
       "<Figure size 1008x504 with 0 Axes>"
      ]
     },
     "metadata": {},
     "output_type": "display_data"
    },
    {
     "data": {
      "text/plain": [
       "<Figure size 1440x720 with 0 Axes>"
      ]
     },
     "metadata": {},
     "output_type": "display_data"
    },
    {
     "data": {
      "text/plain": [
       "<Figure size 1008x504 with 0 Axes>"
      ]
     },
     "metadata": {},
     "output_type": "display_data"
    },
    {
     "data": {
      "text/plain": [
       "<Figure size 1008x504 with 0 Axes>"
      ]
     },
     "metadata": {},
     "output_type": "display_data"
    },
    {
     "data": {
      "text/plain": [
       "<Figure size 1440x720 with 0 Axes>"
      ]
     },
     "metadata": {},
     "output_type": "display_data"
    },
    {
     "data": {
      "text/plain": [
       "<Figure size 1008x504 with 0 Axes>"
      ]
     },
     "metadata": {},
     "output_type": "display_data"
    },
    {
     "data": {
      "text/plain": [
       "<Figure size 1008x504 with 0 Axes>"
      ]
     },
     "metadata": {},
     "output_type": "display_data"
    },
    {
     "data": {
      "text/plain": [
       "<Figure size 1440x720 with 0 Axes>"
      ]
     },
     "metadata": {},
     "output_type": "display_data"
    },
    {
     "data": {
      "text/plain": [
       "<Figure size 1008x504 with 0 Axes>"
      ]
     },
     "metadata": {},
     "output_type": "display_data"
    },
    {
     "data": {
      "text/plain": [
       "<Figure size 1008x504 with 0 Axes>"
      ]
     },
     "metadata": {},
     "output_type": "display_data"
    },
    {
     "data": {
      "text/plain": [
       "<Figure size 1440x720 with 0 Axes>"
      ]
     },
     "metadata": {},
     "output_type": "display_data"
    },
    {
     "data": {
      "text/plain": [
       "<Figure size 1008x504 with 0 Axes>"
      ]
     },
     "metadata": {},
     "output_type": "display_data"
    },
    {
     "data": {
      "text/plain": [
       "<Figure size 1008x504 with 0 Axes>"
      ]
     },
     "metadata": {},
     "output_type": "display_data"
    },
    {
     "data": {
      "text/plain": [
       "<Figure size 1440x720 with 0 Axes>"
      ]
     },
     "metadata": {},
     "output_type": "display_data"
    },
    {
     "data": {
      "text/plain": [
       "<Figure size 1008x504 with 0 Axes>"
      ]
     },
     "metadata": {},
     "output_type": "display_data"
    },
    {
     "data": {
      "text/plain": [
       "<Figure size 1008x504 with 0 Axes>"
      ]
     },
     "metadata": {},
     "output_type": "display_data"
    },
    {
     "data": {
      "text/plain": [
       "<Figure size 1440x720 with 0 Axes>"
      ]
     },
     "metadata": {},
     "output_type": "display_data"
    },
    {
     "data": {
      "text/plain": [
       "<Figure size 1008x504 with 0 Axes>"
      ]
     },
     "metadata": {},
     "output_type": "display_data"
    },
    {
     "data": {
      "text/plain": [
       "<Figure size 1008x504 with 0 Axes>"
      ]
     },
     "metadata": {},
     "output_type": "display_data"
    },
    {
     "data": {
      "text/plain": [
       "<Figure size 1440x720 with 0 Axes>"
      ]
     },
     "metadata": {},
     "output_type": "display_data"
    },
    {
     "data": {
      "text/plain": [
       "<Figure size 1008x504 with 0 Axes>"
      ]
     },
     "metadata": {},
     "output_type": "display_data"
    },
    {
     "data": {
      "text/plain": [
       "<Figure size 1008x504 with 0 Axes>"
      ]
     },
     "metadata": {},
     "output_type": "display_data"
    },
    {
     "data": {
      "text/plain": [
       "<Figure size 1440x720 with 0 Axes>"
      ]
     },
     "metadata": {},
     "output_type": "display_data"
    },
    {
     "data": {
      "text/plain": [
       "<Figure size 1008x504 with 0 Axes>"
      ]
     },
     "metadata": {},
     "output_type": "display_data"
    },
    {
     "data": {
      "text/plain": [
       "<Figure size 1008x504 with 0 Axes>"
      ]
     },
     "metadata": {},
     "output_type": "display_data"
    },
    {
     "data": {
      "text/plain": [
       "<Figure size 1440x720 with 0 Axes>"
      ]
     },
     "metadata": {},
     "output_type": "display_data"
    },
    {
     "data": {
      "text/plain": [
       "<Figure size 1008x504 with 0 Axes>"
      ]
     },
     "metadata": {},
     "output_type": "display_data"
    },
    {
     "data": {
      "text/plain": [
       "<Figure size 1008x504 with 0 Axes>"
      ]
     },
     "metadata": {},
     "output_type": "display_data"
    },
    {
     "data": {
      "text/plain": [
       "<Figure size 1440x720 with 0 Axes>"
      ]
     },
     "metadata": {},
     "output_type": "display_data"
    },
    {
     "data": {
      "text/plain": [
       "<Figure size 1008x504 with 0 Axes>"
      ]
     },
     "metadata": {},
     "output_type": "display_data"
    },
    {
     "data": {
      "text/plain": [
       "<Figure size 1008x504 with 0 Axes>"
      ]
     },
     "metadata": {},
     "output_type": "display_data"
    },
    {
     "data": {
      "text/plain": [
       "<Figure size 1440x720 with 0 Axes>"
      ]
     },
     "metadata": {},
     "output_type": "display_data"
    },
    {
     "data": {
      "text/plain": [
       "<Figure size 1008x504 with 0 Axes>"
      ]
     },
     "metadata": {},
     "output_type": "display_data"
    },
    {
     "data": {
      "text/plain": [
       "<Figure size 1008x504 with 0 Axes>"
      ]
     },
     "metadata": {},
     "output_type": "display_data"
    },
    {
     "data": {
      "text/plain": [
       "<Figure size 1440x720 with 0 Axes>"
      ]
     },
     "metadata": {},
     "output_type": "display_data"
    },
    {
     "data": {
      "text/plain": [
       "<Figure size 1008x504 with 0 Axes>"
      ]
     },
     "metadata": {},
     "output_type": "display_data"
    },
    {
     "data": {
      "text/plain": [
       "<Figure size 1008x504 with 0 Axes>"
      ]
     },
     "metadata": {},
     "output_type": "display_data"
    },
    {
     "data": {
      "text/plain": [
       "<Figure size 1440x720 with 0 Axes>"
      ]
     },
     "metadata": {},
     "output_type": "display_data"
    },
    {
     "data": {
      "text/plain": [
       "<Figure size 1008x504 with 0 Axes>"
      ]
     },
     "metadata": {},
     "output_type": "display_data"
    },
    {
     "data": {
      "text/plain": [
       "<Figure size 1008x504 with 0 Axes>"
      ]
     },
     "metadata": {},
     "output_type": "display_data"
    },
    {
     "data": {
      "text/plain": [
       "<Figure size 1440x720 with 0 Axes>"
      ]
     },
     "metadata": {},
     "output_type": "display_data"
    },
    {
     "data": {
      "text/plain": [
       "<Figure size 1008x504 with 0 Axes>"
      ]
     },
     "metadata": {},
     "output_type": "display_data"
    },
    {
     "data": {
      "text/plain": [
       "<Figure size 1008x504 with 0 Axes>"
      ]
     },
     "metadata": {},
     "output_type": "display_data"
    },
    {
     "data": {
      "text/plain": [
       "<Figure size 1440x720 with 0 Axes>"
      ]
     },
     "metadata": {},
     "output_type": "display_data"
    },
    {
     "data": {
      "text/plain": [
       "<Figure size 1008x504 with 0 Axes>"
      ]
     },
     "metadata": {},
     "output_type": "display_data"
    },
    {
     "data": {
      "text/plain": [
       "<Figure size 1008x504 with 0 Axes>"
      ]
     },
     "metadata": {},
     "output_type": "display_data"
    },
    {
     "data": {
      "text/plain": [
       "<Figure size 1440x720 with 0 Axes>"
      ]
     },
     "metadata": {},
     "output_type": "display_data"
    },
    {
     "data": {
      "text/plain": [
       "<Figure size 1008x504 with 0 Axes>"
      ]
     },
     "metadata": {},
     "output_type": "display_data"
    },
    {
     "data": {
      "text/plain": [
       "<Figure size 1008x504 with 0 Axes>"
      ]
     },
     "metadata": {},
     "output_type": "display_data"
    },
    {
     "data": {
      "text/plain": [
       "<Figure size 1440x720 with 0 Axes>"
      ]
     },
     "metadata": {},
     "output_type": "display_data"
    },
    {
     "data": {
      "text/plain": [
       "<Figure size 1008x504 with 0 Axes>"
      ]
     },
     "metadata": {},
     "output_type": "display_data"
    },
    {
     "data": {
      "text/plain": [
       "<Figure size 1008x504 with 0 Axes>"
      ]
     },
     "metadata": {},
     "output_type": "display_data"
    },
    {
     "data": {
      "text/plain": [
       "<Figure size 1440x720 with 0 Axes>"
      ]
     },
     "metadata": {},
     "output_type": "display_data"
    },
    {
     "data": {
      "text/plain": [
       "<Figure size 1008x504 with 0 Axes>"
      ]
     },
     "metadata": {},
     "output_type": "display_data"
    },
    {
     "data": {
      "text/plain": [
       "<Figure size 1008x504 with 0 Axes>"
      ]
     },
     "metadata": {},
     "output_type": "display_data"
    },
    {
     "data": {
      "text/plain": [
       "<Figure size 1440x720 with 0 Axes>"
      ]
     },
     "metadata": {},
     "output_type": "display_data"
    },
    {
     "data": {
      "text/plain": [
       "<Figure size 1008x504 with 0 Axes>"
      ]
     },
     "metadata": {},
     "output_type": "display_data"
    },
    {
     "data": {
      "text/plain": [
       "<Figure size 1008x504 with 0 Axes>"
      ]
     },
     "metadata": {},
     "output_type": "display_data"
    },
    {
     "data": {
      "text/plain": [
       "<Figure size 1440x720 with 0 Axes>"
      ]
     },
     "metadata": {},
     "output_type": "display_data"
    },
    {
     "data": {
      "text/plain": [
       "<Figure size 1008x504 with 0 Axes>"
      ]
     },
     "metadata": {},
     "output_type": "display_data"
    },
    {
     "data": {
      "text/plain": [
       "<Figure size 1008x504 with 0 Axes>"
      ]
     },
     "metadata": {},
     "output_type": "display_data"
    },
    {
     "data": {
      "text/plain": [
       "<Figure size 1440x720 with 0 Axes>"
      ]
     },
     "metadata": {},
     "output_type": "display_data"
    },
    {
     "data": {
      "text/plain": [
       "<Figure size 1008x504 with 0 Axes>"
      ]
     },
     "metadata": {},
     "output_type": "display_data"
    },
    {
     "data": {
      "text/plain": [
       "<Figure size 1008x504 with 0 Axes>"
      ]
     },
     "metadata": {},
     "output_type": "display_data"
    },
    {
     "data": {
      "text/plain": [
       "<Figure size 1440x720 with 0 Axes>"
      ]
     },
     "metadata": {},
     "output_type": "display_data"
    },
    {
     "data": {
      "text/plain": [
       "<Figure size 1008x504 with 0 Axes>"
      ]
     },
     "metadata": {},
     "output_type": "display_data"
    },
    {
     "data": {
      "text/plain": [
       "<Figure size 1008x504 with 0 Axes>"
      ]
     },
     "metadata": {},
     "output_type": "display_data"
    },
    {
     "data": {
      "text/plain": [
       "<Figure size 1440x720 with 0 Axes>"
      ]
     },
     "metadata": {},
     "output_type": "display_data"
    },
    {
     "data": {
      "text/plain": [
       "<Figure size 1008x504 with 0 Axes>"
      ]
     },
     "metadata": {},
     "output_type": "display_data"
    },
    {
     "data": {
      "text/plain": [
       "<Figure size 1008x504 with 0 Axes>"
      ]
     },
     "metadata": {},
     "output_type": "display_data"
    },
    {
     "data": {
      "text/plain": [
       "<Figure size 1440x720 with 0 Axes>"
      ]
     },
     "metadata": {},
     "output_type": "display_data"
    },
    {
     "data": {
      "text/plain": [
       "<Figure size 1008x504 with 0 Axes>"
      ]
     },
     "metadata": {},
     "output_type": "display_data"
    },
    {
     "data": {
      "text/plain": [
       "<Figure size 1008x504 with 0 Axes>"
      ]
     },
     "metadata": {},
     "output_type": "display_data"
    },
    {
     "data": {
      "text/plain": [
       "<Figure size 1440x720 with 0 Axes>"
      ]
     },
     "metadata": {},
     "output_type": "display_data"
    },
    {
     "data": {
      "text/plain": [
       "<Figure size 1008x504 with 0 Axes>"
      ]
     },
     "metadata": {},
     "output_type": "display_data"
    },
    {
     "data": {
      "text/plain": [
       "<Figure size 1008x504 with 0 Axes>"
      ]
     },
     "metadata": {},
     "output_type": "display_data"
    },
    {
     "data": {
      "text/plain": [
       "<Figure size 1440x720 with 0 Axes>"
      ]
     },
     "metadata": {},
     "output_type": "display_data"
    },
    {
     "data": {
      "text/plain": [
       "<Figure size 1008x504 with 0 Axes>"
      ]
     },
     "metadata": {},
     "output_type": "display_data"
    },
    {
     "data": {
      "text/plain": [
       "<Figure size 1008x504 with 0 Axes>"
      ]
     },
     "metadata": {},
     "output_type": "display_data"
    },
    {
     "data": {
      "text/plain": [
       "<Figure size 1440x720 with 0 Axes>"
      ]
     },
     "metadata": {},
     "output_type": "display_data"
    },
    {
     "data": {
      "text/plain": [
       "<Figure size 1008x504 with 0 Axes>"
      ]
     },
     "metadata": {},
     "output_type": "display_data"
    },
    {
     "data": {
      "text/plain": [
       "<Figure size 1008x504 with 0 Axes>"
      ]
     },
     "metadata": {},
     "output_type": "display_data"
    },
    {
     "data": {
      "text/plain": [
       "<Figure size 1440x720 with 0 Axes>"
      ]
     },
     "metadata": {},
     "output_type": "display_data"
    },
    {
     "data": {
      "text/plain": [
       "<Figure size 1008x504 with 0 Axes>"
      ]
     },
     "metadata": {},
     "output_type": "display_data"
    },
    {
     "data": {
      "text/plain": [
       "<Figure size 1008x504 with 0 Axes>"
      ]
     },
     "metadata": {},
     "output_type": "display_data"
    },
    {
     "data": {
      "text/plain": [
       "<Figure size 1440x720 with 0 Axes>"
      ]
     },
     "metadata": {},
     "output_type": "display_data"
    },
    {
     "data": {
      "text/plain": [
       "<Figure size 1008x504 with 0 Axes>"
      ]
     },
     "metadata": {},
     "output_type": "display_data"
    },
    {
     "data": {
      "text/plain": [
       "<Figure size 1008x504 with 0 Axes>"
      ]
     },
     "metadata": {},
     "output_type": "display_data"
    },
    {
     "data": {
      "text/plain": [
       "<Figure size 1440x720 with 0 Axes>"
      ]
     },
     "metadata": {},
     "output_type": "display_data"
    },
    {
     "data": {
      "text/plain": [
       "<Figure size 1008x504 with 0 Axes>"
      ]
     },
     "metadata": {},
     "output_type": "display_data"
    },
    {
     "data": {
      "text/plain": [
       "<Figure size 1008x504 with 0 Axes>"
      ]
     },
     "metadata": {},
     "output_type": "display_data"
    },
    {
     "data": {
      "text/plain": [
       "<Figure size 1440x720 with 0 Axes>"
      ]
     },
     "metadata": {},
     "output_type": "display_data"
    },
    {
     "data": {
      "text/plain": [
       "<Figure size 1008x504 with 0 Axes>"
      ]
     },
     "metadata": {},
     "output_type": "display_data"
    },
    {
     "data": {
      "text/plain": [
       "<Figure size 1008x504 with 0 Axes>"
      ]
     },
     "metadata": {},
     "output_type": "display_data"
    },
    {
     "data": {
      "text/plain": [
       "<Figure size 1440x720 with 0 Axes>"
      ]
     },
     "metadata": {},
     "output_type": "display_data"
    },
    {
     "data": {
      "text/plain": [
       "<Figure size 1008x504 with 0 Axes>"
      ]
     },
     "metadata": {},
     "output_type": "display_data"
    },
    {
     "data": {
      "text/plain": [
       "<Figure size 1008x504 with 0 Axes>"
      ]
     },
     "metadata": {},
     "output_type": "display_data"
    },
    {
     "data": {
      "text/plain": [
       "<Figure size 1440x720 with 0 Axes>"
      ]
     },
     "metadata": {},
     "output_type": "display_data"
    },
    {
     "data": {
      "text/plain": [
       "<Figure size 1008x504 with 0 Axes>"
      ]
     },
     "metadata": {},
     "output_type": "display_data"
    },
    {
     "data": {
      "text/plain": [
       "<Figure size 1008x504 with 0 Axes>"
      ]
     },
     "metadata": {},
     "output_type": "display_data"
    },
    {
     "data": {
      "text/plain": [
       "<Figure size 1440x720 with 0 Axes>"
      ]
     },
     "metadata": {},
     "output_type": "display_data"
    },
    {
     "data": {
      "text/plain": [
       "<Figure size 1008x504 with 0 Axes>"
      ]
     },
     "metadata": {},
     "output_type": "display_data"
    },
    {
     "data": {
      "text/plain": [
       "<Figure size 1008x504 with 0 Axes>"
      ]
     },
     "metadata": {},
     "output_type": "display_data"
    },
    {
     "data": {
      "text/plain": [
       "<Figure size 1440x720 with 0 Axes>"
      ]
     },
     "metadata": {},
     "output_type": "display_data"
    },
    {
     "data": {
      "text/plain": [
       "<Figure size 1008x504 with 0 Axes>"
      ]
     },
     "metadata": {},
     "output_type": "display_data"
    },
    {
     "data": {
      "text/plain": [
       "<Figure size 1008x504 with 0 Axes>"
      ]
     },
     "metadata": {},
     "output_type": "display_data"
    },
    {
     "data": {
      "text/plain": [
       "<Figure size 1440x720 with 0 Axes>"
      ]
     },
     "metadata": {},
     "output_type": "display_data"
    },
    {
     "data": {
      "text/plain": [
       "<Figure size 1008x504 with 0 Axes>"
      ]
     },
     "metadata": {},
     "output_type": "display_data"
    },
    {
     "data": {
      "text/plain": [
       "<Figure size 1008x504 with 0 Axes>"
      ]
     },
     "metadata": {},
     "output_type": "display_data"
    },
    {
     "data": {
      "text/plain": [
       "<Figure size 1440x720 with 0 Axes>"
      ]
     },
     "metadata": {},
     "output_type": "display_data"
    },
    {
     "data": {
      "text/plain": [
       "<Figure size 1008x504 with 0 Axes>"
      ]
     },
     "metadata": {},
     "output_type": "display_data"
    },
    {
     "data": {
      "text/plain": [
       "<Figure size 1008x504 with 0 Axes>"
      ]
     },
     "metadata": {},
     "output_type": "display_data"
    },
    {
     "data": {
      "text/plain": [
       "<Figure size 1440x720 with 0 Axes>"
      ]
     },
     "metadata": {},
     "output_type": "display_data"
    },
    {
     "data": {
      "text/plain": [
       "<Figure size 1008x504 with 0 Axes>"
      ]
     },
     "metadata": {},
     "output_type": "display_data"
    },
    {
     "data": {
      "text/plain": [
       "<Figure size 1008x504 with 0 Axes>"
      ]
     },
     "metadata": {},
     "output_type": "display_data"
    },
    {
     "data": {
      "text/plain": [
       "<Figure size 1440x720 with 0 Axes>"
      ]
     },
     "metadata": {},
     "output_type": "display_data"
    },
    {
     "data": {
      "text/plain": [
       "<Figure size 1008x504 with 0 Axes>"
      ]
     },
     "metadata": {},
     "output_type": "display_data"
    },
    {
     "data": {
      "text/plain": [
       "<Figure size 1008x504 with 0 Axes>"
      ]
     },
     "metadata": {},
     "output_type": "display_data"
    },
    {
     "data": {
      "text/plain": [
       "<Figure size 1440x720 with 0 Axes>"
      ]
     },
     "metadata": {},
     "output_type": "display_data"
    },
    {
     "data": {
      "text/plain": [
       "<Figure size 1008x504 with 0 Axes>"
      ]
     },
     "metadata": {},
     "output_type": "display_data"
    },
    {
     "data": {
      "text/plain": [
       "<Figure size 1008x504 with 0 Axes>"
      ]
     },
     "metadata": {},
     "output_type": "display_data"
    },
    {
     "data": {
      "text/plain": [
       "<Figure size 1440x720 with 0 Axes>"
      ]
     },
     "metadata": {},
     "output_type": "display_data"
    },
    {
     "data": {
      "text/plain": [
       "<Figure size 1008x504 with 0 Axes>"
      ]
     },
     "metadata": {},
     "output_type": "display_data"
    },
    {
     "data": {
      "text/plain": [
       "<Figure size 1008x504 with 0 Axes>"
      ]
     },
     "metadata": {},
     "output_type": "display_data"
    },
    {
     "data": {
      "text/plain": [
       "<Figure size 1440x720 with 0 Axes>"
      ]
     },
     "metadata": {},
     "output_type": "display_data"
    },
    {
     "data": {
      "text/plain": [
       "<Figure size 1008x504 with 0 Axes>"
      ]
     },
     "metadata": {},
     "output_type": "display_data"
    },
    {
     "data": {
      "text/plain": [
       "<Figure size 1008x504 with 0 Axes>"
      ]
     },
     "metadata": {},
     "output_type": "display_data"
    },
    {
     "data": {
      "text/plain": [
       "<Figure size 1440x720 with 0 Axes>"
      ]
     },
     "metadata": {},
     "output_type": "display_data"
    },
    {
     "data": {
      "text/plain": [
       "<Figure size 1008x504 with 0 Axes>"
      ]
     },
     "metadata": {},
     "output_type": "display_data"
    },
    {
     "data": {
      "text/plain": [
       "<Figure size 1008x504 with 0 Axes>"
      ]
     },
     "metadata": {},
     "output_type": "display_data"
    },
    {
     "data": {
      "text/plain": [
       "<Figure size 1440x720 with 0 Axes>"
      ]
     },
     "metadata": {},
     "output_type": "display_data"
    },
    {
     "data": {
      "text/plain": [
       "<Figure size 1008x504 with 0 Axes>"
      ]
     },
     "metadata": {},
     "output_type": "display_data"
    },
    {
     "data": {
      "text/plain": [
       "<Figure size 1008x504 with 0 Axes>"
      ]
     },
     "metadata": {},
     "output_type": "display_data"
    },
    {
     "data": {
      "text/plain": [
       "<Figure size 1440x720 with 0 Axes>"
      ]
     },
     "metadata": {},
     "output_type": "display_data"
    },
    {
     "data": {
      "text/plain": [
       "<Figure size 1008x504 with 0 Axes>"
      ]
     },
     "metadata": {},
     "output_type": "display_data"
    },
    {
     "data": {
      "text/plain": [
       "<Figure size 1008x504 with 0 Axes>"
      ]
     },
     "metadata": {},
     "output_type": "display_data"
    },
    {
     "data": {
      "text/plain": [
       "<Figure size 1440x720 with 0 Axes>"
      ]
     },
     "metadata": {},
     "output_type": "display_data"
    },
    {
     "data": {
      "text/plain": [
       "<Figure size 1008x504 with 0 Axes>"
      ]
     },
     "metadata": {},
     "output_type": "display_data"
    },
    {
     "data": {
      "text/plain": [
       "<Figure size 1008x504 with 0 Axes>"
      ]
     },
     "metadata": {},
     "output_type": "display_data"
    },
    {
     "data": {
      "text/plain": [
       "<Figure size 1440x720 with 0 Axes>"
      ]
     },
     "metadata": {},
     "output_type": "display_data"
    },
    {
     "data": {
      "text/plain": [
       "<Figure size 1008x504 with 0 Axes>"
      ]
     },
     "metadata": {},
     "output_type": "display_data"
    },
    {
     "data": {
      "text/plain": [
       "<Figure size 1008x504 with 0 Axes>"
      ]
     },
     "metadata": {},
     "output_type": "display_data"
    },
    {
     "data": {
      "text/plain": [
       "<Figure size 1440x720 with 0 Axes>"
      ]
     },
     "metadata": {},
     "output_type": "display_data"
    },
    {
     "data": {
      "text/plain": [
       "<Figure size 1008x504 with 0 Axes>"
      ]
     },
     "metadata": {},
     "output_type": "display_data"
    },
    {
     "data": {
      "text/plain": [
       "<Figure size 1008x504 with 0 Axes>"
      ]
     },
     "metadata": {},
     "output_type": "display_data"
    },
    {
     "data": {
      "text/plain": [
       "<Figure size 1440x720 with 0 Axes>"
      ]
     },
     "metadata": {},
     "output_type": "display_data"
    },
    {
     "data": {
      "text/plain": [
       "<Figure size 1008x504 with 0 Axes>"
      ]
     },
     "metadata": {},
     "output_type": "display_data"
    },
    {
     "data": {
      "text/plain": [
       "<Figure size 1008x504 with 0 Axes>"
      ]
     },
     "metadata": {},
     "output_type": "display_data"
    },
    {
     "data": {
      "text/plain": [
       "<Figure size 1440x720 with 0 Axes>"
      ]
     },
     "metadata": {},
     "output_type": "display_data"
    },
    {
     "data": {
      "text/plain": [
       "<Figure size 1008x504 with 0 Axes>"
      ]
     },
     "metadata": {},
     "output_type": "display_data"
    },
    {
     "data": {
      "text/plain": [
       "<Figure size 1008x504 with 0 Axes>"
      ]
     },
     "metadata": {},
     "output_type": "display_data"
    },
    {
     "data": {
      "text/plain": [
       "<Figure size 1440x720 with 0 Axes>"
      ]
     },
     "metadata": {},
     "output_type": "display_data"
    },
    {
     "data": {
      "text/plain": [
       "<Figure size 1008x504 with 0 Axes>"
      ]
     },
     "metadata": {},
     "output_type": "display_data"
    },
    {
     "data": {
      "text/plain": [
       "<Figure size 1008x504 with 0 Axes>"
      ]
     },
     "metadata": {},
     "output_type": "display_data"
    },
    {
     "data": {
      "text/plain": [
       "<Figure size 1440x720 with 0 Axes>"
      ]
     },
     "metadata": {},
     "output_type": "display_data"
    },
    {
     "data": {
      "text/plain": [
       "<Figure size 1008x504 with 0 Axes>"
      ]
     },
     "metadata": {},
     "output_type": "display_data"
    },
    {
     "data": {
      "text/plain": [
       "<Figure size 1008x504 with 0 Axes>"
      ]
     },
     "metadata": {},
     "output_type": "display_data"
    },
    {
     "data": {
      "text/plain": [
       "<Figure size 1440x720 with 0 Axes>"
      ]
     },
     "metadata": {},
     "output_type": "display_data"
    },
    {
     "data": {
      "text/plain": [
       "<Figure size 1008x504 with 0 Axes>"
      ]
     },
     "metadata": {},
     "output_type": "display_data"
    },
    {
     "data": {
      "text/plain": [
       "<Figure size 1008x504 with 0 Axes>"
      ]
     },
     "metadata": {},
     "output_type": "display_data"
    },
    {
     "data": {
      "text/plain": [
       "<Figure size 1440x720 with 0 Axes>"
      ]
     },
     "metadata": {},
     "output_type": "display_data"
    },
    {
     "data": {
      "text/plain": [
       "<Figure size 1008x504 with 0 Axes>"
      ]
     },
     "metadata": {},
     "output_type": "display_data"
    },
    {
     "data": {
      "text/plain": [
       "<Figure size 1008x504 with 0 Axes>"
      ]
     },
     "metadata": {},
     "output_type": "display_data"
    },
    {
     "data": {
      "text/plain": [
       "<Figure size 1440x720 with 0 Axes>"
      ]
     },
     "metadata": {},
     "output_type": "display_data"
    },
    {
     "data": {
      "text/plain": [
       "<Figure size 1008x504 with 0 Axes>"
      ]
     },
     "metadata": {},
     "output_type": "display_data"
    },
    {
     "data": {
      "text/plain": [
       "<Figure size 1008x504 with 0 Axes>"
      ]
     },
     "metadata": {},
     "output_type": "display_data"
    },
    {
     "data": {
      "text/plain": [
       "<Figure size 1440x720 with 0 Axes>"
      ]
     },
     "metadata": {},
     "output_type": "display_data"
    },
    {
     "data": {
      "text/plain": [
       "<Figure size 1008x504 with 0 Axes>"
      ]
     },
     "metadata": {},
     "output_type": "display_data"
    },
    {
     "data": {
      "text/plain": [
       "<Figure size 1008x504 with 0 Axes>"
      ]
     },
     "metadata": {},
     "output_type": "display_data"
    },
    {
     "data": {
      "text/plain": [
       "<Figure size 1440x720 with 0 Axes>"
      ]
     },
     "metadata": {},
     "output_type": "display_data"
    },
    {
     "data": {
      "text/plain": [
       "<Figure size 1008x504 with 0 Axes>"
      ]
     },
     "metadata": {},
     "output_type": "display_data"
    },
    {
     "data": {
      "text/plain": [
       "<Figure size 1008x504 with 0 Axes>"
      ]
     },
     "metadata": {},
     "output_type": "display_data"
    },
    {
     "data": {
      "text/plain": [
       "<Figure size 1440x720 with 0 Axes>"
      ]
     },
     "metadata": {},
     "output_type": "display_data"
    },
    {
     "data": {
      "text/plain": [
       "<Figure size 1008x504 with 0 Axes>"
      ]
     },
     "metadata": {},
     "output_type": "display_data"
    },
    {
     "data": {
      "text/plain": [
       "<Figure size 1008x504 with 0 Axes>"
      ]
     },
     "metadata": {},
     "output_type": "display_data"
    },
    {
     "data": {
      "text/plain": [
       "<Figure size 1440x720 with 0 Axes>"
      ]
     },
     "metadata": {},
     "output_type": "display_data"
    },
    {
     "data": {
      "text/plain": [
       "<Figure size 1008x504 with 0 Axes>"
      ]
     },
     "metadata": {},
     "output_type": "display_data"
    },
    {
     "data": {
      "text/plain": [
       "<Figure size 1008x504 with 0 Axes>"
      ]
     },
     "metadata": {},
     "output_type": "display_data"
    },
    {
     "data": {
      "text/plain": [
       "<Figure size 1440x720 with 0 Axes>"
      ]
     },
     "metadata": {},
     "output_type": "display_data"
    },
    {
     "data": {
      "text/plain": [
       "<Figure size 1008x504 with 0 Axes>"
      ]
     },
     "metadata": {},
     "output_type": "display_data"
    },
    {
     "data": {
      "text/plain": [
       "<Figure size 1008x504 with 0 Axes>"
      ]
     },
     "metadata": {},
     "output_type": "display_data"
    },
    {
     "data": {
      "text/plain": [
       "<Figure size 1440x720 with 0 Axes>"
      ]
     },
     "metadata": {},
     "output_type": "display_data"
    },
    {
     "data": {
      "text/plain": [
       "<Figure size 1008x504 with 0 Axes>"
      ]
     },
     "metadata": {},
     "output_type": "display_data"
    },
    {
     "data": {
      "text/plain": [
       "<Figure size 1008x504 with 0 Axes>"
      ]
     },
     "metadata": {},
     "output_type": "display_data"
    },
    {
     "data": {
      "text/plain": [
       "<Figure size 1440x720 with 0 Axes>"
      ]
     },
     "metadata": {},
     "output_type": "display_data"
    },
    {
     "data": {
      "text/plain": [
       "<Figure size 1008x504 with 0 Axes>"
      ]
     },
     "metadata": {},
     "output_type": "display_data"
    },
    {
     "data": {
      "text/plain": [
       "<Figure size 1008x504 with 0 Axes>"
      ]
     },
     "metadata": {},
     "output_type": "display_data"
    },
    {
     "data": {
      "text/plain": [
       "<Figure size 1440x720 with 0 Axes>"
      ]
     },
     "metadata": {},
     "output_type": "display_data"
    },
    {
     "data": {
      "text/plain": [
       "<Figure size 1008x504 with 0 Axes>"
      ]
     },
     "metadata": {},
     "output_type": "display_data"
    },
    {
     "data": {
      "text/plain": [
       "<Figure size 1008x504 with 0 Axes>"
      ]
     },
     "metadata": {},
     "output_type": "display_data"
    },
    {
     "data": {
      "text/plain": [
       "<Figure size 1440x720 with 0 Axes>"
      ]
     },
     "metadata": {},
     "output_type": "display_data"
    },
    {
     "data": {
      "text/plain": [
       "<Figure size 1008x504 with 0 Axes>"
      ]
     },
     "metadata": {},
     "output_type": "display_data"
    },
    {
     "data": {
      "text/plain": [
       "<Figure size 1008x504 with 0 Axes>"
      ]
     },
     "metadata": {},
     "output_type": "display_data"
    },
    {
     "data": {
      "text/plain": [
       "<Figure size 1440x720 with 0 Axes>"
      ]
     },
     "metadata": {},
     "output_type": "display_data"
    },
    {
     "data": {
      "text/plain": [
       "<Figure size 1008x504 with 0 Axes>"
      ]
     },
     "metadata": {},
     "output_type": "display_data"
    },
    {
     "data": {
      "text/plain": [
       "<Figure size 1008x504 with 0 Axes>"
      ]
     },
     "metadata": {},
     "output_type": "display_data"
    },
    {
     "data": {
      "text/plain": [
       "<Figure size 1440x720 with 0 Axes>"
      ]
     },
     "metadata": {},
     "output_type": "display_data"
    },
    {
     "data": {
      "text/plain": [
       "<Figure size 1008x504 with 0 Axes>"
      ]
     },
     "metadata": {},
     "output_type": "display_data"
    },
    {
     "data": {
      "text/plain": [
       "<Figure size 1008x504 with 0 Axes>"
      ]
     },
     "metadata": {},
     "output_type": "display_data"
    },
    {
     "data": {
      "text/plain": [
       "<Figure size 1440x720 with 0 Axes>"
      ]
     },
     "metadata": {},
     "output_type": "display_data"
    },
    {
     "data": {
      "text/plain": [
       "<Figure size 1008x504 with 0 Axes>"
      ]
     },
     "metadata": {},
     "output_type": "display_data"
    },
    {
     "data": {
      "text/plain": [
       "<Figure size 1008x504 with 0 Axes>"
      ]
     },
     "metadata": {},
     "output_type": "display_data"
    },
    {
     "data": {
      "text/plain": [
       "<Figure size 1440x720 with 0 Axes>"
      ]
     },
     "metadata": {},
     "output_type": "display_data"
    },
    {
     "data": {
      "text/plain": [
       "<Figure size 1008x504 with 0 Axes>"
      ]
     },
     "metadata": {},
     "output_type": "display_data"
    },
    {
     "data": {
      "text/plain": [
       "<Figure size 1008x504 with 0 Axes>"
      ]
     },
     "metadata": {},
     "output_type": "display_data"
    },
    {
     "data": {
      "text/plain": [
       "<Figure size 1440x720 with 0 Axes>"
      ]
     },
     "metadata": {},
     "output_type": "display_data"
    },
    {
     "data": {
      "text/plain": [
       "<Figure size 1008x504 with 0 Axes>"
      ]
     },
     "metadata": {},
     "output_type": "display_data"
    },
    {
     "data": {
      "text/plain": [
       "<Figure size 1008x504 with 0 Axes>"
      ]
     },
     "metadata": {},
     "output_type": "display_data"
    },
    {
     "data": {
      "text/plain": [
       "<Figure size 1440x720 with 0 Axes>"
      ]
     },
     "metadata": {},
     "output_type": "display_data"
    },
    {
     "data": {
      "text/plain": [
       "<Figure size 1008x504 with 0 Axes>"
      ]
     },
     "metadata": {},
     "output_type": "display_data"
    },
    {
     "data": {
      "text/plain": [
       "<Figure size 1008x504 with 0 Axes>"
      ]
     },
     "metadata": {},
     "output_type": "display_data"
    },
    {
     "data": {
      "text/plain": [
       "<Figure size 1440x720 with 0 Axes>"
      ]
     },
     "metadata": {},
     "output_type": "display_data"
    },
    {
     "data": {
      "text/plain": [
       "<Figure size 1008x504 with 0 Axes>"
      ]
     },
     "metadata": {},
     "output_type": "display_data"
    },
    {
     "data": {
      "text/plain": [
       "<Figure size 1008x504 with 0 Axes>"
      ]
     },
     "metadata": {},
     "output_type": "display_data"
    },
    {
     "data": {
      "text/plain": [
       "<Figure size 1440x720 with 0 Axes>"
      ]
     },
     "metadata": {},
     "output_type": "display_data"
    },
    {
     "data": {
      "text/plain": [
       "<Figure size 1008x504 with 0 Axes>"
      ]
     },
     "metadata": {},
     "output_type": "display_data"
    },
    {
     "data": {
      "text/plain": [
       "<Figure size 1008x504 with 0 Axes>"
      ]
     },
     "metadata": {},
     "output_type": "display_data"
    },
    {
     "data": {
      "text/plain": [
       "<Figure size 1440x720 with 0 Axes>"
      ]
     },
     "metadata": {},
     "output_type": "display_data"
    },
    {
     "data": {
      "text/plain": [
       "<Figure size 1008x504 with 0 Axes>"
      ]
     },
     "metadata": {},
     "output_type": "display_data"
    },
    {
     "data": {
      "text/plain": [
       "<Figure size 1008x504 with 0 Axes>"
      ]
     },
     "metadata": {},
     "output_type": "display_data"
    },
    {
     "data": {
      "text/plain": [
       "<Figure size 1440x720 with 0 Axes>"
      ]
     },
     "metadata": {},
     "output_type": "display_data"
    },
    {
     "data": {
      "text/plain": [
       "<Figure size 1008x504 with 0 Axes>"
      ]
     },
     "metadata": {},
     "output_type": "display_data"
    },
    {
     "data": {
      "text/plain": [
       "<Figure size 1008x504 with 0 Axes>"
      ]
     },
     "metadata": {},
     "output_type": "display_data"
    },
    {
     "data": {
      "text/plain": [
       "<Figure size 1440x720 with 0 Axes>"
      ]
     },
     "metadata": {},
     "output_type": "display_data"
    },
    {
     "data": {
      "text/plain": [
       "<Figure size 1008x504 with 0 Axes>"
      ]
     },
     "metadata": {},
     "output_type": "display_data"
    },
    {
     "data": {
      "text/plain": [
       "<Figure size 1008x504 with 0 Axes>"
      ]
     },
     "metadata": {},
     "output_type": "display_data"
    },
    {
     "data": {
      "text/plain": [
       "<Figure size 1440x720 with 0 Axes>"
      ]
     },
     "metadata": {},
     "output_type": "display_data"
    },
    {
     "data": {
      "text/plain": [
       "<Figure size 1008x504 with 0 Axes>"
      ]
     },
     "metadata": {},
     "output_type": "display_data"
    },
    {
     "data": {
      "text/plain": [
       "<Figure size 1008x504 with 0 Axes>"
      ]
     },
     "metadata": {},
     "output_type": "display_data"
    },
    {
     "data": {
      "text/plain": [
       "<Figure size 1440x720 with 0 Axes>"
      ]
     },
     "metadata": {},
     "output_type": "display_data"
    },
    {
     "data": {
      "text/plain": [
       "<Figure size 1008x504 with 0 Axes>"
      ]
     },
     "metadata": {},
     "output_type": "display_data"
    },
    {
     "data": {
      "text/plain": [
       "<Figure size 1008x504 with 0 Axes>"
      ]
     },
     "metadata": {},
     "output_type": "display_data"
    },
    {
     "data": {
      "text/plain": [
       "<Figure size 1440x720 with 0 Axes>"
      ]
     },
     "metadata": {},
     "output_type": "display_data"
    },
    {
     "data": {
      "text/plain": [
       "<Figure size 1008x504 with 0 Axes>"
      ]
     },
     "metadata": {},
     "output_type": "display_data"
    },
    {
     "data": {
      "text/plain": [
       "<Figure size 1008x504 with 0 Axes>"
      ]
     },
     "metadata": {},
     "output_type": "display_data"
    },
    {
     "data": {
      "text/plain": [
       "<Figure size 1440x720 with 0 Axes>"
      ]
     },
     "metadata": {},
     "output_type": "display_data"
    },
    {
     "data": {
      "text/plain": [
       "<Figure size 1008x504 with 0 Axes>"
      ]
     },
     "metadata": {},
     "output_type": "display_data"
    },
    {
     "data": {
      "text/plain": [
       "<Figure size 1008x504 with 0 Axes>"
      ]
     },
     "metadata": {},
     "output_type": "display_data"
    },
    {
     "data": {
      "text/plain": [
       "<Figure size 1440x720 with 0 Axes>"
      ]
     },
     "metadata": {},
     "output_type": "display_data"
    },
    {
     "data": {
      "text/plain": [
       "<Figure size 1008x504 with 0 Axes>"
      ]
     },
     "metadata": {},
     "output_type": "display_data"
    },
    {
     "data": {
      "text/plain": [
       "<Figure size 1008x504 with 0 Axes>"
      ]
     },
     "metadata": {},
     "output_type": "display_data"
    },
    {
     "data": {
      "text/plain": [
       "<Figure size 1440x720 with 0 Axes>"
      ]
     },
     "metadata": {},
     "output_type": "display_data"
    },
    {
     "data": {
      "text/plain": [
       "<Figure size 1008x504 with 0 Axes>"
      ]
     },
     "metadata": {},
     "output_type": "display_data"
    },
    {
     "data": {
      "text/plain": [
       "<Figure size 1008x504 with 0 Axes>"
      ]
     },
     "metadata": {},
     "output_type": "display_data"
    },
    {
     "data": {
      "text/plain": [
       "<Figure size 1440x720 with 0 Axes>"
      ]
     },
     "metadata": {},
     "output_type": "display_data"
    },
    {
     "data": {
      "text/plain": [
       "<Figure size 1008x504 with 0 Axes>"
      ]
     },
     "metadata": {},
     "output_type": "display_data"
    },
    {
     "data": {
      "text/plain": [
       "<Figure size 1008x504 with 0 Axes>"
      ]
     },
     "metadata": {},
     "output_type": "display_data"
    },
    {
     "data": {
      "text/plain": [
       "<Figure size 1440x720 with 0 Axes>"
      ]
     },
     "metadata": {},
     "output_type": "display_data"
    },
    {
     "data": {
      "text/plain": [
       "<Figure size 1008x504 with 0 Axes>"
      ]
     },
     "metadata": {},
     "output_type": "display_data"
    },
    {
     "data": {
      "text/plain": [
       "<Figure size 1008x504 with 0 Axes>"
      ]
     },
     "metadata": {},
     "output_type": "display_data"
    },
    {
     "data": {
      "text/plain": [
       "<Figure size 1440x720 with 0 Axes>"
      ]
     },
     "metadata": {},
     "output_type": "display_data"
    },
    {
     "data": {
      "text/plain": [
       "<Figure size 1008x504 with 0 Axes>"
      ]
     },
     "metadata": {},
     "output_type": "display_data"
    },
    {
     "data": {
      "text/plain": [
       "<Figure size 1008x504 with 0 Axes>"
      ]
     },
     "metadata": {},
     "output_type": "display_data"
    },
    {
     "data": {
      "text/plain": [
       "<Figure size 1440x720 with 0 Axes>"
      ]
     },
     "metadata": {},
     "output_type": "display_data"
    },
    {
     "data": {
      "text/plain": [
       "<Figure size 1008x504 with 0 Axes>"
      ]
     },
     "metadata": {},
     "output_type": "display_data"
    },
    {
     "data": {
      "text/plain": [
       "<Figure size 1008x504 with 0 Axes>"
      ]
     },
     "metadata": {},
     "output_type": "display_data"
    },
    {
     "data": {
      "text/plain": [
       "<Figure size 1440x720 with 0 Axes>"
      ]
     },
     "metadata": {},
     "output_type": "display_data"
    },
    {
     "data": {
      "text/plain": [
       "<Figure size 1008x504 with 0 Axes>"
      ]
     },
     "metadata": {},
     "output_type": "display_data"
    },
    {
     "data": {
      "text/plain": [
       "<Figure size 1008x504 with 0 Axes>"
      ]
     },
     "metadata": {},
     "output_type": "display_data"
    },
    {
     "data": {
      "text/plain": [
       "<Figure size 1440x720 with 0 Axes>"
      ]
     },
     "metadata": {},
     "output_type": "display_data"
    },
    {
     "data": {
      "text/plain": [
       "<Figure size 1008x504 with 0 Axes>"
      ]
     },
     "metadata": {},
     "output_type": "display_data"
    },
    {
     "data": {
      "text/plain": [
       "<Figure size 1008x504 with 0 Axes>"
      ]
     },
     "metadata": {},
     "output_type": "display_data"
    },
    {
     "data": {
      "text/plain": [
       "<Figure size 1440x720 with 0 Axes>"
      ]
     },
     "metadata": {},
     "output_type": "display_data"
    },
    {
     "data": {
      "text/plain": [
       "<Figure size 1008x504 with 0 Axes>"
      ]
     },
     "metadata": {},
     "output_type": "display_data"
    },
    {
     "data": {
      "text/plain": [
       "<Figure size 1008x504 with 0 Axes>"
      ]
     },
     "metadata": {},
     "output_type": "display_data"
    },
    {
     "data": {
      "text/plain": [
       "<Figure size 1440x720 with 0 Axes>"
      ]
     },
     "metadata": {},
     "output_type": "display_data"
    },
    {
     "data": {
      "text/plain": [
       "<Figure size 1008x504 with 0 Axes>"
      ]
     },
     "metadata": {},
     "output_type": "display_data"
    },
    {
     "data": {
      "text/plain": [
       "<Figure size 1008x504 with 0 Axes>"
      ]
     },
     "metadata": {},
     "output_type": "display_data"
    },
    {
     "data": {
      "text/plain": [
       "<Figure size 1440x720 with 0 Axes>"
      ]
     },
     "metadata": {},
     "output_type": "display_data"
    },
    {
     "data": {
      "text/plain": [
       "<Figure size 1008x504 with 0 Axes>"
      ]
     },
     "metadata": {},
     "output_type": "display_data"
    },
    {
     "data": {
      "text/plain": [
       "<Figure size 1008x504 with 0 Axes>"
      ]
     },
     "metadata": {},
     "output_type": "display_data"
    },
    {
     "data": {
      "text/plain": [
       "<Figure size 1440x720 with 0 Axes>"
      ]
     },
     "metadata": {},
     "output_type": "display_data"
    },
    {
     "data": {
      "text/plain": [
       "<Figure size 1008x504 with 0 Axes>"
      ]
     },
     "metadata": {},
     "output_type": "display_data"
    },
    {
     "data": {
      "text/plain": [
       "<Figure size 1008x504 with 0 Axes>"
      ]
     },
     "metadata": {},
     "output_type": "display_data"
    },
    {
     "data": {
      "text/plain": [
       "<Figure size 1440x720 with 0 Axes>"
      ]
     },
     "metadata": {},
     "output_type": "display_data"
    },
    {
     "data": {
      "text/plain": [
       "<Figure size 1008x504 with 0 Axes>"
      ]
     },
     "metadata": {},
     "output_type": "display_data"
    },
    {
     "data": {
      "text/plain": [
       "<Figure size 1008x504 with 0 Axes>"
      ]
     },
     "metadata": {},
     "output_type": "display_data"
    },
    {
     "data": {
      "text/plain": [
       "<Figure size 1440x720 with 0 Axes>"
      ]
     },
     "metadata": {},
     "output_type": "display_data"
    },
    {
     "data": {
      "text/plain": [
       "<Figure size 1008x504 with 0 Axes>"
      ]
     },
     "metadata": {},
     "output_type": "display_data"
    },
    {
     "data": {
      "text/plain": [
       "<Figure size 1008x504 with 0 Axes>"
      ]
     },
     "metadata": {},
     "output_type": "display_data"
    },
    {
     "data": {
      "text/plain": [
       "<Figure size 1440x720 with 0 Axes>"
      ]
     },
     "metadata": {},
     "output_type": "display_data"
    },
    {
     "data": {
      "text/plain": [
       "<Figure size 1008x504 with 0 Axes>"
      ]
     },
     "metadata": {},
     "output_type": "display_data"
    },
    {
     "data": {
      "text/plain": [
       "<Figure size 1008x504 with 0 Axes>"
      ]
     },
     "metadata": {},
     "output_type": "display_data"
    },
    {
     "data": {
      "text/plain": [
       "<Figure size 1440x720 with 0 Axes>"
      ]
     },
     "metadata": {},
     "output_type": "display_data"
    },
    {
     "data": {
      "text/plain": [
       "<Figure size 1008x504 with 0 Axes>"
      ]
     },
     "metadata": {},
     "output_type": "display_data"
    },
    {
     "data": {
      "text/plain": [
       "<Figure size 1008x504 with 0 Axes>"
      ]
     },
     "metadata": {},
     "output_type": "display_data"
    },
    {
     "data": {
      "text/plain": [
       "<Figure size 1440x720 with 0 Axes>"
      ]
     },
     "metadata": {},
     "output_type": "display_data"
    },
    {
     "data": {
      "text/plain": [
       "<Figure size 1008x504 with 0 Axes>"
      ]
     },
     "metadata": {},
     "output_type": "display_data"
    },
    {
     "data": {
      "text/plain": [
       "<Figure size 1008x504 with 0 Axes>"
      ]
     },
     "metadata": {},
     "output_type": "display_data"
    },
    {
     "data": {
      "text/plain": [
       "<Figure size 1440x720 with 0 Axes>"
      ]
     },
     "metadata": {},
     "output_type": "display_data"
    },
    {
     "data": {
      "text/plain": [
       "<Figure size 1008x504 with 0 Axes>"
      ]
     },
     "metadata": {},
     "output_type": "display_data"
    },
    {
     "data": {
      "text/plain": [
       "<Figure size 1008x504 with 0 Axes>"
      ]
     },
     "metadata": {},
     "output_type": "display_data"
    },
    {
     "data": {
      "text/plain": [
       "<Figure size 1440x720 with 0 Axes>"
      ]
     },
     "metadata": {},
     "output_type": "display_data"
    },
    {
     "data": {
      "text/plain": [
       "<Figure size 1008x504 with 0 Axes>"
      ]
     },
     "metadata": {},
     "output_type": "display_data"
    },
    {
     "data": {
      "text/plain": [
       "<Figure size 1008x504 with 0 Axes>"
      ]
     },
     "metadata": {},
     "output_type": "display_data"
    },
    {
     "data": {
      "text/plain": [
       "<Figure size 1440x720 with 0 Axes>"
      ]
     },
     "metadata": {},
     "output_type": "display_data"
    },
    {
     "data": {
      "text/plain": [
       "<Figure size 1008x504 with 0 Axes>"
      ]
     },
     "metadata": {},
     "output_type": "display_data"
    },
    {
     "data": {
      "text/plain": [
       "<Figure size 1008x504 with 0 Axes>"
      ]
     },
     "metadata": {},
     "output_type": "display_data"
    },
    {
     "data": {
      "text/plain": [
       "<Figure size 1440x720 with 0 Axes>"
      ]
     },
     "metadata": {},
     "output_type": "display_data"
    },
    {
     "data": {
      "text/plain": [
       "<Figure size 1008x504 with 0 Axes>"
      ]
     },
     "metadata": {},
     "output_type": "display_data"
    },
    {
     "data": {
      "text/plain": [
       "<Figure size 1008x504 with 0 Axes>"
      ]
     },
     "metadata": {},
     "output_type": "display_data"
    },
    {
     "data": {
      "text/plain": [
       "<Figure size 1440x720 with 0 Axes>"
      ]
     },
     "metadata": {},
     "output_type": "display_data"
    },
    {
     "data": {
      "text/plain": [
       "<Figure size 1008x504 with 0 Axes>"
      ]
     },
     "metadata": {},
     "output_type": "display_data"
    },
    {
     "data": {
      "text/plain": [
       "<Figure size 1008x504 with 0 Axes>"
      ]
     },
     "metadata": {},
     "output_type": "display_data"
    },
    {
     "data": {
      "text/plain": [
       "<Figure size 1440x720 with 0 Axes>"
      ]
     },
     "metadata": {},
     "output_type": "display_data"
    },
    {
     "data": {
      "text/plain": [
       "<Figure size 1008x504 with 0 Axes>"
      ]
     },
     "metadata": {},
     "output_type": "display_data"
    },
    {
     "data": {
      "text/plain": [
       "<Figure size 1008x504 with 0 Axes>"
      ]
     },
     "metadata": {},
     "output_type": "display_data"
    },
    {
     "data": {
      "text/plain": [
       "<Figure size 1440x720 with 0 Axes>"
      ]
     },
     "metadata": {},
     "output_type": "display_data"
    },
    {
     "data": {
      "text/plain": [
       "<Figure size 1008x504 with 0 Axes>"
      ]
     },
     "metadata": {},
     "output_type": "display_data"
    },
    {
     "data": {
      "text/plain": [
       "<Figure size 1008x504 with 0 Axes>"
      ]
     },
     "metadata": {},
     "output_type": "display_data"
    },
    {
     "data": {
      "text/plain": [
       "<Figure size 1440x720 with 0 Axes>"
      ]
     },
     "metadata": {},
     "output_type": "display_data"
    },
    {
     "data": {
      "text/plain": [
       "<Figure size 1008x504 with 0 Axes>"
      ]
     },
     "metadata": {},
     "output_type": "display_data"
    },
    {
     "data": {
      "text/plain": [
       "<Figure size 1008x504 with 0 Axes>"
      ]
     },
     "metadata": {},
     "output_type": "display_data"
    },
    {
     "data": {
      "text/plain": [
       "<Figure size 1440x720 with 0 Axes>"
      ]
     },
     "metadata": {},
     "output_type": "display_data"
    },
    {
     "data": {
      "text/plain": [
       "<Figure size 1008x504 with 0 Axes>"
      ]
     },
     "metadata": {},
     "output_type": "display_data"
    },
    {
     "data": {
      "text/plain": [
       "<Figure size 1008x504 with 0 Axes>"
      ]
     },
     "metadata": {},
     "output_type": "display_data"
    },
    {
     "data": {
      "text/plain": [
       "<Figure size 1440x720 with 0 Axes>"
      ]
     },
     "metadata": {},
     "output_type": "display_data"
    },
    {
     "data": {
      "text/plain": [
       "<Figure size 1008x504 with 0 Axes>"
      ]
     },
     "metadata": {},
     "output_type": "display_data"
    },
    {
     "data": {
      "text/plain": [
       "<Figure size 1008x504 with 0 Axes>"
      ]
     },
     "metadata": {},
     "output_type": "display_data"
    },
    {
     "data": {
      "text/plain": [
       "<Figure size 1440x720 with 0 Axes>"
      ]
     },
     "metadata": {},
     "output_type": "display_data"
    },
    {
     "data": {
      "text/plain": [
       "<Figure size 1008x504 with 0 Axes>"
      ]
     },
     "metadata": {},
     "output_type": "display_data"
    },
    {
     "data": {
      "text/plain": [
       "<Figure size 1008x504 with 0 Axes>"
      ]
     },
     "metadata": {},
     "output_type": "display_data"
    },
    {
     "data": {
      "text/plain": [
       "<Figure size 1440x720 with 0 Axes>"
      ]
     },
     "metadata": {},
     "output_type": "display_data"
    },
    {
     "data": {
      "text/plain": [
       "<Figure size 1008x504 with 0 Axes>"
      ]
     },
     "metadata": {},
     "output_type": "display_data"
    },
    {
     "data": {
      "text/plain": [
       "<Figure size 1008x504 with 0 Axes>"
      ]
     },
     "metadata": {},
     "output_type": "display_data"
    },
    {
     "data": {
      "text/plain": [
       "<Figure size 1440x720 with 0 Axes>"
      ]
     },
     "metadata": {},
     "output_type": "display_data"
    },
    {
     "data": {
      "text/plain": [
       "<Figure size 1008x504 with 0 Axes>"
      ]
     },
     "metadata": {},
     "output_type": "display_data"
    },
    {
     "data": {
      "text/plain": [
       "<Figure size 1008x504 with 0 Axes>"
      ]
     },
     "metadata": {},
     "output_type": "display_data"
    },
    {
     "data": {
      "text/plain": [
       "<Figure size 1440x720 with 0 Axes>"
      ]
     },
     "metadata": {},
     "output_type": "display_data"
    },
    {
     "data": {
      "text/plain": [
       "<Figure size 1008x504 with 0 Axes>"
      ]
     },
     "metadata": {},
     "output_type": "display_data"
    },
    {
     "data": {
      "text/plain": [
       "<Figure size 1008x504 with 0 Axes>"
      ]
     },
     "metadata": {},
     "output_type": "display_data"
    },
    {
     "data": {
      "text/plain": [
       "<Figure size 1440x720 with 0 Axes>"
      ]
     },
     "metadata": {},
     "output_type": "display_data"
    },
    {
     "data": {
      "text/plain": [
       "<Figure size 1008x504 with 0 Axes>"
      ]
     },
     "metadata": {},
     "output_type": "display_data"
    },
    {
     "data": {
      "text/plain": [
       "<Figure size 1008x504 with 0 Axes>"
      ]
     },
     "metadata": {},
     "output_type": "display_data"
    },
    {
     "data": {
      "text/plain": [
       "<Figure size 1440x720 with 0 Axes>"
      ]
     },
     "metadata": {},
     "output_type": "display_data"
    },
    {
     "data": {
      "text/plain": [
       "<Figure size 1008x504 with 0 Axes>"
      ]
     },
     "metadata": {},
     "output_type": "display_data"
    },
    {
     "data": {
      "text/plain": [
       "<Figure size 1008x504 with 0 Axes>"
      ]
     },
     "metadata": {},
     "output_type": "display_data"
    },
    {
     "data": {
      "text/plain": [
       "<Figure size 1440x720 with 0 Axes>"
      ]
     },
     "metadata": {},
     "output_type": "display_data"
    },
    {
     "data": {
      "text/plain": [
       "<Figure size 1008x504 with 0 Axes>"
      ]
     },
     "metadata": {},
     "output_type": "display_data"
    },
    {
     "data": {
      "text/plain": [
       "<Figure size 1008x504 with 0 Axes>"
      ]
     },
     "metadata": {},
     "output_type": "display_data"
    },
    {
     "data": {
      "text/plain": [
       "<Figure size 1440x720 with 0 Axes>"
      ]
     },
     "metadata": {},
     "output_type": "display_data"
    },
    {
     "data": {
      "text/plain": [
       "<Figure size 1008x504 with 0 Axes>"
      ]
     },
     "metadata": {},
     "output_type": "display_data"
    },
    {
     "data": {
      "text/plain": [
       "<Figure size 1008x504 with 0 Axes>"
      ]
     },
     "metadata": {},
     "output_type": "display_data"
    },
    {
     "data": {
      "text/plain": [
       "<Figure size 1440x720 with 0 Axes>"
      ]
     },
     "metadata": {},
     "output_type": "display_data"
    },
    {
     "data": {
      "text/plain": [
       "<Figure size 1008x504 with 0 Axes>"
      ]
     },
     "metadata": {},
     "output_type": "display_data"
    },
    {
     "data": {
      "text/plain": [
       "<Figure size 1008x504 with 0 Axes>"
      ]
     },
     "metadata": {},
     "output_type": "display_data"
    },
    {
     "data": {
      "text/plain": [
       "<Figure size 1440x720 with 0 Axes>"
      ]
     },
     "metadata": {},
     "output_type": "display_data"
    },
    {
     "data": {
      "text/plain": [
       "<Figure size 1008x504 with 0 Axes>"
      ]
     },
     "metadata": {},
     "output_type": "display_data"
    },
    {
     "data": {
      "text/plain": [
       "<Figure size 1008x504 with 0 Axes>"
      ]
     },
     "metadata": {},
     "output_type": "display_data"
    },
    {
     "data": {
      "text/plain": [
       "<Figure size 1440x720 with 0 Axes>"
      ]
     },
     "metadata": {},
     "output_type": "display_data"
    },
    {
     "data": {
      "text/plain": [
       "<Figure size 1008x504 with 0 Axes>"
      ]
     },
     "metadata": {},
     "output_type": "display_data"
    },
    {
     "data": {
      "text/plain": [
       "<Figure size 1008x504 with 0 Axes>"
      ]
     },
     "metadata": {},
     "output_type": "display_data"
    },
    {
     "data": {
      "text/plain": [
       "<Figure size 1440x720 with 0 Axes>"
      ]
     },
     "metadata": {},
     "output_type": "display_data"
    },
    {
     "data": {
      "text/plain": [
       "<Figure size 1008x504 with 0 Axes>"
      ]
     },
     "metadata": {},
     "output_type": "display_data"
    },
    {
     "data": {
      "text/plain": [
       "<Figure size 1008x504 with 0 Axes>"
      ]
     },
     "metadata": {},
     "output_type": "display_data"
    },
    {
     "data": {
      "text/plain": [
       "<Figure size 1440x720 with 0 Axes>"
      ]
     },
     "metadata": {},
     "output_type": "display_data"
    },
    {
     "data": {
      "text/plain": [
       "<Figure size 1008x504 with 0 Axes>"
      ]
     },
     "metadata": {},
     "output_type": "display_data"
    },
    {
     "data": {
      "text/plain": [
       "<Figure size 1008x504 with 0 Axes>"
      ]
     },
     "metadata": {},
     "output_type": "display_data"
    },
    {
     "data": {
      "text/plain": [
       "<Figure size 1440x720 with 0 Axes>"
      ]
     },
     "metadata": {},
     "output_type": "display_data"
    },
    {
     "data": {
      "text/plain": [
       "<Figure size 1008x504 with 0 Axes>"
      ]
     },
     "metadata": {},
     "output_type": "display_data"
    },
    {
     "data": {
      "text/plain": [
       "<Figure size 1008x504 with 0 Axes>"
      ]
     },
     "metadata": {},
     "output_type": "display_data"
    },
    {
     "data": {
      "text/plain": [
       "<Figure size 1440x720 with 0 Axes>"
      ]
     },
     "metadata": {},
     "output_type": "display_data"
    },
    {
     "data": {
      "text/plain": [
       "<Figure size 1008x504 with 0 Axes>"
      ]
     },
     "metadata": {},
     "output_type": "display_data"
    },
    {
     "data": {
      "text/plain": [
       "<Figure size 1008x504 with 0 Axes>"
      ]
     },
     "metadata": {},
     "output_type": "display_data"
    },
    {
     "data": {
      "text/plain": [
       "<Figure size 1440x720 with 0 Axes>"
      ]
     },
     "metadata": {},
     "output_type": "display_data"
    },
    {
     "data": {
      "text/plain": [
       "<Figure size 1008x504 with 0 Axes>"
      ]
     },
     "metadata": {},
     "output_type": "display_data"
    },
    {
     "data": {
      "text/plain": [
       "<Figure size 1008x504 with 0 Axes>"
      ]
     },
     "metadata": {},
     "output_type": "display_data"
    },
    {
     "data": {
      "text/plain": [
       "<Figure size 1440x720 with 0 Axes>"
      ]
     },
     "metadata": {},
     "output_type": "display_data"
    },
    {
     "data": {
      "text/plain": [
       "<Figure size 1008x504 with 0 Axes>"
      ]
     },
     "metadata": {},
     "output_type": "display_data"
    },
    {
     "data": {
      "text/plain": [
       "<Figure size 1008x504 with 0 Axes>"
      ]
     },
     "metadata": {},
     "output_type": "display_data"
    },
    {
     "data": {
      "text/plain": [
       "<Figure size 1440x720 with 0 Axes>"
      ]
     },
     "metadata": {},
     "output_type": "display_data"
    },
    {
     "data": {
      "text/plain": [
       "<Figure size 1008x504 with 0 Axes>"
      ]
     },
     "metadata": {},
     "output_type": "display_data"
    },
    {
     "data": {
      "text/plain": [
       "<Figure size 1008x504 with 0 Axes>"
      ]
     },
     "metadata": {},
     "output_type": "display_data"
    },
    {
     "data": {
      "text/plain": [
       "<Figure size 1440x720 with 0 Axes>"
      ]
     },
     "metadata": {},
     "output_type": "display_data"
    },
    {
     "data": {
      "text/plain": [
       "<Figure size 1008x504 with 0 Axes>"
      ]
     },
     "metadata": {},
     "output_type": "display_data"
    },
    {
     "data": {
      "text/plain": [
       "<Figure size 1008x504 with 0 Axes>"
      ]
     },
     "metadata": {},
     "output_type": "display_data"
    },
    {
     "data": {
      "text/plain": [
       "<Figure size 1440x720 with 0 Axes>"
      ]
     },
     "metadata": {},
     "output_type": "display_data"
    },
    {
     "data": {
      "text/plain": [
       "<Figure size 1008x504 with 0 Axes>"
      ]
     },
     "metadata": {},
     "output_type": "display_data"
    },
    {
     "data": {
      "text/plain": [
       "<Figure size 1008x504 with 0 Axes>"
      ]
     },
     "metadata": {},
     "output_type": "display_data"
    },
    {
     "data": {
      "text/plain": [
       "<Figure size 1440x720 with 0 Axes>"
      ]
     },
     "metadata": {},
     "output_type": "display_data"
    },
    {
     "data": {
      "text/plain": [
       "<Figure size 1008x504 with 0 Axes>"
      ]
     },
     "metadata": {},
     "output_type": "display_data"
    },
    {
     "data": {
      "text/plain": [
       "<Figure size 1008x504 with 0 Axes>"
      ]
     },
     "metadata": {},
     "output_type": "display_data"
    },
    {
     "data": {
      "text/plain": [
       "<Figure size 1440x720 with 0 Axes>"
      ]
     },
     "metadata": {},
     "output_type": "display_data"
    },
    {
     "data": {
      "text/plain": [
       "<Figure size 1008x504 with 0 Axes>"
      ]
     },
     "metadata": {},
     "output_type": "display_data"
    },
    {
     "data": {
      "text/plain": [
       "<Figure size 1008x504 with 0 Axes>"
      ]
     },
     "metadata": {},
     "output_type": "display_data"
    },
    {
     "data": {
      "text/plain": [
       "<Figure size 1440x720 with 0 Axes>"
      ]
     },
     "metadata": {},
     "output_type": "display_data"
    },
    {
     "data": {
      "text/plain": [
       "<Figure size 1008x504 with 0 Axes>"
      ]
     },
     "metadata": {},
     "output_type": "display_data"
    },
    {
     "data": {
      "text/plain": [
       "<Figure size 1008x504 with 0 Axes>"
      ]
     },
     "metadata": {},
     "output_type": "display_data"
    },
    {
     "data": {
      "text/plain": [
       "<Figure size 1440x720 with 0 Axes>"
      ]
     },
     "metadata": {},
     "output_type": "display_data"
    },
    {
     "data": {
      "text/plain": [
       "<Figure size 1008x504 with 0 Axes>"
      ]
     },
     "metadata": {},
     "output_type": "display_data"
    },
    {
     "data": {
      "text/plain": [
       "<Figure size 1008x504 with 0 Axes>"
      ]
     },
     "metadata": {},
     "output_type": "display_data"
    },
    {
     "data": {
      "text/plain": [
       "<Figure size 1440x720 with 0 Axes>"
      ]
     },
     "metadata": {},
     "output_type": "display_data"
    },
    {
     "data": {
      "text/plain": [
       "<Figure size 1008x504 with 0 Axes>"
      ]
     },
     "metadata": {},
     "output_type": "display_data"
    },
    {
     "data": {
      "text/plain": [
       "<Figure size 1008x504 with 0 Axes>"
      ]
     },
     "metadata": {},
     "output_type": "display_data"
    },
    {
     "data": {
      "text/plain": [
       "<Figure size 1440x720 with 0 Axes>"
      ]
     },
     "metadata": {},
     "output_type": "display_data"
    },
    {
     "data": {
      "text/plain": [
       "<Figure size 1008x504 with 0 Axes>"
      ]
     },
     "metadata": {},
     "output_type": "display_data"
    },
    {
     "data": {
      "text/plain": [
       "<Figure size 1008x504 with 0 Axes>"
      ]
     },
     "metadata": {},
     "output_type": "display_data"
    },
    {
     "data": {
      "text/plain": [
       "<Figure size 1440x720 with 0 Axes>"
      ]
     },
     "metadata": {},
     "output_type": "display_data"
    },
    {
     "data": {
      "text/plain": [
       "<Figure size 1008x504 with 0 Axes>"
      ]
     },
     "metadata": {},
     "output_type": "display_data"
    },
    {
     "data": {
      "text/plain": [
       "<Figure size 1008x504 with 0 Axes>"
      ]
     },
     "metadata": {},
     "output_type": "display_data"
    },
    {
     "data": {
      "text/plain": [
       "<Figure size 1440x720 with 0 Axes>"
      ]
     },
     "metadata": {},
     "output_type": "display_data"
    },
    {
     "data": {
      "text/plain": [
       "<Figure size 1008x504 with 0 Axes>"
      ]
     },
     "metadata": {},
     "output_type": "display_data"
    },
    {
     "data": {
      "text/plain": [
       "<Figure size 1008x504 with 0 Axes>"
      ]
     },
     "metadata": {},
     "output_type": "display_data"
    },
    {
     "data": {
      "text/plain": [
       "<Figure size 1440x720 with 0 Axes>"
      ]
     },
     "metadata": {},
     "output_type": "display_data"
    },
    {
     "data": {
      "text/plain": [
       "<Figure size 1008x504 with 0 Axes>"
      ]
     },
     "metadata": {},
     "output_type": "display_data"
    },
    {
     "data": {
      "text/plain": [
       "<Figure size 1008x504 with 0 Axes>"
      ]
     },
     "metadata": {},
     "output_type": "display_data"
    },
    {
     "data": {
      "text/plain": [
       "<Figure size 1440x720 with 0 Axes>"
      ]
     },
     "metadata": {},
     "output_type": "display_data"
    },
    {
     "data": {
      "text/plain": [
       "<Figure size 1008x504 with 0 Axes>"
      ]
     },
     "metadata": {},
     "output_type": "display_data"
    },
    {
     "data": {
      "text/plain": [
       "<Figure size 1008x504 with 0 Axes>"
      ]
     },
     "metadata": {},
     "output_type": "display_data"
    },
    {
     "data": {
      "text/plain": [
       "<Figure size 1440x720 with 0 Axes>"
      ]
     },
     "metadata": {},
     "output_type": "display_data"
    },
    {
     "data": {
      "text/plain": [
       "<Figure size 1008x504 with 0 Axes>"
      ]
     },
     "metadata": {},
     "output_type": "display_data"
    },
    {
     "data": {
      "text/plain": [
       "<Figure size 1008x504 with 0 Axes>"
      ]
     },
     "metadata": {},
     "output_type": "display_data"
    },
    {
     "data": {
      "text/plain": [
       "<Figure size 1440x720 with 0 Axes>"
      ]
     },
     "metadata": {},
     "output_type": "display_data"
    },
    {
     "data": {
      "text/plain": [
       "<Figure size 1008x504 with 0 Axes>"
      ]
     },
     "metadata": {},
     "output_type": "display_data"
    },
    {
     "data": {
      "text/plain": [
       "<Figure size 1008x504 with 0 Axes>"
      ]
     },
     "metadata": {},
     "output_type": "display_data"
    },
    {
     "data": {
      "text/plain": [
       "<Figure size 1440x720 with 0 Axes>"
      ]
     },
     "metadata": {},
     "output_type": "display_data"
    },
    {
     "data": {
      "text/plain": [
       "<Figure size 1008x504 with 0 Axes>"
      ]
     },
     "metadata": {},
     "output_type": "display_data"
    },
    {
     "data": {
      "text/plain": [
       "<Figure size 1008x504 with 0 Axes>"
      ]
     },
     "metadata": {},
     "output_type": "display_data"
    },
    {
     "data": {
      "text/plain": [
       "<Figure size 1440x720 with 0 Axes>"
      ]
     },
     "metadata": {},
     "output_type": "display_data"
    },
    {
     "data": {
      "text/plain": [
       "<Figure size 1008x504 with 0 Axes>"
      ]
     },
     "metadata": {},
     "output_type": "display_data"
    },
    {
     "data": {
      "text/plain": [
       "<Figure size 1008x504 with 0 Axes>"
      ]
     },
     "metadata": {},
     "output_type": "display_data"
    },
    {
     "data": {
      "text/plain": [
       "<Figure size 1440x720 with 0 Axes>"
      ]
     },
     "metadata": {},
     "output_type": "display_data"
    },
    {
     "data": {
      "text/plain": [
       "<Figure size 1008x504 with 0 Axes>"
      ]
     },
     "metadata": {},
     "output_type": "display_data"
    },
    {
     "data": {
      "text/plain": [
       "<Figure size 1008x504 with 0 Axes>"
      ]
     },
     "metadata": {},
     "output_type": "display_data"
    },
    {
     "data": {
      "text/plain": [
       "<Figure size 1440x720 with 0 Axes>"
      ]
     },
     "metadata": {},
     "output_type": "display_data"
    },
    {
     "data": {
      "text/plain": [
       "<Figure size 1008x504 with 0 Axes>"
      ]
     },
     "metadata": {},
     "output_type": "display_data"
    },
    {
     "data": {
      "text/plain": [
       "<Figure size 1008x504 with 0 Axes>"
      ]
     },
     "metadata": {},
     "output_type": "display_data"
    },
    {
     "data": {
      "text/plain": [
       "<Figure size 1440x720 with 0 Axes>"
      ]
     },
     "metadata": {},
     "output_type": "display_data"
    },
    {
     "data": {
      "text/plain": [
       "<Figure size 1008x504 with 0 Axes>"
      ]
     },
     "metadata": {},
     "output_type": "display_data"
    },
    {
     "data": {
      "text/plain": [
       "<Figure size 1008x504 with 0 Axes>"
      ]
     },
     "metadata": {},
     "output_type": "display_data"
    },
    {
     "data": {
      "text/plain": [
       "<Figure size 1440x720 with 0 Axes>"
      ]
     },
     "metadata": {},
     "output_type": "display_data"
    },
    {
     "data": {
      "text/plain": [
       "<Figure size 1008x504 with 0 Axes>"
      ]
     },
     "metadata": {},
     "output_type": "display_data"
    },
    {
     "data": {
      "text/plain": [
       "<Figure size 1008x504 with 0 Axes>"
      ]
     },
     "metadata": {},
     "output_type": "display_data"
    },
    {
     "data": {
      "text/plain": [
       "<Figure size 1440x720 with 0 Axes>"
      ]
     },
     "metadata": {},
     "output_type": "display_data"
    },
    {
     "data": {
      "text/plain": [
       "<Figure size 1008x504 with 0 Axes>"
      ]
     },
     "metadata": {},
     "output_type": "display_data"
    },
    {
     "data": {
      "text/plain": [
       "<Figure size 1008x504 with 0 Axes>"
      ]
     },
     "metadata": {},
     "output_type": "display_data"
    },
    {
     "data": {
      "text/plain": [
       "<Figure size 1440x720 with 0 Axes>"
      ]
     },
     "metadata": {},
     "output_type": "display_data"
    },
    {
     "data": {
      "text/plain": [
       "<Figure size 1008x504 with 0 Axes>"
      ]
     },
     "metadata": {},
     "output_type": "display_data"
    },
    {
     "data": {
      "text/plain": [
       "<Figure size 1008x504 with 0 Axes>"
      ]
     },
     "metadata": {},
     "output_type": "display_data"
    },
    {
     "data": {
      "text/plain": [
       "<Figure size 1440x720 with 0 Axes>"
      ]
     },
     "metadata": {},
     "output_type": "display_data"
    },
    {
     "data": {
      "text/plain": [
       "<Figure size 1008x504 with 0 Axes>"
      ]
     },
     "metadata": {},
     "output_type": "display_data"
    },
    {
     "data": {
      "text/plain": [
       "<Figure size 1008x504 with 0 Axes>"
      ]
     },
     "metadata": {},
     "output_type": "display_data"
    },
    {
     "data": {
      "text/plain": [
       "<Figure size 1440x720 with 0 Axes>"
      ]
     },
     "metadata": {},
     "output_type": "display_data"
    },
    {
     "data": {
      "text/plain": [
       "<Figure size 1008x504 with 0 Axes>"
      ]
     },
     "metadata": {},
     "output_type": "display_data"
    },
    {
     "data": {
      "text/plain": [
       "<Figure size 1008x504 with 0 Axes>"
      ]
     },
     "metadata": {},
     "output_type": "display_data"
    },
    {
     "data": {
      "text/plain": [
       "<Figure size 1440x720 with 0 Axes>"
      ]
     },
     "metadata": {},
     "output_type": "display_data"
    },
    {
     "data": {
      "text/plain": [
       "<Figure size 1008x504 with 0 Axes>"
      ]
     },
     "metadata": {},
     "output_type": "display_data"
    },
    {
     "data": {
      "text/plain": [
       "<Figure size 1008x504 with 0 Axes>"
      ]
     },
     "metadata": {},
     "output_type": "display_data"
    },
    {
     "data": {
      "text/plain": [
       "<Figure size 1440x720 with 0 Axes>"
      ]
     },
     "metadata": {},
     "output_type": "display_data"
    },
    {
     "data": {
      "text/plain": [
       "<Figure size 1008x504 with 0 Axes>"
      ]
     },
     "metadata": {},
     "output_type": "display_data"
    },
    {
     "data": {
      "text/plain": [
       "<Figure size 1008x504 with 0 Axes>"
      ]
     },
     "metadata": {},
     "output_type": "display_data"
    },
    {
     "data": {
      "text/plain": [
       "<Figure size 1440x720 with 0 Axes>"
      ]
     },
     "metadata": {},
     "output_type": "display_data"
    },
    {
     "data": {
      "text/plain": [
       "<Figure size 1008x504 with 0 Axes>"
      ]
     },
     "metadata": {},
     "output_type": "display_data"
    },
    {
     "data": {
      "text/plain": [
       "<Figure size 1008x504 with 0 Axes>"
      ]
     },
     "metadata": {},
     "output_type": "display_data"
    },
    {
     "data": {
      "text/plain": [
       "<Figure size 1440x720 with 0 Axes>"
      ]
     },
     "metadata": {},
     "output_type": "display_data"
    },
    {
     "data": {
      "text/plain": [
       "<Figure size 1008x504 with 0 Axes>"
      ]
     },
     "metadata": {},
     "output_type": "display_data"
    },
    {
     "data": {
      "text/plain": [
       "<Figure size 1008x504 with 0 Axes>"
      ]
     },
     "metadata": {},
     "output_type": "display_data"
    },
    {
     "data": {
      "text/plain": [
       "<Figure size 1440x720 with 0 Axes>"
      ]
     },
     "metadata": {},
     "output_type": "display_data"
    },
    {
     "data": {
      "text/plain": [
       "<Figure size 1008x504 with 0 Axes>"
      ]
     },
     "metadata": {},
     "output_type": "display_data"
    },
    {
     "data": {
      "text/plain": [
       "<Figure size 1008x504 with 0 Axes>"
      ]
     },
     "metadata": {},
     "output_type": "display_data"
    },
    {
     "data": {
      "text/plain": [
       "<Figure size 1440x720 with 0 Axes>"
      ]
     },
     "metadata": {},
     "output_type": "display_data"
    },
    {
     "data": {
      "text/plain": [
       "<Figure size 1008x504 with 0 Axes>"
      ]
     },
     "metadata": {},
     "output_type": "display_data"
    },
    {
     "data": {
      "text/plain": [
       "<Figure size 1008x504 with 0 Axes>"
      ]
     },
     "metadata": {},
     "output_type": "display_data"
    },
    {
     "data": {
      "text/plain": [
       "<Figure size 1440x720 with 0 Axes>"
      ]
     },
     "metadata": {},
     "output_type": "display_data"
    },
    {
     "data": {
      "text/plain": [
       "<Figure size 1008x504 with 0 Axes>"
      ]
     },
     "metadata": {},
     "output_type": "display_data"
    },
    {
     "data": {
      "text/plain": [
       "<Figure size 1008x504 with 0 Axes>"
      ]
     },
     "metadata": {},
     "output_type": "display_data"
    },
    {
     "data": {
      "text/plain": [
       "<Figure size 1440x720 with 0 Axes>"
      ]
     },
     "metadata": {},
     "output_type": "display_data"
    },
    {
     "data": {
      "text/plain": [
       "<Figure size 1008x504 with 0 Axes>"
      ]
     },
     "metadata": {},
     "output_type": "display_data"
    },
    {
     "data": {
      "text/plain": [
       "<Figure size 1008x504 with 0 Axes>"
      ]
     },
     "metadata": {},
     "output_type": "display_data"
    },
    {
     "data": {
      "text/plain": [
       "<Figure size 1440x720 with 0 Axes>"
      ]
     },
     "metadata": {},
     "output_type": "display_data"
    },
    {
     "data": {
      "text/plain": [
       "<Figure size 1008x504 with 0 Axes>"
      ]
     },
     "metadata": {},
     "output_type": "display_data"
    },
    {
     "data": {
      "text/plain": [
       "<Figure size 1008x504 with 0 Axes>"
      ]
     },
     "metadata": {},
     "output_type": "display_data"
    },
    {
     "data": {
      "text/plain": [
       "<Figure size 1440x720 with 0 Axes>"
      ]
     },
     "metadata": {},
     "output_type": "display_data"
    },
    {
     "data": {
      "text/plain": [
       "<Figure size 1008x504 with 0 Axes>"
      ]
     },
     "metadata": {},
     "output_type": "display_data"
    },
    {
     "data": {
      "text/plain": [
       "<Figure size 1008x504 with 0 Axes>"
      ]
     },
     "metadata": {},
     "output_type": "display_data"
    },
    {
     "data": {
      "text/plain": [
       "<Figure size 1440x720 with 0 Axes>"
      ]
     },
     "metadata": {},
     "output_type": "display_data"
    },
    {
     "data": {
      "text/plain": [
       "<Figure size 1008x504 with 0 Axes>"
      ]
     },
     "metadata": {},
     "output_type": "display_data"
    },
    {
     "data": {
      "text/plain": [
       "<Figure size 1008x504 with 0 Axes>"
      ]
     },
     "metadata": {},
     "output_type": "display_data"
    },
    {
     "data": {
      "text/plain": [
       "<Figure size 1440x720 with 0 Axes>"
      ]
     },
     "metadata": {},
     "output_type": "display_data"
    },
    {
     "data": {
      "text/plain": [
       "<Figure size 1008x504 with 0 Axes>"
      ]
     },
     "metadata": {},
     "output_type": "display_data"
    },
    {
     "data": {
      "text/plain": [
       "<Figure size 1008x504 with 0 Axes>"
      ]
     },
     "metadata": {},
     "output_type": "display_data"
    },
    {
     "data": {
      "text/plain": [
       "<Figure size 1440x720 with 0 Axes>"
      ]
     },
     "metadata": {},
     "output_type": "display_data"
    },
    {
     "data": {
      "text/plain": [
       "<Figure size 1008x504 with 0 Axes>"
      ]
     },
     "metadata": {},
     "output_type": "display_data"
    },
    {
     "data": {
      "text/plain": [
       "<Figure size 1008x504 with 0 Axes>"
      ]
     },
     "metadata": {},
     "output_type": "display_data"
    },
    {
     "data": {
      "text/plain": [
       "<Figure size 1440x720 with 0 Axes>"
      ]
     },
     "metadata": {},
     "output_type": "display_data"
    },
    {
     "data": {
      "text/plain": [
       "<Figure size 1008x504 with 0 Axes>"
      ]
     },
     "metadata": {},
     "output_type": "display_data"
    },
    {
     "data": {
      "text/plain": [
       "<Figure size 1008x504 with 0 Axes>"
      ]
     },
     "metadata": {},
     "output_type": "display_data"
    },
    {
     "data": {
      "text/plain": [
       "<Figure size 1440x720 with 0 Axes>"
      ]
     },
     "metadata": {},
     "output_type": "display_data"
    },
    {
     "data": {
      "text/plain": [
       "<Figure size 1008x504 with 0 Axes>"
      ]
     },
     "metadata": {},
     "output_type": "display_data"
    },
    {
     "data": {
      "text/plain": [
       "<Figure size 1008x504 with 0 Axes>"
      ]
     },
     "metadata": {},
     "output_type": "display_data"
    },
    {
     "data": {
      "text/plain": [
       "<Figure size 1440x720 with 0 Axes>"
      ]
     },
     "metadata": {},
     "output_type": "display_data"
    },
    {
     "data": {
      "text/plain": [
       "<Figure size 1008x504 with 0 Axes>"
      ]
     },
     "metadata": {},
     "output_type": "display_data"
    },
    {
     "data": {
      "text/plain": [
       "<Figure size 1008x504 with 0 Axes>"
      ]
     },
     "metadata": {},
     "output_type": "display_data"
    },
    {
     "data": {
      "text/plain": [
       "<Figure size 1440x720 with 0 Axes>"
      ]
     },
     "metadata": {},
     "output_type": "display_data"
    },
    {
     "data": {
      "text/plain": [
       "<Figure size 1008x504 with 0 Axes>"
      ]
     },
     "metadata": {},
     "output_type": "display_data"
    },
    {
     "data": {
      "text/plain": [
       "<Figure size 1008x504 with 0 Axes>"
      ]
     },
     "metadata": {},
     "output_type": "display_data"
    },
    {
     "data": {
      "text/plain": [
       "<Figure size 1440x720 with 0 Axes>"
      ]
     },
     "metadata": {},
     "output_type": "display_data"
    },
    {
     "data": {
      "text/plain": [
       "<Figure size 1008x504 with 0 Axes>"
      ]
     },
     "metadata": {},
     "output_type": "display_data"
    },
    {
     "data": {
      "text/plain": [
       "<Figure size 1008x504 with 0 Axes>"
      ]
     },
     "metadata": {},
     "output_type": "display_data"
    },
    {
     "data": {
      "text/plain": [
       "<Figure size 1440x720 with 0 Axes>"
      ]
     },
     "metadata": {},
     "output_type": "display_data"
    },
    {
     "data": {
      "text/plain": [
       "<Figure size 1008x504 with 0 Axes>"
      ]
     },
     "metadata": {},
     "output_type": "display_data"
    },
    {
     "data": {
      "text/plain": [
       "<Figure size 1008x504 with 0 Axes>"
      ]
     },
     "metadata": {},
     "output_type": "display_data"
    },
    {
     "data": {
      "text/plain": [
       "<Figure size 1440x720 with 0 Axes>"
      ]
     },
     "metadata": {},
     "output_type": "display_data"
    },
    {
     "data": {
      "text/plain": [
       "<Figure size 1008x504 with 0 Axes>"
      ]
     },
     "metadata": {},
     "output_type": "display_data"
    },
    {
     "data": {
      "text/plain": [
       "<Figure size 1008x504 with 0 Axes>"
      ]
     },
     "metadata": {},
     "output_type": "display_data"
    },
    {
     "data": {
      "text/plain": [
       "<Figure size 1440x720 with 0 Axes>"
      ]
     },
     "metadata": {},
     "output_type": "display_data"
    },
    {
     "data": {
      "text/plain": [
       "<Figure size 1008x504 with 0 Axes>"
      ]
     },
     "metadata": {},
     "output_type": "display_data"
    },
    {
     "data": {
      "text/plain": [
       "<Figure size 1008x504 with 0 Axes>"
      ]
     },
     "metadata": {},
     "output_type": "display_data"
    },
    {
     "data": {
      "text/plain": [
       "<Figure size 1440x720 with 0 Axes>"
      ]
     },
     "metadata": {},
     "output_type": "display_data"
    },
    {
     "data": {
      "text/plain": [
       "<Figure size 1008x504 with 0 Axes>"
      ]
     },
     "metadata": {},
     "output_type": "display_data"
    },
    {
     "data": {
      "text/plain": [
       "<Figure size 1008x504 with 0 Axes>"
      ]
     },
     "metadata": {},
     "output_type": "display_data"
    },
    {
     "data": {
      "text/plain": [
       "<Figure size 1440x720 with 0 Axes>"
      ]
     },
     "metadata": {},
     "output_type": "display_data"
    },
    {
     "data": {
      "text/plain": [
       "<Figure size 1008x504 with 0 Axes>"
      ]
     },
     "metadata": {},
     "output_type": "display_data"
    },
    {
     "data": {
      "text/plain": [
       "<Figure size 1008x504 with 0 Axes>"
      ]
     },
     "metadata": {},
     "output_type": "display_data"
    },
    {
     "data": {
      "text/plain": [
       "<Figure size 1440x720 with 0 Axes>"
      ]
     },
     "metadata": {},
     "output_type": "display_data"
    },
    {
     "data": {
      "text/plain": [
       "<Figure size 1008x504 with 0 Axes>"
      ]
     },
     "metadata": {},
     "output_type": "display_data"
    },
    {
     "data": {
      "text/plain": [
       "<Figure size 1008x504 with 0 Axes>"
      ]
     },
     "metadata": {},
     "output_type": "display_data"
    },
    {
     "data": {
      "text/plain": [
       "<Figure size 1440x720 with 0 Axes>"
      ]
     },
     "metadata": {},
     "output_type": "display_data"
    },
    {
     "data": {
      "text/plain": [
       "<Figure size 1008x504 with 0 Axes>"
      ]
     },
     "metadata": {},
     "output_type": "display_data"
    },
    {
     "data": {
      "text/plain": [
       "<Figure size 1008x504 with 0 Axes>"
      ]
     },
     "metadata": {},
     "output_type": "display_data"
    },
    {
     "data": {
      "text/plain": [
       "<Figure size 1440x720 with 0 Axes>"
      ]
     },
     "metadata": {},
     "output_type": "display_data"
    },
    {
     "data": {
      "text/plain": [
       "<Figure size 1008x504 with 0 Axes>"
      ]
     },
     "metadata": {},
     "output_type": "display_data"
    },
    {
     "data": {
      "text/plain": [
       "<Figure size 1008x504 with 0 Axes>"
      ]
     },
     "metadata": {},
     "output_type": "display_data"
    },
    {
     "data": {
      "text/plain": [
       "<Figure size 1440x720 with 0 Axes>"
      ]
     },
     "metadata": {},
     "output_type": "display_data"
    },
    {
     "data": {
      "text/plain": [
       "<Figure size 1008x504 with 0 Axes>"
      ]
     },
     "metadata": {},
     "output_type": "display_data"
    },
    {
     "data": {
      "text/plain": [
       "<Figure size 1008x504 with 0 Axes>"
      ]
     },
     "metadata": {},
     "output_type": "display_data"
    },
    {
     "data": {
      "text/plain": [
       "<Figure size 1440x720 with 0 Axes>"
      ]
     },
     "metadata": {},
     "output_type": "display_data"
    },
    {
     "data": {
      "text/plain": [
       "<Figure size 1008x504 with 0 Axes>"
      ]
     },
     "metadata": {},
     "output_type": "display_data"
    },
    {
     "data": {
      "text/plain": [
       "<Figure size 1008x504 with 0 Axes>"
      ]
     },
     "metadata": {},
     "output_type": "display_data"
    },
    {
     "data": {
      "text/plain": [
       "<Figure size 1440x720 with 0 Axes>"
      ]
     },
     "metadata": {},
     "output_type": "display_data"
    },
    {
     "data": {
      "text/plain": [
       "<Figure size 1008x504 with 0 Axes>"
      ]
     },
     "metadata": {},
     "output_type": "display_data"
    },
    {
     "data": {
      "text/plain": [
       "<Figure size 1008x504 with 0 Axes>"
      ]
     },
     "metadata": {},
     "output_type": "display_data"
    },
    {
     "data": {
      "text/plain": [
       "<Figure size 1440x720 with 0 Axes>"
      ]
     },
     "metadata": {},
     "output_type": "display_data"
    },
    {
     "data": {
      "text/plain": [
       "<Figure size 1008x504 with 0 Axes>"
      ]
     },
     "metadata": {},
     "output_type": "display_data"
    },
    {
     "data": {
      "text/plain": [
       "<Figure size 1008x504 with 0 Axes>"
      ]
     },
     "metadata": {},
     "output_type": "display_data"
    },
    {
     "data": {
      "text/plain": [
       "<Figure size 1440x720 with 0 Axes>"
      ]
     },
     "metadata": {},
     "output_type": "display_data"
    },
    {
     "data": {
      "text/plain": [
       "<Figure size 1008x504 with 0 Axes>"
      ]
     },
     "metadata": {},
     "output_type": "display_data"
    },
    {
     "data": {
      "text/plain": [
       "<Figure size 1008x504 with 0 Axes>"
      ]
     },
     "metadata": {},
     "output_type": "display_data"
    },
    {
     "data": {
      "text/plain": [
       "<Figure size 1440x720 with 0 Axes>"
      ]
     },
     "metadata": {},
     "output_type": "display_data"
    },
    {
     "data": {
      "text/plain": [
       "<Figure size 1008x504 with 0 Axes>"
      ]
     },
     "metadata": {},
     "output_type": "display_data"
    },
    {
     "data": {
      "text/plain": [
       "<Figure size 1008x504 with 0 Axes>"
      ]
     },
     "metadata": {},
     "output_type": "display_data"
    },
    {
     "data": {
      "text/plain": [
       "<Figure size 1440x720 with 0 Axes>"
      ]
     },
     "metadata": {},
     "output_type": "display_data"
    },
    {
     "data": {
      "text/plain": [
       "<Figure size 1008x504 with 0 Axes>"
      ]
     },
     "metadata": {},
     "output_type": "display_data"
    },
    {
     "data": {
      "text/plain": [
       "<Figure size 1008x504 with 0 Axes>"
      ]
     },
     "metadata": {},
     "output_type": "display_data"
    },
    {
     "data": {
      "text/plain": [
       "<Figure size 1440x720 with 0 Axes>"
      ]
     },
     "metadata": {},
     "output_type": "display_data"
    },
    {
     "data": {
      "text/plain": [
       "<Figure size 1008x504 with 0 Axes>"
      ]
     },
     "metadata": {},
     "output_type": "display_data"
    },
    {
     "data": {
      "text/plain": [
       "<Figure size 1008x504 with 0 Axes>"
      ]
     },
     "metadata": {},
     "output_type": "display_data"
    },
    {
     "data": {
      "text/plain": [
       "<Figure size 1440x720 with 0 Axes>"
      ]
     },
     "metadata": {},
     "output_type": "display_data"
    },
    {
     "data": {
      "text/plain": [
       "<Figure size 1008x504 with 0 Axes>"
      ]
     },
     "metadata": {},
     "output_type": "display_data"
    }
   ],
   "source": [
    "# Read File\n",
    "# data type definition\t\n",
    "iq_t = dtype([('I','>i2'),('Q','>i2')])\t\n",
    "# header type definitions\n",
    "sct_t = dtype([('magic','<u4'),('sounding_table_size','<u4'), ('pulse_table_size','<u4'), ('raw_data_size','<u4'), \n",
    "    ('struct_version','<f4'),('start_year','<u4'), ('start_daynumber','<u4'), ('start_month','<u4'), ('start_day','<u4'), \n",
    "    ('start_hour','<u4'), ('start_minute','<u4'), ('start_second','<u4'), ('start_epoch','<u4'), \n",
    "    ('readme','128<int8'), ('decimation_method','<u4'), ('decimation_threshold','<f4'), ('user','128<int8')])\n",
    "station_t = dtype([('file_id','64<int8'), \n",
    "    ('ursi','8<int8'), ('rx_name','32<int8'), ('rx_latitude','<f4'), ('rx_longitude','<f4'), ('rx_altitude','<f4'), \n",
    "    ('rx_count','<u4'), ('rx_antenna_type','(32,32)<int8'), ('rx_position','(32,3)<f4'), ('rx_direction','(32,3)<f4'), \n",
    "    ('rx_height','32<f4'), ('rx_cable_length','32<f4'), ('frontend_atten','<f4'), ('tx_name','32<int8'), ('tx_latitude','<f4'), \n",
    "    ('tx_longitude','<f4'), ('tx_altitude','<f4'), ('tx_antenna_type','32<int8'), ('tx_vector','3<f4'), ('tx_height','<f4'), \n",
    "    ('tx_cable_length','<f4'), ('drive_band_count','<u4'), ('drive_band_bounds','(64,2)<f4'), ('drive_band_atten','64<f4'), \n",
    "    ('rf_control','<u4'), ('ref_type','32<int8'), ('clock_type','32<int8'), ('user','128<int8')])\t\n",
    "timing_t = dtype([ ('file_id','64<int8'), \n",
    "    ('pri','<f4'), ('pri_count','<u4'), ('ionogram_count','<u4'), ('holdoff','<f4'), ('range_gate_offset','<f4'), \n",
    "    ('gate_count','<u4'), ('gate_start','<f4'), ('gate_end','<f4'), ('gate_step','<f4'), ('data_start','<f4'), ('data_width','<f4'), \n",
    "    ('data_baud_count','<u4'), ('data_wave_file','64<int8'), ('data_baud','(1024,2)<f4'), ('data_pairs','<u4'), ('cal_start','<f4'), \n",
    "    ('cal_width','<f4'), ('cal_baud_count','<u4'), ('cal_wave_file','64<int8'), ('cal_baud','(1024,2)<f4'), ('cal_pairs','<u4'), \n",
    "    ('user','128<int8')])\n",
    "frequency_t = dtype([('file_id','64<int8'), \n",
    "    ('base_start','<f4'), ('base_end','<f4'), ('base_steps','<u4'), ('tune_type','<u4'), \n",
    "    ('base_table','8192<f4'), ('linear_step','<f4'), ('log_step','<f4'), ('freq_table_id','64<int8'), ('tune_steps','<u4'), \n",
    "    ('pulse_count','<u4'), ('pulse_pattern','256<u4'), ('pulse_offset','<f4'), ('ramp_steps','<u4'), \n",
    "    ('ramp_repeats','<u4'), ('drive_table','8192<f4'), ('user','128<int8')])\n",
    "receiver_t = dtype([('file_id','64<int8'), \n",
    "    ('rx_chan','<u4'), ('rx_map','16<u4'), ('word_format','<u4'), ('cic2_dec','<u4'), ('cic2_interp','<u4'), \n",
    "    ('cic2_scale','<u4'), ('cic5_dec','<u4'), ('cic5_scale','<u4'), ('rcf_type','32<int8'), ('rcf_dec','<u4'), ('rcf_taps','<u4'), \n",
    "    ('coefficients','160<u4'), ('analog_delay','<f4'), ('user','128<int8')])\n",
    "exciter_t = dtype([('file_id','64<int8'), \n",
    "    ('cic_scale','<u4'), ('cic2_dec','<u4'), ('cic2_interp','<u4'), ('cic5_interp','<u4'), \n",
    "    ('rcf_type','32<int8'), ('rcf_taps','<u4'), ('rcf_taps_phase','<u4'), ('coefficients','256<u4'), ('analog_delay','<f4'), \n",
    "    ('user','128<int8')])\n",
    "monitor_t = dtype([\n",
    "    ('balun_currents','8<u4'), ('balun_status','8<u4'), ('front_end_status','8<u4'), ('receiver_status','8<u4'), \n",
    "    ('exciter_status','2<u4'), ('user','512<int8')])\n",
    "pct_t = dtype([\n",
    "    ('record_id','<u4'), ('pri_ut','<f8'), ('pri_time_offset','<f8'), ('base_id','<u4'), ('pulse_id','<u4'), ('step_id','<u4'), \n",
    "    ('repeat_id','<u4'), ('loop_id','<u4'), ('frequency','<f4'), ('nco_tune_word','<u4'), ('drive_attenuation','<f4'), \n",
    "    ('pa_flags','<u4'), ('pa_forward_power','<f4'), ('pa_reflected_power','<f4'), ('pa_vswr','<f4'), ('pa_temperature','<f4'), \n",
    "    ('proc_range_count','<u4'), ('proc_noise_level','<f4'), ('user','64<int8')])\n",
    "\n",
    "\n",
    "\n",
    "\n",
    "folders = [\"014\"]\n",
    "for folder_num in folders:\n",
    "    foldername = '/raid/VIPIR/vipir2015/%s/raw' %folder_num\n",
    "    #filesname='*2018228*RIQ.bz2' # format JM91J_dddhhmmss.RIQ.bz2 \n",
    "    #filesname='*2018228*RIQ' # format JM91J_dddhhmmss.RIQ\n",
    "    #adjust regexp above to choose ionosondes to plot\n",
    "    #filesname='*.RIQ.bz2'\n",
    "    filesname='*.RIQ'\n",
    "    datafiles = glob.glob1(foldername+'/',filesname) \n",
    "    datafiles.sort()\n",
    "\n",
    "    rcParams.update({'xtick.labelsize':10,'ytick.labelsize':10})\n",
    "    pngno=0\n",
    "\n",
    "    for filename in datafiles[770:]:\n",
    "        fullname = foldername+'/'+filename\n",
    "        print(fullname)\n",
    "        fid=open(fullname,'rb')  # opening *.RIQ files\n",
    "        #fid=bz2.BZ2File(fullname,'rb') # opening *.RIQ.bz2 files\n",
    "\n",
    "        print(fid)\n",
    "\n",
    "    # read common headers\n",
    "    # read with fromfile *.RIQ files: sct = fromfile(fid,sct_t,1) \n",
    "        sct = fromfile(fid,sct_t,1)\n",
    "        station = fromfile(fid,station_t,1)\n",
    "        timing = fromfile(fid,timing_t,1)\n",
    "        frequency = fromfile(fid,frequency_t,1)\n",
    "        receiver = fromfile(fid,receiver_t,1)\n",
    "        exciter = fromfile(fid,exciter_t,1)\n",
    "        monitor = fromfile(fid,monitor_t,1)\n",
    "        '''\n",
    "    # read with frombuffer *.RIQ.bz2 files:  \n",
    "        sct = frombuffer(fid.read(sct_t.itemsize),sct_t,1)   \n",
    "        station = frombuffer(fid.read(station_t.itemsize),station_t,1)\n",
    "        timing = frombuffer(fid.read(timing_t.itemsize),timing_t,1)\n",
    "        frequency = frombuffer(fid.read(frequency_t.itemsize),frequency_t,1)\n",
    "        receiver = frombuffer(fid.read(receiver_t.itemsize),receiver_t,1)\n",
    "        exciter = frombuffer(fid.read(exciter_t.itemsize),exciter_t,1)\n",
    "        monitor = frombuffer(fid.read(monitor_t.itemsize),monitor_t,1)\n",
    "        '''\n",
    "    # extract useful header info\n",
    "        rx_chan = receiver['rx_chan'][0]   # 8\n",
    "        base_steps = frequency['base_steps'][0]   # variable\n",
    "        pulse_count = frequency['pulse_count'][0]   # pulses per base_step\n",
    "        ramp_repeats = frequency['ramp_repeats'][0]   # \n",
    "        ionogram_count = timing['ionogram_count'][0]\n",
    "        gate_count=timing['gate_count'][0]   # hts sampled\n",
    "        gate_start = timing['gate_start'][0]   # in us\n",
    "        gate_step = timing['gate_step'][0]   # in us\n",
    "        range_gate_offset = timing['range_gate_offset'][0]   # to be subtracted from gate_start \n",
    "        h0 = (gate_start-range_gate_offset)*0.15   # in km \n",
    "        dh = gate_step*0.15\n",
    "        hlast = h0+dh*gate_count\n",
    "        hts = arange(h0,hlast,dh)   # define height grid\n",
    "        freqs = zeros(base_steps)   # initiate freq grid\n",
    "        ionograms = zeros([rx_chan,gate_count,base_steps])   # initiate ionogram buffer\n",
    "        tx_count = base_steps*ramp_repeats*pulse_count*ionogram_count   # total number of tx'ed pulses per ionogram\n",
    "\n",
    "        for i in range(tx_count):   # frequency sweep loop\n",
    "            pct = frombuffer(fid.read(pct_t.itemsize),pct_t,1)   # read frequency header\n",
    "            base_id = pct['base_id'][0]\n",
    "            pulse_id = pct['pulse_id'][0]\n",
    "            step_id = pct['step_id'][0]\n",
    "            repeat_id = pct['repeat_id'][0]\n",
    "            iq = frombuffer(fid.read(iq_t.itemsize*rx_chan*gate_count),iq_t,rx_chan*gate_count)   # read raw I and Q returns per pulse\n",
    "            volt = iq['I']+1j*iq['Q']   # form complex voltage I+jQ profile\n",
    "            volt = volt.reshape(gate_count,rx_chan)\n",
    "            power = abs(volt)**2\n",
    "\n",
    "            voltOX=volt\n",
    "            voltOX[:,0]=volt[:,0]+volt[:,1]\n",
    "            voltOX[:,1]=volt[:,0]-volt[:,1]\n",
    "            powerOX = abs(voltOX)**2   # square detection\n",
    "\n",
    "            if i%20>3:\n",
    "                ionograms[0,:,base_id-1] += power[:,0]   # accumulated ionograms\n",
    "                ionograms[1,:,base_id-1] += power[:,1]\n",
    "                ionograms[2,:,base_id-1] += powerOX[:,0]   # accumulated ionograms\n",
    "                ionograms[3,:,base_id-1] += powerOX[:,1]\n",
    "\n",
    "            #ionograms[2,:,base_id-1] += power[:,2]\n",
    "            #ionograms[3,:,base_id-1] += power[:,3]\n",
    "            #ionograms[4,:,base_id-1] += power[:,4]\n",
    "            #ionograms[5,:,base_id-1] += power[:,5]\n",
    "            #ionograms[6,:,base_id-1] += power[:,6]\n",
    "            #ionograms[7,:,base_id-1] += power[:,7]\n",
    "            freqs[base_id-1] = pct['frequency'][0]   # fill frequency grid\n",
    "\n",
    "        freqs = freqs/1000.\n",
    "        fid.close()   # vipir raw data file closed \n",
    "\n",
    "\n",
    "        #for i in range(size(freqs)):\n",
    "        #    ionograms[1,i,:]=ionograms[1,i,:]-ionograms[1,i,0]\n",
    "\n",
    "        '''\n",
    "        ##### TEMP #####\n",
    "        # Used to generate single image\n",
    "        fig = figure(figsize=(14, 7))\n",
    "        im = pcolormesh(freqs,hts,log10(ionograms[0,:,:]))\n",
    "        im.set_clim(0.2,9.8)\n",
    "        im.axes.set_xlim(2,12); im.axes.set_ylim(50,750); \n",
    "        plt.xticks(np.linspace(freqs.min(), freqs.max(), 20))\n",
    "        im.axes.set_title(filename); im.axes.title.set_fontsize(10.0)\n",
    "        colorbar()\n",
    "        ################\n",
    "        '''\n",
    "        \n",
    "        \n",
    "        fig = figure(figsize=(14, 7))\n",
    "        subplot(2,2,1)\n",
    "        im = pcolormesh(freqs,hts,log10(ionograms[0,:,:]))\n",
    "        im.set_clim(0.2,9.8)\n",
    "        im.axes.set_xlim(2,12); im.axes.set_ylim(50,750); \n",
    "        im.axes.set_title(filename); im.axes.title.set_fontsize(10.0)\n",
    "        colorbar()\n",
    "\n",
    "        subplot(2,2,2)\n",
    "        im = pcolormesh(freqs,hts,log10(ionograms[1,:,:]))\n",
    "        im.set_clim(0.2,9.8)\n",
    "        im.axes.set_xlim(2,12); im.axes.set_ylim(50,750); \n",
    "        im.axes.set_title(filename); im.axes.title.set_fontsize(10.0)\n",
    "        colorbar()\n",
    "\n",
    "        subplot(2,2,3)\n",
    "        im = pcolormesh(freqs,hts,log10(ionograms[2,:,:]))\n",
    "        im.set_clim(0.2,9.8)\n",
    "        im.axes.set_xlim(2,12); im.axes.set_ylim(50,750); \n",
    "        im.axes.set_title(filename); im.axes.title.set_fontsize(10.0)\n",
    "        colorbar()\n",
    "\n",
    "        subplot(2,2,4)\n",
    "        im = pcolormesh(freqs,hts,log10(ionograms[3,:,:]))\n",
    "        im.set_clim(0.2,9.8)\n",
    "        im.axes.set_xlim(2,12); im.axes.set_ylim(50,750); \n",
    "        im.axes.set_title(filename); im.axes.title.set_fontsize(10.0)\n",
    "        colorbar()\n",
    "        \n",
    "\n",
    "        folderout='/raid/VALLEY+/VIPIR/processed/2015/%s' %folder_num\n",
    "        fig.savefig(folderout+'/'+filename[6:6+13]+'.png')   # png format\n",
    "        #show()   # display ionograms \n",
    "        #display.clear_output(wait=True)\n",
    "        #display.display(gcf())\n",
    "        fig.clf()\n",
    "        \n",
    "        whole_clean_procedure()\n",
    "        pngno=pngno+1"
   ]
  },
  {
   "cell_type": "code",
   "execution_count": null,
   "metadata": {},
   "outputs": [],
   "source": [
    "# whole procedure, below this cell is individual step\n",
    "iono_num = 0\n",
    "\n",
    "mean_clear(vertical_noise_substraction(ionograms[iono_num,:,:]))\n",
    "nnz = find_nnz(data_processed)\n",
    "x_image = np.zeros(nnz)\n",
    "y_image = np.zeros(nnz)\n",
    "ind = 0\n",
    "for i in range(data_processed.shape[0]):\n",
    "    for j in range(data_processed.shape[1]):\n",
    "        if data_processed[i, j] > 1:\n",
    "            x_image[ind] = i;\n",
    "            y_image[ind] = j;\n",
    "            ind += 1\n",
    "\n",
    "X_image = np.concatenate((array([y_image]), array([x_image])))\n",
    "X_image = X_image.T\n",
    "\n",
    "n_clusters = 75\n",
    "plt.figure(figsize=(20, 10))\n",
    "model = AgglomerativeClustering(linkage=\"single\",\n",
    "                                connectivity=None,\n",
    "                                n_clusters=n_clusters)\n",
    "model.fit(X_image)\n",
    "\n",
    "group_want = find_cluster(X_image, model.labels_)\n",
    "X_image_want = array(group_labels(X_image, model.labels_)[group_want])\n",
    "\n",
    "x_group = X_image_want[:, 0]\n",
    "y_group = X_image_want[:, 1]\n",
    "\n",
    "data_final = np.zeros(data.shape)\n",
    "for i in range(0, len(X_image_want)):\n",
    "    row = int(X_image_want[i, 0]);\n",
    "    col = int(X_image_want[i, 1]);\n",
    "    data_final[col, row] = 10\n",
    "\n",
    "figure(figsize=(14, 7))\n",
    "im = pcolormesh(freqs,hts,data_final)\n",
    "im.set_clim(0.2,9.8)\n",
    "im.axes.set_xlim(2,12); im.axes.set_ylim(50,750); \n",
    "colorbar()\n",
    "show(im)"
   ]
  },
  {
   "cell_type": "code",
   "execution_count": null,
   "metadata": {
    "code_folding": [
     0
    ],
    "scrolled": true
   },
   "outputs": [],
   "source": [
    "# computes new data array with vertical noise substraction\n",
    "iono_num = 0\n",
    "\n",
    "data = ionograms[iono_num,:,:]\n",
    "data_after_substraction = vertical_noise_substraction(data)\n",
    "\n",
    "plt.figure(figsize=(14, 7))\n",
    "im = plt.pcolormesh(freqs,hts,np.log10(data_after_substraction))\n",
    "im.set_clim(0.2,9.8)\n",
    "im.axes.set_xlim(2,12); im.axes.set_ylim(50,750); \n",
    "plt.colorbar()\n",
    "plt.show(im)"
   ]
  },
  {
   "cell_type": "code",
   "execution_count": null,
   "metadata": {
    "code_folding": [],
    "scrolled": true
   },
   "outputs": [],
   "source": [
    "# Power iteration to clear up\n",
    "data_processed = mean_clear(data_after_substraction)\n",
    "\n",
    "figure(figsize=(14, 7))\n",
    "im = pcolormesh(freqs,hts,data_processed)\n",
    "im.set_clim(0.2,9.8)\n",
    "im.axes.set_xlim(2,12); im.axes.set_ylim(50,750); \n",
    "colorbar()\n",
    "show(im)"
   ]
  },
  {
   "cell_type": "code",
   "execution_count": null,
   "metadata": {},
   "outputs": [],
   "source": [
    "nnz = find_nnz(data_processed)\n",
    "x_image = np.zeros(nnz)\n",
    "y_image = np.zeros(nnz)\n",
    "ind = 0\n",
    "for i in range(data_processed.shape[0]):\n",
    "    for j in range(data_processed.shape[1]):\n",
    "        if data_processed[i, j] > 1:\n",
    "            x_image[ind] = i;\n",
    "            y_image[ind] = j;\n",
    "            ind += 1\n",
    "\n",
    "X_image = np.concatenate((array([y_image]), array([x_image])))\n",
    "X_image = X_image.T\n",
    "figure(figsize=(14, 7))\n",
    "plt.scatter(X_image[:, 0], X_image[:, 1],marker = \".\")"
   ]
  },
  {
   "cell_type": "code",
   "execution_count": null,
   "metadata": {},
   "outputs": [],
   "source": [
    "n_clusters = 75\n",
    "plt.figure(figsize=(20, 10))\n",
    "model = AgglomerativeClustering(linkage=\"single\",\n",
    "                                connectivity=None,\n",
    "                                n_clusters=n_clusters)\n",
    "t0 = time.time()\n",
    "model.fit(X_image)\n",
    "plt.scatter(X_image[:, 0], X_image[:, 1], c=model.labels_,\n",
    "             cmap=plt.cm.nipy_spectral, marker = \".\")\n",
    "plt.title('linkage=%s\\n(time %.2fs)' % (\"single\", elapsed_time),\n",
    "          fontdict=dict(verticalalignment='top'))\n",
    "\n",
    "plt.show()"
   ]
  },
  {
   "cell_type": "code",
   "execution_count": null,
   "metadata": {},
   "outputs": [],
   "source": [
    "group_want = find_cluster(X_image, model.labels_)\n",
    "X_image_want = array(group_labels(X_image, model.labels_)[group_want])\n",
    "\n",
    "x_group = X_image_want[:, 0]\n",
    "y_group = X_image_want[:, 1]\n",
    "\n",
    "figure(figsize = (14,7))\n",
    "plt.scatter(x_group, y_group, marker = \".\")"
   ]
  },
  {
   "cell_type": "code",
   "execution_count": null,
   "metadata": {},
   "outputs": [],
   "source": [
    "data_final = np.zeros(data.shape)\n",
    "for i in range(0, len(X_image_want)):\n",
    "    row = int(X_image_want[i, 0]);\n",
    "    col = int(X_image_want[i, 1]);\n",
    "    data_final[col, row] = 10\n",
    "\n",
    "figure(figsize = (14, 7))\n",
    "im = pcolormesh(freqs,hts,log10(data))\n",
    "im.set_clim(0.2,9.8)\n",
    "im.axes.set_xlim(2,12); im.axes.set_ylim(50,750); \n",
    "colorbar()\n",
    "\n",
    "figure(figsize=(14, 7))\n",
    "im = pcolormesh(freqs,hts,data_final)\n",
    "im.set_clim(0.2,9.8)\n",
    "im.axes.set_xlim(2,12); im.axes.set_ylim(50,750); \n",
    "colorbar()\n",
    "show(im)"
   ]
  },
  {
   "cell_type": "code",
   "execution_count": null,
   "metadata": {},
   "outputs": [],
   "source": []
  }
 ],
 "metadata": {
  "kernelspec": {
   "display_name": "Python 2",
   "language": "python",
   "name": "python2"
  },
  "language_info": {
   "codemirror_mode": {
    "name": "ipython",
    "version": 2
   },
   "file_extension": ".py",
   "mimetype": "text/x-python",
   "name": "python",
   "nbconvert_exporter": "python",
   "pygments_lexer": "ipython2",
   "version": "2.7.12"
  }
 },
 "nbformat": 4,
 "nbformat_minor": 1
}
