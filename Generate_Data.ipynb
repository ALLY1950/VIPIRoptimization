{
 "cells": [
  {
   "cell_type": "markdown",
   "metadata": {},
   "source": [
    "# 2016-Jan-14 Local Time 2-5 pm"
   ]
  },
  {
   "cell_type": "code",
   "execution_count": 2,
   "metadata": {},
   "outputs": [],
   "source": [
    "import numpy as np\n",
    "import glob"
   ]
  },
  {
   "cell_type": "code",
   "execution_count": 3,
   "metadata": {},
   "outputs": [],
   "source": [
    "foldername = \"/raid/VALLEY+/VIPIR/processed/2016/015\"\n",
    "filesname = \"*04.png\"\n",
    "imgs = glob.glob1(foldername+'/',filesname) \n",
    "imgs.sort()\n",
    "n_files = len(imgs)\n",
    "header = np.array([\"hour\", \"minite\", \"second\", \"frequency (MHz)\"])\n",
    "data = np.zeros([n_files, 4])\n",
    "\n",
    "\n",
    "for i in range(0, n_files):\n",
    "    file_name = imgs[i]\n",
    "    hour = file_name[7:9]\n",
    "    minute = file_name[9:11]\n",
    "    second = file_name[11:13]\n",
    "    data[i, 0] = hour\n",
    "    data[i, 1] = minute\n",
    "    data[i, 2] = second\n"
   ]
  },
  {
   "cell_type": "code",
   "execution_count": 21,
   "metadata": {},
   "outputs": [],
   "source": [
    "entry = np.array([\n",
    "    5.6, 5.6, 5.6, 5.5, 5.5, 5.5, 5.5, 5.5, 5.5, 5.5, \n",
    "    5.5, 5.5, 5.4, 5.4, 5.3, 5.3, 5.3, 5.2, 5.2, 5.2, \n",
    "    5.2, 5.2, 5.2, 5.2, 5.2, 5.2, 5.2, 5.2, 5.1, 5.1, \n",
    "    5.1, 5.1, 5.1, 5.1, 5.0, 5.0, 5.0, 5.0, 5.0, 5.0,\n",
    "    5.0, 5.0, 5.0, 4.9, 4.9, 4.9, 4.9, 4.9, 4.9, 4.9,\n",
    "    4.9, 4.9, 4.9, 4.9, 4.8, 4.8, 4.8, 4.8, 4.7, 4.7\n",
    "])"
   ]
  },
  {
   "cell_type": "code",
   "execution_count": 19,
   "metadata": {},
   "outputs": [
    {
     "name": "stdout",
     "output_type": "stream",
     "text": [
      "/raid/VIPIR/vipir2016/002/raw\n"
     ]
    }
   ],
   "source": [
    "entry.shape\n",
    "folder_num = \"002\"\n",
    "foldername = '/raid/VIPIR/vipir2016/%s/raw' %folder_num\n",
    "print foldername"
   ]
  },
  {
   "cell_type": "code",
   "execution_count": 15,
   "metadata": {},
   "outputs": [],
   "source": [
    "data[:, 3] = entry"
   ]
  },
  {
   "cell_type": "code",
   "execution_count": 48,
   "metadata": {
    "scrolled": true
   },
   "outputs": [
    {
     "data": {
      "text/plain": [
       "array([[ 0.,  0.,  4., nan],\n",
       "       [ 0.,  1.,  4., nan],\n",
       "       [ 0.,  2.,  4., nan],\n",
       "       ...,\n",
       "       [23., 57.,  4., nan],\n",
       "       [23., 58.,  4., nan],\n",
       "       [23., 59.,  4., nan]])"
      ]
     },
     "execution_count": 48,
     "metadata": {},
     "output_type": "execute_result"
    }
   ],
   "source": [
    "data"
   ]
  },
  {
   "cell_type": "code",
   "execution_count": 47,
   "metadata": {
    "scrolled": true
   },
   "outputs": [
    {
     "name": "stdout",
     "output_type": "stream",
     "text": [
      "1063\n",
      "hour: 17.0  min: 59.0  f: nan\n",
      "fn\n",
      "1064\n",
      "hour: 18.0  min: 0.0  f: nan\n",
      "f\n",
      "1065\n",
      "hour: 23.0  min: 8.0  f: nan\n",
      "f9.6\n",
      "1066\n",
      "hour: 23.0  min: 9.0  f: nan\n",
      "f\n",
      "1067\n",
      "hour: 23.0  min: 10.0  f: nan\n",
      "f\n",
      "1068\n",
      "hour: 23.0  min: 11.0  f: nan\n",
      "f\n",
      "1069\n",
      "hour: 23.0  min: 12.0  f: 0.0\n",
      "f\n",
      "1070\n",
      "hour: 23.0  min: 13.0  f: 0.0\n",
      "f\n",
      "1071\n",
      "hour: 23.0  min: 14.0  f: 0.0\n",
      "f\n",
      "1072\n",
      "hour: 23.0  min: 15.0  f: 0.0\n",
      "f\n",
      "1073\n",
      "hour: 23.0  min: 16.0  f: 0.0\n",
      "f\n",
      "1074\n",
      "hour: 23.0  min: 17.0  f: 0.0\n",
      "f\n",
      "1075\n",
      "hour: 23.0  min: 18.0  f: 0.0\n",
      "f\n",
      "1076\n",
      "hour: 23.0  min: 19.0  f: 0.0\n",
      "f\n",
      "1077\n",
      "hour: 23.0  min: 20.0  f: 0.0\n",
      "f\n",
      "1078\n",
      "hour: 23.0  min: 21.0  f: 0.0\n",
      "f\n",
      "1079\n",
      "hour: 23.0  min: 22.0  f: 0.0\n",
      "f\n",
      "1080\n",
      "hour: 23.0  min: 23.0  f: 0.0\n",
      "f\n",
      "1081\n",
      "hour: 23.0  min: 24.0  f: 0.0\n",
      "f\n",
      "1082\n",
      "hour: 23.0  min: 25.0  f: 0.0\n",
      "f\n",
      "1083\n",
      "hour: 23.0  min: 26.0  f: 0.0\n",
      "f\n",
      "1084\n",
      "hour: 23.0  min: 27.0  f: 0.0\n",
      "f9.7\n",
      "1085\n",
      "hour: 23.0  min: 28.0  f: 0.0\n",
      "f\n",
      "1086\n",
      "hour: 23.0  min: 29.0  f: 0.0\n",
      "f\n",
      "1087\n",
      "hour: 23.0  min: 30.0  f: 0.0\n",
      "f\n",
      "1088\n",
      "hour: 23.0  min: 31.0  f: 0.0\n",
      "f9.8\n",
      "1089\n",
      "hour: 23.0  min: 32.0  f: 0.0\n",
      "f\n",
      "1090\n",
      "hour: 23.0  min: 33.0  f: 0.0\n",
      "f\n",
      "1091\n",
      "hour: 23.0  min: 34.0  f: 0.0\n",
      "f\n",
      "1092\n",
      "hour: 23.0  min: 35.0  f: 0.0\n",
      "f9.9\n",
      "1093\n",
      "hour: 23.0  min: 36.0  f: 0.0\n",
      "fn\n",
      "1094\n",
      "hour: 23.0  min: 37.0  f: 0.0\n",
      "f\n",
      "1095\n",
      "hour: 23.0  min: 38.0  f: 0.0\n",
      "f\n",
      "1096\n",
      "hour: 23.0  min: 39.0  f: 0.0\n",
      "f\n",
      "1097\n",
      "hour: 23.0  min: 40.0  f: 0.0\n",
      "f\n",
      "1098\n",
      "hour: 23.0  min: 41.0  f: 0.0\n",
      "f\n",
      "1099\n",
      "hour: 23.0  min: 42.0  f: 0.0\n",
      "f\n",
      "1100\n",
      "hour: 23.0  min: 43.0  f: 0.0\n",
      "f\n",
      "1101\n",
      "hour: 23.0  min: 44.0  f: 0.0\n",
      "f\n",
      "1102\n",
      "hour: 23.0  min: 45.0  f: 0.0\n",
      "f\n",
      "1103\n",
      "hour: 23.0  min: 46.0  f: 0.0\n",
      "f\n",
      "1104\n",
      "hour: 23.0  min: 47.0  f: 0.0\n",
      "f\n",
      "1105\n",
      "hour: 23.0  min: 48.0  f: 0.0\n",
      "f\n",
      "1106\n",
      "hour: 23.0  min: 49.0  f: 0.0\n",
      "f\n",
      "1107\n",
      "hour: 23.0  min: 50.0  f: 0.0\n",
      "f\n",
      "1108\n",
      "hour: 23.0  min: 51.0  f: 0.0\n",
      "f\n",
      "1109\n",
      "hour: 23.0  min: 52.0  f: 0.0\n",
      "f\n",
      "1110\n",
      "hour: 23.0  min: 53.0  f: 0.0\n",
      "f\n",
      "1111\n",
      "hour: 23.0  min: 54.0  f: 0.0\n",
      "f\n",
      "1112\n",
      "hour: 23.0  min: 55.0  f: 0.0\n",
      "f\n",
      "1113\n",
      "hour: 23.0  min: 56.0  f: 0.0\n",
      "f\n",
      "1114\n",
      "hour: 23.0  min: 57.0  f: 0.0\n",
      "f\n",
      "1115\n",
      "hour: 23.0  min: 58.0  f: 0.0\n",
      "f\n",
      "1116\n",
      "hour: 23.0  min: 59.0  f: 0.0\n",
      "f\n"
     ]
    }
   ],
   "source": [
    "for i in range(1063, n_files):\n",
    "    print(i)\n",
    "    print(\"hour: \"+str(data[i, 0])+\"  min: \"+str(data[i, 1])+\"  f: \"+str(data[i, 3]))\n",
    "    f = raw_input(\"f\")\n",
    "    if f == \"\":\n",
    "        f = f_old\n",
    "    elif f == \"n\":\n",
    "        f = np.NaN\n",
    "        f_old = f\n",
    "    else:\n",
    "        f_old = f\n",
    "    data[i, 3] = float(f)"
   ]
  },
  {
   "cell_type": "code",
   "execution_count": 40,
   "metadata": {},
   "outputs": [
    {
     "data": {
      "text/plain": [
       "array([10. , 14. ,  4. ,  4.7])"
      ]
     },
     "execution_count": 40,
     "metadata": {},
     "output_type": "execute_result"
    }
   ],
   "source": [
    "data[601]"
   ]
  },
  {
   "cell_type": "code",
   "execution_count": 49,
   "metadata": {},
   "outputs": [],
   "source": [
    "# np.save(\"2016-Jan-14_Local_Time_3-4_pm_header.npy\", header)\n",
    "np.save(\"2015-Jan-14_Local_Time_fof2.npy\", data)"
   ]
  },
  {
   "cell_type": "code",
   "execution_count": null,
   "metadata": {},
   "outputs": [],
   "source": []
  }
 ],
 "metadata": {
  "kernelspec": {
   "display_name": "Python 2",
   "language": "python",
   "name": "python2"
  },
  "language_info": {
   "codemirror_mode": {
    "name": "ipython",
    "version": 2
   },
   "file_extension": ".py",
   "mimetype": "text/x-python",
   "name": "python",
   "nbconvert_exporter": "python",
   "pygments_lexer": "ipython2",
   "version": "2.7.12"
  }
 },
 "nbformat": 4,
 "nbformat_minor": 2
}
